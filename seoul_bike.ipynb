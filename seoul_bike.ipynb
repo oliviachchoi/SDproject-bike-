{
  "nbformat": 4,
  "nbformat_minor": 0,
  "metadata": {
    "colab": {
      "name": "seoul bike.ipynb",
      "provenance": [],
      "collapsed_sections": [],
      "mount_file_id": "1bLp3cKOYJVLHGidtY9n3K_nfCf2Q40Fh",
      "authorship_tag": "ABX9TyO0+1GVrplcPTAPXNXHteUa",
      "include_colab_link": true
    },
    "kernelspec": {
      "name": "python3",
      "display_name": "Python 3"
    },
    "language_info": {
      "name": "python"
    }
  },
  "cells": [
    {
      "cell_type": "markdown",
      "metadata": {
        "id": "view-in-github",
        "colab_type": "text"
      },
      "source": [
        "<a href=\"https://colab.research.google.com/github/oliviachchoi/SDproject-bike-/blob/main/seoul_bike.ipynb\" target=\"_parent\"><img src=\"https://colab.research.google.com/assets/colab-badge.svg\" alt=\"Open In Colab\"/></a>"
      ]
    },
    {
      "cell_type": "markdown",
      "metadata": {
        "id": "ue5ToUGM74j0"
      },
      "source": [
        "서울시 따릉이 데이터 분석\n",
        "\n",
        "https://brunch.co.kr/@bdh/38\n",
        "\n",
        "https://glasvase.tistory.com/29\n",
        "\n",
        "https://journal.cartography.or.kr/articles/pdf/DG7Q/kca-2020-020-01-7.pdf\n",
        "\n",
        "https://dailyheumsi.tistory.com/87?category=801880"
      ]
    },
    {
      "cell_type": "code",
      "metadata": {
        "id": "fQySxO1fsODw"
      },
      "source": [
        "#idea1\n",
        "#시간대 별로 분석해서 각 거치소의 따릉이 갯수 예측 => Time Series, Forecasting 등등\n",
        "#각 구의 따릉이 대여/ 반납 예측"
      ],
      "execution_count": null,
      "outputs": []
    },
    {
      "cell_type": "code",
      "metadata": {
        "id": "fgUlcEHSsypC"
      },
      "source": [
        "import pandas as pd\n",
        "import numpy as np\n",
        "import matplotlib.pyplot as plt\n",
        "import seaborn as sns\n",
        "%matplotlib inline"
      ],
      "execution_count": null,
      "outputs": []
    },
    {
      "cell_type": "code",
      "metadata": {
        "id": "WnpR6moSwbcx"
      },
      "source": [
        "#2021년 1월 31일 기준 따릉이 대여소 정보"
      ],
      "execution_count": null,
      "outputs": []
    },
    {
      "cell_type": "code",
      "metadata": {
        "id": "Sygn61aLs3Pa"
      },
      "source": [
        "df = pd.read_csv('/content/drive/MyDrive/따릉이 project/공공자전거 대여소 정보(21.01.31 기준) (1).csv',encoding='cp949',skiprows=5,header=None)"
      ],
      "execution_count": null,
      "outputs": []
    },
    {
      "cell_type": "code",
      "metadata": {
        "colab": {
          "base_uri": "https://localhost:8080/",
          "height": 202
        },
        "id": "n2LaGjrjuv6j",
        "outputId": "018df84b-a1a8-4aca-ad50-757f3316523d"
      },
      "source": [
        "df.head()"
      ],
      "execution_count": null,
      "outputs": [
        {
          "output_type": "execute_result",
          "data": {
            "text/html": [
              "<div>\n",
              "<style scoped>\n",
              "    .dataframe tbody tr th:only-of-type {\n",
              "        vertical-align: middle;\n",
              "    }\n",
              "\n",
              "    .dataframe tbody tr th {\n",
              "        vertical-align: top;\n",
              "    }\n",
              "\n",
              "    .dataframe thead th {\n",
              "        text-align: right;\n",
              "    }\n",
              "</style>\n",
              "<table border=\"1\" class=\"dataframe\">\n",
              "  <thead>\n",
              "    <tr style=\"text-align: right;\">\n",
              "      <th></th>\n",
              "      <th>0</th>\n",
              "      <th>1</th>\n",
              "      <th>2</th>\n",
              "      <th>3</th>\n",
              "      <th>4</th>\n",
              "      <th>5</th>\n",
              "      <th>6</th>\n",
              "      <th>7</th>\n",
              "      <th>8</th>\n",
              "      <th>9</th>\n",
              "    </tr>\n",
              "  </thead>\n",
              "  <tbody>\n",
              "    <tr>\n",
              "      <th>0</th>\n",
              "      <td>301.0</td>\n",
              "      <td>경복궁역 7번출구 앞</td>\n",
              "      <td>종로구</td>\n",
              "      <td>서울특별시 종로구 사직로 지하130</td>\n",
              "      <td>37.575794</td>\n",
              "      <td>126.971451</td>\n",
              "      <td>2015-10-07</td>\n",
              "      <td>16.0</td>\n",
              "      <td>NaN</td>\n",
              "      <td>LCD</td>\n",
              "    </tr>\n",
              "    <tr>\n",
              "      <th>1</th>\n",
              "      <td>302.0</td>\n",
              "      <td>경복궁역 4번출구 뒤</td>\n",
              "      <td>종로구</td>\n",
              "      <td>서울특별시 종로구 사직로 지하130</td>\n",
              "      <td>37.575947</td>\n",
              "      <td>126.974060</td>\n",
              "      <td>2015-10-07</td>\n",
              "      <td>12.0</td>\n",
              "      <td>NaN</td>\n",
              "      <td>LCD</td>\n",
              "    </tr>\n",
              "    <tr>\n",
              "      <th>2</th>\n",
              "      <td>303.0</td>\n",
              "      <td>광화문역 1번출구 앞</td>\n",
              "      <td>종로구</td>\n",
              "      <td>서울특별시 종로구 세종대로 지하189</td>\n",
              "      <td>37.571770</td>\n",
              "      <td>126.974663</td>\n",
              "      <td>2015-10-07</td>\n",
              "      <td>8.0</td>\n",
              "      <td>NaN</td>\n",
              "      <td>LCD</td>\n",
              "    </tr>\n",
              "    <tr>\n",
              "      <th>3</th>\n",
              "      <td>304.0</td>\n",
              "      <td>광화문역 2번출구 앞</td>\n",
              "      <td>종로구</td>\n",
              "      <td>서울특별시 종로구 세종대로 지하172</td>\n",
              "      <td>37.572113</td>\n",
              "      <td>126.977577</td>\n",
              "      <td>2021-01-26</td>\n",
              "      <td>NaN</td>\n",
              "      <td>7.0</td>\n",
              "      <td>QR</td>\n",
              "    </tr>\n",
              "    <tr>\n",
              "      <th>4</th>\n",
              "      <td>305.0</td>\n",
              "      <td>종로구청 옆</td>\n",
              "      <td>종로구</td>\n",
              "      <td>서울특별시 종로구 삼봉로 43</td>\n",
              "      <td>37.572582</td>\n",
              "      <td>126.978355</td>\n",
              "      <td>2015-10-07</td>\n",
              "      <td>16.0</td>\n",
              "      <td>NaN</td>\n",
              "      <td>LCD</td>\n",
              "    </tr>\n",
              "  </tbody>\n",
              "</table>\n",
              "</div>"
            ],
            "text/plain": [
              "       0            1    2                     3  ...           6     7    8    9\n",
              "0  301.0  경복궁역 7번출구 앞  종로구   서울특별시 종로구 사직로 지하130  ...  2015-10-07  16.0  NaN  LCD\n",
              "1  302.0  경복궁역 4번출구 뒤  종로구   서울특별시 종로구 사직로 지하130  ...  2015-10-07  12.0  NaN  LCD\n",
              "2  303.0  광화문역 1번출구 앞  종로구  서울특별시 종로구 세종대로 지하189  ...  2015-10-07   8.0  NaN  LCD\n",
              "3  304.0  광화문역 2번출구 앞  종로구  서울특별시 종로구 세종대로 지하172  ...  2021-01-26   NaN  7.0   QR\n",
              "4  305.0       종로구청 옆  종로구      서울특별시 종로구 삼봉로 43  ...  2015-10-07  16.0  NaN  LCD\n",
              "\n",
              "[5 rows x 10 columns]"
            ]
          },
          "metadata": {
            "tags": []
          },
          "execution_count": 5
        }
      ]
    },
    {
      "cell_type": "code",
      "metadata": {
        "id": "1LxCn6muvfmh"
      },
      "source": [
        "#컬럼 명 지정해주기\n",
        "df= df.rename(columns= {0: 'stno', 1: 'stname',2: 'place',3:'detailedplace',4:'Lat',5:'Long',6:'Time',7:'LCD',8:'QR',9:'method'})"
      ],
      "execution_count": null,
      "outputs": []
    },
    {
      "cell_type": "code",
      "metadata": {
        "colab": {
          "base_uri": "https://localhost:8080/",
          "height": 202
        },
        "id": "E_ql1OjfwJ0q",
        "outputId": "05f623d4-e7fa-4d14-ecf4-464929e9bb20"
      },
      "source": [
        "df.head()"
      ],
      "execution_count": null,
      "outputs": [
        {
          "output_type": "execute_result",
          "data": {
            "text/html": [
              "<div>\n",
              "<style scoped>\n",
              "    .dataframe tbody tr th:only-of-type {\n",
              "        vertical-align: middle;\n",
              "    }\n",
              "\n",
              "    .dataframe tbody tr th {\n",
              "        vertical-align: top;\n",
              "    }\n",
              "\n",
              "    .dataframe thead th {\n",
              "        text-align: right;\n",
              "    }\n",
              "</style>\n",
              "<table border=\"1\" class=\"dataframe\">\n",
              "  <thead>\n",
              "    <tr style=\"text-align: right;\">\n",
              "      <th></th>\n",
              "      <th>stno</th>\n",
              "      <th>stname</th>\n",
              "      <th>place</th>\n",
              "      <th>detailedplace</th>\n",
              "      <th>Lat</th>\n",
              "      <th>Long</th>\n",
              "      <th>Time</th>\n",
              "      <th>LCD</th>\n",
              "      <th>QR</th>\n",
              "      <th>method</th>\n",
              "    </tr>\n",
              "  </thead>\n",
              "  <tbody>\n",
              "    <tr>\n",
              "      <th>0</th>\n",
              "      <td>301.0</td>\n",
              "      <td>경복궁역 7번출구 앞</td>\n",
              "      <td>종로구</td>\n",
              "      <td>서울특별시 종로구 사직로 지하130</td>\n",
              "      <td>37.575794</td>\n",
              "      <td>126.971451</td>\n",
              "      <td>2015-10-07</td>\n",
              "      <td>16.0</td>\n",
              "      <td>NaN</td>\n",
              "      <td>LCD</td>\n",
              "    </tr>\n",
              "    <tr>\n",
              "      <th>1</th>\n",
              "      <td>302.0</td>\n",
              "      <td>경복궁역 4번출구 뒤</td>\n",
              "      <td>종로구</td>\n",
              "      <td>서울특별시 종로구 사직로 지하130</td>\n",
              "      <td>37.575947</td>\n",
              "      <td>126.974060</td>\n",
              "      <td>2015-10-07</td>\n",
              "      <td>12.0</td>\n",
              "      <td>NaN</td>\n",
              "      <td>LCD</td>\n",
              "    </tr>\n",
              "    <tr>\n",
              "      <th>2</th>\n",
              "      <td>303.0</td>\n",
              "      <td>광화문역 1번출구 앞</td>\n",
              "      <td>종로구</td>\n",
              "      <td>서울특별시 종로구 세종대로 지하189</td>\n",
              "      <td>37.571770</td>\n",
              "      <td>126.974663</td>\n",
              "      <td>2015-10-07</td>\n",
              "      <td>8.0</td>\n",
              "      <td>NaN</td>\n",
              "      <td>LCD</td>\n",
              "    </tr>\n",
              "    <tr>\n",
              "      <th>3</th>\n",
              "      <td>304.0</td>\n",
              "      <td>광화문역 2번출구 앞</td>\n",
              "      <td>종로구</td>\n",
              "      <td>서울특별시 종로구 세종대로 지하172</td>\n",
              "      <td>37.572113</td>\n",
              "      <td>126.977577</td>\n",
              "      <td>2021-01-26</td>\n",
              "      <td>NaN</td>\n",
              "      <td>7.0</td>\n",
              "      <td>QR</td>\n",
              "    </tr>\n",
              "    <tr>\n",
              "      <th>4</th>\n",
              "      <td>305.0</td>\n",
              "      <td>종로구청 옆</td>\n",
              "      <td>종로구</td>\n",
              "      <td>서울특별시 종로구 삼봉로 43</td>\n",
              "      <td>37.572582</td>\n",
              "      <td>126.978355</td>\n",
              "      <td>2015-10-07</td>\n",
              "      <td>16.0</td>\n",
              "      <td>NaN</td>\n",
              "      <td>LCD</td>\n",
              "    </tr>\n",
              "  </tbody>\n",
              "</table>\n",
              "</div>"
            ],
            "text/plain": [
              "    stno       stname place         detailedplace  ...        Time   LCD   QR  method\n",
              "0  301.0  경복궁역 7번출구 앞   종로구   서울특별시 종로구 사직로 지하130  ...  2015-10-07  16.0  NaN     LCD\n",
              "1  302.0  경복궁역 4번출구 뒤   종로구   서울특별시 종로구 사직로 지하130  ...  2015-10-07  12.0  NaN     LCD\n",
              "2  303.0  광화문역 1번출구 앞   종로구  서울특별시 종로구 세종대로 지하189  ...  2015-10-07   8.0  NaN     LCD\n",
              "3  304.0  광화문역 2번출구 앞   종로구  서울특별시 종로구 세종대로 지하172  ...  2021-01-26   NaN  7.0      QR\n",
              "4  305.0       종로구청 옆   종로구      서울특별시 종로구 삼봉로 43  ...  2015-10-07  16.0  NaN     LCD\n",
              "\n",
              "[5 rows x 10 columns]"
            ]
          },
          "metadata": {
            "tags": []
          },
          "execution_count": 7
        }
      ]
    },
    {
      "cell_type": "code",
      "metadata": {
        "colab": {
          "base_uri": "https://localhost:8080/"
        },
        "id": "cj9JWFiCyT_C",
        "outputId": "6bfd81f1-6461-41bf-c6cb-32241b23276e"
      },
      "source": [
        "df.isna().sum()"
      ],
      "execution_count": null,
      "outputs": [
        {
          "output_type": "execute_result",
          "data": {
            "text/plain": [
              "stno                3\n",
              "stname              3\n",
              "place               3\n",
              "detailedplace       3\n",
              "Lat               115\n",
              "Long              115\n",
              "Time                5\n",
              "LCD               675\n",
              "QR               1486\n",
              "method              3\n",
              "dtype: int64"
            ]
          },
          "metadata": {
            "tags": []
          },
          "execution_count": 8
        }
      ]
    },
    {
      "cell_type": "code",
      "metadata": {
        "colab": {
          "base_uri": "https://localhost:8080/",
          "height": 141
        },
        "id": "FkQ-89OPybqx",
        "outputId": "b51fa25c-2237-4cf4-cb26-03a60cc80ade"
      },
      "source": [
        "df.tail(3)"
      ],
      "execution_count": null,
      "outputs": [
        {
          "output_type": "execute_result",
          "data": {
            "text/html": [
              "<div>\n",
              "<style scoped>\n",
              "    .dataframe tbody tr th:only-of-type {\n",
              "        vertical-align: middle;\n",
              "    }\n",
              "\n",
              "    .dataframe tbody tr th {\n",
              "        vertical-align: top;\n",
              "    }\n",
              "\n",
              "    .dataframe thead th {\n",
              "        text-align: right;\n",
              "    }\n",
              "</style>\n",
              "<table border=\"1\" class=\"dataframe\">\n",
              "  <thead>\n",
              "    <tr style=\"text-align: right;\">\n",
              "      <th></th>\n",
              "      <th>stno</th>\n",
              "      <th>stname</th>\n",
              "      <th>place</th>\n",
              "      <th>detailedplace</th>\n",
              "      <th>Lat</th>\n",
              "      <th>Long</th>\n",
              "      <th>Time</th>\n",
              "      <th>LCD</th>\n",
              "      <th>QR</th>\n",
              "      <th>method</th>\n",
              "    </tr>\n",
              "  </thead>\n",
              "  <tbody>\n",
              "    <tr>\n",
              "      <th>2154</th>\n",
              "      <td>NaN</td>\n",
              "      <td>NaN</td>\n",
              "      <td>NaN</td>\n",
              "      <td>NaN</td>\n",
              "      <td>NaN</td>\n",
              "      <td>NaN</td>\n",
              "      <td>NaN</td>\n",
              "      <td>NaN</td>\n",
              "      <td>NaN</td>\n",
              "      <td>NaN</td>\n",
              "    </tr>\n",
              "    <tr>\n",
              "      <th>2155</th>\n",
              "      <td>NaN</td>\n",
              "      <td>NaN</td>\n",
              "      <td>NaN</td>\n",
              "      <td>NaN</td>\n",
              "      <td>NaN</td>\n",
              "      <td>NaN</td>\n",
              "      <td>NaN</td>\n",
              "      <td>NaN</td>\n",
              "      <td>NaN</td>\n",
              "      <td>NaN</td>\n",
              "    </tr>\n",
              "    <tr>\n",
              "      <th>2156</th>\n",
              "      <td>NaN</td>\n",
              "      <td>NaN</td>\n",
              "      <td>NaN</td>\n",
              "      <td>NaN</td>\n",
              "      <td>NaN</td>\n",
              "      <td>NaN</td>\n",
              "      <td>NaN</td>\n",
              "      <td>NaN</td>\n",
              "      <td>NaN</td>\n",
              "      <td>NaN</td>\n",
              "    </tr>\n",
              "  </tbody>\n",
              "</table>\n",
              "</div>"
            ],
            "text/plain": [
              "      stno stname place detailedplace  Lat  Long Time  LCD  QR method\n",
              "2154   NaN    NaN   NaN           NaN  NaN   NaN  NaN  NaN NaN    NaN\n",
              "2155   NaN    NaN   NaN           NaN  NaN   NaN  NaN  NaN NaN    NaN\n",
              "2156   NaN    NaN   NaN           NaN  NaN   NaN  NaN  NaN NaN    NaN"
            ]
          },
          "metadata": {
            "tags": []
          },
          "execution_count": 9
        }
      ]
    },
    {
      "cell_type": "code",
      "metadata": {
        "id": "woACFrDYzAop"
      },
      "source": [
        "#마지막 3행은 Nan값이니까 drop\n",
        "df=df[df.stno.isna()==False]"
      ],
      "execution_count": null,
      "outputs": []
    },
    {
      "cell_type": "code",
      "metadata": {
        "colab": {
          "base_uri": "https://localhost:8080/"
        },
        "id": "n8U65nFazatJ",
        "outputId": "63028bcc-645d-4525-857a-24b200920f76"
      },
      "source": [
        "df.isna().sum()"
      ],
      "execution_count": null,
      "outputs": [
        {
          "output_type": "execute_result",
          "data": {
            "text/plain": [
              "stno                0\n",
              "stname              0\n",
              "place               0\n",
              "detailedplace       0\n",
              "Lat               112\n",
              "Long              112\n",
              "Time                2\n",
              "LCD               672\n",
              "QR               1483\n",
              "method              0\n",
              "dtype: int64"
            ]
          },
          "metadata": {
            "tags": []
          },
          "execution_count": 11
        }
      ]
    },
    {
      "cell_type": "code",
      "metadata": {
        "colab": {
          "base_uri": "https://localhost:8080/",
          "height": 614
        },
        "id": "-eUgESSx0Or5",
        "outputId": "d62fe75d-dc78-4775-f194-e31473d25a72"
      },
      "source": [
        "df[df.Lat.isna()]\n",
        "#좌표를 찍으려고 했는데 nan값이 너무 많을 땐 어떻게 해야하지?\n",
        "#geocode/카카오 api 사용해서 일일이 lat long 넣어줘야하나?"
      ],
      "execution_count": null,
      "outputs": [
        {
          "output_type": "execute_result",
          "data": {
            "text/html": [
              "<div>\n",
              "<style scoped>\n",
              "    .dataframe tbody tr th:only-of-type {\n",
              "        vertical-align: middle;\n",
              "    }\n",
              "\n",
              "    .dataframe tbody tr th {\n",
              "        vertical-align: top;\n",
              "    }\n",
              "\n",
              "    .dataframe thead th {\n",
              "        text-align: right;\n",
              "    }\n",
              "</style>\n",
              "<table border=\"1\" class=\"dataframe\">\n",
              "  <thead>\n",
              "    <tr style=\"text-align: right;\">\n",
              "      <th></th>\n",
              "      <th>stno</th>\n",
              "      <th>stname</th>\n",
              "      <th>place</th>\n",
              "      <th>detailedplace</th>\n",
              "      <th>Lat</th>\n",
              "      <th>Long</th>\n",
              "      <th>Time</th>\n",
              "      <th>LCD</th>\n",
              "      <th>QR</th>\n",
              "      <th>method</th>\n",
              "    </tr>\n",
              "  </thead>\n",
              "  <tbody>\n",
              "    <tr>\n",
              "      <th>65</th>\n",
              "      <td>486.0</td>\n",
              "      <td>평창동주민센터 앞</td>\n",
              "      <td>종로구</td>\n",
              "      <td>서울특별시 종로구 평창동 187-2</td>\n",
              "      <td>NaN</td>\n",
              "      <td>NaN</td>\n",
              "      <td>2020-03-11</td>\n",
              "      <td>5.0</td>\n",
              "      <td>NaN</td>\n",
              "      <td>LCD</td>\n",
              "    </tr>\n",
              "    <tr>\n",
              "      <th>79</th>\n",
              "      <td>3415.0</td>\n",
              "      <td>동대문역6번출구</td>\n",
              "      <td>종로구</td>\n",
              "      <td>창신동487-5</td>\n",
              "      <td>NaN</td>\n",
              "      <td>NaN</td>\n",
              "      <td>2020-02-26</td>\n",
              "      <td>NaN</td>\n",
              "      <td>15.0</td>\n",
              "      <td>QR</td>\n",
              "    </tr>\n",
              "    <tr>\n",
              "      <th>96</th>\n",
              "      <td>4702.0</td>\n",
              "      <td>평창동 꽃여울(꽃집),스타벅스 앞</td>\n",
              "      <td>종로구</td>\n",
              "      <td>평창12길 3</td>\n",
              "      <td>NaN</td>\n",
              "      <td>NaN</td>\n",
              "      <td>2020-07-21</td>\n",
              "      <td>NaN</td>\n",
              "      <td>5.0</td>\n",
              "      <td>QR</td>\n",
              "    </tr>\n",
              "    <tr>\n",
              "      <th>97</th>\n",
              "      <td>4710.0</td>\n",
              "      <td>자교교회 앞</td>\n",
              "      <td>종로구</td>\n",
              "      <td>자하문로 58</td>\n",
              "      <td>NaN</td>\n",
              "      <td>NaN</td>\n",
              "      <td>2020-11-05</td>\n",
              "      <td>NaN</td>\n",
              "      <td>8.0</td>\n",
              "      <td>QR</td>\n",
              "    </tr>\n",
              "    <tr>\n",
              "      <th>98</th>\n",
              "      <td>4711.0</td>\n",
              "      <td>올림픽기념 국민생활관 로터리</td>\n",
              "      <td>종로구</td>\n",
              "      <td>종로구 혜화동 9-8</td>\n",
              "      <td>NaN</td>\n",
              "      <td>NaN</td>\n",
              "      <td>2020-09-10</td>\n",
              "      <td>NaN</td>\n",
              "      <td>10.0</td>\n",
              "      <td>QR</td>\n",
              "    </tr>\n",
              "    <tr>\n",
              "      <th>...</th>\n",
              "      <td>...</td>\n",
              "      <td>...</td>\n",
              "      <td>...</td>\n",
              "      <td>...</td>\n",
              "      <td>...</td>\n",
              "      <td>...</td>\n",
              "      <td>...</td>\n",
              "      <td>...</td>\n",
              "      <td>...</td>\n",
              "      <td>...</td>\n",
              "    </tr>\n",
              "    <tr>\n",
              "      <th>1818</th>\n",
              "      <td>2550.0</td>\n",
              "      <td>양재동 꽃시장 건너편</td>\n",
              "      <td>서초구</td>\n",
              "      <td>양재동 351</td>\n",
              "      <td>NaN</td>\n",
              "      <td>NaN</td>\n",
              "      <td>2020-06-15</td>\n",
              "      <td>NaN</td>\n",
              "      <td>10.0</td>\n",
              "      <td>QR</td>\n",
              "    </tr>\n",
              "    <tr>\n",
              "      <th>1990</th>\n",
              "      <td>1267.0</td>\n",
              "      <td>올림픽공원 남2문 앞</td>\n",
              "      <td>송파구</td>\n",
              "      <td>서울특별시 송파구 올림픽로 424</td>\n",
              "      <td>NaN</td>\n",
              "      <td>NaN</td>\n",
              "      <td>2020-06-25</td>\n",
              "      <td>NaN</td>\n",
              "      <td>15.0</td>\n",
              "      <td>QR</td>\n",
              "    </tr>\n",
              "    <tr>\n",
              "      <th>1991</th>\n",
              "      <td>1268.0</td>\n",
              "      <td>몽촌토성역 1번출구 옆</td>\n",
              "      <td>송파구</td>\n",
              "      <td>서울특별시 송파구 방이동 88-21</td>\n",
              "      <td>NaN</td>\n",
              "      <td>NaN</td>\n",
              "      <td>2020-06-25</td>\n",
              "      <td>NaN</td>\n",
              "      <td>15.0</td>\n",
              "      <td>QR</td>\n",
              "    </tr>\n",
              "    <tr>\n",
              "      <th>2068</th>\n",
              "      <td>2658.0</td>\n",
              "      <td>가락몰 업무동</td>\n",
              "      <td>송파구</td>\n",
              "      <td>가락동 600</td>\n",
              "      <td>NaN</td>\n",
              "      <td>NaN</td>\n",
              "      <td>2020-06-04</td>\n",
              "      <td>NaN</td>\n",
              "      <td>10.0</td>\n",
              "      <td>QR</td>\n",
              "    </tr>\n",
              "    <tr>\n",
              "      <th>2069</th>\n",
              "      <td>2659.0</td>\n",
              "      <td>서울친환경유통센터</td>\n",
              "      <td>송파구</td>\n",
              "      <td>가락동 600</td>\n",
              "      <td>NaN</td>\n",
              "      <td>NaN</td>\n",
              "      <td>2020-06-04</td>\n",
              "      <td>NaN</td>\n",
              "      <td>10.0</td>\n",
              "      <td>QR</td>\n",
              "    </tr>\n",
              "  </tbody>\n",
              "</table>\n",
              "<p>112 rows × 10 columns</p>\n",
              "</div>"
            ],
            "text/plain": [
              "        stno              stname place  ...  LCD    QR  method\n",
              "65     486.0           평창동주민센터 앞   종로구  ...  5.0   NaN     LCD\n",
              "79    3415.0            동대문역6번출구   종로구  ...  NaN  15.0      QR\n",
              "96    4702.0  평창동 꽃여울(꽃집),스타벅스 앞   종로구  ...  NaN   5.0      QR\n",
              "97    4710.0              자교교회 앞   종로구  ...  NaN   8.0      QR\n",
              "98    4711.0     올림픽기념 국민생활관 로터리   종로구  ...  NaN  10.0      QR\n",
              "...      ...                 ...   ...  ...  ...   ...     ...\n",
              "1818  2550.0         양재동 꽃시장 건너편   서초구  ...  NaN  10.0      QR\n",
              "1990  1267.0         올림픽공원 남2문 앞   송파구  ...  NaN  15.0      QR\n",
              "1991  1268.0        몽촌토성역 1번출구 옆   송파구  ...  NaN  15.0      QR\n",
              "2068  2658.0             가락몰 업무동   송파구  ...  NaN  10.0      QR\n",
              "2069  2659.0           서울친환경유통센터   송파구  ...  NaN  10.0      QR\n",
              "\n",
              "[112 rows x 10 columns]"
            ]
          },
          "metadata": {
            "tags": []
          },
          "execution_count": 12
        }
      ]
    },
    {
      "cell_type": "code",
      "metadata": {
        "colab": {
          "base_uri": "https://localhost:8080/"
        },
        "id": "s02vcfH409XK",
        "outputId": "e094b4ca-1557-4ed8-c6d2-789a66802966"
      },
      "source": [
        "#우선 구 데이터는 결측치가 없기 때문에 구 위주로 시각화 먼저 해준다. \n",
        "df.place.value_counts()"
      ],
      "execution_count": null,
      "outputs": [
        {
          "output_type": "execute_result",
          "data": {
            "text/plain": [
              "강서구     152\n",
              "송파구     133\n",
              "서초구     122\n",
              "강남구     118\n",
              "영등포구    108\n",
              "마포구     102\n",
              "종로구      99\n",
              "구로구      91\n",
              "노원구      88\n",
              "강동구      84\n",
              "동대문구     82\n",
              "성동구      81\n",
              "양천구      81\n",
              "은평구      80\n",
              "중구       76\n",
              "서대문구     74\n",
              "광진구      74\n",
              "성북구      73\n",
              "중랑구      70\n",
              "용산구      67\n",
              "관악구      66\n",
              "동작구      62\n",
              "강북구      59\n",
              "도봉구      57\n",
              "금천구      55\n",
              "Name: place, dtype: int64"
            ]
          },
          "metadata": {
            "tags": []
          },
          "execution_count": 13
        }
      ]
    },
    {
      "cell_type": "code",
      "metadata": {
        "colab": {
          "base_uri": "https://localhost:8080/"
        },
        "id": "_oJDPboWqzOT",
        "outputId": "79b266b5-2bdb-4d3d-a3b5-ab27b3aa1126"
      },
      "source": [
        "#한글 폰트 깨질 때 방법\n",
        "!sudo apt-get install -y fonts-nanum\n",
        "!sudo fc-cache -fv\n",
        "!rm ~/.cache/matplotlib -rf"
      ],
      "execution_count": null,
      "outputs": [
        {
          "output_type": "stream",
          "text": [
            "Reading package lists... Done\n",
            "Building dependency tree       \n",
            "Reading state information... Done\n",
            "fonts-nanum is already the newest version (20170925-1).\n",
            "0 upgraded, 0 newly installed, 0 to remove and 39 not upgraded.\n",
            "/usr/share/fonts: caching, new cache contents: 0 fonts, 1 dirs\n",
            "/usr/share/fonts/truetype: caching, new cache contents: 0 fonts, 3 dirs\n",
            "/usr/share/fonts/truetype/humor-sans: caching, new cache contents: 1 fonts, 0 dirs\n",
            "/usr/share/fonts/truetype/liberation: caching, new cache contents: 16 fonts, 0 dirs\n",
            "/usr/share/fonts/truetype/nanum: caching, new cache contents: 10 fonts, 0 dirs\n",
            "/usr/local/share/fonts: caching, new cache contents: 0 fonts, 0 dirs\n",
            "/root/.local/share/fonts: skipping, no such directory\n",
            "/root/.fonts: skipping, no such directory\n",
            "/var/cache/fontconfig: cleaning cache directory\n",
            "/root/.cache/fontconfig: not cleaning non-existent cache directory\n",
            "/root/.fontconfig: not cleaning non-existent cache directory\n",
            "fc-cache: succeeded\n"
          ],
          "name": "stdout"
        }
      ]
    },
    {
      "cell_type": "code",
      "metadata": {
        "id": "NKFK-mbfq8PR"
      },
      "source": [
        "import matplotlib.pyplot as plt\n",
        "\n",
        "plt.rc('font', family='NanumBarunGothic') "
      ],
      "execution_count": null,
      "outputs": []
    },
    {
      "cell_type": "code",
      "metadata": {
        "colab": {
          "base_uri": "https://localhost:8080/",
          "height": 570
        },
        "id": "3aAkJk3Sqobx",
        "outputId": "693b1edc-8cfd-4ba6-ec76-27eb812aa435"
      },
      "source": [
        "plt.figure(figsize=(12,8))\n",
        "sns.countplot(df.place,order=df['place'].value_counts().index,palette='Set3')\n",
        "#강서구, 송파구, 서초구, 강남구, 영등포구 순으로 거치대가 많은 것을 볼 수 있다\n",
        "#상권의 밀집도, 출/퇴근 시간의 밀집도와 연관이 있을 까?"
      ],
      "execution_count": null,
      "outputs": [
        {
          "output_type": "stream",
          "text": [
            "/usr/local/lib/python3.7/dist-packages/seaborn/_decorators.py:43: FutureWarning: Pass the following variable as a keyword arg: x. From version 0.12, the only valid positional argument will be `data`, and passing other arguments without an explicit keyword will result in an error or misinterpretation.\n",
            "  FutureWarning\n"
          ],
          "name": "stderr"
        },
        {
          "output_type": "execute_result",
          "data": {
            "text/plain": [
              "<matplotlib.axes._subplots.AxesSubplot at 0x7fad8f279f50>"
            ]
          },
          "metadata": {
            "tags": []
          },
          "execution_count": 31
        },
        {
          "output_type": "display_data",
          "data": {
            "image/png": "[encoded data removed]",
            "text/plain": [
              "<Figure size 864x576 with 1 Axes>"
            ]
          },
          "metadata": {
            "tags": [],
            "needs_background": "light"
          }
        }
      ]
    },
    {
      "cell_type": "code",
      "metadata": {
        "id": "3pBpueuYxBjY"
      },
      "source": [
        "강서구     152\n",
        "송파구     133\n",
        "서초구     122\n",
        "강남구     118\n",
        "영등포구    108\n",
        "마포구     102\n",
        "종로구      99\n",
        "구로구      91\n",
        "노원구      88\n",
        "강동구      84\n",
        "동대문구     82\n",
        "성동구      81\n",
        "양천구      81\n",
        "은평구      80\n",
        "중구       76\n",
        "서대문구     74\n",
        "광진구      74\n",
        "성북구      73\n",
        "중랑구      70\n",
        "용산구      67\n",
        "관악구      66\n",
        "동작구      62\n",
        "강북구      59\n",
        "도봉구      57\n",
        "금천구      55"
      ],
      "execution_count": null,
      "outputs": []
    },
    {
      "cell_type": "code",
      "metadata": {
        "id": "RE6jwZ9Dwele"
      },
      "source": [
        "list_gu= [('강서구','152'),('송파구','133'),('서초구','122'),('강남구','118'),('영등포구','108' )\n",
        ",('마포구','102' ), ('종로구','99' ),('구로구','91' ), ('노원구','88'), ('강동구','84' ), ('동대문구','82' ), ('성동구','81' ),\n",
        "('양천구','81' ), ('은평구','80' ), ('중구','76' ), ('서대문구','74' ), ('광진구','74' ), ('성북구','73' ), ('중랑구','70' ), ('용산구','67' ),\n",
        "('관악구','66' ), ('동작구','62' ), ('강북구','59' ), ('도봉구','57'), ('금천구','55')]"
      ],
      "execution_count": null,
      "outputs": []
    },
    {
      "cell_type": "code",
      "metadata": {
        "id": "FvSvo-38yIkP"
      },
      "source": [
        "gu= pd.DataFrame(list_gu, columns=['구','거치대수'])\n",
        "gu['거치대수']= gu['거치대수'].astype('int')"
      ],
      "execution_count": null,
      "outputs": []
    },
    {
      "cell_type": "code",
      "metadata": {
        "colab": {
          "base_uri": "https://localhost:8080/",
          "height": 815
        },
        "id": "JkjgsKNoyUEW",
        "outputId": "9dd1d22b-c465-43ab-8ee4-9330f00d00ea"
      },
      "source": [
        "gu"
      ],
      "execution_count": null,
      "outputs": [
        {
          "output_type": "execute_result",
          "data": {
            "text/html": [
              "<div>\n",
              "<style scoped>\n",
              "    .dataframe tbody tr th:only-of-type {\n",
              "        vertical-align: middle;\n",
              "    }\n",
              "\n",
              "    .dataframe tbody tr th {\n",
              "        vertical-align: top;\n",
              "    }\n",
              "\n",
              "    .dataframe thead th {\n",
              "        text-align: right;\n",
              "    }\n",
              "</style>\n",
              "<table border=\"1\" class=\"dataframe\">\n",
              "  <thead>\n",
              "    <tr style=\"text-align: right;\">\n",
              "      <th></th>\n",
              "      <th>구</th>\n",
              "      <th>거치대수</th>\n",
              "    </tr>\n",
              "  </thead>\n",
              "  <tbody>\n",
              "    <tr>\n",
              "      <th>0</th>\n",
              "      <td>강서구</td>\n",
              "      <td>152</td>\n",
              "    </tr>\n",
              "    <tr>\n",
              "      <th>1</th>\n",
              "      <td>송파구</td>\n",
              "      <td>133</td>\n",
              "    </tr>\n",
              "    <tr>\n",
              "      <th>2</th>\n",
              "      <td>서초구</td>\n",
              "      <td>122</td>\n",
              "    </tr>\n",
              "    <tr>\n",
              "      <th>3</th>\n",
              "      <td>강남구</td>\n",
              "      <td>118</td>\n",
              "    </tr>\n",
              "    <tr>\n",
              "      <th>4</th>\n",
              "      <td>영등포구</td>\n",
              "      <td>108</td>\n",
              "    </tr>\n",
              "    <tr>\n",
              "      <th>5</th>\n",
              "      <td>마포구</td>\n",
              "      <td>102</td>\n",
              "    </tr>\n",
              "    <tr>\n",
              "      <th>6</th>\n",
              "      <td>종로구</td>\n",
              "      <td>99</td>\n",
              "    </tr>\n",
              "    <tr>\n",
              "      <th>7</th>\n",
              "      <td>구로구</td>\n",
              "      <td>91</td>\n",
              "    </tr>\n",
              "    <tr>\n",
              "      <th>8</th>\n",
              "      <td>노원구</td>\n",
              "      <td>88</td>\n",
              "    </tr>\n",
              "    <tr>\n",
              "      <th>9</th>\n",
              "      <td>강동구</td>\n",
              "      <td>84</td>\n",
              "    </tr>\n",
              "    <tr>\n",
              "      <th>10</th>\n",
              "      <td>동대문구</td>\n",
              "      <td>82</td>\n",
              "    </tr>\n",
              "    <tr>\n",
              "      <th>11</th>\n",
              "      <td>성동구</td>\n",
              "      <td>81</td>\n",
              "    </tr>\n",
              "    <tr>\n",
              "      <th>12</th>\n",
              "      <td>양천구</td>\n",
              "      <td>81</td>\n",
              "    </tr>\n",
              "    <tr>\n",
              "      <th>13</th>\n",
              "      <td>은평구</td>\n",
              "      <td>80</td>\n",
              "    </tr>\n",
              "    <tr>\n",
              "      <th>14</th>\n",
              "      <td>중구</td>\n",
              "      <td>76</td>\n",
              "    </tr>\n",
              "    <tr>\n",
              "      <th>15</th>\n",
              "      <td>서대문구</td>\n",
              "      <td>74</td>\n",
              "    </tr>\n",
              "    <tr>\n",
              "      <th>16</th>\n",
              "      <td>광진구</td>\n",
              "      <td>74</td>\n",
              "    </tr>\n",
              "    <tr>\n",
              "      <th>17</th>\n",
              "      <td>성북구</td>\n",
              "      <td>73</td>\n",
              "    </tr>\n",
              "    <tr>\n",
              "      <th>18</th>\n",
              "      <td>중랑구</td>\n",
              "      <td>70</td>\n",
              "    </tr>\n",
              "    <tr>\n",
              "      <th>19</th>\n",
              "      <td>용산구</td>\n",
              "      <td>67</td>\n",
              "    </tr>\n",
              "    <tr>\n",
              "      <th>20</th>\n",
              "      <td>관악구</td>\n",
              "      <td>66</td>\n",
              "    </tr>\n",
              "    <tr>\n",
              "      <th>21</th>\n",
              "      <td>동작구</td>\n",
              "      <td>62</td>\n",
              "    </tr>\n",
              "    <tr>\n",
              "      <th>22</th>\n",
              "      <td>강북구</td>\n",
              "      <td>59</td>\n",
              "    </tr>\n",
              "    <tr>\n",
              "      <th>23</th>\n",
              "      <td>도봉구</td>\n",
              "      <td>57</td>\n",
              "    </tr>\n",
              "    <tr>\n",
              "      <th>24</th>\n",
              "      <td>금천구</td>\n",
              "      <td>55</td>\n",
              "    </tr>\n",
              "  </tbody>\n",
              "</table>\n",
              "</div>"
            ],
            "text/plain": [
              "       구  거치대수\n",
              "0    강서구   152\n",
              "1    송파구   133\n",
              "2    서초구   122\n",
              "3    강남구   118\n",
              "4   영등포구   108\n",
              "5    마포구   102\n",
              "6    종로구    99\n",
              "7    구로구    91\n",
              "8    노원구    88\n",
              "9    강동구    84\n",
              "10  동대문구    82\n",
              "11   성동구    81\n",
              "12   양천구    81\n",
              "13   은평구    80\n",
              "14    중구    76\n",
              "15  서대문구    74\n",
              "16   광진구    74\n",
              "17   성북구    73\n",
              "18   중랑구    70\n",
              "19   용산구    67\n",
              "20   관악구    66\n",
              "21   동작구    62\n",
              "22   강북구    59\n",
              "23   도봉구    57\n",
              "24   금천구    55"
            ]
          },
          "metadata": {
            "tags": []
          },
          "execution_count": 38
        }
      ]
    },
    {
      "cell_type": "code",
      "metadata": {
        "id": "kJp9xyhDyePv"
      },
      "source": [
        ""
      ],
      "execution_count": null,
      "outputs": []
    }
  ]
}