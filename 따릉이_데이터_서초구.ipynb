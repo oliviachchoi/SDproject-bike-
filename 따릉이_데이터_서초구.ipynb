{
  "nbformat": 4,
  "nbformat_minor": 0,
  "metadata": {
    "colab": {
      "name": "따릉이 데이터_서초구.ipynb",
      "provenance": [],
      "collapsed_sections": [
        "JdysVMDRnKwT",
        "vzdQrEMYmBDM",
        "xJqIRKNBnPc2",
        "rzC8qTKJpdtN",
        "6JoPWIn7pvE-",
        "BNlcE3EP1pKe",
        "90luwsZX2U4t",
        "JaD4nKfk5SD7",
        "uZt8W1Hu5h2a",
        "Hvvowv0I6Oe_",
        "8gZFhAHI6okR",
        "AN2Nc6qB8iCZ",
        "kLB2IsEH9Jpn",
        "psXRmpG_Or_1"
      ],
      "mount_file_id": "1IkI0jZfOiWNRJQ6s5CaZi4ZTGwd1JOAr",
      "authorship_tag": "ABX9TyPj8aI0oxdR722dYokqAJJ6",
      "include_colab_link": true
    },
    "kernelspec": {
      "name": "python3",
      "display_name": "Python 3"
    },
    "language_info": {
      "name": "python"
    },
    "accelerator": "GPU"
  },
  "cells": [
    {
      "cell_type": "markdown",
      "metadata": {
        "id": "view-in-github",
        "colab_type": "text"
      },
      "source": [
        "<a href=\"https://colab.research.google.com/github/oliviachchoi/SDproject-bike-/blob/main/%EB%94%B0%EB%A6%89%EC%9D%B4_%EB%8D%B0%EC%9D%B4%ED%84%B0_%EC%84%9C%EC%B4%88%EA%B5%AC.ipynb\" target=\"_parent\"><img src=\"https://colab.research.google.com/assets/colab-badge.svg\" alt=\"Open In Colab\"/></a>"
      ]
    },
    {
      "cell_type": "markdown",
      "metadata": {
        "id": "JdysVMDRnKwT"
      },
      "source": [
        "# Introduction"
      ]
    },
    {
      "cell_type": "markdown",
      "metadata": {
        "id": "vzdQrEMYmBDM"
      },
      "source": [
        "#따릉이 프로젝트 최종본\n",
        "\n",
        "Why I Chose this Project?\n",
        "- 학원 마치고 따릉이를 자주 이용하는데, 근처 따릉이 정류소에 따릉이가 없을 때 so sad girl 됨\n",
        "- 서초구 따릉이 대여소의 각 시간대별 사용량을 예측하여서 자전거의 효과적인 재배치에 도움이 되고자( 행복한 자전거 퇴근길이 되게끔^^) 이 프로젝트를 선청하였다.\n",
        "\n",
        "- 서울 전역을 하기엔 시간이 부족해서 우선은 서초구에 있는 따릉이를 위주로 분석을 할 것\n",
        "\n",
        "#사용된 데이터\n",
        "\n",
        "- 서울시 공공데이터 포털 => 따릉이 대여소 정보\n",
        "- 서울시 공공데이터 포털 => 따릉이 시간대별 정보\n",
        "- 서울시 공공데이터 포털 => 미세먼지, 초미세먼지 데이터\n",
        "- 기상청 => 날씨 데이터\n",
        "\n",
        "+ Target 변수: 각 대여소 별 이용건수"
      ]
    },
    {
      "cell_type": "markdown",
      "metadata": {
        "id": "xJqIRKNBnPc2"
      },
      "source": [
        "# Data Preparing"
      ]
    },
    {
      "cell_type": "markdown",
      "metadata": {
        "id": "rzC8qTKJpdtN"
      },
      "source": [
        "## 따릉이 대여소 정보 데이터"
      ]
    },
    {
      "cell_type": "markdown",
      "metadata": {
        "id": "DX7WvDg7nbUo"
      },
      "source": [
        "따릉이 대여소 정보 데이터 불러오기"
      ]
    },
    {
      "cell_type": "code",
      "metadata": {
        "id": "N90imOPWmAsj"
      },
      "source": [
        "import pandas as pd\n",
        "import numpy as np\n",
        "import matplotlib.pyplot as plt\n",
        "import seaborn as sns\n",
        "\n",
        "#따릉이 대여소 정보\n",
        "station=pd.read_csv('/content/drive/MyDrive/따릉이 project/공공자전거 대여소 정보(21.01.31 기준).csv',encoding='cp949',skiprows=5,header=None)"
      ],
      "execution_count": 1,
      "outputs": []
    },
    {
      "cell_type": "code",
      "metadata": {
        "id": "S564e181nv44"
      },
      "source": [
        "#station columns rename\n",
        "station= station.rename(columns= {0: 'stno', 1: 'stname',2: 'place',3:'detailedplace',4:'Lat',5:'Long',6:'Time',7:'LCD',8:'QR',9:'method'})"
      ],
      "execution_count": 2,
      "outputs": []
    },
    {
      "cell_type": "code",
      "metadata": {
        "colab": {
          "base_uri": "https://localhost:8080/",
          "height": 200
        },
        "id": "i74TT27VnuNC",
        "outputId": "65ccf0ff-841c-46ec-9c96-291e0c68cacf"
      },
      "source": [
        "station.head()"
      ],
      "execution_count": 3,
      "outputs": [
        {
          "output_type": "execute_result",
          "data": {
            "text/html": [
              "<div>\n",
              "<style scoped>\n",
              "    .dataframe tbody tr th:only-of-type {\n",
              "        vertical-align: middle;\n",
              "    }\n",
              "\n",
              "    .dataframe tbody tr th {\n",
              "        vertical-align: top;\n",
              "    }\n",
              "\n",
              "    .dataframe thead th {\n",
              "        text-align: right;\n",
              "    }\n",
              "</style>\n",
              "<table border=\"1\" class=\"dataframe\">\n",
              "  <thead>\n",
              "    <tr style=\"text-align: right;\">\n",
              "      <th></th>\n",
              "      <th>stno</th>\n",
              "      <th>stname</th>\n",
              "      <th>place</th>\n",
              "      <th>detailedplace</th>\n",
              "      <th>Lat</th>\n",
              "      <th>Long</th>\n",
              "      <th>Time</th>\n",
              "      <th>LCD</th>\n",
              "      <th>QR</th>\n",
              "      <th>method</th>\n",
              "    </tr>\n",
              "  </thead>\n",
              "  <tbody>\n",
              "    <tr>\n",
              "      <th>0</th>\n",
              "      <td>301.0</td>\n",
              "      <td>경복궁역 7번출구 앞</td>\n",
              "      <td>종로구</td>\n",
              "      <td>서울특별시 종로구 사직로 지하130</td>\n",
              "      <td>37.575794</td>\n",
              "      <td>126.971451</td>\n",
              "      <td>2015-10-07</td>\n",
              "      <td>16.0</td>\n",
              "      <td>NaN</td>\n",
              "      <td>LCD</td>\n",
              "    </tr>\n",
              "    <tr>\n",
              "      <th>1</th>\n",
              "      <td>302.0</td>\n",
              "      <td>경복궁역 4번출구 뒤</td>\n",
              "      <td>종로구</td>\n",
              "      <td>서울특별시 종로구 사직로 지하130</td>\n",
              "      <td>37.575947</td>\n",
              "      <td>126.974060</td>\n",
              "      <td>2015-10-07</td>\n",
              "      <td>12.0</td>\n",
              "      <td>NaN</td>\n",
              "      <td>LCD</td>\n",
              "    </tr>\n",
              "    <tr>\n",
              "      <th>2</th>\n",
              "      <td>303.0</td>\n",
              "      <td>광화문역 1번출구 앞</td>\n",
              "      <td>종로구</td>\n",
              "      <td>서울특별시 종로구 세종대로 지하189</td>\n",
              "      <td>37.571770</td>\n",
              "      <td>126.974663</td>\n",
              "      <td>2015-10-07</td>\n",
              "      <td>8.0</td>\n",
              "      <td>NaN</td>\n",
              "      <td>LCD</td>\n",
              "    </tr>\n",
              "    <tr>\n",
              "      <th>3</th>\n",
              "      <td>304.0</td>\n",
              "      <td>광화문역 2번출구 앞</td>\n",
              "      <td>종로구</td>\n",
              "      <td>서울특별시 종로구 세종대로 지하172</td>\n",
              "      <td>37.572113</td>\n",
              "      <td>126.977577</td>\n",
              "      <td>2021-01-26</td>\n",
              "      <td>NaN</td>\n",
              "      <td>7.0</td>\n",
              "      <td>QR</td>\n",
              "    </tr>\n",
              "    <tr>\n",
              "      <th>4</th>\n",
              "      <td>305.0</td>\n",
              "      <td>종로구청 옆</td>\n",
              "      <td>종로구</td>\n",
              "      <td>서울특별시 종로구 삼봉로 43</td>\n",
              "      <td>37.572582</td>\n",
              "      <td>126.978355</td>\n",
              "      <td>2015-10-07</td>\n",
              "      <td>16.0</td>\n",
              "      <td>NaN</td>\n",
              "      <td>LCD</td>\n",
              "    </tr>\n",
              "  </tbody>\n",
              "</table>\n",
              "</div>"
            ],
            "text/plain": [
              "    stno       stname place         detailedplace  ...        Time   LCD   QR  method\n",
              "0  301.0  경복궁역 7번출구 앞   종로구   서울특별시 종로구 사직로 지하130  ...  2015-10-07  16.0  NaN     LCD\n",
              "1  302.0  경복궁역 4번출구 뒤   종로구   서울특별시 종로구 사직로 지하130  ...  2015-10-07  12.0  NaN     LCD\n",
              "2  303.0  광화문역 1번출구 앞   종로구  서울특별시 종로구 세종대로 지하189  ...  2015-10-07   8.0  NaN     LCD\n",
              "3  304.0  광화문역 2번출구 앞   종로구  서울특별시 종로구 세종대로 지하172  ...  2021-01-26   NaN  7.0      QR\n",
              "4  305.0       종로구청 옆   종로구      서울특별시 종로구 삼봉로 43  ...  2015-10-07  16.0  NaN     LCD\n",
              "\n",
              "[5 rows x 10 columns]"
            ]
          },
          "metadata": {
            "tags": []
          },
          "execution_count": 3
        }
      ]
    },
    {
      "cell_type": "code",
      "metadata": {
        "colab": {
          "base_uri": "https://localhost:8080/"
        },
        "id": "ufg-d2xhn45t",
        "outputId": "74591dbe-9bfa-4f88-9dab-2c289b4ef4e0"
      },
      "source": [
        "station.isna().sum()"
      ],
      "execution_count": 4,
      "outputs": [
        {
          "output_type": "execute_result",
          "data": {
            "text/plain": [
              "stno                3\n",
              "stname              3\n",
              "place               3\n",
              "detailedplace       3\n",
              "Lat               115\n",
              "Long              115\n",
              "Time                5\n",
              "LCD               675\n",
              "QR               1486\n",
              "method              3\n",
              "dtype: int64"
            ]
          },
          "metadata": {
            "tags": []
          },
          "execution_count": 4
        }
      ]
    },
    {
      "cell_type": "code",
      "metadata": {
        "colab": {
          "base_uri": "https://localhost:8080/",
          "height": 407
        },
        "id": "i34qZT4ooADn",
        "outputId": "5b0f5308-bac2-4518-8c0e-bf9ce6063afc"
      },
      "source": [
        "plt.figure(figsize=(8,6))\n",
        "plt.scatter(station.Long, station.Lat, alpha=0.5, edgecolors='black')\n",
        "plt.title('Station Location')\n",
        "#비교적 밀집되어있는 구역과 한산한 구역을 시각적으로 확인 할 수 있다."
      ],
      "execution_count": 5,
      "outputs": [
        {
          "output_type": "execute_result",
          "data": {
            "text/plain": [
              "Text(0.5, 1.0, 'Station Location')"
            ]
          },
          "metadata": {
            "tags": []
          },
          "execution_count": 5
        },
        {
          "output_type": "display_data",
          "data": {
            "image/png": "[encoded data removed]",
            "text/plain": [
              "<Figure size 576x432 with 1 Axes>"
            ]
          },
          "metadata": {
            "tags": [],
            "needs_background": "light"
          }
        }
      ]
    },
    {
      "cell_type": "code",
      "metadata": {
        "colab": {
          "base_uri": "https://localhost:8080/"
        },
        "id": "OnlnW-veoESB",
        "outputId": "797d9bb2-1982-408b-9f76-c55c6d2da6dd"
      },
      "source": [
        "a=pd.DataFrame(station.place.value_counts())\n",
        "print('Top 3 :')\n",
        "print(a.head(3))\n",
        "print('-------------')\n",
        "print('Bottom 3 :')\n",
        "print(a.tail(3))\n",
        "\n",
        "#서초구는 대여소 수 top3안에 든다"
      ],
      "execution_count": 6,
      "outputs": [
        {
          "output_type": "stream",
          "text": [
            "Top 3 :\n",
            "     place\n",
            "강서구    152\n",
            "송파구    133\n",
            "서초구    122\n",
            "-------------\n",
            "Bottom 3 :\n",
            "     place\n",
            "강북구     59\n",
            "도봉구     57\n",
            "금천구     55\n"
          ],
          "name": "stdout"
        }
      ]
    },
    {
      "cell_type": "code",
      "metadata": {
        "id": "ktLyvNKcoSWy"
      },
      "source": [
        "#서초구만 불러오기\n",
        "station= station[station.place=='서초구']"
      ],
      "execution_count": 7,
      "outputs": []
    },
    {
      "cell_type": "code",
      "metadata": {
        "colab": {
          "base_uri": "https://localhost:8080/"
        },
        "id": "qXwzyrnaobDz",
        "outputId": "3bc6b657-be78-41f4-9888-bc1fc63c24e7"
      },
      "source": [
        "station.stname.unique()"
      ],
      "execution_count": 8,
      "outputs": [
        {
          "output_type": "execute_result",
          "data": {
            "text/plain": [
              "array(['본마을 정류소 앞', '청계산입구역 1번출구', '청계산입구역 2번출구', '내곡3단지 어린이공원 앞',\n",
              "       '언남초등학교 앞', '내곡파출소 뒤 정자', '반포1동 주민센터 앞', '서초구립반포도서관 앞',\n",
              "       '서초현대4차아파트 201동 맞은편', '고속터미널역 5번출구 앞', '신반포역 2번출구 앞', '반포종합운동장 입구',\n",
              "       '아크로리버뷰 부지 앞', '고속터미널역 8-1번, 8-2번 출구 사이', '반포본동 주민센터 앞',\n",
              "       '하나은행 방배동지점 앞', '사당역 12번출구 뒤', '방배래미안 정문 앞', '백석예술대학교 제3캠퍼스 앞',\n",
              "       '신동아럭스빌아파트 앞', '방배열린문화센터 앞', '뒷벌공원 옆', '로고스교회 맞은 편', '이수역 4번 출구',\n",
              "       '삼성타운(삼성생명) A동 맞은편', '서초신동아1차아파트 옆', 'KT 서초지사 앞', '서울남부터미널 대합실 입구',\n",
              "       '교대역 6번출구', '양재전화국 사거리', '양재역 11번 출구 앞', '서울가정법원', '교육개발원입구 교차로',\n",
              "       '양재초등학교 맞은편', '서울시 품질시험소 앞', '섬들근린공원', '서초리슈빌S 글로벌 앞',\n",
              "       '우솔초등학교 맞은편', '서초유치원 맞은편', '더케이호텔 입구(양재2)', '하이브랜드 앞',\n",
              "       '시민의숲역 1번출구 옆', '양재동 꽃시장 입구', '하나로클럽 양재점 맞은편', '구룡사 삼거리',\n",
              "       '잠원역 3번-4번 출구사이', '한신16차아파트 119동 앞', '바우뫼문화복지회관', '이수역 1번출구',\n",
              "       '이수고가차도 남단', '서초역 3번출구', '서초4동주민센터', '주홍교 하부', '서초포레스타 7단지',\n",
              "       '내방역 8번출구 앞', '교대입구 교차로', '일동제약 사거리', '양재시민의숲역 3번출구', '염곡치안센터 건너편',\n",
              "       '영동1교 (양재천근린공원)', '길마중4교 하부', '교대역 5번출구뒤', '서울서초고용센터앞',\n",
              "       '연세사랑병원신관앞', '방배래미안아트힐 101동앞', '그룹한빌딩옆', 'CJ오쇼핑앞',\n",
              "       'LH서초3단지 301동 맞은편', '탑성마을입구', '능안마을입구', '안골마을입구', '남태령역 2번출구',\n",
              "       '무지개아파트 앞', 'SPC 앞', '두상빌딩 앞', '남부터미널역 1번출구', '래미안서초스위트앞',\n",
              "       '한전아트센터 앞', '서초 포레스타5단지', '서초역1번출구 앞', '반포1동 서초빌딩 앞', '신사역 4번출구 뒤',\n",
              "       '우성아파트사거리 (기업은행앞)', 'LG유플러스 (방배사옥)', '양재이스타빌 앞', 'KT반포지사', 'JW타워',\n",
              "       '이수역 6번출구 앞', '사평역 2번출구', '서초초등학교 후문', '본마을 노인복지센터 앞',\n",
              "       '서초3교(효령로69길 방면)', '서초3교(효령로70길 방면)', '서초2교(사임당로 방면)',\n",
              "       '서초1교 (진흥아파트 방면)', '서초 크로바타워 앞', '뉴코아 킴스클럽 앞', '반포쇼핑타운 8동 앞',\n",
              "       '반포쇼핑타운 2동 앞', '반포경남쇼핑 앞', '반포중학교 앞(세화여고 맞은편)', '함지박 사거리',\n",
              "       '우리은행 방배동지점 앞', '삼호3차아파트 앞', '멤피스아파트 앞', '국립국악원 앞', '한가람미술관 앞',\n",
              "       '신흥교(애견훈련소)', '신반포역 3번출구 뒤', '서초종합체육관 입구', '양재역 8번출구 앞', '사평리 공원',\n",
              "       '대한무역투자진흥공사 KOTRA 앞', '반포천 앞', '옛골 입구', '신논현역2번출구(신논현타워 앞)',\n",
              "       '경문고교 사거리', '국립중앙도서관(국제회의장옆)', '포드서초서비스센터앞', '반포1동 자율방범초소 옆',\n",
              "       'LH 서초 4단지 403동', '양재동 꽃시장 건너편'], dtype=object)"
            ]
          },
          "metadata": {
            "tags": []
          },
          "execution_count": 8
        }
      ]
    },
    {
      "cell_type": "code",
      "metadata": {
        "id": "OdsDD83votzg"
      },
      "source": [
        "station['stno']= station.stno.astype(int)"
      ],
      "execution_count": 9,
      "outputs": []
    },
    {
      "cell_type": "code",
      "metadata": {
        "id": "zt57hDEYo1pb"
      },
      "source": [
        "list_s= ['stno','stname','place']\n",
        "station= station[list_s]"
      ],
      "execution_count": 10,
      "outputs": []
    },
    {
      "cell_type": "code",
      "metadata": {
        "colab": {
          "base_uri": "https://localhost:8080/"
        },
        "id": "hAHKXru-pEKn",
        "outputId": "fac5684d-6cd3-4cc7-ab80-a1d658a65b4b"
      },
      "source": [
        "#122개의 unique station\n",
        "len(station.stno.unique())"
      ],
      "execution_count": 11,
      "outputs": [
        {
          "output_type": "execute_result",
          "data": {
            "text/plain": [
              "122"
            ]
          },
          "metadata": {
            "tags": []
          },
          "execution_count": 11
        }
      ]
    },
    {
      "cell_type": "code",
      "metadata": {
        "colab": {
          "base_uri": "https://localhost:8080/"
        },
        "id": "tAXqmBRopSng",
        "outputId": "67a5fda6-fef4-4112-9eeb-bc3b159d5859"
      },
      "source": [
        "station.isna().sum()"
      ],
      "execution_count": 12,
      "outputs": [
        {
          "output_type": "execute_result",
          "data": {
            "text/plain": [
              "stno      0\n",
              "stname    0\n",
              "place     0\n",
              "dtype: int64"
            ]
          },
          "metadata": {
            "tags": []
          },
          "execution_count": 12
        }
      ]
    },
    {
      "cell_type": "code",
      "metadata": {
        "colab": {
          "base_uri": "https://localhost:8080/",
          "height": 408
        },
        "id": "jrfbF4sFpZLy",
        "outputId": "bd47f134-d079-413c-89f8-9fa1300150f3"
      },
      "source": [
        "station"
      ],
      "execution_count": 13,
      "outputs": [
        {
          "output_type": "execute_result",
          "data": {
            "text/html": [
              "<div>\n",
              "<style scoped>\n",
              "    .dataframe tbody tr th:only-of-type {\n",
              "        vertical-align: middle;\n",
              "    }\n",
              "\n",
              "    .dataframe tbody tr th {\n",
              "        vertical-align: top;\n",
              "    }\n",
              "\n",
              "    .dataframe thead th {\n",
              "        text-align: right;\n",
              "    }\n",
              "</style>\n",
              "<table border=\"1\" class=\"dataframe\">\n",
              "  <thead>\n",
              "    <tr style=\"text-align: right;\">\n",
              "      <th></th>\n",
              "      <th>stno</th>\n",
              "      <th>stname</th>\n",
              "      <th>place</th>\n",
              "    </tr>\n",
              "  </thead>\n",
              "  <tbody>\n",
              "    <tr>\n",
              "      <th>1697</th>\n",
              "      <td>2201</td>\n",
              "      <td>본마을 정류소 앞</td>\n",
              "      <td>서초구</td>\n",
              "    </tr>\n",
              "    <tr>\n",
              "      <th>1698</th>\n",
              "      <td>2202</td>\n",
              "      <td>청계산입구역 1번출구</td>\n",
              "      <td>서초구</td>\n",
              "    </tr>\n",
              "    <tr>\n",
              "      <th>1699</th>\n",
              "      <td>2203</td>\n",
              "      <td>청계산입구역 2번출구</td>\n",
              "      <td>서초구</td>\n",
              "    </tr>\n",
              "    <tr>\n",
              "      <th>1700</th>\n",
              "      <td>2205</td>\n",
              "      <td>내곡3단지 어린이공원 앞</td>\n",
              "      <td>서초구</td>\n",
              "    </tr>\n",
              "    <tr>\n",
              "      <th>1701</th>\n",
              "      <td>2206</td>\n",
              "      <td>언남초등학교 앞</td>\n",
              "      <td>서초구</td>\n",
              "    </tr>\n",
              "    <tr>\n",
              "      <th>...</th>\n",
              "      <td>...</td>\n",
              "      <td>...</td>\n",
              "      <td>...</td>\n",
              "    </tr>\n",
              "    <tr>\n",
              "      <th>1814</th>\n",
              "      <td>2545</td>\n",
              "      <td>국립중앙도서관(국제회의장옆)</td>\n",
              "      <td>서초구</td>\n",
              "    </tr>\n",
              "    <tr>\n",
              "      <th>1815</th>\n",
              "      <td>2547</td>\n",
              "      <td>포드서초서비스센터앞</td>\n",
              "      <td>서초구</td>\n",
              "    </tr>\n",
              "    <tr>\n",
              "      <th>1816</th>\n",
              "      <td>2548</td>\n",
              "      <td>반포1동 자율방범초소 옆</td>\n",
              "      <td>서초구</td>\n",
              "    </tr>\n",
              "    <tr>\n",
              "      <th>1817</th>\n",
              "      <td>2549</td>\n",
              "      <td>LH 서초 4단지 403동</td>\n",
              "      <td>서초구</td>\n",
              "    </tr>\n",
              "    <tr>\n",
              "      <th>1818</th>\n",
              "      <td>2550</td>\n",
              "      <td>양재동 꽃시장 건너편</td>\n",
              "      <td>서초구</td>\n",
              "    </tr>\n",
              "  </tbody>\n",
              "</table>\n",
              "<p>122 rows × 3 columns</p>\n",
              "</div>"
            ],
            "text/plain": [
              "      stno           stname place\n",
              "1697  2201        본마을 정류소 앞   서초구\n",
              "1698  2202      청계산입구역 1번출구   서초구\n",
              "1699  2203      청계산입구역 2번출구   서초구\n",
              "1700  2205    내곡3단지 어린이공원 앞   서초구\n",
              "1701  2206         언남초등학교 앞   서초구\n",
              "...    ...              ...   ...\n",
              "1814  2545  국립중앙도서관(국제회의장옆)   서초구\n",
              "1815  2547       포드서초서비스센터앞   서초구\n",
              "1816  2548    반포1동 자율방범초소 옆   서초구\n",
              "1817  2549   LH 서초 4단지 403동   서초구\n",
              "1818  2550      양재동 꽃시장 건너편   서초구\n",
              "\n",
              "[122 rows x 3 columns]"
            ]
          },
          "metadata": {
            "tags": []
          },
          "execution_count": 13
        }
      ]
    },
    {
      "cell_type": "markdown",
      "metadata": {
        "id": "6JoPWIn7pvE-"
      },
      "source": [
        "## 따릉이 시간별 데이터"
      ]
    },
    {
      "cell_type": "code",
      "metadata": {
        "id": "eC5LfZfyp0ac"
      },
      "source": [
        "df1_5=pd.read_csv('/content/drive/MyDrive/따릉이 project/시간대별 데이터/공공자전거 이용정보(시간대별)_19.12_20.056.csv',encoding='cp949')\n",
        "df_6=pd.read_csv('/content/drive/MyDrive/따릉이 project/시간대별 데이터/공공자전거 이용정보(시간대별)_20.06.csv',encoding='cp949')\n",
        "df_7=pd.read_csv('/content/drive/MyDrive/따릉이 project/시간대별 데이터/공공자전거 이용정보(시간대별)_20.07.csv',encoding='cp949')\n",
        "df_8=pd.read_csv('/content/drive/MyDrive/따릉이 project/시간대별 데이터/공공자전거 이용정보(시간대별)_20.08.csv',encoding='cp949')\n",
        "df_9=pd.read_csv('/content/drive/MyDrive/따릉이 project/시간대별 데이터/공공자전거 이용정보(시간대별)_20.09.csv',encoding='cp949')\n",
        "df_10=pd.read_csv('/content/drive/MyDrive/따릉이 project/시간대별 데이터/공공자전거 이용정보(시간대별)_20.10.csv',encoding='cp949')\n",
        "df_11=pd.read_csv('/content/drive/MyDrive/따릉이 project/시간대별 데이터/공공자전거 이용정보(시간대별)_20.11.csv',encoding='cp949')\n",
        "df_12=pd.read_csv('/content/drive/MyDrive/따릉이 project/시간대별 데이터/공공자전거 이용정보(시간대별)_20.12.csv',encoding='cp949')"
      ],
      "execution_count": 14,
      "outputs": []
    },
    {
      "cell_type": "code",
      "metadata": {
        "id": "DlRN8ROv01_k"
      },
      "source": [
        "#concat이 error나서 append로 데이터 병합시킴\n",
        "df=df1_5.append(df_6)\n",
        "df=df.append(df_7)\n",
        "df=df.append(df_8)\n",
        "df=df.append(df_9)\n",
        "df=df.append(df_10)\n",
        "df=df.append(df_11)\n",
        "df=df.append(df_12)"
      ],
      "execution_count": 15,
      "outputs": []
    },
    {
      "cell_type": "code",
      "metadata": {
        "colab": {
          "base_uri": "https://localhost:8080/",
          "height": 200
        },
        "id": "jbTHAzcu1CNv",
        "outputId": "7d79d82d-785f-4899-8276-7f591b29bd95"
      },
      "source": [
        "df.head()"
      ],
      "execution_count": 16,
      "outputs": [
        {
          "output_type": "execute_result",
          "data": {
            "text/html": [
              "<div>\n",
              "<style scoped>\n",
              "    .dataframe tbody tr th:only-of-type {\n",
              "        vertical-align: middle;\n",
              "    }\n",
              "\n",
              "    .dataframe tbody tr th {\n",
              "        vertical-align: top;\n",
              "    }\n",
              "\n",
              "    .dataframe thead th {\n",
              "        text-align: right;\n",
              "    }\n",
              "</style>\n",
              "<table border=\"1\" class=\"dataframe\">\n",
              "  <thead>\n",
              "    <tr style=\"text-align: right;\">\n",
              "      <th></th>\n",
              "      <th>대여일자</th>\n",
              "      <th>대여시간</th>\n",
              "      <th>대여소번호</th>\n",
              "      <th>대여소명</th>\n",
              "      <th>대여구분코드</th>\n",
              "      <th>성별</th>\n",
              "      <th>연령대코드</th>\n",
              "      <th>이용건수</th>\n",
              "      <th>운동량</th>\n",
              "      <th>탄소량</th>\n",
              "      <th>이동거리</th>\n",
              "      <th>사용시간</th>\n",
              "    </tr>\n",
              "  </thead>\n",
              "  <tbody>\n",
              "    <tr>\n",
              "      <th>0</th>\n",
              "      <td>2019-12-01</td>\n",
              "      <td>0</td>\n",
              "      <td>504</td>\n",
              "      <td>504. 신자초교입구교차로</td>\n",
              "      <td>정기권</td>\n",
              "      <td>NaN</td>\n",
              "      <td>~10대</td>\n",
              "      <td>3</td>\n",
              "      <td>74.84</td>\n",
              "      <td>0.67</td>\n",
              "      <td>2880.0</td>\n",
              "      <td>17</td>\n",
              "    </tr>\n",
              "    <tr>\n",
              "      <th>1</th>\n",
              "      <td>2019-12-01</td>\n",
              "      <td>0</td>\n",
              "      <td>1029</td>\n",
              "      <td>1029. 롯데 시네마</td>\n",
              "      <td>정기권</td>\n",
              "      <td>NaN</td>\n",
              "      <td>~10대</td>\n",
              "      <td>1</td>\n",
              "      <td>246.71</td>\n",
              "      <td>2.06</td>\n",
              "      <td>8900.0</td>\n",
              "      <td>45</td>\n",
              "    </tr>\n",
              "    <tr>\n",
              "      <th>2</th>\n",
              "      <td>2019-12-01</td>\n",
              "      <td>0</td>\n",
              "      <td>1153</td>\n",
              "      <td>1153. 발산역 1번, 9번 인근 대여소</td>\n",
              "      <td>정기권</td>\n",
              "      <td>NaN</td>\n",
              "      <td>~10대</td>\n",
              "      <td>1</td>\n",
              "      <td>25.60</td>\n",
              "      <td>0.23</td>\n",
              "      <td>1010.0</td>\n",
              "      <td>12</td>\n",
              "    </tr>\n",
              "    <tr>\n",
              "      <th>3</th>\n",
              "      <td>2019-12-01</td>\n",
              "      <td>0</td>\n",
              "      <td>512</td>\n",
              "      <td>512. 뚝섬역 1번 출구 옆</td>\n",
              "      <td>정기권</td>\n",
              "      <td>NaN</td>\n",
              "      <td>~10대</td>\n",
              "      <td>1</td>\n",
              "      <td>78.59</td>\n",
              "      <td>0.73</td>\n",
              "      <td>3150.0</td>\n",
              "      <td>17</td>\n",
              "    </tr>\n",
              "    <tr>\n",
              "      <th>4</th>\n",
              "      <td>2019-12-01</td>\n",
              "      <td>0</td>\n",
              "      <td>1528</td>\n",
              "      <td>1528. 삼각산동 주민센터</td>\n",
              "      <td>정기권</td>\n",
              "      <td>NaN</td>\n",
              "      <td>~10대</td>\n",
              "      <td>1</td>\n",
              "      <td>26.15</td>\n",
              "      <td>0.22</td>\n",
              "      <td>930.0</td>\n",
              "      <td>5</td>\n",
              "    </tr>\n",
              "  </tbody>\n",
              "</table>\n",
              "</div>"
            ],
            "text/plain": [
              "         대여일자  대여시간  대여소번호                     대여소명  ...     운동량   탄소량    이동거리  사용시간\n",
              "0  2019-12-01     0    504           504. 신자초교입구교차로  ...   74.84  0.67  2880.0    17\n",
              "1  2019-12-01     0   1029             1029. 롯데 시네마  ...  246.71  2.06  8900.0    45\n",
              "2  2019-12-01     0   1153  1153. 발산역 1번, 9번 인근 대여소  ...   25.60  0.23  1010.0    12\n",
              "3  2019-12-01     0    512         512. 뚝섬역 1번 출구 옆  ...   78.59  0.73  3150.0    17\n",
              "4  2019-12-01     0   1528          1528. 삼각산동 주민센터  ...   26.15  0.22   930.0     5\n",
              "\n",
              "[5 rows x 12 columns]"
            ]
          },
          "metadata": {
            "tags": []
          },
          "execution_count": 16
        }
      ]
    },
    {
      "cell_type": "code",
      "metadata": {
        "id": "Pvg5gtvn1Upf"
      },
      "source": [
        "list_need= ['대여일자','대여시간','대여소번호','이용건수']\n",
        "df= df[list_need]"
      ],
      "execution_count": 17,
      "outputs": []
    },
    {
      "cell_type": "code",
      "metadata": {
        "colab": {
          "base_uri": "https://localhost:8080/",
          "height": 200
        },
        "id": "yO1I_86q1ltS",
        "outputId": "88201916-5753-4972-854a-5886185ba24c"
      },
      "source": [
        "df.head()"
      ],
      "execution_count": 18,
      "outputs": [
        {
          "output_type": "execute_result",
          "data": {
            "text/html": [
              "<div>\n",
              "<style scoped>\n",
              "    .dataframe tbody tr th:only-of-type {\n",
              "        vertical-align: middle;\n",
              "    }\n",
              "\n",
              "    .dataframe tbody tr th {\n",
              "        vertical-align: top;\n",
              "    }\n",
              "\n",
              "    .dataframe thead th {\n",
              "        text-align: right;\n",
              "    }\n",
              "</style>\n",
              "<table border=\"1\" class=\"dataframe\">\n",
              "  <thead>\n",
              "    <tr style=\"text-align: right;\">\n",
              "      <th></th>\n",
              "      <th>대여일자</th>\n",
              "      <th>대여시간</th>\n",
              "      <th>대여소번호</th>\n",
              "      <th>이용건수</th>\n",
              "    </tr>\n",
              "  </thead>\n",
              "  <tbody>\n",
              "    <tr>\n",
              "      <th>0</th>\n",
              "      <td>2019-12-01</td>\n",
              "      <td>0</td>\n",
              "      <td>504</td>\n",
              "      <td>3</td>\n",
              "    </tr>\n",
              "    <tr>\n",
              "      <th>1</th>\n",
              "      <td>2019-12-01</td>\n",
              "      <td>0</td>\n",
              "      <td>1029</td>\n",
              "      <td>1</td>\n",
              "    </tr>\n",
              "    <tr>\n",
              "      <th>2</th>\n",
              "      <td>2019-12-01</td>\n",
              "      <td>0</td>\n",
              "      <td>1153</td>\n",
              "      <td>1</td>\n",
              "    </tr>\n",
              "    <tr>\n",
              "      <th>3</th>\n",
              "      <td>2019-12-01</td>\n",
              "      <td>0</td>\n",
              "      <td>512</td>\n",
              "      <td>1</td>\n",
              "    </tr>\n",
              "    <tr>\n",
              "      <th>4</th>\n",
              "      <td>2019-12-01</td>\n",
              "      <td>0</td>\n",
              "      <td>1528</td>\n",
              "      <td>1</td>\n",
              "    </tr>\n",
              "  </tbody>\n",
              "</table>\n",
              "</div>"
            ],
            "text/plain": [
              "         대여일자  대여시간  대여소번호  이용건수\n",
              "0  2019-12-01     0    504     3\n",
              "1  2019-12-01     0   1029     1\n",
              "2  2019-12-01     0   1153     1\n",
              "3  2019-12-01     0    512     1\n",
              "4  2019-12-01     0   1528     1"
            ]
          },
          "metadata": {
            "tags": []
          },
          "execution_count": 18
        }
      ]
    },
    {
      "cell_type": "code",
      "metadata": {
        "colab": {
          "base_uri": "https://localhost:8080/",
          "height": 200
        },
        "id": "geKBICE01nOs",
        "outputId": "56381079-c1c7-4024-d10f-25b9b447b1b6"
      },
      "source": [
        "station.head()"
      ],
      "execution_count": 19,
      "outputs": [
        {
          "output_type": "execute_result",
          "data": {
            "text/html": [
              "<div>\n",
              "<style scoped>\n",
              "    .dataframe tbody tr th:only-of-type {\n",
              "        vertical-align: middle;\n",
              "    }\n",
              "\n",
              "    .dataframe tbody tr th {\n",
              "        vertical-align: top;\n",
              "    }\n",
              "\n",
              "    .dataframe thead th {\n",
              "        text-align: right;\n",
              "    }\n",
              "</style>\n",
              "<table border=\"1\" class=\"dataframe\">\n",
              "  <thead>\n",
              "    <tr style=\"text-align: right;\">\n",
              "      <th></th>\n",
              "      <th>stno</th>\n",
              "      <th>stname</th>\n",
              "      <th>place</th>\n",
              "    </tr>\n",
              "  </thead>\n",
              "  <tbody>\n",
              "    <tr>\n",
              "      <th>1697</th>\n",
              "      <td>2201</td>\n",
              "      <td>본마을 정류소 앞</td>\n",
              "      <td>서초구</td>\n",
              "    </tr>\n",
              "    <tr>\n",
              "      <th>1698</th>\n",
              "      <td>2202</td>\n",
              "      <td>청계산입구역 1번출구</td>\n",
              "      <td>서초구</td>\n",
              "    </tr>\n",
              "    <tr>\n",
              "      <th>1699</th>\n",
              "      <td>2203</td>\n",
              "      <td>청계산입구역 2번출구</td>\n",
              "      <td>서초구</td>\n",
              "    </tr>\n",
              "    <tr>\n",
              "      <th>1700</th>\n",
              "      <td>2205</td>\n",
              "      <td>내곡3단지 어린이공원 앞</td>\n",
              "      <td>서초구</td>\n",
              "    </tr>\n",
              "    <tr>\n",
              "      <th>1701</th>\n",
              "      <td>2206</td>\n",
              "      <td>언남초등학교 앞</td>\n",
              "      <td>서초구</td>\n",
              "    </tr>\n",
              "  </tbody>\n",
              "</table>\n",
              "</div>"
            ],
            "text/plain": [
              "      stno         stname place\n",
              "1697  2201      본마을 정류소 앞   서초구\n",
              "1698  2202    청계산입구역 1번출구   서초구\n",
              "1699  2203    청계산입구역 2번출구   서초구\n",
              "1700  2205  내곡3단지 어린이공원 앞   서초구\n",
              "1701  2206       언남초등학교 앞   서초구"
            ]
          },
          "metadata": {
            "tags": []
          },
          "execution_count": 19
        }
      ]
    },
    {
      "cell_type": "markdown",
      "metadata": {
        "id": "BNlcE3EP1pKe"
      },
      "source": [
        "### station 데이터와 df 데이터의 merge"
      ]
    },
    {
      "cell_type": "code",
      "metadata": {
        "id": "CgMnLu451tX_"
      },
      "source": [
        "merge_inner= pd.merge(df, station, how='inner',left_on='대여소번호',right_on='stno')"
      ],
      "execution_count": 20,
      "outputs": []
    },
    {
      "cell_type": "code",
      "metadata": {
        "id": "T3LuL6aJ1-od"
      },
      "source": [
        "data=merge_inner.copy()\n",
        "data= data.rename(columns={'대여일자':'date','대여시간':'time','이용건수':'num'})"
      ],
      "execution_count": 21,
      "outputs": []
    },
    {
      "cell_type": "code",
      "metadata": {
        "id": "fMzNUlN82IOB"
      },
      "source": [
        "data.drop('대여소번호',axis=1, inplace=True)"
      ],
      "execution_count": 22,
      "outputs": []
    },
    {
      "cell_type": "code",
      "metadata": {
        "colab": {
          "base_uri": "https://localhost:8080/",
          "height": 408
        },
        "id": "HCokxDRo2RJ9",
        "outputId": "4f05e567-c03b-464c-a9a9-d7e75d69f933"
      },
      "source": [
        "data"
      ],
      "execution_count": 23,
      "outputs": [
        {
          "output_type": "execute_result",
          "data": {
            "text/html": [
              "<div>\n",
              "<style scoped>\n",
              "    .dataframe tbody tr th:only-of-type {\n",
              "        vertical-align: middle;\n",
              "    }\n",
              "\n",
              "    .dataframe tbody tr th {\n",
              "        vertical-align: top;\n",
              "    }\n",
              "\n",
              "    .dataframe thead th {\n",
              "        text-align: right;\n",
              "    }\n",
              "</style>\n",
              "<table border=\"1\" class=\"dataframe\">\n",
              "  <thead>\n",
              "    <tr style=\"text-align: right;\">\n",
              "      <th></th>\n",
              "      <th>date</th>\n",
              "      <th>time</th>\n",
              "      <th>num</th>\n",
              "      <th>stno</th>\n",
              "      <th>stname</th>\n",
              "      <th>place</th>\n",
              "    </tr>\n",
              "  </thead>\n",
              "  <tbody>\n",
              "    <tr>\n",
              "      <th>0</th>\n",
              "      <td>2019-12-01</td>\n",
              "      <td>0</td>\n",
              "      <td>1</td>\n",
              "      <td>2219</td>\n",
              "      <td>고속터미널역 8-1번, 8-2번 출구 사이</td>\n",
              "      <td>서초구</td>\n",
              "    </tr>\n",
              "    <tr>\n",
              "      <th>1</th>\n",
              "      <td>2019-12-01</td>\n",
              "      <td>0</td>\n",
              "      <td>1</td>\n",
              "      <td>2219</td>\n",
              "      <td>고속터미널역 8-1번, 8-2번 출구 사이</td>\n",
              "      <td>서초구</td>\n",
              "    </tr>\n",
              "    <tr>\n",
              "      <th>2</th>\n",
              "      <td>2019-12-01</td>\n",
              "      <td>0</td>\n",
              "      <td>1</td>\n",
              "      <td>2219</td>\n",
              "      <td>고속터미널역 8-1번, 8-2번 출구 사이</td>\n",
              "      <td>서초구</td>\n",
              "    </tr>\n",
              "    <tr>\n",
              "      <th>3</th>\n",
              "      <td>2019-12-01</td>\n",
              "      <td>1</td>\n",
              "      <td>1</td>\n",
              "      <td>2219</td>\n",
              "      <td>고속터미널역 8-1번, 8-2번 출구 사이</td>\n",
              "      <td>서초구</td>\n",
              "    </tr>\n",
              "    <tr>\n",
              "      <th>4</th>\n",
              "      <td>2019-12-01</td>\n",
              "      <td>1</td>\n",
              "      <td>3</td>\n",
              "      <td>2219</td>\n",
              "      <td>고속터미널역 8-1번, 8-2번 출구 사이</td>\n",
              "      <td>서초구</td>\n",
              "    </tr>\n",
              "    <tr>\n",
              "      <th>...</th>\n",
              "      <td>...</td>\n",
              "      <td>...</td>\n",
              "      <td>...</td>\n",
              "      <td>...</td>\n",
              "      <td>...</td>\n",
              "      <td>...</td>\n",
              "    </tr>\n",
              "    <tr>\n",
              "      <th>790895</th>\n",
              "      <td>2020-11-17</td>\n",
              "      <td>13</td>\n",
              "      <td>1</td>\n",
              "      <td>2543</td>\n",
              "      <td>경문고교 사거리</td>\n",
              "      <td>서초구</td>\n",
              "    </tr>\n",
              "    <tr>\n",
              "      <th>790896</th>\n",
              "      <td>2020-11-17</td>\n",
              "      <td>13</td>\n",
              "      <td>1</td>\n",
              "      <td>2543</td>\n",
              "      <td>경문고교 사거리</td>\n",
              "      <td>서초구</td>\n",
              "    </tr>\n",
              "    <tr>\n",
              "      <th>790897</th>\n",
              "      <td>2020-11-19</td>\n",
              "      <td>19</td>\n",
              "      <td>1</td>\n",
              "      <td>2543</td>\n",
              "      <td>경문고교 사거리</td>\n",
              "      <td>서초구</td>\n",
              "    </tr>\n",
              "    <tr>\n",
              "      <th>790898</th>\n",
              "      <td>2020-11-20</td>\n",
              "      <td>17</td>\n",
              "      <td>1</td>\n",
              "      <td>2543</td>\n",
              "      <td>경문고교 사거리</td>\n",
              "      <td>서초구</td>\n",
              "    </tr>\n",
              "    <tr>\n",
              "      <th>790899</th>\n",
              "      <td>2020-11-21</td>\n",
              "      <td>0</td>\n",
              "      <td>1</td>\n",
              "      <td>2543</td>\n",
              "      <td>경문고교 사거리</td>\n",
              "      <td>서초구</td>\n",
              "    </tr>\n",
              "  </tbody>\n",
              "</table>\n",
              "<p>790900 rows × 6 columns</p>\n",
              "</div>"
            ],
            "text/plain": [
              "              date  time  num  stno                   stname place\n",
              "0       2019-12-01     0    1  2219  고속터미널역 8-1번, 8-2번 출구 사이   서초구\n",
              "1       2019-12-01     0    1  2219  고속터미널역 8-1번, 8-2번 출구 사이   서초구\n",
              "2       2019-12-01     0    1  2219  고속터미널역 8-1번, 8-2번 출구 사이   서초구\n",
              "3       2019-12-01     1    1  2219  고속터미널역 8-1번, 8-2번 출구 사이   서초구\n",
              "4       2019-12-01     1    3  2219  고속터미널역 8-1번, 8-2번 출구 사이   서초구\n",
              "...            ...   ...  ...   ...                      ...   ...\n",
              "790895  2020-11-17    13    1  2543                 경문고교 사거리   서초구\n",
              "790896  2020-11-17    13    1  2543                 경문고교 사거리   서초구\n",
              "790897  2020-11-19    19    1  2543                 경문고교 사거리   서초구\n",
              "790898  2020-11-20    17    1  2543                 경문고교 사거리   서초구\n",
              "790899  2020-11-21     0    1  2543                 경문고교 사거리   서초구\n",
              "\n",
              "[790900 rows x 6 columns]"
            ]
          },
          "metadata": {
            "tags": []
          },
          "execution_count": 23
        }
      ]
    },
    {
      "cell_type": "markdown",
      "metadata": {
        "id": "90luwsZX2U4t"
      },
      "source": [
        "### 대여일자 feature engineering"
      ]
    },
    {
      "cell_type": "code",
      "metadata": {
        "colab": {
          "base_uri": "https://localhost:8080/"
        },
        "id": "eWy4qZnO2X0l",
        "outputId": "93d2d987-0c59-4c32-f880-11114d2cefc5"
      },
      "source": [
        "import datetime\n",
        "#year, month, day 변수\n",
        "data['date']= pd.to_datetime(data.date)\n",
        "data['year']= data['date'].dt.strftime('%Y')\n",
        "data['month']=data['date'].dt.strftime('%m')\n",
        "data['day']=data['date'].dt.strftime('%d')\n",
        "\n",
        "#to int type\n",
        "data['year']=data['year'].astype(int)\n",
        "data['month']=data['month'].astype(int)\n",
        "data['day']=data['day'].astype(int)\n",
        "\n",
        "#2020 data만 추출\n",
        "data=data[data['year']==2020]\n",
        "data.drop('date',axis=1, inplace=True)"
      ],
      "execution_count": 24,
      "outputs": [
        {
          "output_type": "stream",
          "text": [
            "/usr/local/lib/python3.7/dist-packages/pandas/core/frame.py:4174: SettingWithCopyWarning: \n",
            "A value is trying to be set on a copy of a slice from a DataFrame\n",
            "\n",
            "See the caveats in the documentation: https://pandas.pydata.org/pandas-docs/stable/user_guide/indexing.html#returning-a-view-versus-a-copy\n",
            "  errors=errors,\n"
          ],
          "name": "stderr"
        }
      ]
    },
    {
      "cell_type": "code",
      "metadata": {
        "colab": {
          "base_uri": "https://localhost:8080/",
          "height": 408
        },
        "id": "8Kq7-_GX4G2s",
        "outputId": "067c8181-99ca-496d-9e87-96835bfffd00"
      },
      "source": [
        "data"
      ],
      "execution_count": 25,
      "outputs": [
        {
          "output_type": "execute_result",
          "data": {
            "text/html": [
              "<div>\n",
              "<style scoped>\n",
              "    .dataframe tbody tr th:only-of-type {\n",
              "        vertical-align: middle;\n",
              "    }\n",
              "\n",
              "    .dataframe tbody tr th {\n",
              "        vertical-align: top;\n",
              "    }\n",
              "\n",
              "    .dataframe thead th {\n",
              "        text-align: right;\n",
              "    }\n",
              "</style>\n",
              "<table border=\"1\" class=\"dataframe\">\n",
              "  <thead>\n",
              "    <tr style=\"text-align: right;\">\n",
              "      <th></th>\n",
              "      <th>time</th>\n",
              "      <th>num</th>\n",
              "      <th>stno</th>\n",
              "      <th>stname</th>\n",
              "      <th>place</th>\n",
              "      <th>year</th>\n",
              "      <th>month</th>\n",
              "      <th>day</th>\n",
              "    </tr>\n",
              "  </thead>\n",
              "  <tbody>\n",
              "    <tr>\n",
              "      <th>1362</th>\n",
              "      <td>1</td>\n",
              "      <td>1</td>\n",
              "      <td>2219</td>\n",
              "      <td>고속터미널역 8-1번, 8-2번 출구 사이</td>\n",
              "      <td>서초구</td>\n",
              "      <td>2020</td>\n",
              "      <td>1</td>\n",
              "      <td>1</td>\n",
              "    </tr>\n",
              "    <tr>\n",
              "      <th>1363</th>\n",
              "      <td>1</td>\n",
              "      <td>1</td>\n",
              "      <td>2219</td>\n",
              "      <td>고속터미널역 8-1번, 8-2번 출구 사이</td>\n",
              "      <td>서초구</td>\n",
              "      <td>2020</td>\n",
              "      <td>1</td>\n",
              "      <td>1</td>\n",
              "    </tr>\n",
              "    <tr>\n",
              "      <th>1364</th>\n",
              "      <td>2</td>\n",
              "      <td>1</td>\n",
              "      <td>2219</td>\n",
              "      <td>고속터미널역 8-1번, 8-2번 출구 사이</td>\n",
              "      <td>서초구</td>\n",
              "      <td>2020</td>\n",
              "      <td>1</td>\n",
              "      <td>1</td>\n",
              "    </tr>\n",
              "    <tr>\n",
              "      <th>1365</th>\n",
              "      <td>2</td>\n",
              "      <td>1</td>\n",
              "      <td>2219</td>\n",
              "      <td>고속터미널역 8-1번, 8-2번 출구 사이</td>\n",
              "      <td>서초구</td>\n",
              "      <td>2020</td>\n",
              "      <td>1</td>\n",
              "      <td>1</td>\n",
              "    </tr>\n",
              "    <tr>\n",
              "      <th>1366</th>\n",
              "      <td>2</td>\n",
              "      <td>1</td>\n",
              "      <td>2219</td>\n",
              "      <td>고속터미널역 8-1번, 8-2번 출구 사이</td>\n",
              "      <td>서초구</td>\n",
              "      <td>2020</td>\n",
              "      <td>1</td>\n",
              "      <td>1</td>\n",
              "    </tr>\n",
              "    <tr>\n",
              "      <th>...</th>\n",
              "      <td>...</td>\n",
              "      <td>...</td>\n",
              "      <td>...</td>\n",
              "      <td>...</td>\n",
              "      <td>...</td>\n",
              "      <td>...</td>\n",
              "      <td>...</td>\n",
              "      <td>...</td>\n",
              "    </tr>\n",
              "    <tr>\n",
              "      <th>790895</th>\n",
              "      <td>13</td>\n",
              "      <td>1</td>\n",
              "      <td>2543</td>\n",
              "      <td>경문고교 사거리</td>\n",
              "      <td>서초구</td>\n",
              "      <td>2020</td>\n",
              "      <td>11</td>\n",
              "      <td>17</td>\n",
              "    </tr>\n",
              "    <tr>\n",
              "      <th>790896</th>\n",
              "      <td>13</td>\n",
              "      <td>1</td>\n",
              "      <td>2543</td>\n",
              "      <td>경문고교 사거리</td>\n",
              "      <td>서초구</td>\n",
              "      <td>2020</td>\n",
              "      <td>11</td>\n",
              "      <td>17</td>\n",
              "    </tr>\n",
              "    <tr>\n",
              "      <th>790897</th>\n",
              "      <td>19</td>\n",
              "      <td>1</td>\n",
              "      <td>2543</td>\n",
              "      <td>경문고교 사거리</td>\n",
              "      <td>서초구</td>\n",
              "      <td>2020</td>\n",
              "      <td>11</td>\n",
              "      <td>19</td>\n",
              "    </tr>\n",
              "    <tr>\n",
              "      <th>790898</th>\n",
              "      <td>17</td>\n",
              "      <td>1</td>\n",
              "      <td>2543</td>\n",
              "      <td>경문고교 사거리</td>\n",
              "      <td>서초구</td>\n",
              "      <td>2020</td>\n",
              "      <td>11</td>\n",
              "      <td>20</td>\n",
              "    </tr>\n",
              "    <tr>\n",
              "      <th>790899</th>\n",
              "      <td>0</td>\n",
              "      <td>1</td>\n",
              "      <td>2543</td>\n",
              "      <td>경문고교 사거리</td>\n",
              "      <td>서초구</td>\n",
              "      <td>2020</td>\n",
              "      <td>11</td>\n",
              "      <td>21</td>\n",
              "    </tr>\n",
              "  </tbody>\n",
              "</table>\n",
              "<p>758714 rows × 8 columns</p>\n",
              "</div>"
            ],
            "text/plain": [
              "        time  num  stno                   stname place  year  month  day\n",
              "1362       1    1  2219  고속터미널역 8-1번, 8-2번 출구 사이   서초구  2020      1    1\n",
              "1363       1    1  2219  고속터미널역 8-1번, 8-2번 출구 사이   서초구  2020      1    1\n",
              "1364       2    1  2219  고속터미널역 8-1번, 8-2번 출구 사이   서초구  2020      1    1\n",
              "1365       2    1  2219  고속터미널역 8-1번, 8-2번 출구 사이   서초구  2020      1    1\n",
              "1366       2    1  2219  고속터미널역 8-1번, 8-2번 출구 사이   서초구  2020      1    1\n",
              "...      ...  ...   ...                      ...   ...   ...    ...  ...\n",
              "790895    13    1  2543                 경문고교 사거리   서초구  2020     11   17\n",
              "790896    13    1  2543                 경문고교 사거리   서초구  2020     11   17\n",
              "790897    19    1  2543                 경문고교 사거리   서초구  2020     11   19\n",
              "790898    17    1  2543                 경문고교 사거리   서초구  2020     11   20\n",
              "790899     0    1  2543                 경문고교 사거리   서초구  2020     11   21\n",
              "\n",
              "[758714 rows x 8 columns]"
            ]
          },
          "metadata": {
            "tags": []
          },
          "execution_count": 25
        }
      ]
    },
    {
      "cell_type": "code",
      "metadata": {
        "colab": {
          "base_uri": "https://localhost:8080/"
        },
        "id": "ZRz86phs4h4V",
        "outputId": "cc3bc728-1b35-48e7-c8f9-4e6de63cd9db"
      },
      "source": [
        "data.stno.isna().sum()"
      ],
      "execution_count": 26,
      "outputs": [
        {
          "output_type": "execute_result",
          "data": {
            "text/plain": [
              "0"
            ]
          },
          "metadata": {
            "tags": []
          },
          "execution_count": 26
        }
      ]
    },
    {
      "cell_type": "code",
      "metadata": {
        "colab": {
          "base_uri": "https://localhost:8080/"
        },
        "id": "EmjiCa-M48fK",
        "outputId": "73539a27-ede7-4088-c1c6-5690e66e2312"
      },
      "source": [
        "len(data.stno.unique())\n",
        "#서초구엔 약 122개의 대여소가 있다. "
      ],
      "execution_count": 27,
      "outputs": [
        {
          "output_type": "execute_result",
          "data": {
            "text/plain": [
              "122"
            ]
          },
          "metadata": {
            "tags": []
          },
          "execution_count": 27
        }
      ]
    },
    {
      "cell_type": "markdown",
      "metadata": {
        "id": "JaD4nKfk5SD7"
      },
      "source": [
        "## 미세먼지 데이터"
      ]
    },
    {
      "cell_type": "markdown",
      "metadata": {
        "id": "uZt8W1Hu5h2a"
      },
      "source": [
        "### 데이터 불러오기"
      ]
    },
    {
      "cell_type": "code",
      "metadata": {
        "id": "zGc_I3_S5dyW"
      },
      "source": [
        "dust1=pd.read_csv('/content/drive/MyDrive/따릉이 project/미세먼지/AIR_HOUR_202001.csv',encoding='cp949')\n",
        "dust2=pd.read_csv('/content/drive/MyDrive/따릉이 project/미세먼지/AIR_HOUR_202002.csv',encoding='cp949')\n",
        "dust3=pd.read_csv('/content/drive/MyDrive/따릉이 project/미세먼지/AIR_HOUR_202003.csv',encoding='cp949')\n",
        "dust4=pd.read_csv('/content/drive/MyDrive/따릉이 project/미세먼지/AIR_HOUR_202004.csv',encoding='cp949')\n",
        "dust5=pd.read_csv('/content/drive/MyDrive/따릉이 project/미세먼지/AIR_HOUR_202005.csv',encoding='cp949')\n",
        "dust6=pd.read_csv('/content/drive/MyDrive/따릉이 project/미세먼지/AIR_HOUR_202006.csv',encoding='cp949')\n",
        "dust7=pd.read_csv('/content/drive/MyDrive/따릉이 project/미세먼지/AIR_HOUR_202007.csv',encoding='cp949')\n",
        "dust8=pd.read_csv('/content/drive/MyDrive/따릉이 project/미세먼지/AIR_HOUR_202008.csv',encoding='cp949')\n",
        "dust9=pd.read_csv('/content/drive/MyDrive/따릉이 project/미세먼지/AIR_HOUR_202009.csv',encoding='cp949')\n",
        "dust10=pd.read_csv('/content/drive/MyDrive/따릉이 project/미세먼지/AIR_HOUR_202010.csv',encoding='cp949')\n",
        "dust11=pd.read_csv('/content/drive/MyDrive/따릉이 project/미세먼지/AIR_HOUR_202011.csv',encoding='cp949')\n",
        "dust12=pd.read_csv('/content/drive/MyDrive/따릉이 project/미세먼지/AIR_HOUR_202012.csv',encoding='cp949')\n",
        "\n",
        "dust_info=pd.read_csv('/content/drive/MyDrive/따릉이 project/미세먼지/서울특별시 대기오염 측정소 정보.csv',encoding='cp949')"
      ],
      "execution_count": 28,
      "outputs": []
    },
    {
      "cell_type": "code",
      "metadata": {
        "id": "mRGKBBW_5nT-"
      },
      "source": [
        "#측정항목코드= 8미세먼지, 9=초미세먼지\n",
        "list_1= ['측정일시','측정소 코드','측정항목 코드','평균값']\n",
        "\n",
        "dust1=dust1[list_1]\n",
        "dust1.head()\n",
        "dust2= dust2[list_1]\n",
        "dust3=dust3[list_1]\n",
        "dust4=dust4[list_1]\n",
        "dust4=dust4[list_1]\n",
        "dust5=dust5[list_1]\n",
        "dust6=dust6[list_1]\n",
        "dust7=dust7[list_1]\n",
        "dust8=dust8[list_1]\n",
        "dust9=dust9[list_1]\n",
        "dust10=dust10[list_1]\n",
        "dust11=dust11[list_1]\n",
        "dust12=dust12[list_1]"
      ],
      "execution_count": 29,
      "outputs": []
    },
    {
      "cell_type": "code",
      "metadata": {
        "id": "sWesxsAG5xw8"
      },
      "source": [
        "dust_df= dust1.append(dust2)\n",
        "dust_df=dust_df.append(dust3)\n",
        "dust_df=dust_df.append(dust4)\n",
        "dust_df=dust_df.append(dust5)\n",
        "dust_df=dust_df.append(dust6)\n",
        "dust_df=dust_df.append(dust7)\n",
        "dust_df=dust_df.append(dust8)\n",
        "dust_df=dust_df.append(dust9)\n",
        "dust_df=dust_df.append(dust10)\n",
        "dust_df=dust_df.append(dust11)\n",
        "dust_df=dust_df.append(dust12)"
      ],
      "execution_count": 30,
      "outputs": []
    },
    {
      "cell_type": "code",
      "metadata": {
        "colab": {
          "base_uri": "https://localhost:8080/",
          "height": 408
        },
        "id": "mtB1VJNd5zPk",
        "outputId": "1b353831-357c-42a5-e8d3-3b743fc17ec5"
      },
      "source": [
        "dust_df"
      ],
      "execution_count": 31,
      "outputs": [
        {
          "output_type": "execute_result",
          "data": {
            "text/html": [
              "<div>\n",
              "<style scoped>\n",
              "    .dataframe tbody tr th:only-of-type {\n",
              "        vertical-align: middle;\n",
              "    }\n",
              "\n",
              "    .dataframe tbody tr th {\n",
              "        vertical-align: top;\n",
              "    }\n",
              "\n",
              "    .dataframe thead th {\n",
              "        text-align: right;\n",
              "    }\n",
              "</style>\n",
              "<table border=\"1\" class=\"dataframe\">\n",
              "  <thead>\n",
              "    <tr style=\"text-align: right;\">\n",
              "      <th></th>\n",
              "      <th>측정일시</th>\n",
              "      <th>측정소 코드</th>\n",
              "      <th>측정항목 코드</th>\n",
              "      <th>평균값</th>\n",
              "    </tr>\n",
              "  </thead>\n",
              "  <tbody>\n",
              "    <tr>\n",
              "      <th>0</th>\n",
              "      <td>20200131230000</td>\n",
              "      <td>117</td>\n",
              "      <td>1</td>\n",
              "      <td>0.005</td>\n",
              "    </tr>\n",
              "    <tr>\n",
              "      <th>1</th>\n",
              "      <td>20200131230000</td>\n",
              "      <td>104</td>\n",
              "      <td>9</td>\n",
              "      <td>35.000</td>\n",
              "    </tr>\n",
              "    <tr>\n",
              "      <th>2</th>\n",
              "      <td>20200131230000</td>\n",
              "      <td>104</td>\n",
              "      <td>8</td>\n",
              "      <td>47.000</td>\n",
              "    </tr>\n",
              "    <tr>\n",
              "      <th>3</th>\n",
              "      <td>20200131230000</td>\n",
              "      <td>101</td>\n",
              "      <td>3</td>\n",
              "      <td>0.048</td>\n",
              "    </tr>\n",
              "    <tr>\n",
              "      <th>4</th>\n",
              "      <td>20200131230000</td>\n",
              "      <td>101</td>\n",
              "      <td>1</td>\n",
              "      <td>0.003</td>\n",
              "    </tr>\n",
              "    <tr>\n",
              "      <th>...</th>\n",
              "      <td>...</td>\n",
              "      <td>...</td>\n",
              "      <td>...</td>\n",
              "      <td>...</td>\n",
              "    </tr>\n",
              "    <tr>\n",
              "      <th>111595</th>\n",
              "      <td>20201201000000</td>\n",
              "      <td>124</td>\n",
              "      <td>3</td>\n",
              "      <td>0.046</td>\n",
              "    </tr>\n",
              "    <tr>\n",
              "      <th>111596</th>\n",
              "      <td>20201201000000</td>\n",
              "      <td>105</td>\n",
              "      <td>9</td>\n",
              "      <td>15.000</td>\n",
              "    </tr>\n",
              "    <tr>\n",
              "      <th>111597</th>\n",
              "      <td>20201201000000</td>\n",
              "      <td>119</td>\n",
              "      <td>1</td>\n",
              "      <td>0.004</td>\n",
              "    </tr>\n",
              "    <tr>\n",
              "      <th>111598</th>\n",
              "      <td>20201201000000</td>\n",
              "      <td>107</td>\n",
              "      <td>9</td>\n",
              "      <td>22.000</td>\n",
              "    </tr>\n",
              "    <tr>\n",
              "      <th>111599</th>\n",
              "      <td>20201201000000</td>\n",
              "      <td>103</td>\n",
              "      <td>1</td>\n",
              "      <td>0.003</td>\n",
              "    </tr>\n",
              "  </tbody>\n",
              "</table>\n",
              "<p>1313688 rows × 4 columns</p>\n",
              "</div>"
            ],
            "text/plain": [
              "                  측정일시  측정소 코드  측정항목 코드     평균값\n",
              "0       20200131230000     117        1   0.005\n",
              "1       20200131230000     104        9  35.000\n",
              "2       20200131230000     104        8  47.000\n",
              "3       20200131230000     101        3   0.048\n",
              "4       20200131230000     101        1   0.003\n",
              "...                ...     ...      ...     ...\n",
              "111595  20201201000000     124        3   0.046\n",
              "111596  20201201000000     105        9  15.000\n",
              "111597  20201201000000     119        1   0.004\n",
              "111598  20201201000000     107        9  22.000\n",
              "111599  20201201000000     103        1   0.003\n",
              "\n",
              "[1313688 rows x 4 columns]"
            ]
          },
          "metadata": {
            "tags": []
          },
          "execution_count": 31
        }
      ]
    },
    {
      "cell_type": "code",
      "metadata": {
        "colab": {
          "base_uri": "https://localhost:8080/",
          "height": 803
        },
        "id": "Ff236-dV5299",
        "outputId": "3b956c6f-24d5-4287-ecdf-976c1c9e92e3"
      },
      "source": [
        "dust_info"
      ],
      "execution_count": 32,
      "outputs": [
        {
          "output_type": "execute_result",
          "data": {
            "text/html": [
              "<div>\n",
              "<style scoped>\n",
              "    .dataframe tbody tr th:only-of-type {\n",
              "        vertical-align: middle;\n",
              "    }\n",
              "\n",
              "    .dataframe tbody tr th {\n",
              "        vertical-align: top;\n",
              "    }\n",
              "\n",
              "    .dataframe thead th {\n",
              "        text-align: right;\n",
              "    }\n",
              "</style>\n",
              "<table border=\"1\" class=\"dataframe\">\n",
              "  <thead>\n",
              "    <tr style=\"text-align: right;\">\n",
              "      <th></th>\n",
              "      <th>측정소 코드</th>\n",
              "      <th>측정소 이름</th>\n",
              "      <th>측정소 주소</th>\n",
              "      <th>표시 순서</th>\n",
              "      <th>공인코드</th>\n",
              "    </tr>\n",
              "  </thead>\n",
              "  <tbody>\n",
              "    <tr>\n",
              "      <th>0</th>\n",
              "      <td>101</td>\n",
              "      <td>종로구</td>\n",
              "      <td>서울 종로구 종로35가길 19 종로56가 동 주민센터</td>\n",
              "      <td>1</td>\n",
              "      <td>111123</td>\n",
              "    </tr>\n",
              "    <tr>\n",
              "      <th>1</th>\n",
              "      <td>102</td>\n",
              "      <td>중구</td>\n",
              "      <td>서울 중구 덕수궁길 15 시청서소문별관 3동</td>\n",
              "      <td>2</td>\n",
              "      <td>111121</td>\n",
              "    </tr>\n",
              "    <tr>\n",
              "      <th>2</th>\n",
              "      <td>103</td>\n",
              "      <td>용산구</td>\n",
              "      <td>서울 용산구 한남대로 136 서울특별시중부기술교육원</td>\n",
              "      <td>3</td>\n",
              "      <td>111131</td>\n",
              "    </tr>\n",
              "    <tr>\n",
              "      <th>3</th>\n",
              "      <td>104</td>\n",
              "      <td>은평구</td>\n",
              "      <td>서울 은평구 진흥로 215 (한국환경산업기술원 온실동2층 )</td>\n",
              "      <td>4</td>\n",
              "      <td>111181</td>\n",
              "    </tr>\n",
              "    <tr>\n",
              "      <th>4</th>\n",
              "      <td>105</td>\n",
              "      <td>서대문구</td>\n",
              "      <td>서울 서대문구 세검정로4길 32(홍제3동 주민센터)</td>\n",
              "      <td>5</td>\n",
              "      <td>111191</td>\n",
              "    </tr>\n",
              "    <tr>\n",
              "      <th>5</th>\n",
              "      <td>106</td>\n",
              "      <td>마포구</td>\n",
              "      <td>서울 마포구 포은로 6길 10 망원1동주민센터 옥상</td>\n",
              "      <td>6</td>\n",
              "      <td>111201</td>\n",
              "    </tr>\n",
              "    <tr>\n",
              "      <th>6</th>\n",
              "      <td>107</td>\n",
              "      <td>성동구</td>\n",
              "      <td>서울 성동구 뚝섬로3길 18 성수1가1동주민센터</td>\n",
              "      <td>7</td>\n",
              "      <td>111142</td>\n",
              "    </tr>\n",
              "    <tr>\n",
              "      <th>7</th>\n",
              "      <td>108</td>\n",
              "      <td>광진구</td>\n",
              "      <td>서울특별시 광진구 광나루로 571 구의 아리수정수센터</td>\n",
              "      <td>8</td>\n",
              "      <td>111141</td>\n",
              "    </tr>\n",
              "    <tr>\n",
              "      <th>8</th>\n",
              "      <td>109</td>\n",
              "      <td>동대문구</td>\n",
              "      <td>서울 동대문구 천호대로13길 43 용두초등학교</td>\n",
              "      <td>9</td>\n",
              "      <td>111152</td>\n",
              "    </tr>\n",
              "    <tr>\n",
              "      <th>9</th>\n",
              "      <td>110</td>\n",
              "      <td>중랑구</td>\n",
              "      <td>서울 중랑구 용마산로 369 건강가정지원센터</td>\n",
              "      <td>10</td>\n",
              "      <td>111151</td>\n",
              "    </tr>\n",
              "    <tr>\n",
              "      <th>10</th>\n",
              "      <td>111</td>\n",
              "      <td>성북구</td>\n",
              "      <td>서울 성북구 삼양로2길 70 길음2동 주민센터</td>\n",
              "      <td>11</td>\n",
              "      <td>111161</td>\n",
              "    </tr>\n",
              "    <tr>\n",
              "      <th>11</th>\n",
              "      <td>112</td>\n",
              "      <td>강북구</td>\n",
              "      <td>서울 강북구 삼양로 139길 49 우이동 주민센터</td>\n",
              "      <td>12</td>\n",
              "      <td>111291</td>\n",
              "    </tr>\n",
              "    <tr>\n",
              "      <th>12</th>\n",
              "      <td>113</td>\n",
              "      <td>도봉구</td>\n",
              "      <td>서울 도봉구 시루봉로2길 34 쌍문동청소년문화의집</td>\n",
              "      <td>13</td>\n",
              "      <td>111171</td>\n",
              "    </tr>\n",
              "    <tr>\n",
              "      <th>13</th>\n",
              "      <td>114</td>\n",
              "      <td>노원구</td>\n",
              "      <td>서울 노원구 상계로 118 상계2동 주민센터 (23길 17 노원구 원터행복발전소)</td>\n",
              "      <td>14</td>\n",
              "      <td>111311</td>\n",
              "    </tr>\n",
              "    <tr>\n",
              "      <th>14</th>\n",
              "      <td>115</td>\n",
              "      <td>양천구</td>\n",
              "      <td>서울 양천구 중앙로52길 56 신정4동 문화센터</td>\n",
              "      <td>15</td>\n",
              "      <td>111301</td>\n",
              "    </tr>\n",
              "    <tr>\n",
              "      <th>15</th>\n",
              "      <td>116</td>\n",
              "      <td>강서구</td>\n",
              "      <td>서울 강서구 강서로 45 다길 71 화곡3동 푸른들청소년도서관</td>\n",
              "      <td>16</td>\n",
              "      <td>111212</td>\n",
              "    </tr>\n",
              "    <tr>\n",
              "      <th>16</th>\n",
              "      <td>117</td>\n",
              "      <td>구로구</td>\n",
              "      <td>서울 구로구 가마산로 27길 45 구로고등학교</td>\n",
              "      <td>17</td>\n",
              "      <td>111221</td>\n",
              "    </tr>\n",
              "    <tr>\n",
              "      <th>17</th>\n",
              "      <td>118</td>\n",
              "      <td>금천구</td>\n",
              "      <td>서울 금천구 금하로21길 20 시흥5동 주민센터</td>\n",
              "      <td>18</td>\n",
              "      <td>111281</td>\n",
              "    </tr>\n",
              "    <tr>\n",
              "      <th>18</th>\n",
              "      <td>119</td>\n",
              "      <td>영등포구</td>\n",
              "      <td>서울특별시 영등포구 당산로 123 영등포구청 (당산동3가)</td>\n",
              "      <td>19</td>\n",
              "      <td>111231</td>\n",
              "    </tr>\n",
              "    <tr>\n",
              "      <th>19</th>\n",
              "      <td>120</td>\n",
              "      <td>동작구</td>\n",
              "      <td>서울 동작구 사당로16아길 6 사당4동 주민센터</td>\n",
              "      <td>20</td>\n",
              "      <td>111241</td>\n",
              "    </tr>\n",
              "    <tr>\n",
              "      <th>20</th>\n",
              "      <td>121</td>\n",
              "      <td>관악구</td>\n",
              "      <td>서울 관악구 신림동길 14 신림동 주민센터</td>\n",
              "      <td>21</td>\n",
              "      <td>111251</td>\n",
              "    </tr>\n",
              "    <tr>\n",
              "      <th>21</th>\n",
              "      <td>122</td>\n",
              "      <td>서초구</td>\n",
              "      <td>서울 서초구 신반포로15길 16 반포 2동 주민센터</td>\n",
              "      <td>22</td>\n",
              "      <td>111262</td>\n",
              "    </tr>\n",
              "    <tr>\n",
              "      <th>22</th>\n",
              "      <td>123</td>\n",
              "      <td>강남구</td>\n",
              "      <td>서울 강남구 학동로 426 강남구청 별관 1동</td>\n",
              "      <td>23</td>\n",
              "      <td>111261</td>\n",
              "    </tr>\n",
              "    <tr>\n",
              "      <th>23</th>\n",
              "      <td>124</td>\n",
              "      <td>송파구</td>\n",
              "      <td>서울 송파구 백제고분로 236 삼전동 주민센터 (삼전동)</td>\n",
              "      <td>24</td>\n",
              "      <td>111273</td>\n",
              "    </tr>\n",
              "    <tr>\n",
              "      <th>24</th>\n",
              "      <td>125</td>\n",
              "      <td>강동구</td>\n",
              "      <td>서울 강동구 구천면로 42길 59 천호1동 주민센터</td>\n",
              "      <td>25</td>\n",
              "      <td>111274</td>\n",
              "    </tr>\n",
              "  </tbody>\n",
              "</table>\n",
              "</div>"
            ],
            "text/plain": [
              "    측정소 코드 측정소 이름                                         측정소 주소  표시 순서    공인코드\n",
              "0      101    종로구                  서울 종로구 종로35가길 19 종로56가 동 주민센터      1  111123\n",
              "1      102     중구                       서울 중구 덕수궁길 15 시청서소문별관 3동      2  111121\n",
              "2      103    용산구                   서울 용산구 한남대로 136 서울특별시중부기술교육원      3  111131\n",
              "3      104    은평구              서울 은평구 진흥로 215 (한국환경산업기술원 온실동2층 )      4  111181\n",
              "4      105   서대문구                  서울 서대문구 세검정로4길 32(홍제3동 주민센터)       5  111191\n",
              "5      106    마포구                   서울 마포구 포은로 6길 10 망원1동주민센터 옥상      6  111201\n",
              "6      107    성동구                     서울 성동구 뚝섬로3길 18 성수1가1동주민센터      7  111142\n",
              "7      108    광진구                  서울특별시 광진구 광나루로 571 구의 아리수정수센터      8  111141\n",
              "8      109   동대문구                      서울 동대문구 천호대로13길 43 용두초등학교      9  111152\n",
              "9      110    중랑구                       서울 중랑구 용마산로 369 건강가정지원센터     10  111151\n",
              "10     111    성북구                      서울 성북구 삼양로2길 70 길음2동 주민센터     11  111161\n",
              "11     112    강북구                    서울 강북구 삼양로 139길 49 우이동 주민센터     12  111291\n",
              "12     113    도봉구                    서울 도봉구 시루봉로2길 34 쌍문동청소년문화의집     13  111171\n",
              "13     114    노원구  서울 노원구 상계로 118 상계2동 주민센터 (23길 17 노원구 원터행복발전소)     14  111311\n",
              "14     115    양천구                     서울 양천구 중앙로52길 56 신정4동 문화센터     15  111301\n",
              "15     116    강서구             서울 강서구 강서로 45 다길 71 화곡3동 푸른들청소년도서관     16  111212\n",
              "16     117    구로구                      서울 구로구 가마산로 27길 45 구로고등학교     17  111221\n",
              "17     118    금천구                     서울 금천구 금하로21길 20 시흥5동 주민센터     18  111281\n",
              "18     119   영등포구               서울특별시 영등포구 당산로 123 영등포구청 (당산동3가)     19  111231\n",
              "19     120    동작구                     서울 동작구 사당로16아길 6 사당4동 주민센터     20  111241\n",
              "20     121    관악구                        서울 관악구 신림동길 14 신림동 주민센터     21  111251\n",
              "21     122    서초구                   서울 서초구 신반포로15길 16 반포 2동 주민센터     22  111262\n",
              "22     123    강남구                      서울 강남구 학동로 426 강남구청 별관 1동     23  111261\n",
              "23     124    송파구                서울 송파구 백제고분로 236 삼전동 주민센터 (삼전동)     24  111273\n",
              "24     125    강동구                   서울 강동구 구천면로 42길 59 천호1동 주민센터     25  111274"
            ]
          },
          "metadata": {
            "tags": []
          },
          "execution_count": 32
        }
      ]
    },
    {
      "cell_type": "code",
      "metadata": {
        "id": "12SRXb-x51n8"
      },
      "source": [
        "dust_info['측정소 이름'].unique()\n",
        "dust_info=dust_info[dust_info['측정소 이름']=='서초구']"
      ],
      "execution_count": 33,
      "outputs": []
    },
    {
      "cell_type": "code",
      "metadata": {
        "id": "XfCqv2sX6Afz"
      },
      "source": [
        "#필요한 column만 추출\n",
        "dust_info= dust_info[['측정소 코드','측정소 이름']]"
      ],
      "execution_count": 34,
      "outputs": []
    },
    {
      "cell_type": "code",
      "metadata": {
        "colab": {
          "base_uri": "https://localhost:8080/",
          "height": 78
        },
        "id": "Hx2ICPTW6MZ1",
        "outputId": "dcebd2ed-6a49-4076-fc93-969a48349f67"
      },
      "source": [
        "dust_info"
      ],
      "execution_count": 35,
      "outputs": [
        {
          "output_type": "execute_result",
          "data": {
            "text/html": [
              "<div>\n",
              "<style scoped>\n",
              "    .dataframe tbody tr th:only-of-type {\n",
              "        vertical-align: middle;\n",
              "    }\n",
              "\n",
              "    .dataframe tbody tr th {\n",
              "        vertical-align: top;\n",
              "    }\n",
              "\n",
              "    .dataframe thead th {\n",
              "        text-align: right;\n",
              "    }\n",
              "</style>\n",
              "<table border=\"1\" class=\"dataframe\">\n",
              "  <thead>\n",
              "    <tr style=\"text-align: right;\">\n",
              "      <th></th>\n",
              "      <th>측정소 코드</th>\n",
              "      <th>측정소 이름</th>\n",
              "    </tr>\n",
              "  </thead>\n",
              "  <tbody>\n",
              "    <tr>\n",
              "      <th>21</th>\n",
              "      <td>122</td>\n",
              "      <td>서초구</td>\n",
              "    </tr>\n",
              "  </tbody>\n",
              "</table>\n",
              "</div>"
            ],
            "text/plain": [
              "    측정소 코드 측정소 이름\n",
              "21     122    서초구"
            ]
          },
          "metadata": {
            "tags": []
          },
          "execution_count": 35
        }
      ]
    },
    {
      "cell_type": "markdown",
      "metadata": {
        "id": "Hvvowv0I6Oe_"
      },
      "source": [
        "###  dust_info 랑 dust_df 랑 merge"
      ]
    },
    {
      "cell_type": "code",
      "metadata": {
        "id": "oLS4-Kl96RBf"
      },
      "source": [
        "merge_dust= pd.merge(dust_info, dust_df, how='inner',left_on='측정소 코드',right_on='측정소 코드')"
      ],
      "execution_count": 36,
      "outputs": []
    },
    {
      "cell_type": "code",
      "metadata": {
        "colab": {
          "base_uri": "https://localhost:8080/",
          "height": 408
        },
        "id": "NTnTXF2J6aF8",
        "outputId": "9ea19e46-8e21-41d0-bd1b-596415be85d0"
      },
      "source": [
        "merge_dust['측정소 이름'].unique() #서초구 데이터만 남은 것을 확인 할 수 있다\n",
        "merge_dust"
      ],
      "execution_count": 37,
      "outputs": [
        {
          "output_type": "execute_result",
          "data": {
            "text/html": [
              "<div>\n",
              "<style scoped>\n",
              "    .dataframe tbody tr th:only-of-type {\n",
              "        vertical-align: middle;\n",
              "    }\n",
              "\n",
              "    .dataframe tbody tr th {\n",
              "        vertical-align: top;\n",
              "    }\n",
              "\n",
              "    .dataframe thead th {\n",
              "        text-align: right;\n",
              "    }\n",
              "</style>\n",
              "<table border=\"1\" class=\"dataframe\">\n",
              "  <thead>\n",
              "    <tr style=\"text-align: right;\">\n",
              "      <th></th>\n",
              "      <th>측정소 코드</th>\n",
              "      <th>측정소 이름</th>\n",
              "      <th>측정일시</th>\n",
              "      <th>측정항목 코드</th>\n",
              "      <th>평균값</th>\n",
              "    </tr>\n",
              "  </thead>\n",
              "  <tbody>\n",
              "    <tr>\n",
              "      <th>0</th>\n",
              "      <td>122</td>\n",
              "      <td>서초구</td>\n",
              "      <td>20200131230000</td>\n",
              "      <td>5</td>\n",
              "      <td>0.400</td>\n",
              "    </tr>\n",
              "    <tr>\n",
              "      <th>1</th>\n",
              "      <td>122</td>\n",
              "      <td>서초구</td>\n",
              "      <td>20200131230000</td>\n",
              "      <td>6</td>\n",
              "      <td>0.028</td>\n",
              "    </tr>\n",
              "    <tr>\n",
              "      <th>2</th>\n",
              "      <td>122</td>\n",
              "      <td>서초구</td>\n",
              "      <td>20200131230000</td>\n",
              "      <td>8</td>\n",
              "      <td>49.000</td>\n",
              "    </tr>\n",
              "    <tr>\n",
              "      <th>3</th>\n",
              "      <td>122</td>\n",
              "      <td>서초구</td>\n",
              "      <td>20200131230000</td>\n",
              "      <td>9</td>\n",
              "      <td>34.000</td>\n",
              "    </tr>\n",
              "    <tr>\n",
              "      <th>4</th>\n",
              "      <td>122</td>\n",
              "      <td>서초구</td>\n",
              "      <td>20200131230000</td>\n",
              "      <td>3</td>\n",
              "      <td>0.034</td>\n",
              "    </tr>\n",
              "    <tr>\n",
              "      <th>...</th>\n",
              "      <td>...</td>\n",
              "      <td>...</td>\n",
              "      <td>...</td>\n",
              "      <td>...</td>\n",
              "      <td>...</td>\n",
              "    </tr>\n",
              "    <tr>\n",
              "      <th>52543</th>\n",
              "      <td>122</td>\n",
              "      <td>서초구</td>\n",
              "      <td>20201201000000</td>\n",
              "      <td>8</td>\n",
              "      <td>36.000</td>\n",
              "    </tr>\n",
              "    <tr>\n",
              "      <th>52544</th>\n",
              "      <td>122</td>\n",
              "      <td>서초구</td>\n",
              "      <td>20201201000000</td>\n",
              "      <td>3</td>\n",
              "      <td>0.017</td>\n",
              "    </tr>\n",
              "    <tr>\n",
              "      <th>52545</th>\n",
              "      <td>122</td>\n",
              "      <td>서초구</td>\n",
              "      <td>20201201000000</td>\n",
              "      <td>9</td>\n",
              "      <td>25.000</td>\n",
              "    </tr>\n",
              "    <tr>\n",
              "      <th>52546</th>\n",
              "      <td>122</td>\n",
              "      <td>서초구</td>\n",
              "      <td>20201201000000</td>\n",
              "      <td>5</td>\n",
              "      <td>0.500</td>\n",
              "    </tr>\n",
              "    <tr>\n",
              "      <th>52547</th>\n",
              "      <td>122</td>\n",
              "      <td>서초구</td>\n",
              "      <td>20201201000000</td>\n",
              "      <td>1</td>\n",
              "      <td>0.004</td>\n",
              "    </tr>\n",
              "  </tbody>\n",
              "</table>\n",
              "<p>52548 rows × 5 columns</p>\n",
              "</div>"
            ],
            "text/plain": [
              "       측정소 코드 측정소 이름            측정일시  측정항목 코드     평균값\n",
              "0         122    서초구  20200131230000        5   0.400\n",
              "1         122    서초구  20200131230000        6   0.028\n",
              "2         122    서초구  20200131230000        8  49.000\n",
              "3         122    서초구  20200131230000        9  34.000\n",
              "4         122    서초구  20200131230000        3   0.034\n",
              "...       ...    ...             ...      ...     ...\n",
              "52543     122    서초구  20201201000000        8  36.000\n",
              "52544     122    서초구  20201201000000        3   0.017\n",
              "52545     122    서초구  20201201000000        9  25.000\n",
              "52546     122    서초구  20201201000000        5   0.500\n",
              "52547     122    서초구  20201201000000        1   0.004\n",
              "\n",
              "[52548 rows x 5 columns]"
            ]
          },
          "metadata": {
            "tags": []
          },
          "execution_count": 37
        }
      ]
    },
    {
      "cell_type": "code",
      "metadata": {
        "colab": {
          "base_uri": "https://localhost:8080/"
        },
        "id": "e_oEOkKA6XAi",
        "outputId": "eafee76e-d55a-4a22-9aa9-026b5c32c23c"
      },
      "source": [
        "merge_dust['측정항목 코드'].unique() "
      ],
      "execution_count": 38,
      "outputs": [
        {
          "output_type": "execute_result",
          "data": {
            "text/plain": [
              "array([5, 6, 8, 9, 3, 1])"
            ]
          },
          "metadata": {
            "tags": []
          },
          "execution_count": 38
        }
      ]
    },
    {
      "cell_type": "markdown",
      "metadata": {
        "id": "8gZFhAHI6okR"
      },
      "source": [
        "### 미세먼지, 초미세먼지 행을 따로 column으로 빼서 merge \n",
        "\n",
        "측정항목 코드 8 = 미세먼지\n",
        "측정항목 코드 9 = 초미세먼지"
      ]
    },
    {
      "cell_type": "code",
      "metadata": {
        "id": "HRWhH9rt6z1l"
      },
      "source": [
        "merge_dust=merge_dust[(merge_dust['측정항목 코드']==8) | (merge_dust['측정항목 코드']==9)]"
      ],
      "execution_count": 39,
      "outputs": []
    },
    {
      "cell_type": "code",
      "metadata": {
        "id": "Kp0ip2Qa7CNg"
      },
      "source": [
        "dust_place=merge_dust[['측정소 코드','측정소 이름','측정일시']]\n",
        "dust_dust8=merge_dust[merge_dust['측정항목 코드']==8]\n",
        "dust_dust9=merge_dust[merge_dust['측정항목 코드']==9]"
      ],
      "execution_count": 40,
      "outputs": []
    },
    {
      "cell_type": "code",
      "metadata": {
        "colab": {
          "base_uri": "https://localhost:8080/",
          "height": 408
        },
        "id": "Yee5izio7TZ2",
        "outputId": "991d37c9-cb41-46f7-ddc5-4a742ebbc567"
      },
      "source": [
        "dust_dust8"
      ],
      "execution_count": 41,
      "outputs": [
        {
          "output_type": "execute_result",
          "data": {
            "text/html": [
              "<div>\n",
              "<style scoped>\n",
              "    .dataframe tbody tr th:only-of-type {\n",
              "        vertical-align: middle;\n",
              "    }\n",
              "\n",
              "    .dataframe tbody tr th {\n",
              "        vertical-align: top;\n",
              "    }\n",
              "\n",
              "    .dataframe thead th {\n",
              "        text-align: right;\n",
              "    }\n",
              "</style>\n",
              "<table border=\"1\" class=\"dataframe\">\n",
              "  <thead>\n",
              "    <tr style=\"text-align: right;\">\n",
              "      <th></th>\n",
              "      <th>측정소 코드</th>\n",
              "      <th>측정소 이름</th>\n",
              "      <th>측정일시</th>\n",
              "      <th>측정항목 코드</th>\n",
              "      <th>평균값</th>\n",
              "    </tr>\n",
              "  </thead>\n",
              "  <tbody>\n",
              "    <tr>\n",
              "      <th>2</th>\n",
              "      <td>122</td>\n",
              "      <td>서초구</td>\n",
              "      <td>20200131230000</td>\n",
              "      <td>8</td>\n",
              "      <td>49.0</td>\n",
              "    </tr>\n",
              "    <tr>\n",
              "      <th>10</th>\n",
              "      <td>122</td>\n",
              "      <td>서초구</td>\n",
              "      <td>20200131220000</td>\n",
              "      <td>8</td>\n",
              "      <td>49.0</td>\n",
              "    </tr>\n",
              "    <tr>\n",
              "      <th>13</th>\n",
              "      <td>122</td>\n",
              "      <td>서초구</td>\n",
              "      <td>20200131210000</td>\n",
              "      <td>8</td>\n",
              "      <td>47.0</td>\n",
              "    </tr>\n",
              "    <tr>\n",
              "      <th>22</th>\n",
              "      <td>122</td>\n",
              "      <td>서초구</td>\n",
              "      <td>20200131200000</td>\n",
              "      <td>8</td>\n",
              "      <td>47.0</td>\n",
              "    </tr>\n",
              "    <tr>\n",
              "      <th>27</th>\n",
              "      <td>122</td>\n",
              "      <td>서초구</td>\n",
              "      <td>20200131190000</td>\n",
              "      <td>8</td>\n",
              "      <td>48.0</td>\n",
              "    </tr>\n",
              "    <tr>\n",
              "      <th>...</th>\n",
              "      <td>...</td>\n",
              "      <td>...</td>\n",
              "      <td>...</td>\n",
              "      <td>...</td>\n",
              "      <td>...</td>\n",
              "    </tr>\n",
              "    <tr>\n",
              "      <th>52522</th>\n",
              "      <td>122</td>\n",
              "      <td>서초구</td>\n",
              "      <td>20201201040000</td>\n",
              "      <td>8</td>\n",
              "      <td>26.0</td>\n",
              "    </tr>\n",
              "    <tr>\n",
              "      <th>52528</th>\n",
              "      <td>122</td>\n",
              "      <td>서초구</td>\n",
              "      <td>20201201030000</td>\n",
              "      <td>8</td>\n",
              "      <td>30.0</td>\n",
              "    </tr>\n",
              "    <tr>\n",
              "      <th>52530</th>\n",
              "      <td>122</td>\n",
              "      <td>서초구</td>\n",
              "      <td>20201201020000</td>\n",
              "      <td>8</td>\n",
              "      <td>27.0</td>\n",
              "    </tr>\n",
              "    <tr>\n",
              "      <th>52541</th>\n",
              "      <td>122</td>\n",
              "      <td>서초구</td>\n",
              "      <td>20201201010000</td>\n",
              "      <td>8</td>\n",
              "      <td>34.0</td>\n",
              "    </tr>\n",
              "    <tr>\n",
              "      <th>52543</th>\n",
              "      <td>122</td>\n",
              "      <td>서초구</td>\n",
              "      <td>20201201000000</td>\n",
              "      <td>8</td>\n",
              "      <td>36.0</td>\n",
              "    </tr>\n",
              "  </tbody>\n",
              "</table>\n",
              "<p>8758 rows × 5 columns</p>\n",
              "</div>"
            ],
            "text/plain": [
              "       측정소 코드 측정소 이름            측정일시  측정항목 코드   평균값\n",
              "2         122    서초구  20200131230000        8  49.0\n",
              "10        122    서초구  20200131220000        8  49.0\n",
              "13        122    서초구  20200131210000        8  47.0\n",
              "22        122    서초구  20200131200000        8  47.0\n",
              "27        122    서초구  20200131190000        8  48.0\n",
              "...       ...    ...             ...      ...   ...\n",
              "52522     122    서초구  20201201040000        8  26.0\n",
              "52528     122    서초구  20201201030000        8  30.0\n",
              "52530     122    서초구  20201201020000        8  27.0\n",
              "52541     122    서초구  20201201010000        8  34.0\n",
              "52543     122    서초구  20201201000000        8  36.0\n",
              "\n",
              "[8758 rows x 5 columns]"
            ]
          },
          "metadata": {
            "tags": []
          },
          "execution_count": 41
        }
      ]
    },
    {
      "cell_type": "code",
      "metadata": {
        "colab": {
          "base_uri": "https://localhost:8080/",
          "height": 408
        },
        "id": "_9x7POrE7hmL",
        "outputId": "db58b56a-0854-49be-e924-1c646415d966"
      },
      "source": [
        "dust_place"
      ],
      "execution_count": 42,
      "outputs": [
        {
          "output_type": "execute_result",
          "data": {
            "text/html": [
              "<div>\n",
              "<style scoped>\n",
              "    .dataframe tbody tr th:only-of-type {\n",
              "        vertical-align: middle;\n",
              "    }\n",
              "\n",
              "    .dataframe tbody tr th {\n",
              "        vertical-align: top;\n",
              "    }\n",
              "\n",
              "    .dataframe thead th {\n",
              "        text-align: right;\n",
              "    }\n",
              "</style>\n",
              "<table border=\"1\" class=\"dataframe\">\n",
              "  <thead>\n",
              "    <tr style=\"text-align: right;\">\n",
              "      <th></th>\n",
              "      <th>측정소 코드</th>\n",
              "      <th>측정소 이름</th>\n",
              "      <th>측정일시</th>\n",
              "    </tr>\n",
              "  </thead>\n",
              "  <tbody>\n",
              "    <tr>\n",
              "      <th>2</th>\n",
              "      <td>122</td>\n",
              "      <td>서초구</td>\n",
              "      <td>20200131230000</td>\n",
              "    </tr>\n",
              "    <tr>\n",
              "      <th>3</th>\n",
              "      <td>122</td>\n",
              "      <td>서초구</td>\n",
              "      <td>20200131230000</td>\n",
              "    </tr>\n",
              "    <tr>\n",
              "      <th>10</th>\n",
              "      <td>122</td>\n",
              "      <td>서초구</td>\n",
              "      <td>20200131220000</td>\n",
              "    </tr>\n",
              "    <tr>\n",
              "      <th>11</th>\n",
              "      <td>122</td>\n",
              "      <td>서초구</td>\n",
              "      <td>20200131220000</td>\n",
              "    </tr>\n",
              "    <tr>\n",
              "      <th>12</th>\n",
              "      <td>122</td>\n",
              "      <td>서초구</td>\n",
              "      <td>20200131210000</td>\n",
              "    </tr>\n",
              "    <tr>\n",
              "      <th>...</th>\n",
              "      <td>...</td>\n",
              "      <td>...</td>\n",
              "      <td>...</td>\n",
              "    </tr>\n",
              "    <tr>\n",
              "      <th>52531</th>\n",
              "      <td>122</td>\n",
              "      <td>서초구</td>\n",
              "      <td>20201201020000</td>\n",
              "    </tr>\n",
              "    <tr>\n",
              "      <th>52540</th>\n",
              "      <td>122</td>\n",
              "      <td>서초구</td>\n",
              "      <td>20201201010000</td>\n",
              "    </tr>\n",
              "    <tr>\n",
              "      <th>52541</th>\n",
              "      <td>122</td>\n",
              "      <td>서초구</td>\n",
              "      <td>20201201010000</td>\n",
              "    </tr>\n",
              "    <tr>\n",
              "      <th>52543</th>\n",
              "      <td>122</td>\n",
              "      <td>서초구</td>\n",
              "      <td>20201201000000</td>\n",
              "    </tr>\n",
              "    <tr>\n",
              "      <th>52545</th>\n",
              "      <td>122</td>\n",
              "      <td>서초구</td>\n",
              "      <td>20201201000000</td>\n",
              "    </tr>\n",
              "  </tbody>\n",
              "</table>\n",
              "<p>17516 rows × 3 columns</p>\n",
              "</div>"
            ],
            "text/plain": [
              "       측정소 코드 측정소 이름            측정일시\n",
              "2         122    서초구  20200131230000\n",
              "3         122    서초구  20200131230000\n",
              "10        122    서초구  20200131220000\n",
              "11        122    서초구  20200131220000\n",
              "12        122    서초구  20200131210000\n",
              "...       ...    ...             ...\n",
              "52531     122    서초구  20201201020000\n",
              "52540     122    서초구  20201201010000\n",
              "52541     122    서초구  20201201010000\n",
              "52543     122    서초구  20201201000000\n",
              "52545     122    서초구  20201201000000\n",
              "\n",
              "[17516 rows x 3 columns]"
            ]
          },
          "metadata": {
            "tags": []
          },
          "execution_count": 42
        }
      ]
    },
    {
      "cell_type": "code",
      "metadata": {
        "colab": {
          "base_uri": "https://localhost:8080/"
        },
        "id": "J3cogmAi7aXf",
        "outputId": "2d5d7363-66bd-4376-e415-ff48abacfad2"
      },
      "source": [
        "dust_dust8.drop('측정항목 코드', axis=1, inplace=True)\n",
        "dust_dust9.drop('측정항목 코드',axis=1,inplace=True)"
      ],
      "execution_count": 43,
      "outputs": [
        {
          "output_type": "stream",
          "text": [
            "/usr/local/lib/python3.7/dist-packages/pandas/core/frame.py:4174: SettingWithCopyWarning: \n",
            "A value is trying to be set on a copy of a slice from a DataFrame\n",
            "\n",
            "See the caveats in the documentation: https://pandas.pydata.org/pandas-docs/stable/user_guide/indexing.html#returning-a-view-versus-a-copy\n",
            "  errors=errors,\n"
          ],
          "name": "stderr"
        }
      ]
    },
    {
      "cell_type": "code",
      "metadata": {
        "id": "psOtBY667bnT"
      },
      "source": [
        "#8,9를 제외한 중복값 다 제거\n",
        "dust_place=dust_place.drop_duplicates(keep='first')"
      ],
      "execution_count": 44,
      "outputs": []
    },
    {
      "cell_type": "code",
      "metadata": {
        "id": "6mk-yOvo7k0G"
      },
      "source": [
        "dust_dust8=dust_dust8.rename(columns={'평균값':'미세먼지 평균'})\n",
        "dust_dust9=dust_dust9.rename(columns={'평균값':'초미세먼지 평균'})"
      ],
      "execution_count": 45,
      "outputs": []
    },
    {
      "cell_type": "code",
      "metadata": {
        "id": "vyWkt3vU7oYK"
      },
      "source": [
        "#merge\n",
        "dust_final= pd.merge(left=dust_place, right=dust_dust8, how='inner',on=['측정소 코드','측정소 이름','측정일시'])\n",
        "dust_final= pd.merge(left=dust_final, right=dust_dust9, how='inner',on=['측정소 코드','측정소 이름','측정일시'])"
      ],
      "execution_count": 46,
      "outputs": []
    },
    {
      "cell_type": "code",
      "metadata": {
        "colab": {
          "base_uri": "https://localhost:8080/",
          "height": 200
        },
        "id": "JurQbBUX7rSb",
        "outputId": "92b9e9fa-5ad6-4e95-9c92-20190e56976c"
      },
      "source": [
        "dust_final.head()"
      ],
      "execution_count": 47,
      "outputs": [
        {
          "output_type": "execute_result",
          "data": {
            "text/html": [
              "<div>\n",
              "<style scoped>\n",
              "    .dataframe tbody tr th:only-of-type {\n",
              "        vertical-align: middle;\n",
              "    }\n",
              "\n",
              "    .dataframe tbody tr th {\n",
              "        vertical-align: top;\n",
              "    }\n",
              "\n",
              "    .dataframe thead th {\n",
              "        text-align: right;\n",
              "    }\n",
              "</style>\n",
              "<table border=\"1\" class=\"dataframe\">\n",
              "  <thead>\n",
              "    <tr style=\"text-align: right;\">\n",
              "      <th></th>\n",
              "      <th>측정소 코드</th>\n",
              "      <th>측정소 이름</th>\n",
              "      <th>측정일시</th>\n",
              "      <th>미세먼지 평균</th>\n",
              "      <th>초미세먼지 평균</th>\n",
              "    </tr>\n",
              "  </thead>\n",
              "  <tbody>\n",
              "    <tr>\n",
              "      <th>0</th>\n",
              "      <td>122</td>\n",
              "      <td>서초구</td>\n",
              "      <td>20200131230000</td>\n",
              "      <td>49.0</td>\n",
              "      <td>34.0</td>\n",
              "    </tr>\n",
              "    <tr>\n",
              "      <th>1</th>\n",
              "      <td>122</td>\n",
              "      <td>서초구</td>\n",
              "      <td>20200131220000</td>\n",
              "      <td>49.0</td>\n",
              "      <td>31.0</td>\n",
              "    </tr>\n",
              "    <tr>\n",
              "      <th>2</th>\n",
              "      <td>122</td>\n",
              "      <td>서초구</td>\n",
              "      <td>20200131210000</td>\n",
              "      <td>47.0</td>\n",
              "      <td>985.0</td>\n",
              "    </tr>\n",
              "    <tr>\n",
              "      <th>3</th>\n",
              "      <td>122</td>\n",
              "      <td>서초구</td>\n",
              "      <td>20200131200000</td>\n",
              "      <td>47.0</td>\n",
              "      <td>31.0</td>\n",
              "    </tr>\n",
              "    <tr>\n",
              "      <th>4</th>\n",
              "      <td>122</td>\n",
              "      <td>서초구</td>\n",
              "      <td>20200131190000</td>\n",
              "      <td>48.0</td>\n",
              "      <td>31.0</td>\n",
              "    </tr>\n",
              "  </tbody>\n",
              "</table>\n",
              "</div>"
            ],
            "text/plain": [
              "   측정소 코드 측정소 이름            측정일시  미세먼지 평균  초미세먼지 평균\n",
              "0     122    서초구  20200131230000     49.0      34.0\n",
              "1     122    서초구  20200131220000     49.0      31.0\n",
              "2     122    서초구  20200131210000     47.0     985.0\n",
              "3     122    서초구  20200131200000     47.0      31.0\n",
              "4     122    서초구  20200131190000     48.0      31.0"
            ]
          },
          "metadata": {
            "tags": []
          },
          "execution_count": 47
        }
      ]
    },
    {
      "cell_type": "markdown",
      "metadata": {
        "id": "AN2Nc6qB8iCZ"
      },
      "source": [
        "### 측정일시를 feature engineering\n",
        "year, month, day, hour 로 변형해서 위의 최종 데이터랑 병합 할 예정"
      ]
    },
    {
      "cell_type": "code",
      "metadata": {
        "id": "hku1z3_q7_s-"
      },
      "source": [
        "dust_final['측정일시']= dust_final['측정일시'].astype(str)"
      ],
      "execution_count": 48,
      "outputs": []
    },
    {
      "cell_type": "code",
      "metadata": {
        "id": "4akj0mjo72OQ"
      },
      "source": [
        "dust_final['year']=dust_final['측정일시'].str.slice(start=0, stop=4)\n",
        "dust_final['month']=dust_final['측정일시'].str.slice(start=4, stop=6)\n",
        "dust_final['day']=dust_final['측정일시'].str.slice(start=6, stop=8)\n",
        "dust_final['hour']=dust_final['측정일시'].str.slice(start=8, stop=10)\n",
        "\n",
        "dust_final.drop('측정일시',axis=1,inplace=True)\n",
        "dust_final.drop('측정소 코드', axis=1, inplace=True)"
      ],
      "execution_count": 49,
      "outputs": []
    },
    {
      "cell_type": "code",
      "metadata": {
        "id": "s19RI06D8HM8"
      },
      "source": [
        "dust_final['year']= dust_final['year'].astype(int)\n",
        "dust_final['month']= dust_final['month'].astype(int)\n",
        "dust_final['day']= dust_final['day'].astype(int)\n",
        "dust_final['hour']= dust_final['hour'].astype(int)"
      ],
      "execution_count": 50,
      "outputs": []
    },
    {
      "cell_type": "code",
      "metadata": {
        "colab": {
          "base_uri": "https://localhost:8080/",
          "height": 408
        },
        "id": "x8i7O1bu8rUb",
        "outputId": "0189a1d9-c2e2-4802-f10c-583ae8166d14"
      },
      "source": [
        "dust_final"
      ],
      "execution_count": 51,
      "outputs": [
        {
          "output_type": "execute_result",
          "data": {
            "text/html": [
              "<div>\n",
              "<style scoped>\n",
              "    .dataframe tbody tr th:only-of-type {\n",
              "        vertical-align: middle;\n",
              "    }\n",
              "\n",
              "    .dataframe tbody tr th {\n",
              "        vertical-align: top;\n",
              "    }\n",
              "\n",
              "    .dataframe thead th {\n",
              "        text-align: right;\n",
              "    }\n",
              "</style>\n",
              "<table border=\"1\" class=\"dataframe\">\n",
              "  <thead>\n",
              "    <tr style=\"text-align: right;\">\n",
              "      <th></th>\n",
              "      <th>측정소 이름</th>\n",
              "      <th>미세먼지 평균</th>\n",
              "      <th>초미세먼지 평균</th>\n",
              "      <th>year</th>\n",
              "      <th>month</th>\n",
              "      <th>day</th>\n",
              "      <th>hour</th>\n",
              "    </tr>\n",
              "  </thead>\n",
              "  <tbody>\n",
              "    <tr>\n",
              "      <th>0</th>\n",
              "      <td>서초구</td>\n",
              "      <td>49.0</td>\n",
              "      <td>34.0</td>\n",
              "      <td>2020</td>\n",
              "      <td>1</td>\n",
              "      <td>31</td>\n",
              "      <td>23</td>\n",
              "    </tr>\n",
              "    <tr>\n",
              "      <th>1</th>\n",
              "      <td>서초구</td>\n",
              "      <td>49.0</td>\n",
              "      <td>31.0</td>\n",
              "      <td>2020</td>\n",
              "      <td>1</td>\n",
              "      <td>31</td>\n",
              "      <td>22</td>\n",
              "    </tr>\n",
              "    <tr>\n",
              "      <th>2</th>\n",
              "      <td>서초구</td>\n",
              "      <td>47.0</td>\n",
              "      <td>985.0</td>\n",
              "      <td>2020</td>\n",
              "      <td>1</td>\n",
              "      <td>31</td>\n",
              "      <td>21</td>\n",
              "    </tr>\n",
              "    <tr>\n",
              "      <th>3</th>\n",
              "      <td>서초구</td>\n",
              "      <td>47.0</td>\n",
              "      <td>31.0</td>\n",
              "      <td>2020</td>\n",
              "      <td>1</td>\n",
              "      <td>31</td>\n",
              "      <td>20</td>\n",
              "    </tr>\n",
              "    <tr>\n",
              "      <th>4</th>\n",
              "      <td>서초구</td>\n",
              "      <td>48.0</td>\n",
              "      <td>31.0</td>\n",
              "      <td>2020</td>\n",
              "      <td>1</td>\n",
              "      <td>31</td>\n",
              "      <td>19</td>\n",
              "    </tr>\n",
              "    <tr>\n",
              "      <th>...</th>\n",
              "      <td>...</td>\n",
              "      <td>...</td>\n",
              "      <td>...</td>\n",
              "      <td>...</td>\n",
              "      <td>...</td>\n",
              "      <td>...</td>\n",
              "      <td>...</td>\n",
              "    </tr>\n",
              "    <tr>\n",
              "      <th>8753</th>\n",
              "      <td>서초구</td>\n",
              "      <td>26.0</td>\n",
              "      <td>17.0</td>\n",
              "      <td>2020</td>\n",
              "      <td>12</td>\n",
              "      <td>1</td>\n",
              "      <td>4</td>\n",
              "    </tr>\n",
              "    <tr>\n",
              "      <th>8754</th>\n",
              "      <td>서초구</td>\n",
              "      <td>30.0</td>\n",
              "      <td>18.0</td>\n",
              "      <td>2020</td>\n",
              "      <td>12</td>\n",
              "      <td>1</td>\n",
              "      <td>3</td>\n",
              "    </tr>\n",
              "    <tr>\n",
              "      <th>8755</th>\n",
              "      <td>서초구</td>\n",
              "      <td>27.0</td>\n",
              "      <td>16.0</td>\n",
              "      <td>2020</td>\n",
              "      <td>12</td>\n",
              "      <td>1</td>\n",
              "      <td>2</td>\n",
              "    </tr>\n",
              "    <tr>\n",
              "      <th>8756</th>\n",
              "      <td>서초구</td>\n",
              "      <td>34.0</td>\n",
              "      <td>20.0</td>\n",
              "      <td>2020</td>\n",
              "      <td>12</td>\n",
              "      <td>1</td>\n",
              "      <td>1</td>\n",
              "    </tr>\n",
              "    <tr>\n",
              "      <th>8757</th>\n",
              "      <td>서초구</td>\n",
              "      <td>36.0</td>\n",
              "      <td>25.0</td>\n",
              "      <td>2020</td>\n",
              "      <td>12</td>\n",
              "      <td>1</td>\n",
              "      <td>0</td>\n",
              "    </tr>\n",
              "  </tbody>\n",
              "</table>\n",
              "<p>8758 rows × 7 columns</p>\n",
              "</div>"
            ],
            "text/plain": [
              "     측정소 이름  미세먼지 평균  초미세먼지 평균  year  month  day  hour\n",
              "0       서초구     49.0      34.0  2020      1   31    23\n",
              "1       서초구     49.0      31.0  2020      1   31    22\n",
              "2       서초구     47.0     985.0  2020      1   31    21\n",
              "3       서초구     47.0      31.0  2020      1   31    20\n",
              "4       서초구     48.0      31.0  2020      1   31    19\n",
              "...     ...      ...       ...   ...    ...  ...   ...\n",
              "8753    서초구     26.0      17.0  2020     12    1     4\n",
              "8754    서초구     30.0      18.0  2020     12    1     3\n",
              "8755    서초구     27.0      16.0  2020     12    1     2\n",
              "8756    서초구     34.0      20.0  2020     12    1     1\n",
              "8757    서초구     36.0      25.0  2020     12    1     0\n",
              "\n",
              "[8758 rows x 7 columns]"
            ]
          },
          "metadata": {
            "tags": []
          },
          "execution_count": 51
        }
      ]
    },
    {
      "cell_type": "markdown",
      "metadata": {
        "id": "kLB2IsEH9Jpn"
      },
      "source": [
        "## 서초구 날씨 데이터\n",
        "\n",
        "강수, 기온, 습도, 풍속 데이터를 불러옴"
      ]
    },
    {
      "cell_type": "code",
      "metadata": {
        "id": "grSS333oBMoa"
      },
      "source": [
        "df_rain= pd.read_csv('/content/drive/MyDrive/따릉이 project/기상청/서초4동_강수_202001_202012.csv',encoding='cp949')\n",
        "df_temp= pd.read_csv('/content/drive/MyDrive/따릉이 project/기상청/서초4동_기온_202001_202012.csv',encoding='cp949')\n",
        "df_hum= pd.read_csv('/content/drive/MyDrive/따릉이 project/기상청/서초4동_습도_202001_202012.csv',encoding='cp949')\n",
        "df_wind= pd.read_csv('/content/drive/MyDrive/따릉이 project/기상청/서초4동_풍속_202001_202012.csv',encoding='cp949')"
      ],
      "execution_count": 52,
      "outputs": []
    },
    {
      "cell_type": "code",
      "metadata": {
        "colab": {
          "base_uri": "https://localhost:8080/"
        },
        "id": "rJSLviFEBm6U",
        "outputId": "921aa488-8055-401e-a983-e09e2d41ceca"
      },
      "source": [
        "df_rain.columns"
      ],
      "execution_count": 53,
      "outputs": [
        {
          "output_type": "execute_result",
          "data": {
            "text/plain": [
              "Index(['date', 'hour', 'value', 'month'], dtype='object')"
            ]
          },
          "metadata": {
            "tags": []
          },
          "execution_count": 53
        }
      ]
    },
    {
      "cell_type": "code",
      "metadata": {
        "id": "ENAghtmOBtVr"
      },
      "source": [
        "# df_rain[' format: day']\n",
        "# df_rain['value location:61_125 Start : 20200101 ']\n",
        "df_rain= df_rain.rename(columns= {' format: day': 'date','value location:61_125 Start : 20200101 ': 'val' })\n",
        "df_temp= df_temp.rename(columns= {' format: day': 'date','value location:61_125 Start : 20200101 ': 'val' })\n",
        "df_hum= df_hum.rename(columns= {' format: day': 'date','value location:61_125 Start : 20200101 ': 'val' })\n",
        "df_wind= df_wind.rename(columns= {' format: day': 'date','value location:61_125 Start : 20200101 ': 'val' })"
      ],
      "execution_count": 54,
      "outputs": []
    },
    {
      "cell_type": "markdown",
      "metadata": {
        "id": "sD8PP0w7EDI5"
      },
      "source": [
        "![image.png](data:image/png;base64,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)\n",
        "\n",
        "na값이 있는 이유와 na값 처리"
      ]
    },
    {
      "cell_type": "code",
      "metadata": {
        "colab": {
          "base_uri": "https://localhost:8080/"
        },
        "id": "GnEvBgRqDIKr",
        "outputId": "37d7af6b-94c0-4125-912e-2a7ea474432c"
      },
      "source": [
        "df_rain.isna().sum()"
      ],
      "execution_count": 55,
      "outputs": [
        {
          "output_type": "execute_result",
          "data": {
            "text/plain": [
              "date      0\n",
              "hour     11\n",
              "value    11\n",
              "month    11\n",
              "dtype: int64"
            ]
          },
          "metadata": {
            "tags": []
          },
          "execution_count": 55
        }
      ]
    },
    {
      "cell_type": "code",
      "metadata": {
        "colab": {
          "base_uri": "https://localhost:8080/",
          "height": 381
        },
        "id": "2b8HrEmDDiDN",
        "outputId": "07b3d42c-1433-44be-cd21-befb11407206"
      },
      "source": [
        "df_rain[df_rain.hour.isna()]"
      ],
      "execution_count": 56,
      "outputs": [
        {
          "output_type": "execute_result",
          "data": {
            "text/html": [
              "<div>\n",
              "<style scoped>\n",
              "    .dataframe tbody tr th:only-of-type {\n",
              "        vertical-align: middle;\n",
              "    }\n",
              "\n",
              "    .dataframe tbody tr th {\n",
              "        vertical-align: top;\n",
              "    }\n",
              "\n",
              "    .dataframe thead th {\n",
              "        text-align: right;\n",
              "    }\n",
              "</style>\n",
              "<table border=\"1\" class=\"dataframe\">\n",
              "  <thead>\n",
              "    <tr style=\"text-align: right;\">\n",
              "      <th></th>\n",
              "      <th>date</th>\n",
              "      <th>hour</th>\n",
              "      <th>value</th>\n",
              "      <th>month</th>\n",
              "    </tr>\n",
              "  </thead>\n",
              "  <tbody>\n",
              "    <tr>\n",
              "      <th>744</th>\n",
              "      <td>Start : 20200201</td>\n",
              "      <td>NaN</td>\n",
              "      <td>NaN</td>\n",
              "      <td>NaN</td>\n",
              "    </tr>\n",
              "    <tr>\n",
              "      <th>1441</th>\n",
              "      <td>Start : 20200301</td>\n",
              "      <td>NaN</td>\n",
              "      <td>NaN</td>\n",
              "      <td>NaN</td>\n",
              "    </tr>\n",
              "    <tr>\n",
              "      <th>2186</th>\n",
              "      <td>Start : 20200401</td>\n",
              "      <td>NaN</td>\n",
              "      <td>NaN</td>\n",
              "      <td>NaN</td>\n",
              "    </tr>\n",
              "    <tr>\n",
              "      <th>2907</th>\n",
              "      <td>Start : 20200501</td>\n",
              "      <td>NaN</td>\n",
              "      <td>NaN</td>\n",
              "      <td>NaN</td>\n",
              "    </tr>\n",
              "    <tr>\n",
              "      <th>3652</th>\n",
              "      <td>Start : 20200601</td>\n",
              "      <td>NaN</td>\n",
              "      <td>NaN</td>\n",
              "      <td>NaN</td>\n",
              "    </tr>\n",
              "    <tr>\n",
              "      <th>4373</th>\n",
              "      <td>Start : 20200701</td>\n",
              "      <td>NaN</td>\n",
              "      <td>NaN</td>\n",
              "      <td>NaN</td>\n",
              "    </tr>\n",
              "    <tr>\n",
              "      <th>5118</th>\n",
              "      <td>Start : 20200801</td>\n",
              "      <td>NaN</td>\n",
              "      <td>NaN</td>\n",
              "      <td>NaN</td>\n",
              "    </tr>\n",
              "    <tr>\n",
              "      <th>5863</th>\n",
              "      <td>Start : 20200901</td>\n",
              "      <td>NaN</td>\n",
              "      <td>NaN</td>\n",
              "      <td>NaN</td>\n",
              "    </tr>\n",
              "    <tr>\n",
              "      <th>6584</th>\n",
              "      <td>Start : 20201001</td>\n",
              "      <td>NaN</td>\n",
              "      <td>NaN</td>\n",
              "      <td>NaN</td>\n",
              "    </tr>\n",
              "    <tr>\n",
              "      <th>7329</th>\n",
              "      <td>Start : 20201101</td>\n",
              "      <td>NaN</td>\n",
              "      <td>NaN</td>\n",
              "      <td>NaN</td>\n",
              "    </tr>\n",
              "    <tr>\n",
              "      <th>8050</th>\n",
              "      <td>Start : 20201201</td>\n",
              "      <td>NaN</td>\n",
              "      <td>NaN</td>\n",
              "      <td>NaN</td>\n",
              "    </tr>\n",
              "  </tbody>\n",
              "</table>\n",
              "</div>"
            ],
            "text/plain": [
              "                    date  hour  value  month\n",
              "744    Start : 20200201    NaN    NaN    NaN\n",
              "1441   Start : 20200301    NaN    NaN    NaN\n",
              "2186   Start : 20200401    NaN    NaN    NaN\n",
              "2907   Start : 20200501    NaN    NaN    NaN\n",
              "3652   Start : 20200601    NaN    NaN    NaN\n",
              "4373   Start : 20200701    NaN    NaN    NaN\n",
              "5118   Start : 20200801    NaN    NaN    NaN\n",
              "5863   Start : 20200901    NaN    NaN    NaN\n",
              "6584   Start : 20201001    NaN    NaN    NaN\n",
              "7329   Start : 20201101    NaN    NaN    NaN\n",
              "8050   Start : 20201201    NaN    NaN    NaN"
            ]
          },
          "metadata": {
            "tags": []
          },
          "execution_count": 56
        }
      ]
    },
    {
      "cell_type": "code",
      "metadata": {
        "id": "0lcLtfW0ETK1"
      },
      "source": [
        "#dropping the na val\n",
        "df_rain.dropna(inplace=True)\n",
        "df_temp.dropna(inplace=True)\n",
        "df_hum.dropna(inplace=True)\n",
        "df_wind.dropna(inplace=True)"
      ],
      "execution_count": 57,
      "outputs": []
    },
    {
      "cell_type": "code",
      "metadata": {
        "id": "PjGMJzhAJdt5"
      },
      "source": [
        "def to_int(df, col):\n",
        "  df[col]= df[col].astype(int)\n",
        "#hour\n",
        "to_int(df_rain,'hour')\n",
        "to_int(df_rain,'month')\n",
        "#temp\n",
        "to_int(df_temp,'hour')\n",
        "to_int(df_temp,'month')\n",
        "#hum\n",
        "to_int(df_hum,'hour')\n",
        "to_int(df_hum,'month')\n",
        "#wind\n",
        "to_int(df_wind,'hour')\n",
        "to_int(df_wind,'month')"
      ],
      "execution_count": 58,
      "outputs": []
    },
    {
      "cell_type": "code",
      "metadata": {
        "colab": {
          "base_uri": "https://localhost:8080/",
          "height": 408
        },
        "id": "-M9PPnYWMckE",
        "outputId": "3664d7fd-7d7f-4c7d-9b61-14b89bbec3cb"
      },
      "source": [
        "df_rain"
      ],
      "execution_count": 59,
      "outputs": [
        {
          "output_type": "execute_result",
          "data": {
            "text/html": [
              "<div>\n",
              "<style scoped>\n",
              "    .dataframe tbody tr th:only-of-type {\n",
              "        vertical-align: middle;\n",
              "    }\n",
              "\n",
              "    .dataframe tbody tr th {\n",
              "        vertical-align: top;\n",
              "    }\n",
              "\n",
              "    .dataframe thead th {\n",
              "        text-align: right;\n",
              "    }\n",
              "</style>\n",
              "<table border=\"1\" class=\"dataframe\">\n",
              "  <thead>\n",
              "    <tr style=\"text-align: right;\">\n",
              "      <th></th>\n",
              "      <th>date</th>\n",
              "      <th>hour</th>\n",
              "      <th>value</th>\n",
              "      <th>month</th>\n",
              "    </tr>\n",
              "  </thead>\n",
              "  <tbody>\n",
              "    <tr>\n",
              "      <th>0</th>\n",
              "      <td>1</td>\n",
              "      <td>0</td>\n",
              "      <td>0.0</td>\n",
              "      <td>1</td>\n",
              "    </tr>\n",
              "    <tr>\n",
              "      <th>1</th>\n",
              "      <td>1</td>\n",
              "      <td>100</td>\n",
              "      <td>0.0</td>\n",
              "      <td>1</td>\n",
              "    </tr>\n",
              "    <tr>\n",
              "      <th>2</th>\n",
              "      <td>1</td>\n",
              "      <td>200</td>\n",
              "      <td>0.0</td>\n",
              "      <td>1</td>\n",
              "    </tr>\n",
              "    <tr>\n",
              "      <th>3</th>\n",
              "      <td>1</td>\n",
              "      <td>300</td>\n",
              "      <td>0.0</td>\n",
              "      <td>1</td>\n",
              "    </tr>\n",
              "    <tr>\n",
              "      <th>4</th>\n",
              "      <td>1</td>\n",
              "      <td>400</td>\n",
              "      <td>0.0</td>\n",
              "      <td>1</td>\n",
              "    </tr>\n",
              "    <tr>\n",
              "      <th>...</th>\n",
              "      <td>...</td>\n",
              "      <td>...</td>\n",
              "      <td>...</td>\n",
              "      <td>...</td>\n",
              "    </tr>\n",
              "    <tr>\n",
              "      <th>8790</th>\n",
              "      <td>31</td>\n",
              "      <td>1900</td>\n",
              "      <td>0.0</td>\n",
              "      <td>12</td>\n",
              "    </tr>\n",
              "    <tr>\n",
              "      <th>8791</th>\n",
              "      <td>31</td>\n",
              "      <td>2000</td>\n",
              "      <td>0.0</td>\n",
              "      <td>12</td>\n",
              "    </tr>\n",
              "    <tr>\n",
              "      <th>8792</th>\n",
              "      <td>31</td>\n",
              "      <td>2100</td>\n",
              "      <td>0.0</td>\n",
              "      <td>12</td>\n",
              "    </tr>\n",
              "    <tr>\n",
              "      <th>8793</th>\n",
              "      <td>31</td>\n",
              "      <td>2200</td>\n",
              "      <td>0.0</td>\n",
              "      <td>12</td>\n",
              "    </tr>\n",
              "    <tr>\n",
              "      <th>8794</th>\n",
              "      <td>31</td>\n",
              "      <td>2300</td>\n",
              "      <td>0.0</td>\n",
              "      <td>12</td>\n",
              "    </tr>\n",
              "  </tbody>\n",
              "</table>\n",
              "<p>8784 rows × 4 columns</p>\n",
              "</div>"
            ],
            "text/plain": [
              "     date  hour  value  month\n",
              "0       1     0    0.0      1\n",
              "1       1   100    0.0      1\n",
              "2       1   200    0.0      1\n",
              "3       1   300    0.0      1\n",
              "4       1   400    0.0      1\n",
              "...   ...   ...    ...    ...\n",
              "8790   31  1900    0.0     12\n",
              "8791   31  2000    0.0     12\n",
              "8792   31  2100    0.0     12\n",
              "8793   31  2200    0.0     12\n",
              "8794   31  2300    0.0     12\n",
              "\n",
              "[8784 rows x 4 columns]"
            ]
          },
          "metadata": {
            "tags": []
          },
          "execution_count": 59
        }
      ]
    },
    {
      "cell_type": "code",
      "metadata": {
        "id": "1nmKfHjnL7cd"
      },
      "source": [
        "def replaced(df):\n",
        "  df['hour'].replace({0:0,100:1,200:2,300:3,400:4,500:5,600:6,700:7,800:8,900:9,1000:10,1100:11,1200:12,\n",
        "                      1300:13,1400:14,1500:15,1600:16,1700:17,1800:18,1900:19,2000:20,2100:21,2200:22,2300:23},inplace=True)\n",
        "\n",
        "replaced(df_rain)\n",
        "replaced(df_temp)\n",
        "replaced(df_hum)\n",
        "replaced(df_wind)"
      ],
      "execution_count": 60,
      "outputs": []
    },
    {
      "cell_type": "code",
      "metadata": {
        "colab": {
          "base_uri": "https://localhost:8080/"
        },
        "id": "UypfmeASM-H4",
        "outputId": "f04980af-ffae-4b21-de1e-90456f0b28ce"
      },
      "source": [
        "df_wind.hour.unique()"
      ],
      "execution_count": 61,
      "outputs": [
        {
          "output_type": "execute_result",
          "data": {
            "text/plain": [
              "array([ 0,  1,  2,  3,  4,  5,  6,  7,  8,  9, 10, 11, 12, 13, 14, 15, 16,\n",
              "       17, 18, 19, 20, 21, 22, 23])"
            ]
          },
          "metadata": {
            "tags": []
          },
          "execution_count": 61
        }
      ]
    },
    {
      "cell_type": "markdown",
      "metadata": {
        "id": "psXRmpG_Or_1"
      },
      "source": [
        "### Rename columns then Merge all of them into weather data"
      ]
    },
    {
      "cell_type": "code",
      "metadata": {
        "id": "6pwCMdfjNSW3"
      },
      "source": [
        "df_rain= df_rain.rename(columns= {'value': 'rainval'})\n",
        "df_temp= df_temp.rename(columns= {'value': 'tempval'})\n",
        "df_hum= df_hum.rename(columns= {'value': 'humval' })\n",
        "df_wind= df_wind.rename(columns= {'value': 'windval' })"
      ],
      "execution_count": 62,
      "outputs": []
    },
    {
      "cell_type": "code",
      "metadata": {
        "colab": {
          "base_uri": "https://localhost:8080/",
          "height": 408
        },
        "id": "21O_pwYLN3uw",
        "outputId": "7aa9c241-c528-4d83-e160-44e8239758a8"
      },
      "source": [
        "df_wind"
      ],
      "execution_count": 63,
      "outputs": [
        {
          "output_type": "execute_result",
          "data": {
            "text/html": [
              "<div>\n",
              "<style scoped>\n",
              "    .dataframe tbody tr th:only-of-type {\n",
              "        vertical-align: middle;\n",
              "    }\n",
              "\n",
              "    .dataframe tbody tr th {\n",
              "        vertical-align: top;\n",
              "    }\n",
              "\n",
              "    .dataframe thead th {\n",
              "        text-align: right;\n",
              "    }\n",
              "</style>\n",
              "<table border=\"1\" class=\"dataframe\">\n",
              "  <thead>\n",
              "    <tr style=\"text-align: right;\">\n",
              "      <th></th>\n",
              "      <th>date</th>\n",
              "      <th>hour</th>\n",
              "      <th>windval</th>\n",
              "      <th>month</th>\n",
              "    </tr>\n",
              "  </thead>\n",
              "  <tbody>\n",
              "    <tr>\n",
              "      <th>0</th>\n",
              "      <td>1</td>\n",
              "      <td>0</td>\n",
              "      <td>1.4</td>\n",
              "      <td>1</td>\n",
              "    </tr>\n",
              "    <tr>\n",
              "      <th>1</th>\n",
              "      <td>1</td>\n",
              "      <td>1</td>\n",
              "      <td>1.1</td>\n",
              "      <td>1</td>\n",
              "    </tr>\n",
              "    <tr>\n",
              "      <th>2</th>\n",
              "      <td>1</td>\n",
              "      <td>2</td>\n",
              "      <td>1.4</td>\n",
              "      <td>1</td>\n",
              "    </tr>\n",
              "    <tr>\n",
              "      <th>3</th>\n",
              "      <td>1</td>\n",
              "      <td>3</td>\n",
              "      <td>0.9</td>\n",
              "      <td>1</td>\n",
              "    </tr>\n",
              "    <tr>\n",
              "      <th>4</th>\n",
              "      <td>1</td>\n",
              "      <td>4</td>\n",
              "      <td>0.9</td>\n",
              "      <td>1</td>\n",
              "    </tr>\n",
              "    <tr>\n",
              "      <th>...</th>\n",
              "      <td>...</td>\n",
              "      <td>...</td>\n",
              "      <td>...</td>\n",
              "      <td>...</td>\n",
              "    </tr>\n",
              "    <tr>\n",
              "      <th>8790</th>\n",
              "      <td>31</td>\n",
              "      <td>19</td>\n",
              "      <td>0.8</td>\n",
              "      <td>12</td>\n",
              "    </tr>\n",
              "    <tr>\n",
              "      <th>8791</th>\n",
              "      <td>31</td>\n",
              "      <td>20</td>\n",
              "      <td>0.9</td>\n",
              "      <td>12</td>\n",
              "    </tr>\n",
              "    <tr>\n",
              "      <th>8792</th>\n",
              "      <td>31</td>\n",
              "      <td>21</td>\n",
              "      <td>0.6</td>\n",
              "      <td>12</td>\n",
              "    </tr>\n",
              "    <tr>\n",
              "      <th>8793</th>\n",
              "      <td>31</td>\n",
              "      <td>22</td>\n",
              "      <td>0.7</td>\n",
              "      <td>12</td>\n",
              "    </tr>\n",
              "    <tr>\n",
              "      <th>8794</th>\n",
              "      <td>31</td>\n",
              "      <td>23</td>\n",
              "      <td>0.8</td>\n",
              "      <td>12</td>\n",
              "    </tr>\n",
              "  </tbody>\n",
              "</table>\n",
              "<p>8784 rows × 4 columns</p>\n",
              "</div>"
            ],
            "text/plain": [
              "     date  hour  windval  month\n",
              "0       1     0      1.4      1\n",
              "1       1     1      1.1      1\n",
              "2       1     2      1.4      1\n",
              "3       1     3      0.9      1\n",
              "4       1     4      0.9      1\n",
              "...   ...   ...      ...    ...\n",
              "8790   31    19      0.8     12\n",
              "8791   31    20      0.9     12\n",
              "8792   31    21      0.6     12\n",
              "8793   31    22      0.7     12\n",
              "8794   31    23      0.8     12\n",
              "\n",
              "[8784 rows x 4 columns]"
            ]
          },
          "metadata": {
            "tags": []
          },
          "execution_count": 63
        }
      ]
    },
    {
      "cell_type": "code",
      "metadata": {
        "id": "2zMxwn2ON-Vq"
      },
      "source": [
        "merge_weather1= pd.merge(df_rain, df_temp, how='inner',on=['month','date','hour'])\n",
        "merge_weather2= pd.merge(df_hum, df_wind, how='inner',on=['month','date','hour'])"
      ],
      "execution_count": 64,
      "outputs": []
    },
    {
      "cell_type": "code",
      "metadata": {
        "id": "u_msVYB4Oc8Z"
      },
      "source": [
        "weather= pd.merge(merge_weather1, merge_weather2, how='inner',on=['month','date','hour'])"
      ],
      "execution_count": 65,
      "outputs": []
    },
    {
      "cell_type": "code",
      "metadata": {
        "id": "C5EP9hLeWUWp"
      },
      "source": [
        "weather['year']=2020"
      ],
      "execution_count": 66,
      "outputs": []
    },
    {
      "cell_type": "code",
      "metadata": {
        "colab": {
          "base_uri": "https://localhost:8080/",
          "height": 408
        },
        "id": "MpMQ6L5wOpS-",
        "outputId": "a7fb41c1-73a5-41ac-8b21-150dcedc40f6"
      },
      "source": [
        "order=['year','month','date','hour','rainval','tempval','humval','windval']\n",
        "weather=weather[order]\n",
        "weather"
      ],
      "execution_count": 67,
      "outputs": [
        {
          "output_type": "execute_result",
          "data": {
            "text/html": [
              "<div>\n",
              "<style scoped>\n",
              "    .dataframe tbody tr th:only-of-type {\n",
              "        vertical-align: middle;\n",
              "    }\n",
              "\n",
              "    .dataframe tbody tr th {\n",
              "        vertical-align: top;\n",
              "    }\n",
              "\n",
              "    .dataframe thead th {\n",
              "        text-align: right;\n",
              "    }\n",
              "</style>\n",
              "<table border=\"1\" class=\"dataframe\">\n",
              "  <thead>\n",
              "    <tr style=\"text-align: right;\">\n",
              "      <th></th>\n",
              "      <th>year</th>\n",
              "      <th>month</th>\n",
              "      <th>date</th>\n",
              "      <th>hour</th>\n",
              "      <th>rainval</th>\n",
              "      <th>tempval</th>\n",
              "      <th>humval</th>\n",
              "      <th>windval</th>\n",
              "    </tr>\n",
              "  </thead>\n",
              "  <tbody>\n",
              "    <tr>\n",
              "      <th>0</th>\n",
              "      <td>2020</td>\n",
              "      <td>1</td>\n",
              "      <td>1</td>\n",
              "      <td>0</td>\n",
              "      <td>0.0</td>\n",
              "      <td>-3.7</td>\n",
              "      <td>78.0</td>\n",
              "      <td>1.4</td>\n",
              "    </tr>\n",
              "    <tr>\n",
              "      <th>1</th>\n",
              "      <td>2020</td>\n",
              "      <td>1</td>\n",
              "      <td>1</td>\n",
              "      <td>1</td>\n",
              "      <td>0.0</td>\n",
              "      <td>-3.2</td>\n",
              "      <td>84.0</td>\n",
              "      <td>1.1</td>\n",
              "    </tr>\n",
              "    <tr>\n",
              "      <th>2</th>\n",
              "      <td>2020</td>\n",
              "      <td>1</td>\n",
              "      <td>1</td>\n",
              "      <td>2</td>\n",
              "      <td>0.0</td>\n",
              "      <td>-2.1</td>\n",
              "      <td>77.0</td>\n",
              "      <td>1.4</td>\n",
              "    </tr>\n",
              "    <tr>\n",
              "      <th>3</th>\n",
              "      <td>2020</td>\n",
              "      <td>1</td>\n",
              "      <td>1</td>\n",
              "      <td>3</td>\n",
              "      <td>0.0</td>\n",
              "      <td>-0.9</td>\n",
              "      <td>74.0</td>\n",
              "      <td>0.9</td>\n",
              "    </tr>\n",
              "    <tr>\n",
              "      <th>4</th>\n",
              "      <td>2020</td>\n",
              "      <td>1</td>\n",
              "      <td>1</td>\n",
              "      <td>4</td>\n",
              "      <td>0.0</td>\n",
              "      <td>0.0</td>\n",
              "      <td>69.0</td>\n",
              "      <td>0.9</td>\n",
              "    </tr>\n",
              "    <tr>\n",
              "      <th>...</th>\n",
              "      <td>...</td>\n",
              "      <td>...</td>\n",
              "      <td>...</td>\n",
              "      <td>...</td>\n",
              "      <td>...</td>\n",
              "      <td>...</td>\n",
              "      <td>...</td>\n",
              "      <td>...</td>\n",
              "    </tr>\n",
              "    <tr>\n",
              "      <th>8779</th>\n",
              "      <td>2020</td>\n",
              "      <td>12</td>\n",
              "      <td>31</td>\n",
              "      <td>19</td>\n",
              "      <td>0.0</td>\n",
              "      <td>-9.8</td>\n",
              "      <td>68.0</td>\n",
              "      <td>0.8</td>\n",
              "    </tr>\n",
              "    <tr>\n",
              "      <th>8780</th>\n",
              "      <td>2020</td>\n",
              "      <td>12</td>\n",
              "      <td>31</td>\n",
              "      <td>20</td>\n",
              "      <td>0.0</td>\n",
              "      <td>-9.4</td>\n",
              "      <td>72.0</td>\n",
              "      <td>0.9</td>\n",
              "    </tr>\n",
              "    <tr>\n",
              "      <th>8781</th>\n",
              "      <td>2020</td>\n",
              "      <td>12</td>\n",
              "      <td>31</td>\n",
              "      <td>21</td>\n",
              "      <td>0.0</td>\n",
              "      <td>-8.4</td>\n",
              "      <td>67.0</td>\n",
              "      <td>0.6</td>\n",
              "    </tr>\n",
              "    <tr>\n",
              "      <th>8782</th>\n",
              "      <td>2020</td>\n",
              "      <td>12</td>\n",
              "      <td>31</td>\n",
              "      <td>22</td>\n",
              "      <td>0.0</td>\n",
              "      <td>-8.6</td>\n",
              "      <td>72.0</td>\n",
              "      <td>0.7</td>\n",
              "    </tr>\n",
              "    <tr>\n",
              "      <th>8783</th>\n",
              "      <td>2020</td>\n",
              "      <td>12</td>\n",
              "      <td>31</td>\n",
              "      <td>23</td>\n",
              "      <td>0.0</td>\n",
              "      <td>-6.6</td>\n",
              "      <td>63.0</td>\n",
              "      <td>0.8</td>\n",
              "    </tr>\n",
              "  </tbody>\n",
              "</table>\n",
              "<p>8784 rows × 8 columns</p>\n",
              "</div>"
            ],
            "text/plain": [
              "      year  month date  hour  rainval  tempval  humval  windval\n",
              "0     2020      1    1     0      0.0     -3.7    78.0      1.4\n",
              "1     2020      1    1     1      0.0     -3.2    84.0      1.1\n",
              "2     2020      1    1     2      0.0     -2.1    77.0      1.4\n",
              "3     2020      1    1     3      0.0     -0.9    74.0      0.9\n",
              "4     2020      1    1     4      0.0      0.0    69.0      0.9\n",
              "...    ...    ...  ...   ...      ...      ...     ...      ...\n",
              "8779  2020     12   31    19      0.0     -9.8    68.0      0.8\n",
              "8780  2020     12   31    20      0.0     -9.4    72.0      0.9\n",
              "8781  2020     12   31    21      0.0     -8.4    67.0      0.6\n",
              "8782  2020     12   31    22      0.0     -8.6    72.0      0.7\n",
              "8783  2020     12   31    23      0.0     -6.6    63.0      0.8\n",
              "\n",
              "[8784 rows x 8 columns]"
            ]
          },
          "metadata": {
            "tags": []
          },
          "execution_count": 67
        }
      ]
    },
    {
      "cell_type": "markdown",
      "metadata": {
        "id": "zCaykTXuWqcf"
      },
      "source": [
        "# 최종 데이터 셋: data, dust_final,weather"
      ]
    },
    {
      "cell_type": "markdown",
      "metadata": {
        "id": "1_i1KtuOoEhF"
      },
      "source": [
        "## 데이터 합치기"
      ]
    },
    {
      "cell_type": "markdown",
      "metadata": {
        "id": "KHpMZ-QOudZK"
      },
      "source": [
        "그냥 내일 날씨 + 미세먼지 데이터 합해서 \n",
        "na값 처리 해주고\n",
        "\n",
        "나머지 따릉이 데이터랑 합쳐야겟다."
      ]
    },
    {
      "cell_type": "code",
      "metadata": {
        "id": "m5fnzfj-WuMd"
      },
      "source": [
        "data= data.rename(columns={'time':'hour'})\n",
        "weather=weather.rename(columns={'date':'day'})"
      ],
      "execution_count": 68,
      "outputs": []
    },
    {
      "cell_type": "code",
      "metadata": {
        "colab": {
          "base_uri": "https://localhost:8080/",
          "height": 200
        },
        "id": "Qe2GoVqTX2iJ",
        "outputId": "31d0e123-94ae-4ce3-9bec-a8a8beaf7933"
      },
      "source": [
        "data.head()"
      ],
      "execution_count": 69,
      "outputs": [
        {
          "output_type": "execute_result",
          "data": {
            "text/html": [
              "<div>\n",
              "<style scoped>\n",
              "    .dataframe tbody tr th:only-of-type {\n",
              "        vertical-align: middle;\n",
              "    }\n",
              "\n",
              "    .dataframe tbody tr th {\n",
              "        vertical-align: top;\n",
              "    }\n",
              "\n",
              "    .dataframe thead th {\n",
              "        text-align: right;\n",
              "    }\n",
              "</style>\n",
              "<table border=\"1\" class=\"dataframe\">\n",
              "  <thead>\n",
              "    <tr style=\"text-align: right;\">\n",
              "      <th></th>\n",
              "      <th>hour</th>\n",
              "      <th>num</th>\n",
              "      <th>stno</th>\n",
              "      <th>stname</th>\n",
              "      <th>place</th>\n",
              "      <th>year</th>\n",
              "      <th>month</th>\n",
              "      <th>day</th>\n",
              "    </tr>\n",
              "  </thead>\n",
              "  <tbody>\n",
              "    <tr>\n",
              "      <th>1362</th>\n",
              "      <td>1</td>\n",
              "      <td>1</td>\n",
              "      <td>2219</td>\n",
              "      <td>고속터미널역 8-1번, 8-2번 출구 사이</td>\n",
              "      <td>서초구</td>\n",
              "      <td>2020</td>\n",
              "      <td>1</td>\n",
              "      <td>1</td>\n",
              "    </tr>\n",
              "    <tr>\n",
              "      <th>1363</th>\n",
              "      <td>1</td>\n",
              "      <td>1</td>\n",
              "      <td>2219</td>\n",
              "      <td>고속터미널역 8-1번, 8-2번 출구 사이</td>\n",
              "      <td>서초구</td>\n",
              "      <td>2020</td>\n",
              "      <td>1</td>\n",
              "      <td>1</td>\n",
              "    </tr>\n",
              "    <tr>\n",
              "      <th>1364</th>\n",
              "      <td>2</td>\n",
              "      <td>1</td>\n",
              "      <td>2219</td>\n",
              "      <td>고속터미널역 8-1번, 8-2번 출구 사이</td>\n",
              "      <td>서초구</td>\n",
              "      <td>2020</td>\n",
              "      <td>1</td>\n",
              "      <td>1</td>\n",
              "    </tr>\n",
              "    <tr>\n",
              "      <th>1365</th>\n",
              "      <td>2</td>\n",
              "      <td>1</td>\n",
              "      <td>2219</td>\n",
              "      <td>고속터미널역 8-1번, 8-2번 출구 사이</td>\n",
              "      <td>서초구</td>\n",
              "      <td>2020</td>\n",
              "      <td>1</td>\n",
              "      <td>1</td>\n",
              "    </tr>\n",
              "    <tr>\n",
              "      <th>1366</th>\n",
              "      <td>2</td>\n",
              "      <td>1</td>\n",
              "      <td>2219</td>\n",
              "      <td>고속터미널역 8-1번, 8-2번 출구 사이</td>\n",
              "      <td>서초구</td>\n",
              "      <td>2020</td>\n",
              "      <td>1</td>\n",
              "      <td>1</td>\n",
              "    </tr>\n",
              "  </tbody>\n",
              "</table>\n",
              "</div>"
            ],
            "text/plain": [
              "      hour  num  stno                   stname place  year  month  day\n",
              "1362     1    1  2219  고속터미널역 8-1번, 8-2번 출구 사이   서초구  2020      1    1\n",
              "1363     1    1  2219  고속터미널역 8-1번, 8-2번 출구 사이   서초구  2020      1    1\n",
              "1364     2    1  2219  고속터미널역 8-1번, 8-2번 출구 사이   서초구  2020      1    1\n",
              "1365     2    1  2219  고속터미널역 8-1번, 8-2번 출구 사이   서초구  2020      1    1\n",
              "1366     2    1  2219  고속터미널역 8-1번, 8-2번 출구 사이   서초구  2020      1    1"
            ]
          },
          "metadata": {
            "tags": []
          },
          "execution_count": 69
        }
      ]
    },
    {
      "cell_type": "code",
      "metadata": {
        "colab": {
          "base_uri": "https://localhost:8080/",
          "height": 200
        },
        "id": "a9G-CrnNX4Oq",
        "outputId": "8d6897ec-8100-4c91-d86f-78ba3265cd14"
      },
      "source": [
        "dust_final.head()"
      ],
      "execution_count": 70,
      "outputs": [
        {
          "output_type": "execute_result",
          "data": {
            "text/html": [
              "<div>\n",
              "<style scoped>\n",
              "    .dataframe tbody tr th:only-of-type {\n",
              "        vertical-align: middle;\n",
              "    }\n",
              "\n",
              "    .dataframe tbody tr th {\n",
              "        vertical-align: top;\n",
              "    }\n",
              "\n",
              "    .dataframe thead th {\n",
              "        text-align: right;\n",
              "    }\n",
              "</style>\n",
              "<table border=\"1\" class=\"dataframe\">\n",
              "  <thead>\n",
              "    <tr style=\"text-align: right;\">\n",
              "      <th></th>\n",
              "      <th>측정소 이름</th>\n",
              "      <th>미세먼지 평균</th>\n",
              "      <th>초미세먼지 평균</th>\n",
              "      <th>year</th>\n",
              "      <th>month</th>\n",
              "      <th>day</th>\n",
              "      <th>hour</th>\n",
              "    </tr>\n",
              "  </thead>\n",
              "  <tbody>\n",
              "    <tr>\n",
              "      <th>0</th>\n",
              "      <td>서초구</td>\n",
              "      <td>49.0</td>\n",
              "      <td>34.0</td>\n",
              "      <td>2020</td>\n",
              "      <td>1</td>\n",
              "      <td>31</td>\n",
              "      <td>23</td>\n",
              "    </tr>\n",
              "    <tr>\n",
              "      <th>1</th>\n",
              "      <td>서초구</td>\n",
              "      <td>49.0</td>\n",
              "      <td>31.0</td>\n",
              "      <td>2020</td>\n",
              "      <td>1</td>\n",
              "      <td>31</td>\n",
              "      <td>22</td>\n",
              "    </tr>\n",
              "    <tr>\n",
              "      <th>2</th>\n",
              "      <td>서초구</td>\n",
              "      <td>47.0</td>\n",
              "      <td>985.0</td>\n",
              "      <td>2020</td>\n",
              "      <td>1</td>\n",
              "      <td>31</td>\n",
              "      <td>21</td>\n",
              "    </tr>\n",
              "    <tr>\n",
              "      <th>3</th>\n",
              "      <td>서초구</td>\n",
              "      <td>47.0</td>\n",
              "      <td>31.0</td>\n",
              "      <td>2020</td>\n",
              "      <td>1</td>\n",
              "      <td>31</td>\n",
              "      <td>20</td>\n",
              "    </tr>\n",
              "    <tr>\n",
              "      <th>4</th>\n",
              "      <td>서초구</td>\n",
              "      <td>48.0</td>\n",
              "      <td>31.0</td>\n",
              "      <td>2020</td>\n",
              "      <td>1</td>\n",
              "      <td>31</td>\n",
              "      <td>19</td>\n",
              "    </tr>\n",
              "  </tbody>\n",
              "</table>\n",
              "</div>"
            ],
            "text/plain": [
              "  측정소 이름  미세먼지 평균  초미세먼지 평균  year  month  day  hour\n",
              "0    서초구     49.0      34.0  2020      1   31    23\n",
              "1    서초구     49.0      31.0  2020      1   31    22\n",
              "2    서초구     47.0     985.0  2020      1   31    21\n",
              "3    서초구     47.0      31.0  2020      1   31    20\n",
              "4    서초구     48.0      31.0  2020      1   31    19"
            ]
          },
          "metadata": {
            "tags": []
          },
          "execution_count": 70
        }
      ]
    },
    {
      "cell_type": "code",
      "metadata": {
        "colab": {
          "base_uri": "https://localhost:8080/",
          "height": 200
        },
        "id": "TtlqQJQZX65c",
        "outputId": "3e5405c2-0655-468d-83bd-3c3c8d0668b5"
      },
      "source": [
        "weather.head()"
      ],
      "execution_count": 71,
      "outputs": [
        {
          "output_type": "execute_result",
          "data": {
            "text/html": [
              "<div>\n",
              "<style scoped>\n",
              "    .dataframe tbody tr th:only-of-type {\n",
              "        vertical-align: middle;\n",
              "    }\n",
              "\n",
              "    .dataframe tbody tr th {\n",
              "        vertical-align: top;\n",
              "    }\n",
              "\n",
              "    .dataframe thead th {\n",
              "        text-align: right;\n",
              "    }\n",
              "</style>\n",
              "<table border=\"1\" class=\"dataframe\">\n",
              "  <thead>\n",
              "    <tr style=\"text-align: right;\">\n",
              "      <th></th>\n",
              "      <th>year</th>\n",
              "      <th>month</th>\n",
              "      <th>day</th>\n",
              "      <th>hour</th>\n",
              "      <th>rainval</th>\n",
              "      <th>tempval</th>\n",
              "      <th>humval</th>\n",
              "      <th>windval</th>\n",
              "    </tr>\n",
              "  </thead>\n",
              "  <tbody>\n",
              "    <tr>\n",
              "      <th>0</th>\n",
              "      <td>2020</td>\n",
              "      <td>1</td>\n",
              "      <td>1</td>\n",
              "      <td>0</td>\n",
              "      <td>0.0</td>\n",
              "      <td>-3.7</td>\n",
              "      <td>78.0</td>\n",
              "      <td>1.4</td>\n",
              "    </tr>\n",
              "    <tr>\n",
              "      <th>1</th>\n",
              "      <td>2020</td>\n",
              "      <td>1</td>\n",
              "      <td>1</td>\n",
              "      <td>1</td>\n",
              "      <td>0.0</td>\n",
              "      <td>-3.2</td>\n",
              "      <td>84.0</td>\n",
              "      <td>1.1</td>\n",
              "    </tr>\n",
              "    <tr>\n",
              "      <th>2</th>\n",
              "      <td>2020</td>\n",
              "      <td>1</td>\n",
              "      <td>1</td>\n",
              "      <td>2</td>\n",
              "      <td>0.0</td>\n",
              "      <td>-2.1</td>\n",
              "      <td>77.0</td>\n",
              "      <td>1.4</td>\n",
              "    </tr>\n",
              "    <tr>\n",
              "      <th>3</th>\n",
              "      <td>2020</td>\n",
              "      <td>1</td>\n",
              "      <td>1</td>\n",
              "      <td>3</td>\n",
              "      <td>0.0</td>\n",
              "      <td>-0.9</td>\n",
              "      <td>74.0</td>\n",
              "      <td>0.9</td>\n",
              "    </tr>\n",
              "    <tr>\n",
              "      <th>4</th>\n",
              "      <td>2020</td>\n",
              "      <td>1</td>\n",
              "      <td>1</td>\n",
              "      <td>4</td>\n",
              "      <td>0.0</td>\n",
              "      <td>0.0</td>\n",
              "      <td>69.0</td>\n",
              "      <td>0.9</td>\n",
              "    </tr>\n",
              "  </tbody>\n",
              "</table>\n",
              "</div>"
            ],
            "text/plain": [
              "   year  month day  hour  rainval  tempval  humval  windval\n",
              "0  2020      1   1     0      0.0     -3.7    78.0      1.4\n",
              "1  2020      1   1     1      0.0     -3.2    84.0      1.1\n",
              "2  2020      1   1     2      0.0     -2.1    77.0      1.4\n",
              "3  2020      1   1     3      0.0     -0.9    74.0      0.9\n",
              "4  2020      1   1     4      0.0      0.0    69.0      0.9"
            ]
          },
          "metadata": {
            "tags": []
          },
          "execution_count": 71
        }
      ]
    },
    {
      "cell_type": "code",
      "metadata": {
        "id": "kkHy41o8YJx2"
      },
      "source": [
        "weather['day']=weather.day.astype(int)"
      ],
      "execution_count": 72,
      "outputs": []
    },
    {
      "cell_type": "code",
      "metadata": {
        "id": "WlRNeY0RXS3t"
      },
      "source": [
        "all_df= pd.merge(data, dust_final,how='outer',on=['year','month','day','hour'] )\n",
        "all_df=pd.merge(all_df, weather, how='outer',on=['year','month','day','hour'])\n",
        "\n",
        "all_df.drop('측정소 이름',axis=1, inplace=True)"
      ],
      "execution_count": 73,
      "outputs": []
    },
    {
      "cell_type": "markdown",
      "metadata": {
        "id": "MLcWLbUBv2at"
      },
      "source": [
        "세 데이터셋을 all_df로 merge(outer)로 하니까 \n",
        "결측치가 보인다. 따라서 날씨 + 미세먼지를 해서 미세먼지의 결측치를 채워주고,\n",
        "merge된 데이터셋에 따릉이 데이터셋을 merge 할 에정이다. "
      ]
    },
    {
      "cell_type": "markdown",
      "metadata": {
        "id": "I-ho9WXEd5jo"
      },
      "source": [
        "## 미세먼지 데이터와 날씨 데이터 merge\n",
        "\n",
        "위에서 확인 했듯이, 미세먼지 데이터가 \n",
        "- 2월 21,22\n",
        "- 7월 3,4 \n",
        "\n",
        "일 데이터가 missing\n",
        "\n",
        "=> 날씨 데이터와 merge 해서 결측치 대체"
      ]
    },
    {
      "cell_type": "code",
      "metadata": {
        "colab": {
          "base_uri": "https://localhost:8080/",
          "height": 200
        },
        "id": "ezMPiJ8BeSI9",
        "outputId": "bdfe9ca0-3926-4929-a3b5-69adc21d770a"
      },
      "source": [
        "dust_final.head()"
      ],
      "execution_count": 97,
      "outputs": [
        {
          "output_type": "execute_result",
          "data": {
            "text/html": [
              "<div>\n",
              "<style scoped>\n",
              "    .dataframe tbody tr th:only-of-type {\n",
              "        vertical-align: middle;\n",
              "    }\n",
              "\n",
              "    .dataframe tbody tr th {\n",
              "        vertical-align: top;\n",
              "    }\n",
              "\n",
              "    .dataframe thead th {\n",
              "        text-align: right;\n",
              "    }\n",
              "</style>\n",
              "<table border=\"1\" class=\"dataframe\">\n",
              "  <thead>\n",
              "    <tr style=\"text-align: right;\">\n",
              "      <th></th>\n",
              "      <th>측정소 이름</th>\n",
              "      <th>미세먼지 평균</th>\n",
              "      <th>초미세먼지 평균</th>\n",
              "      <th>year</th>\n",
              "      <th>month</th>\n",
              "      <th>day</th>\n",
              "      <th>hour</th>\n",
              "    </tr>\n",
              "  </thead>\n",
              "  <tbody>\n",
              "    <tr>\n",
              "      <th>0</th>\n",
              "      <td>서초구</td>\n",
              "      <td>49.0</td>\n",
              "      <td>34.0</td>\n",
              "      <td>2020</td>\n",
              "      <td>1</td>\n",
              "      <td>31</td>\n",
              "      <td>23</td>\n",
              "    </tr>\n",
              "    <tr>\n",
              "      <th>1</th>\n",
              "      <td>서초구</td>\n",
              "      <td>49.0</td>\n",
              "      <td>31.0</td>\n",
              "      <td>2020</td>\n",
              "      <td>1</td>\n",
              "      <td>31</td>\n",
              "      <td>22</td>\n",
              "    </tr>\n",
              "    <tr>\n",
              "      <th>2</th>\n",
              "      <td>서초구</td>\n",
              "      <td>47.0</td>\n",
              "      <td>985.0</td>\n",
              "      <td>2020</td>\n",
              "      <td>1</td>\n",
              "      <td>31</td>\n",
              "      <td>21</td>\n",
              "    </tr>\n",
              "    <tr>\n",
              "      <th>3</th>\n",
              "      <td>서초구</td>\n",
              "      <td>47.0</td>\n",
              "      <td>31.0</td>\n",
              "      <td>2020</td>\n",
              "      <td>1</td>\n",
              "      <td>31</td>\n",
              "      <td>20</td>\n",
              "    </tr>\n",
              "    <tr>\n",
              "      <th>4</th>\n",
              "      <td>서초구</td>\n",
              "      <td>48.0</td>\n",
              "      <td>31.0</td>\n",
              "      <td>2020</td>\n",
              "      <td>1</td>\n",
              "      <td>31</td>\n",
              "      <td>19</td>\n",
              "    </tr>\n",
              "  </tbody>\n",
              "</table>\n",
              "</div>"
            ],
            "text/plain": [
              "  측정소 이름  미세먼지 평균  초미세먼지 평균  year  month  day  hour\n",
              "0    서초구     49.0      34.0  2020      1   31    23\n",
              "1    서초구     49.0      31.0  2020      1   31    22\n",
              "2    서초구     47.0     985.0  2020      1   31    21\n",
              "3    서초구     47.0      31.0  2020      1   31    20\n",
              "4    서초구     48.0      31.0  2020      1   31    19"
            ]
          },
          "metadata": {
            "tags": []
          },
          "execution_count": 97
        }
      ]
    },
    {
      "cell_type": "code",
      "metadata": {
        "colab": {
          "base_uri": "https://localhost:8080/",
          "height": 200
        },
        "id": "n3568bKneVwN",
        "outputId": "fbdad8db-578a-4d2d-cc31-eb6d67ba15c0"
      },
      "source": [
        "weather.head()"
      ],
      "execution_count": 98,
      "outputs": [
        {
          "output_type": "execute_result",
          "data": {
            "text/html": [
              "<div>\n",
              "<style scoped>\n",
              "    .dataframe tbody tr th:only-of-type {\n",
              "        vertical-align: middle;\n",
              "    }\n",
              "\n",
              "    .dataframe tbody tr th {\n",
              "        vertical-align: top;\n",
              "    }\n",
              "\n",
              "    .dataframe thead th {\n",
              "        text-align: right;\n",
              "    }\n",
              "</style>\n",
              "<table border=\"1\" class=\"dataframe\">\n",
              "  <thead>\n",
              "    <tr style=\"text-align: right;\">\n",
              "      <th></th>\n",
              "      <th>year</th>\n",
              "      <th>month</th>\n",
              "      <th>day</th>\n",
              "      <th>hour</th>\n",
              "      <th>rainval</th>\n",
              "      <th>tempval</th>\n",
              "      <th>humval</th>\n",
              "      <th>windval</th>\n",
              "    </tr>\n",
              "  </thead>\n",
              "  <tbody>\n",
              "    <tr>\n",
              "      <th>0</th>\n",
              "      <td>2020</td>\n",
              "      <td>1</td>\n",
              "      <td>1</td>\n",
              "      <td>0</td>\n",
              "      <td>0.0</td>\n",
              "      <td>-3.7</td>\n",
              "      <td>78.0</td>\n",
              "      <td>1.4</td>\n",
              "    </tr>\n",
              "    <tr>\n",
              "      <th>1</th>\n",
              "      <td>2020</td>\n",
              "      <td>1</td>\n",
              "      <td>1</td>\n",
              "      <td>1</td>\n",
              "      <td>0.0</td>\n",
              "      <td>-3.2</td>\n",
              "      <td>84.0</td>\n",
              "      <td>1.1</td>\n",
              "    </tr>\n",
              "    <tr>\n",
              "      <th>2</th>\n",
              "      <td>2020</td>\n",
              "      <td>1</td>\n",
              "      <td>1</td>\n",
              "      <td>2</td>\n",
              "      <td>0.0</td>\n",
              "      <td>-2.1</td>\n",
              "      <td>77.0</td>\n",
              "      <td>1.4</td>\n",
              "    </tr>\n",
              "    <tr>\n",
              "      <th>3</th>\n",
              "      <td>2020</td>\n",
              "      <td>1</td>\n",
              "      <td>1</td>\n",
              "      <td>3</td>\n",
              "      <td>0.0</td>\n",
              "      <td>-0.9</td>\n",
              "      <td>74.0</td>\n",
              "      <td>0.9</td>\n",
              "    </tr>\n",
              "    <tr>\n",
              "      <th>4</th>\n",
              "      <td>2020</td>\n",
              "      <td>1</td>\n",
              "      <td>1</td>\n",
              "      <td>4</td>\n",
              "      <td>0.0</td>\n",
              "      <td>0.0</td>\n",
              "      <td>69.0</td>\n",
              "      <td>0.9</td>\n",
              "    </tr>\n",
              "  </tbody>\n",
              "</table>\n",
              "</div>"
            ],
            "text/plain": [
              "   year  month  day  hour  rainval  tempval  humval  windval\n",
              "0  2020      1    1     0      0.0     -3.7    78.0      1.4\n",
              "1  2020      1    1     1      0.0     -3.2    84.0      1.1\n",
              "2  2020      1    1     2      0.0     -2.1    77.0      1.4\n",
              "3  2020      1    1     3      0.0     -0.9    74.0      0.9\n",
              "4  2020      1    1     4      0.0      0.0    69.0      0.9"
            ]
          },
          "metadata": {
            "tags": []
          },
          "execution_count": 98
        }
      ]
    },
    {
      "cell_type": "code",
      "metadata": {
        "id": "5vIufkXDeYhw"
      },
      "source": [
        "dust_weather= pd.merge(dust_final, weather, how='outer', on=['year','month','day','hour'])"
      ],
      "execution_count": 99,
      "outputs": []
    },
    {
      "cell_type": "code",
      "metadata": {
        "colab": {
          "base_uri": "https://localhost:8080/",
          "height": 200
        },
        "id": "WAPvGYKHhe9L",
        "outputId": "a4a1412d-8c4c-40a9-dafc-ecf9c844acb9"
      },
      "source": [
        "dust_weather.head()"
      ],
      "execution_count": 124,
      "outputs": [
        {
          "output_type": "execute_result",
          "data": {
            "text/html": [
              "<div>\n",
              "<style scoped>\n",
              "    .dataframe tbody tr th:only-of-type {\n",
              "        vertical-align: middle;\n",
              "    }\n",
              "\n",
              "    .dataframe tbody tr th {\n",
              "        vertical-align: top;\n",
              "    }\n",
              "\n",
              "    .dataframe thead th {\n",
              "        text-align: right;\n",
              "    }\n",
              "</style>\n",
              "<table border=\"1\" class=\"dataframe\">\n",
              "  <thead>\n",
              "    <tr style=\"text-align: right;\">\n",
              "      <th></th>\n",
              "      <th>측정소 이름</th>\n",
              "      <th>미세먼지 평균</th>\n",
              "      <th>초미세먼지 평균</th>\n",
              "      <th>year</th>\n",
              "      <th>month</th>\n",
              "      <th>day</th>\n",
              "      <th>hour</th>\n",
              "      <th>rainval</th>\n",
              "      <th>tempval</th>\n",
              "      <th>humval</th>\n",
              "      <th>windval</th>\n",
              "    </tr>\n",
              "  </thead>\n",
              "  <tbody>\n",
              "    <tr>\n",
              "      <th>0</th>\n",
              "      <td>서초구</td>\n",
              "      <td>49.0</td>\n",
              "      <td>34.0</td>\n",
              "      <td>2020</td>\n",
              "      <td>1</td>\n",
              "      <td>31</td>\n",
              "      <td>23</td>\n",
              "      <td>0.0</td>\n",
              "      <td>1.0</td>\n",
              "      <td>79.0</td>\n",
              "      <td>0.9</td>\n",
              "    </tr>\n",
              "    <tr>\n",
              "      <th>1</th>\n",
              "      <td>서초구</td>\n",
              "      <td>49.0</td>\n",
              "      <td>31.0</td>\n",
              "      <td>2020</td>\n",
              "      <td>1</td>\n",
              "      <td>31</td>\n",
              "      <td>22</td>\n",
              "      <td>0.0</td>\n",
              "      <td>-0.3</td>\n",
              "      <td>86.0</td>\n",
              "      <td>0.9</td>\n",
              "    </tr>\n",
              "    <tr>\n",
              "      <th>2</th>\n",
              "      <td>서초구</td>\n",
              "      <td>47.0</td>\n",
              "      <td>985.0</td>\n",
              "      <td>2020</td>\n",
              "      <td>1</td>\n",
              "      <td>31</td>\n",
              "      <td>21</td>\n",
              "      <td>0.0</td>\n",
              "      <td>-1.1</td>\n",
              "      <td>95.0</td>\n",
              "      <td>0.9</td>\n",
              "    </tr>\n",
              "    <tr>\n",
              "      <th>3</th>\n",
              "      <td>서초구</td>\n",
              "      <td>47.0</td>\n",
              "      <td>31.0</td>\n",
              "      <td>2020</td>\n",
              "      <td>1</td>\n",
              "      <td>31</td>\n",
              "      <td>20</td>\n",
              "      <td>0.0</td>\n",
              "      <td>-0.6</td>\n",
              "      <td>92.0</td>\n",
              "      <td>0.9</td>\n",
              "    </tr>\n",
              "    <tr>\n",
              "      <th>4</th>\n",
              "      <td>서초구</td>\n",
              "      <td>48.0</td>\n",
              "      <td>31.0</td>\n",
              "      <td>2020</td>\n",
              "      <td>1</td>\n",
              "      <td>31</td>\n",
              "      <td>19</td>\n",
              "      <td>0.0</td>\n",
              "      <td>-0.8</td>\n",
              "      <td>96.0</td>\n",
              "      <td>0.8</td>\n",
              "    </tr>\n",
              "  </tbody>\n",
              "</table>\n",
              "</div>"
            ],
            "text/plain": [
              "  측정소 이름  미세먼지 평균  초미세먼지 평균  year  ...  rainval  tempval  humval  windval\n",
              "0    서초구     49.0      34.0  2020  ...      0.0      1.0    79.0      0.9\n",
              "1    서초구     49.0      31.0  2020  ...      0.0     -0.3    86.0      0.9\n",
              "2    서초구     47.0     985.0  2020  ...      0.0     -1.1    95.0      0.9\n",
              "3    서초구     47.0      31.0  2020  ...      0.0     -0.6    92.0      0.9\n",
              "4    서초구     48.0      31.0  2020  ...      0.0     -0.8    96.0      0.8\n",
              "\n",
              "[5 rows x 11 columns]"
            ]
          },
          "metadata": {
            "tags": []
          },
          "execution_count": 124
        }
      ]
    },
    {
      "cell_type": "code",
      "metadata": {
        "colab": {
          "base_uri": "https://localhost:8080/"
        },
        "id": "hLeqM7Iaelgf",
        "outputId": "24a1a621-14d2-4926-9898-df6fc0e96540"
      },
      "source": [
        "dust_weather.isna().sum()\n",
        "#날씨 데이터는 missing값이 없지만 미세먼지 데이터는 missing이 있기 때문에 이 값 처리 우선 해 줄 것."
      ],
      "execution_count": 102,
      "outputs": [
        {
          "output_type": "execute_result",
          "data": {
            "text/plain": [
              "측정소 이름      26\n",
              "미세먼지 평균     26\n",
              "초미세먼지 평균    26\n",
              "year         0\n",
              "month        0\n",
              "day          0\n",
              "hour         0\n",
              "rainval      0\n",
              "tempval      0\n",
              "humval       0\n",
              "windval      0\n",
              "dtype: int64"
            ]
          },
          "metadata": {
            "tags": []
          },
          "execution_count": 102
        }
      ]
    },
    {
      "cell_type": "code",
      "metadata": {
        "colab": {
          "base_uri": "https://localhost:8080/"
        },
        "id": "DJZmj0lCeuyn",
        "outputId": "278d52de-8cf7-421b-9b75-b7e79fbae96a"
      },
      "source": [
        "print(dust_weather[dust_weather['미세먼지 평균'].isna()].shape)\n",
        "print(dust_weather[dust_weather['초미세먼지 평균'].isna()].shape)\n",
        "#26 rows of missing val"
      ],
      "execution_count": 106,
      "outputs": [
        {
          "output_type": "stream",
          "text": [
            "(26, 11)\n",
            "(26, 11)\n"
          ],
          "name": "stdout"
        }
      ]
    },
    {
      "cell_type": "code",
      "metadata": {
        "colab": {
          "base_uri": "https://localhost:8080/",
          "height": 835
        },
        "id": "NUeSyavnftL2",
        "outputId": "6f86e609-4175-4e94-c06f-c14265fd9441"
      },
      "source": [
        "dust_weather[dust_weather['미세먼지 평균'].isna()]"
      ],
      "execution_count": 110,
      "outputs": [
        {
          "output_type": "execute_result",
          "data": {
            "text/html": [
              "<div>\n",
              "<style scoped>\n",
              "    .dataframe tbody tr th:only-of-type {\n",
              "        vertical-align: middle;\n",
              "    }\n",
              "\n",
              "    .dataframe tbody tr th {\n",
              "        vertical-align: top;\n",
              "    }\n",
              "\n",
              "    .dataframe thead th {\n",
              "        text-align: right;\n",
              "    }\n",
              "</style>\n",
              "<table border=\"1\" class=\"dataframe\">\n",
              "  <thead>\n",
              "    <tr style=\"text-align: right;\">\n",
              "      <th></th>\n",
              "      <th>측정소 이름</th>\n",
              "      <th>미세먼지 평균</th>\n",
              "      <th>초미세먼지 평균</th>\n",
              "      <th>year</th>\n",
              "      <th>month</th>\n",
              "      <th>day</th>\n",
              "      <th>hour</th>\n",
              "      <th>rainval</th>\n",
              "      <th>tempval</th>\n",
              "      <th>humval</th>\n",
              "      <th>windval</th>\n",
              "    </tr>\n",
              "  </thead>\n",
              "  <tbody>\n",
              "    <tr>\n",
              "      <th>8758</th>\n",
              "      <td>NaN</td>\n",
              "      <td>NaN</td>\n",
              "      <td>NaN</td>\n",
              "      <td>2020</td>\n",
              "      <td>2</td>\n",
              "      <td>21</td>\n",
              "      <td>18</td>\n",
              "      <td>0.0</td>\n",
              "      <td>5.100000</td>\n",
              "      <td>86.0</td>\n",
              "      <td>1.8</td>\n",
              "    </tr>\n",
              "    <tr>\n",
              "      <th>8759</th>\n",
              "      <td>NaN</td>\n",
              "      <td>NaN</td>\n",
              "      <td>NaN</td>\n",
              "      <td>2020</td>\n",
              "      <td>2</td>\n",
              "      <td>21</td>\n",
              "      <td>19</td>\n",
              "      <td>0.0</td>\n",
              "      <td>4.700000</td>\n",
              "      <td>84.0</td>\n",
              "      <td>1.3</td>\n",
              "    </tr>\n",
              "    <tr>\n",
              "      <th>8760</th>\n",
              "      <td>NaN</td>\n",
              "      <td>NaN</td>\n",
              "      <td>NaN</td>\n",
              "      <td>2020</td>\n",
              "      <td>2</td>\n",
              "      <td>21</td>\n",
              "      <td>20</td>\n",
              "      <td>0.0</td>\n",
              "      <td>4.700000</td>\n",
              "      <td>78.0</td>\n",
              "      <td>1.3</td>\n",
              "    </tr>\n",
              "    <tr>\n",
              "      <th>8761</th>\n",
              "      <td>NaN</td>\n",
              "      <td>NaN</td>\n",
              "      <td>NaN</td>\n",
              "      <td>2020</td>\n",
              "      <td>2</td>\n",
              "      <td>21</td>\n",
              "      <td>21</td>\n",
              "      <td>0.0</td>\n",
              "      <td>4.400000</td>\n",
              "      <td>77.0</td>\n",
              "      <td>1.3</td>\n",
              "    </tr>\n",
              "    <tr>\n",
              "      <th>8762</th>\n",
              "      <td>NaN</td>\n",
              "      <td>NaN</td>\n",
              "      <td>NaN</td>\n",
              "      <td>2020</td>\n",
              "      <td>2</td>\n",
              "      <td>21</td>\n",
              "      <td>22</td>\n",
              "      <td>0.0</td>\n",
              "      <td>4.700000</td>\n",
              "      <td>75.0</td>\n",
              "      <td>1.5</td>\n",
              "    </tr>\n",
              "    <tr>\n",
              "      <th>8763</th>\n",
              "      <td>NaN</td>\n",
              "      <td>NaN</td>\n",
              "      <td>NaN</td>\n",
              "      <td>2020</td>\n",
              "      <td>2</td>\n",
              "      <td>21</td>\n",
              "      <td>23</td>\n",
              "      <td>0.0</td>\n",
              "      <td>5.300000</td>\n",
              "      <td>77.0</td>\n",
              "      <td>1.4</td>\n",
              "    </tr>\n",
              "    <tr>\n",
              "      <th>8764</th>\n",
              "      <td>NaN</td>\n",
              "      <td>NaN</td>\n",
              "      <td>NaN</td>\n",
              "      <td>2020</td>\n",
              "      <td>2</td>\n",
              "      <td>22</td>\n",
              "      <td>0</td>\n",
              "      <td>0.0</td>\n",
              "      <td>6.200000</td>\n",
              "      <td>68.0</td>\n",
              "      <td>2.2</td>\n",
              "    </tr>\n",
              "    <tr>\n",
              "      <th>8765</th>\n",
              "      <td>NaN</td>\n",
              "      <td>NaN</td>\n",
              "      <td>NaN</td>\n",
              "      <td>2020</td>\n",
              "      <td>2</td>\n",
              "      <td>22</td>\n",
              "      <td>1</td>\n",
              "      <td>0.0</td>\n",
              "      <td>6.900000</td>\n",
              "      <td>55.0</td>\n",
              "      <td>2.5</td>\n",
              "    </tr>\n",
              "    <tr>\n",
              "      <th>8766</th>\n",
              "      <td>NaN</td>\n",
              "      <td>NaN</td>\n",
              "      <td>NaN</td>\n",
              "      <td>2020</td>\n",
              "      <td>2</td>\n",
              "      <td>22</td>\n",
              "      <td>2</td>\n",
              "      <td>0.0</td>\n",
              "      <td>7.800000</td>\n",
              "      <td>47.0</td>\n",
              "      <td>2.9</td>\n",
              "    </tr>\n",
              "    <tr>\n",
              "      <th>8767</th>\n",
              "      <td>NaN</td>\n",
              "      <td>NaN</td>\n",
              "      <td>NaN</td>\n",
              "      <td>2020</td>\n",
              "      <td>2</td>\n",
              "      <td>22</td>\n",
              "      <td>3</td>\n",
              "      <td>0.0</td>\n",
              "      <td>8.300000</td>\n",
              "      <td>34.0</td>\n",
              "      <td>3.1</td>\n",
              "    </tr>\n",
              "    <tr>\n",
              "      <th>8768</th>\n",
              "      <td>NaN</td>\n",
              "      <td>NaN</td>\n",
              "      <td>NaN</td>\n",
              "      <td>2020</td>\n",
              "      <td>2</td>\n",
              "      <td>22</td>\n",
              "      <td>4</td>\n",
              "      <td>0.0</td>\n",
              "      <td>8.000000</td>\n",
              "      <td>34.0</td>\n",
              "      <td>2.5</td>\n",
              "    </tr>\n",
              "    <tr>\n",
              "      <th>8769</th>\n",
              "      <td>NaN</td>\n",
              "      <td>NaN</td>\n",
              "      <td>NaN</td>\n",
              "      <td>2020</td>\n",
              "      <td>2</td>\n",
              "      <td>22</td>\n",
              "      <td>5</td>\n",
              "      <td>0.0</td>\n",
              "      <td>6.400000</td>\n",
              "      <td>38.0</td>\n",
              "      <td>4.2</td>\n",
              "    </tr>\n",
              "    <tr>\n",
              "      <th>8770</th>\n",
              "      <td>NaN</td>\n",
              "      <td>NaN</td>\n",
              "      <td>NaN</td>\n",
              "      <td>2020</td>\n",
              "      <td>2</td>\n",
              "      <td>22</td>\n",
              "      <td>6</td>\n",
              "      <td>0.0</td>\n",
              "      <td>6.300000</td>\n",
              "      <td>45.0</td>\n",
              "      <td>2.8</td>\n",
              "    </tr>\n",
              "    <tr>\n",
              "      <th>8771</th>\n",
              "      <td>NaN</td>\n",
              "      <td>NaN</td>\n",
              "      <td>NaN</td>\n",
              "      <td>2020</td>\n",
              "      <td>2</td>\n",
              "      <td>22</td>\n",
              "      <td>7</td>\n",
              "      <td>0.0</td>\n",
              "      <td>5.400000</td>\n",
              "      <td>49.0</td>\n",
              "      <td>2.3</td>\n",
              "    </tr>\n",
              "    <tr>\n",
              "      <th>8772</th>\n",
              "      <td>NaN</td>\n",
              "      <td>NaN</td>\n",
              "      <td>NaN</td>\n",
              "      <td>2020</td>\n",
              "      <td>2</td>\n",
              "      <td>22</td>\n",
              "      <td>8</td>\n",
              "      <td>-1.0</td>\n",
              "      <td>-50.000000</td>\n",
              "      <td>-1.0</td>\n",
              "      <td>-1.0</td>\n",
              "    </tr>\n",
              "    <tr>\n",
              "      <th>8773</th>\n",
              "      <td>NaN</td>\n",
              "      <td>NaN</td>\n",
              "      <td>NaN</td>\n",
              "      <td>2020</td>\n",
              "      <td>7</td>\n",
              "      <td>3</td>\n",
              "      <td>18</td>\n",
              "      <td>0.0</td>\n",
              "      <td>19.600000</td>\n",
              "      <td>100.0</td>\n",
              "      <td>0.7</td>\n",
              "    </tr>\n",
              "    <tr>\n",
              "      <th>8774</th>\n",
              "      <td>NaN</td>\n",
              "      <td>NaN</td>\n",
              "      <td>NaN</td>\n",
              "      <td>2020</td>\n",
              "      <td>7</td>\n",
              "      <td>3</td>\n",
              "      <td>19</td>\n",
              "      <td>0.0</td>\n",
              "      <td>20.000000</td>\n",
              "      <td>100.0</td>\n",
              "      <td>0.7</td>\n",
              "    </tr>\n",
              "    <tr>\n",
              "      <th>8775</th>\n",
              "      <td>NaN</td>\n",
              "      <td>NaN</td>\n",
              "      <td>NaN</td>\n",
              "      <td>2020</td>\n",
              "      <td>7</td>\n",
              "      <td>3</td>\n",
              "      <td>20</td>\n",
              "      <td>0.0</td>\n",
              "      <td>20.200001</td>\n",
              "      <td>100.0</td>\n",
              "      <td>0.9</td>\n",
              "    </tr>\n",
              "    <tr>\n",
              "      <th>8776</th>\n",
              "      <td>NaN</td>\n",
              "      <td>NaN</td>\n",
              "      <td>NaN</td>\n",
              "      <td>2020</td>\n",
              "      <td>7</td>\n",
              "      <td>3</td>\n",
              "      <td>21</td>\n",
              "      <td>0.0</td>\n",
              "      <td>21.100000</td>\n",
              "      <td>90.0</td>\n",
              "      <td>1.5</td>\n",
              "    </tr>\n",
              "    <tr>\n",
              "      <th>8777</th>\n",
              "      <td>NaN</td>\n",
              "      <td>NaN</td>\n",
              "      <td>NaN</td>\n",
              "      <td>2020</td>\n",
              "      <td>7</td>\n",
              "      <td>3</td>\n",
              "      <td>22</td>\n",
              "      <td>0.0</td>\n",
              "      <td>21.799999</td>\n",
              "      <td>82.0</td>\n",
              "      <td>1.2</td>\n",
              "    </tr>\n",
              "    <tr>\n",
              "      <th>8778</th>\n",
              "      <td>NaN</td>\n",
              "      <td>NaN</td>\n",
              "      <td>NaN</td>\n",
              "      <td>2020</td>\n",
              "      <td>7</td>\n",
              "      <td>3</td>\n",
              "      <td>23</td>\n",
              "      <td>0.0</td>\n",
              "      <td>24.200001</td>\n",
              "      <td>52.0</td>\n",
              "      <td>1.4</td>\n",
              "    </tr>\n",
              "    <tr>\n",
              "      <th>8779</th>\n",
              "      <td>NaN</td>\n",
              "      <td>NaN</td>\n",
              "      <td>NaN</td>\n",
              "      <td>2020</td>\n",
              "      <td>7</td>\n",
              "      <td>4</td>\n",
              "      <td>0</td>\n",
              "      <td>0.0</td>\n",
              "      <td>25.400000</td>\n",
              "      <td>47.0</td>\n",
              "      <td>1.4</td>\n",
              "    </tr>\n",
              "    <tr>\n",
              "      <th>8780</th>\n",
              "      <td>NaN</td>\n",
              "      <td>NaN</td>\n",
              "      <td>NaN</td>\n",
              "      <td>2020</td>\n",
              "      <td>7</td>\n",
              "      <td>4</td>\n",
              "      <td>1</td>\n",
              "      <td>0.0</td>\n",
              "      <td>27.100000</td>\n",
              "      <td>45.0</td>\n",
              "      <td>1.3</td>\n",
              "    </tr>\n",
              "    <tr>\n",
              "      <th>8781</th>\n",
              "      <td>NaN</td>\n",
              "      <td>NaN</td>\n",
              "      <td>NaN</td>\n",
              "      <td>2020</td>\n",
              "      <td>7</td>\n",
              "      <td>4</td>\n",
              "      <td>2</td>\n",
              "      <td>0.0</td>\n",
              "      <td>26.799999</td>\n",
              "      <td>46.0</td>\n",
              "      <td>2.2</td>\n",
              "    </tr>\n",
              "    <tr>\n",
              "      <th>8782</th>\n",
              "      <td>NaN</td>\n",
              "      <td>NaN</td>\n",
              "      <td>NaN</td>\n",
              "      <td>2020</td>\n",
              "      <td>7</td>\n",
              "      <td>4</td>\n",
              "      <td>3</td>\n",
              "      <td>0.0</td>\n",
              "      <td>27.700001</td>\n",
              "      <td>41.0</td>\n",
              "      <td>1.6</td>\n",
              "    </tr>\n",
              "    <tr>\n",
              "      <th>8783</th>\n",
              "      <td>NaN</td>\n",
              "      <td>NaN</td>\n",
              "      <td>NaN</td>\n",
              "      <td>2020</td>\n",
              "      <td>7</td>\n",
              "      <td>4</td>\n",
              "      <td>4</td>\n",
              "      <td>0.0</td>\n",
              "      <td>28.799999</td>\n",
              "      <td>40.0</td>\n",
              "      <td>1.7</td>\n",
              "    </tr>\n",
              "  </tbody>\n",
              "</table>\n",
              "</div>"
            ],
            "text/plain": [
              "     측정소 이름  미세먼지 평균  초미세먼지 평균  year  ...  rainval    tempval  humval  windval\n",
              "8758    NaN      NaN       NaN  2020  ...      0.0   5.100000    86.0      1.8\n",
              "8759    NaN      NaN       NaN  2020  ...      0.0   4.700000    84.0      1.3\n",
              "8760    NaN      NaN       NaN  2020  ...      0.0   4.700000    78.0      1.3\n",
              "8761    NaN      NaN       NaN  2020  ...      0.0   4.400000    77.0      1.3\n",
              "8762    NaN      NaN       NaN  2020  ...      0.0   4.700000    75.0      1.5\n",
              "8763    NaN      NaN       NaN  2020  ...      0.0   5.300000    77.0      1.4\n",
              "8764    NaN      NaN       NaN  2020  ...      0.0   6.200000    68.0      2.2\n",
              "8765    NaN      NaN       NaN  2020  ...      0.0   6.900000    55.0      2.5\n",
              "8766    NaN      NaN       NaN  2020  ...      0.0   7.800000    47.0      2.9\n",
              "8767    NaN      NaN       NaN  2020  ...      0.0   8.300000    34.0      3.1\n",
              "8768    NaN      NaN       NaN  2020  ...      0.0   8.000000    34.0      2.5\n",
              "8769    NaN      NaN       NaN  2020  ...      0.0   6.400000    38.0      4.2\n",
              "8770    NaN      NaN       NaN  2020  ...      0.0   6.300000    45.0      2.8\n",
              "8771    NaN      NaN       NaN  2020  ...      0.0   5.400000    49.0      2.3\n",
              "8772    NaN      NaN       NaN  2020  ...     -1.0 -50.000000    -1.0     -1.0\n",
              "8773    NaN      NaN       NaN  2020  ...      0.0  19.600000   100.0      0.7\n",
              "8774    NaN      NaN       NaN  2020  ...      0.0  20.000000   100.0      0.7\n",
              "8775    NaN      NaN       NaN  2020  ...      0.0  20.200001   100.0      0.9\n",
              "8776    NaN      NaN       NaN  2020  ...      0.0  21.100000    90.0      1.5\n",
              "8777    NaN      NaN       NaN  2020  ...      0.0  21.799999    82.0      1.2\n",
              "8778    NaN      NaN       NaN  2020  ...      0.0  24.200001    52.0      1.4\n",
              "8779    NaN      NaN       NaN  2020  ...      0.0  25.400000    47.0      1.4\n",
              "8780    NaN      NaN       NaN  2020  ...      0.0  27.100000    45.0      1.3\n",
              "8781    NaN      NaN       NaN  2020  ...      0.0  26.799999    46.0      2.2\n",
              "8782    NaN      NaN       NaN  2020  ...      0.0  27.700001    41.0      1.6\n",
              "8783    NaN      NaN       NaN  2020  ...      0.0  28.799999    40.0      1.7\n",
              "\n",
              "[26 rows x 11 columns]"
            ]
          },
          "metadata": {
            "tags": []
          },
          "execution_count": 110
        }
      ]
    },
    {
      "cell_type": "markdown",
      "metadata": {
        "id": "Xhy6_khKfdxz"
      },
      "source": [
        "### dust_weather DF의 결측치 처리\n",
        "\n",
        "26개의 결측치가 보인다. 각 날의 값이 있는 시간대의 평균을 내서 \n",
        "결측치를 채울것이다. "
      ]
    },
    {
      "cell_type": "code",
      "metadata": {
        "id": "Q4QIVvu8guqh"
      },
      "source": [
        "#우선 서초구는 동일하니까\n",
        "dust_weather['측정소 이름'].fillna('서초구',inplace=True)"
      ],
      "execution_count": 118,
      "outputs": []
    },
    {
      "cell_type": "code",
      "metadata": {
        "colab": {
          "base_uri": "https://localhost:8080/"
        },
        "id": "kzx3B82SfpmD",
        "outputId": "5b2f4aa4-3678-494d-fa04-e6461d9da9e1"
      },
      "source": [
        "#2월 21데이터의 na값이 아닌 것들의 미세먼지/ 초미세먼지 평균을 볼 것\n",
        "print(round(dust_weather[(dust_weather.month==2)&(dust_weather.day==21)&(dust_weather['미세먼지 평균'].notna())]['미세먼지 평균'].mean()))\n",
        "print(round(dust_weather[(dust_weather.month==2)&(dust_weather.day==21)&(dust_weather['미세먼지 평균'].notna())]['초미세먼지 평균'].mean()))"
      ],
      "execution_count": 125,
      "outputs": [
        {
          "output_type": "stream",
          "text": [
            "81\n",
            "55\n"
          ],
          "name": "stdout"
        }
      ]
    },
    {
      "cell_type": "code",
      "metadata": {
        "id": "x6fK6IhBijFb"
      },
      "source": [
        "#month, day로 그룹 한 것의 mean값으로 대체 해 주기로 함.\n",
        "dust_weather['미세먼지 평균']= dust_weather['미세먼지 평균'].fillna(dust_weather.groupby(['month','day'])['미세먼지 평균'].transform('mean'))\n",
        "dust_weather['초미세먼지 평균']= dust_weather['초미세먼지 평균'].fillna(dust_weather.groupby(['month','day'])['초미세먼지 평균'].transform('mean'))"
      ],
      "execution_count": 131,
      "outputs": []
    },
    {
      "cell_type": "code",
      "metadata": {
        "colab": {
          "base_uri": "https://localhost:8080/"
        },
        "id": "vbR1PpjyjLoO",
        "outputId": "349c33f0-c6aa-4bd9-d40d-a5b38589c79d"
      },
      "source": [
        "dust_weather.isna().sum()"
      ],
      "execution_count": 135,
      "outputs": [
        {
          "output_type": "execute_result",
          "data": {
            "text/plain": [
              "측정소 이름      0\n",
              "미세먼지 평균     0\n",
              "초미세먼지 평균    0\n",
              "year        0\n",
              "month       0\n",
              "day         0\n",
              "hour        0\n",
              "rainval     0\n",
              "tempval     0\n",
              "humval      0\n",
              "windval     0\n",
              "dtype: int64"
            ]
          },
          "metadata": {
            "tags": []
          },
          "execution_count": 135
        }
      ]
    },
    {
      "cell_type": "markdown",
      "metadata": {
        "id": "APSYWWT_jmW8"
      },
      "source": [
        "### data(따릉이 정보)와 merge"
      ]
    },
    {
      "cell_type": "code",
      "metadata": {
        "colab": {
          "base_uri": "https://localhost:8080/",
          "height": 408
        },
        "id": "tCvsTB4kjpjV",
        "outputId": "b6a7f4e5-7cf1-48e0-e513-b4bdc228da88"
      },
      "source": [
        "data"
      ],
      "execution_count": 136,
      "outputs": [
        {
          "output_type": "execute_result",
          "data": {
            "text/html": [
              "<div>\n",
              "<style scoped>\n",
              "    .dataframe tbody tr th:only-of-type {\n",
              "        vertical-align: middle;\n",
              "    }\n",
              "\n",
              "    .dataframe tbody tr th {\n",
              "        vertical-align: top;\n",
              "    }\n",
              "\n",
              "    .dataframe thead th {\n",
              "        text-align: right;\n",
              "    }\n",
              "</style>\n",
              "<table border=\"1\" class=\"dataframe\">\n",
              "  <thead>\n",
              "    <tr style=\"text-align: right;\">\n",
              "      <th></th>\n",
              "      <th>hour</th>\n",
              "      <th>num</th>\n",
              "      <th>stno</th>\n",
              "      <th>stname</th>\n",
              "      <th>place</th>\n",
              "      <th>year</th>\n",
              "      <th>month</th>\n",
              "      <th>day</th>\n",
              "    </tr>\n",
              "  </thead>\n",
              "  <tbody>\n",
              "    <tr>\n",
              "      <th>1362</th>\n",
              "      <td>1</td>\n",
              "      <td>1</td>\n",
              "      <td>2219</td>\n",
              "      <td>고속터미널역 8-1번, 8-2번 출구 사이</td>\n",
              "      <td>서초구</td>\n",
              "      <td>2020</td>\n",
              "      <td>1</td>\n",
              "      <td>1</td>\n",
              "    </tr>\n",
              "    <tr>\n",
              "      <th>1363</th>\n",
              "      <td>1</td>\n",
              "      <td>1</td>\n",
              "      <td>2219</td>\n",
              "      <td>고속터미널역 8-1번, 8-2번 출구 사이</td>\n",
              "      <td>서초구</td>\n",
              "      <td>2020</td>\n",
              "      <td>1</td>\n",
              "      <td>1</td>\n",
              "    </tr>\n",
              "    <tr>\n",
              "      <th>1364</th>\n",
              "      <td>2</td>\n",
              "      <td>1</td>\n",
              "      <td>2219</td>\n",
              "      <td>고속터미널역 8-1번, 8-2번 출구 사이</td>\n",
              "      <td>서초구</td>\n",
              "      <td>2020</td>\n",
              "      <td>1</td>\n",
              "      <td>1</td>\n",
              "    </tr>\n",
              "    <tr>\n",
              "      <th>1365</th>\n",
              "      <td>2</td>\n",
              "      <td>1</td>\n",
              "      <td>2219</td>\n",
              "      <td>고속터미널역 8-1번, 8-2번 출구 사이</td>\n",
              "      <td>서초구</td>\n",
              "      <td>2020</td>\n",
              "      <td>1</td>\n",
              "      <td>1</td>\n",
              "    </tr>\n",
              "    <tr>\n",
              "      <th>1366</th>\n",
              "      <td>2</td>\n",
              "      <td>1</td>\n",
              "      <td>2219</td>\n",
              "      <td>고속터미널역 8-1번, 8-2번 출구 사이</td>\n",
              "      <td>서초구</td>\n",
              "      <td>2020</td>\n",
              "      <td>1</td>\n",
              "      <td>1</td>\n",
              "    </tr>\n",
              "    <tr>\n",
              "      <th>...</th>\n",
              "      <td>...</td>\n",
              "      <td>...</td>\n",
              "      <td>...</td>\n",
              "      <td>...</td>\n",
              "      <td>...</td>\n",
              "      <td>...</td>\n",
              "      <td>...</td>\n",
              "      <td>...</td>\n",
              "    </tr>\n",
              "    <tr>\n",
              "      <th>790895</th>\n",
              "      <td>13</td>\n",
              "      <td>1</td>\n",
              "      <td>2543</td>\n",
              "      <td>경문고교 사거리</td>\n",
              "      <td>서초구</td>\n",
              "      <td>2020</td>\n",
              "      <td>11</td>\n",
              "      <td>17</td>\n",
              "    </tr>\n",
              "    <tr>\n",
              "      <th>790896</th>\n",
              "      <td>13</td>\n",
              "      <td>1</td>\n",
              "      <td>2543</td>\n",
              "      <td>경문고교 사거리</td>\n",
              "      <td>서초구</td>\n",
              "      <td>2020</td>\n",
              "      <td>11</td>\n",
              "      <td>17</td>\n",
              "    </tr>\n",
              "    <tr>\n",
              "      <th>790897</th>\n",
              "      <td>19</td>\n",
              "      <td>1</td>\n",
              "      <td>2543</td>\n",
              "      <td>경문고교 사거리</td>\n",
              "      <td>서초구</td>\n",
              "      <td>2020</td>\n",
              "      <td>11</td>\n",
              "      <td>19</td>\n",
              "    </tr>\n",
              "    <tr>\n",
              "      <th>790898</th>\n",
              "      <td>17</td>\n",
              "      <td>1</td>\n",
              "      <td>2543</td>\n",
              "      <td>경문고교 사거리</td>\n",
              "      <td>서초구</td>\n",
              "      <td>2020</td>\n",
              "      <td>11</td>\n",
              "      <td>20</td>\n",
              "    </tr>\n",
              "    <tr>\n",
              "      <th>790899</th>\n",
              "      <td>0</td>\n",
              "      <td>1</td>\n",
              "      <td>2543</td>\n",
              "      <td>경문고교 사거리</td>\n",
              "      <td>서초구</td>\n",
              "      <td>2020</td>\n",
              "      <td>11</td>\n",
              "      <td>21</td>\n",
              "    </tr>\n",
              "  </tbody>\n",
              "</table>\n",
              "<p>758714 rows × 8 columns</p>\n",
              "</div>"
            ],
            "text/plain": [
              "        hour  num  stno                   stname place  year  month  day\n",
              "1362       1    1  2219  고속터미널역 8-1번, 8-2번 출구 사이   서초구  2020      1    1\n",
              "1363       1    1  2219  고속터미널역 8-1번, 8-2번 출구 사이   서초구  2020      1    1\n",
              "1364       2    1  2219  고속터미널역 8-1번, 8-2번 출구 사이   서초구  2020      1    1\n",
              "1365       2    1  2219  고속터미널역 8-1번, 8-2번 출구 사이   서초구  2020      1    1\n",
              "1366       2    1  2219  고속터미널역 8-1번, 8-2번 출구 사이   서초구  2020      1    1\n",
              "...      ...  ...   ...                      ...   ...   ...    ...  ...\n",
              "790895    13    1  2543                 경문고교 사거리   서초구  2020     11   17\n",
              "790896    13    1  2543                 경문고교 사거리   서초구  2020     11   17\n",
              "790897    19    1  2543                 경문고교 사거리   서초구  2020     11   19\n",
              "790898    17    1  2543                 경문고교 사거리   서초구  2020     11   20\n",
              "790899     0    1  2543                 경문고교 사거리   서초구  2020     11   21\n",
              "\n",
              "[758714 rows x 8 columns]"
            ]
          },
          "metadata": {
            "tags": []
          },
          "execution_count": 136
        }
      ]
    },
    {
      "cell_type": "code",
      "metadata": {
        "colab": {
          "base_uri": "https://localhost:8080/",
          "height": 408
        },
        "id": "J3n0P3wMjqlM",
        "outputId": "68e78099-7758-447c-f038-24fedebc6f90"
      },
      "source": [
        "dust_weather"
      ],
      "execution_count": 137,
      "outputs": [
        {
          "output_type": "execute_result",
          "data": {
            "text/html": [
              "<div>\n",
              "<style scoped>\n",
              "    .dataframe tbody tr th:only-of-type {\n",
              "        vertical-align: middle;\n",
              "    }\n",
              "\n",
              "    .dataframe tbody tr th {\n",
              "        vertical-align: top;\n",
              "    }\n",
              "\n",
              "    .dataframe thead th {\n",
              "        text-align: right;\n",
              "    }\n",
              "</style>\n",
              "<table border=\"1\" class=\"dataframe\">\n",
              "  <thead>\n",
              "    <tr style=\"text-align: right;\">\n",
              "      <th></th>\n",
              "      <th>측정소 이름</th>\n",
              "      <th>미세먼지 평균</th>\n",
              "      <th>초미세먼지 평균</th>\n",
              "      <th>year</th>\n",
              "      <th>month</th>\n",
              "      <th>day</th>\n",
              "      <th>hour</th>\n",
              "      <th>rainval</th>\n",
              "      <th>tempval</th>\n",
              "      <th>humval</th>\n",
              "      <th>windval</th>\n",
              "    </tr>\n",
              "  </thead>\n",
              "  <tbody>\n",
              "    <tr>\n",
              "      <th>0</th>\n",
              "      <td>서초구</td>\n",
              "      <td>49.000000</td>\n",
              "      <td>34.000000</td>\n",
              "      <td>2020</td>\n",
              "      <td>1</td>\n",
              "      <td>31</td>\n",
              "      <td>23</td>\n",
              "      <td>0.0</td>\n",
              "      <td>1.000000</td>\n",
              "      <td>79.0</td>\n",
              "      <td>0.9</td>\n",
              "    </tr>\n",
              "    <tr>\n",
              "      <th>1</th>\n",
              "      <td>서초구</td>\n",
              "      <td>49.000000</td>\n",
              "      <td>31.000000</td>\n",
              "      <td>2020</td>\n",
              "      <td>1</td>\n",
              "      <td>31</td>\n",
              "      <td>22</td>\n",
              "      <td>0.0</td>\n",
              "      <td>-0.300000</td>\n",
              "      <td>86.0</td>\n",
              "      <td>0.9</td>\n",
              "    </tr>\n",
              "    <tr>\n",
              "      <th>2</th>\n",
              "      <td>서초구</td>\n",
              "      <td>47.000000</td>\n",
              "      <td>985.000000</td>\n",
              "      <td>2020</td>\n",
              "      <td>1</td>\n",
              "      <td>31</td>\n",
              "      <td>21</td>\n",
              "      <td>0.0</td>\n",
              "      <td>-1.100000</td>\n",
              "      <td>95.0</td>\n",
              "      <td>0.9</td>\n",
              "    </tr>\n",
              "    <tr>\n",
              "      <th>3</th>\n",
              "      <td>서초구</td>\n",
              "      <td>47.000000</td>\n",
              "      <td>31.000000</td>\n",
              "      <td>2020</td>\n",
              "      <td>1</td>\n",
              "      <td>31</td>\n",
              "      <td>20</td>\n",
              "      <td>0.0</td>\n",
              "      <td>-0.600000</td>\n",
              "      <td>92.0</td>\n",
              "      <td>0.9</td>\n",
              "    </tr>\n",
              "    <tr>\n",
              "      <th>4</th>\n",
              "      <td>서초구</td>\n",
              "      <td>48.000000</td>\n",
              "      <td>31.000000</td>\n",
              "      <td>2020</td>\n",
              "      <td>1</td>\n",
              "      <td>31</td>\n",
              "      <td>19</td>\n",
              "      <td>0.0</td>\n",
              "      <td>-0.800000</td>\n",
              "      <td>96.0</td>\n",
              "      <td>0.8</td>\n",
              "    </tr>\n",
              "    <tr>\n",
              "      <th>...</th>\n",
              "      <td>...</td>\n",
              "      <td>...</td>\n",
              "      <td>...</td>\n",
              "      <td>...</td>\n",
              "      <td>...</td>\n",
              "      <td>...</td>\n",
              "      <td>...</td>\n",
              "      <td>...</td>\n",
              "      <td>...</td>\n",
              "      <td>...</td>\n",
              "      <td>...</td>\n",
              "    </tr>\n",
              "    <tr>\n",
              "      <th>8779</th>\n",
              "      <td>서초구</td>\n",
              "      <td>25.263158</td>\n",
              "      <td>12.421053</td>\n",
              "      <td>2020</td>\n",
              "      <td>7</td>\n",
              "      <td>4</td>\n",
              "      <td>0</td>\n",
              "      <td>0.0</td>\n",
              "      <td>25.400000</td>\n",
              "      <td>47.0</td>\n",
              "      <td>1.4</td>\n",
              "    </tr>\n",
              "    <tr>\n",
              "      <th>8780</th>\n",
              "      <td>서초구</td>\n",
              "      <td>25.263158</td>\n",
              "      <td>12.421053</td>\n",
              "      <td>2020</td>\n",
              "      <td>7</td>\n",
              "      <td>4</td>\n",
              "      <td>1</td>\n",
              "      <td>0.0</td>\n",
              "      <td>27.100000</td>\n",
              "      <td>45.0</td>\n",
              "      <td>1.3</td>\n",
              "    </tr>\n",
              "    <tr>\n",
              "      <th>8781</th>\n",
              "      <td>서초구</td>\n",
              "      <td>25.263158</td>\n",
              "      <td>12.421053</td>\n",
              "      <td>2020</td>\n",
              "      <td>7</td>\n",
              "      <td>4</td>\n",
              "      <td>2</td>\n",
              "      <td>0.0</td>\n",
              "      <td>26.799999</td>\n",
              "      <td>46.0</td>\n",
              "      <td>2.2</td>\n",
              "    </tr>\n",
              "    <tr>\n",
              "      <th>8782</th>\n",
              "      <td>서초구</td>\n",
              "      <td>25.263158</td>\n",
              "      <td>12.421053</td>\n",
              "      <td>2020</td>\n",
              "      <td>7</td>\n",
              "      <td>4</td>\n",
              "      <td>3</td>\n",
              "      <td>0.0</td>\n",
              "      <td>27.700001</td>\n",
              "      <td>41.0</td>\n",
              "      <td>1.6</td>\n",
              "    </tr>\n",
              "    <tr>\n",
              "      <th>8783</th>\n",
              "      <td>서초구</td>\n",
              "      <td>25.263158</td>\n",
              "      <td>12.421053</td>\n",
              "      <td>2020</td>\n",
              "      <td>7</td>\n",
              "      <td>4</td>\n",
              "      <td>4</td>\n",
              "      <td>0.0</td>\n",
              "      <td>28.799999</td>\n",
              "      <td>40.0</td>\n",
              "      <td>1.7</td>\n",
              "    </tr>\n",
              "  </tbody>\n",
              "</table>\n",
              "<p>8784 rows × 11 columns</p>\n",
              "</div>"
            ],
            "text/plain": [
              "     측정소 이름    미세먼지 평균    초미세먼지 평균  year  ...  rainval    tempval  humval  windval\n",
              "0       서초구  49.000000   34.000000  2020  ...      0.0   1.000000    79.0      0.9\n",
              "1       서초구  49.000000   31.000000  2020  ...      0.0  -0.300000    86.0      0.9\n",
              "2       서초구  47.000000  985.000000  2020  ...      0.0  -1.100000    95.0      0.9\n",
              "3       서초구  47.000000   31.000000  2020  ...      0.0  -0.600000    92.0      0.9\n",
              "4       서초구  48.000000   31.000000  2020  ...      0.0  -0.800000    96.0      0.8\n",
              "...     ...        ...         ...   ...  ...      ...        ...     ...      ...\n",
              "8779    서초구  25.263158   12.421053  2020  ...      0.0  25.400000    47.0      1.4\n",
              "8780    서초구  25.263158   12.421053  2020  ...      0.0  27.100000    45.0      1.3\n",
              "8781    서초구  25.263158   12.421053  2020  ...      0.0  26.799999    46.0      2.2\n",
              "8782    서초구  25.263158   12.421053  2020  ...      0.0  27.700001    41.0      1.6\n",
              "8783    서초구  25.263158   12.421053  2020  ...      0.0  28.799999    40.0      1.7\n",
              "\n",
              "[8784 rows x 11 columns]"
            ]
          },
          "metadata": {
            "tags": []
          },
          "execution_count": 137
        }
      ]
    },
    {
      "cell_type": "code",
      "metadata": {
        "id": "OI44H4_0j7ll"
      },
      "source": [
        "final_data= pd.merge(data, dust_weather, on=['year','month','day','hour'])"
      ],
      "execution_count": 138,
      "outputs": []
    },
    {
      "cell_type": "code",
      "metadata": {
        "id": "e-DPp6hSkFG1"
      },
      "source": [
        "#모든 데이터가 서초구이기 때문에 서초구 column은 필요 없음\n",
        "final_data.drop('측정소 이름', axis=1, inplace=True)\n",
        "final_data.drop('place',inplace=True, axis=1)"
      ],
      "execution_count": 140,
      "outputs": []
    },
    {
      "cell_type": "code",
      "metadata": {
        "colab": {
          "base_uri": "https://localhost:8080/",
          "height": 200
        },
        "id": "uBfmR6tUkJm7",
        "outputId": "fd46595e-7614-4ce6-b5c0-112a4f746097"
      },
      "source": [
        "final_data.head()"
      ],
      "execution_count": 145,
      "outputs": [
        {
          "output_type": "execute_result",
          "data": {
            "text/html": [
              "<div>\n",
              "<style scoped>\n",
              "    .dataframe tbody tr th:only-of-type {\n",
              "        vertical-align: middle;\n",
              "    }\n",
              "\n",
              "    .dataframe tbody tr th {\n",
              "        vertical-align: top;\n",
              "    }\n",
              "\n",
              "    .dataframe thead th {\n",
              "        text-align: right;\n",
              "    }\n",
              "</style>\n",
              "<table border=\"1\" class=\"dataframe\">\n",
              "  <thead>\n",
              "    <tr style=\"text-align: right;\">\n",
              "      <th></th>\n",
              "      <th>hour</th>\n",
              "      <th>num</th>\n",
              "      <th>stno</th>\n",
              "      <th>stname</th>\n",
              "      <th>year</th>\n",
              "      <th>month</th>\n",
              "      <th>day</th>\n",
              "      <th>미세먼지 평균</th>\n",
              "      <th>초미세먼지 평균</th>\n",
              "      <th>rainval</th>\n",
              "      <th>tempval</th>\n",
              "      <th>humval</th>\n",
              "      <th>windval</th>\n",
              "    </tr>\n",
              "  </thead>\n",
              "  <tbody>\n",
              "    <tr>\n",
              "      <th>0</th>\n",
              "      <td>1</td>\n",
              "      <td>1</td>\n",
              "      <td>2219</td>\n",
              "      <td>고속터미널역 8-1번, 8-2번 출구 사이</td>\n",
              "      <td>2020</td>\n",
              "      <td>1</td>\n",
              "      <td>1</td>\n",
              "      <td>30.0</td>\n",
              "      <td>12.0</td>\n",
              "      <td>0.0</td>\n",
              "      <td>-3.2</td>\n",
              "      <td>84.0</td>\n",
              "      <td>1.1</td>\n",
              "    </tr>\n",
              "    <tr>\n",
              "      <th>1</th>\n",
              "      <td>1</td>\n",
              "      <td>1</td>\n",
              "      <td>2219</td>\n",
              "      <td>고속터미널역 8-1번, 8-2번 출구 사이</td>\n",
              "      <td>2020</td>\n",
              "      <td>1</td>\n",
              "      <td>1</td>\n",
              "      <td>30.0</td>\n",
              "      <td>12.0</td>\n",
              "      <td>0.0</td>\n",
              "      <td>-3.2</td>\n",
              "      <td>84.0</td>\n",
              "      <td>1.1</td>\n",
              "    </tr>\n",
              "    <tr>\n",
              "      <th>2</th>\n",
              "      <td>1</td>\n",
              "      <td>1</td>\n",
              "      <td>2297</td>\n",
              "      <td>남부터미널역 1번출구</td>\n",
              "      <td>2020</td>\n",
              "      <td>1</td>\n",
              "      <td>1</td>\n",
              "      <td>30.0</td>\n",
              "      <td>12.0</td>\n",
              "      <td>0.0</td>\n",
              "      <td>-3.2</td>\n",
              "      <td>84.0</td>\n",
              "      <td>1.1</td>\n",
              "    </tr>\n",
              "    <tr>\n",
              "      <th>3</th>\n",
              "      <td>1</td>\n",
              "      <td>1</td>\n",
              "      <td>2231</td>\n",
              "      <td>삼성타운(삼성생명) A동 맞은편</td>\n",
              "      <td>2020</td>\n",
              "      <td>1</td>\n",
              "      <td>1</td>\n",
              "      <td>30.0</td>\n",
              "      <td>12.0</td>\n",
              "      <td>0.0</td>\n",
              "      <td>-3.2</td>\n",
              "      <td>84.0</td>\n",
              "      <td>1.1</td>\n",
              "    </tr>\n",
              "    <tr>\n",
              "      <th>4</th>\n",
              "      <td>1</td>\n",
              "      <td>1</td>\n",
              "      <td>2231</td>\n",
              "      <td>삼성타운(삼성생명) A동 맞은편</td>\n",
              "      <td>2020</td>\n",
              "      <td>1</td>\n",
              "      <td>1</td>\n",
              "      <td>30.0</td>\n",
              "      <td>12.0</td>\n",
              "      <td>0.0</td>\n",
              "      <td>-3.2</td>\n",
              "      <td>84.0</td>\n",
              "      <td>1.1</td>\n",
              "    </tr>\n",
              "  </tbody>\n",
              "</table>\n",
              "</div>"
            ],
            "text/plain": [
              "   hour  num  stno                   stname  ...  rainval  tempval  humval  windval\n",
              "0     1    1  2219  고속터미널역 8-1번, 8-2번 출구 사이  ...      0.0     -3.2    84.0      1.1\n",
              "1     1    1  2219  고속터미널역 8-1번, 8-2번 출구 사이  ...      0.0     -3.2    84.0      1.1\n",
              "2     1    1  2297              남부터미널역 1번출구  ...      0.0     -3.2    84.0      1.1\n",
              "3     1    1  2231        삼성타운(삼성생명) A동 맞은편  ...      0.0     -3.2    84.0      1.1\n",
              "4     1    1  2231        삼성타운(삼성생명) A동 맞은편  ...      0.0     -3.2    84.0      1.1\n",
              "\n",
              "[5 rows x 13 columns]"
            ]
          },
          "metadata": {
            "tags": []
          },
          "execution_count": 145
        }
      ]
    },
    {
      "cell_type": "code",
      "metadata": {
        "colab": {
          "base_uri": "https://localhost:8080/"
        },
        "id": "HASjhSmhkjhr",
        "outputId": "68e8930c-274c-4189-cdbc-be45fbfc61ed"
      },
      "source": [
        "final_data.isna().sum()"
      ],
      "execution_count": 147,
      "outputs": [
        {
          "output_type": "execute_result",
          "data": {
            "text/plain": [
              "hour        0\n",
              "num         0\n",
              "stno        0\n",
              "stname      0\n",
              "year        0\n",
              "month       0\n",
              "day         0\n",
              "미세먼지 평균     0\n",
              "초미세먼지 평균    0\n",
              "rainval     0\n",
              "tempval     0\n",
              "humval      0\n",
              "windval     0\n",
              "dtype: int64"
            ]
          },
          "metadata": {
            "tags": []
          },
          "execution_count": 147
        }
      ]
    },
    {
      "cell_type": "markdown",
      "metadata": {
        "id": "NOpzhFKNkpSs"
      },
      "source": [
        "# 최종 데이터셋인 final_data 완료."
      ]
    },
    {
      "cell_type": "code",
      "metadata": {
        "id": "8d5BS7wvkxiE"
      },
      "source": [
        "from pandas import DataFrame\n",
        "final_data.to_csv('final_data.csv', encoding='UTF-8')"
      ],
      "execution_count": 148,
      "outputs": []
    }
  ]
}