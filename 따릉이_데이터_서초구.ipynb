{
  "nbformat": 4,
  "nbformat_minor": 0,
  "metadata": {
    "colab": {
      "name": "따릉이 데이터_서초구.ipynb",
      "provenance": [],
      "collapsed_sections": [
        "JdysVMDRnKwT",
        "vzdQrEMYmBDM",
        "xJqIRKNBnPc2",
        "rzC8qTKJpdtN",
        "6JoPWIn7pvE-",
        "BNlcE3EP1pKe",
        "90luwsZX2U4t",
        "JaD4nKfk5SD7",
        "uZt8W1Hu5h2a",
        "Hvvowv0I6Oe_",
        "8gZFhAHI6okR",
        "AN2Nc6qB8iCZ",
        "kLB2IsEH9Jpn",
        "psXRmpG_Or_1",
        "1_i1KtuOoEhF"
      ],
      "mount_file_id": "1IkI0jZfOiWNRJQ6s5CaZi4ZTGwd1JOAr",
      "authorship_tag": "ABX9TyNntp7ZVfY/6HNleZlyKBWs",
      "include_colab_link": true
    },
    "kernelspec": {
      "name": "python3",
      "display_name": "Python 3"
    },
    "language_info": {
      "name": "python"
    },
    "accelerator": "GPU"
  },
  "cells": [
    {
      "cell_type": "markdown",
      "metadata": {
        "id": "view-in-github",
        "colab_type": "text"
      },
      "source": [
        "<a href=\"https://colab.research.google.com/github/oliviachchoi/SDproject-bike-/blob/main/%EB%94%B0%EB%A6%89%EC%9D%B4_%EB%8D%B0%EC%9D%B4%ED%84%B0_%EC%84%9C%EC%B4%88%EA%B5%AC.ipynb\" target=\"_parent\"><img src=\"https://colab.research.google.com/assets/colab-badge.svg\" alt=\"Open In Colab\"/></a>"
      ]
    },
    {
      "cell_type": "markdown",
      "metadata": {
        "id": "JdysVMDRnKwT"
      },
      "source": [
        "# Introduction"
      ]
    },
    {
      "cell_type": "markdown",
      "metadata": {
        "id": "vzdQrEMYmBDM"
      },
      "source": [
        "#따릉이 프로젝트 최종본\n",
        "\n",
        "Why I Chose this Project?\n",
        "- 학원 마치고 따릉이를 자주 이용하는데, 근처 따릉이 정류소에 따릉이가 없을 때 so sad girl 됨\n",
        "- 서초구 따릉이 대여소의 각 시간대별 사용량을 예측하여서 자전거의 효과적인 재배치에 도움이 되고자( 행복한 자전거 퇴근길이 되게끔^^) 이 프로젝트를 선청하였다.\n",
        "\n",
        "- 서울 전역을 하기엔 시간이 부족해서 우선은 서초구에 있는 따릉이를 위주로 분석을 할 것\n",
        "\n",
        "#사용된 데이터\n",
        "\n",
        "- 서울시 공공데이터 포털 => 따릉이 대여소 정보\n",
        "- 서울시 공공데이터 포털 => 따릉이 시간대별 정보\n",
        "- 서울시 공공데이터 포털 => 미세먼지, 초미세먼지 데이터\n",
        "- 기상청 => 날씨 데이터\n",
        "\n",
        "+ Target 변수: 각 대여소 별 이용건수"
      ]
    },
    {
      "cell_type": "markdown",
      "metadata": {
        "id": "xJqIRKNBnPc2"
      },
      "source": [
        "# Data Preparing"
      ]
    },
    {
      "cell_type": "markdown",
      "metadata": {
        "id": "rzC8qTKJpdtN"
      },
      "source": [
        "## 따릉이 대여소 정보 데이터"
      ]
    },
    {
      "cell_type": "markdown",
      "metadata": {
        "id": "DX7WvDg7nbUo"
      },
      "source": [
        "따릉이 대여소 정보 데이터 불러오기"
      ]
    },
    {
      "cell_type": "code",
      "metadata": {
        "id": "N90imOPWmAsj"
      },
      "source": [
        "import pandas as pd\n",
        "import numpy as np\n",
        "import matplotlib.pyplot as plt\n",
        "import seaborn as sns\n",
        "\n",
        "#따릉이 대여소 정보\n",
        "station=pd.read_csv('/content/drive/MyDrive/따릉이 project/공공자전거 대여소 정보(21.01.31 기준).csv',encoding='cp949',skiprows=5,header=None)"
      ],
      "execution_count": null,
      "outputs": []
    },
    {
      "cell_type": "code",
      "metadata": {
        "id": "S564e181nv44"
      },
      "source": [
        "#station columns rename\n",
        "station= station.rename(columns= {0: 'stno', 1: 'stname',2: 'place',3:'detailedplace',4:'Lat',5:'Long',6:'Time',7:'LCD',8:'QR',9:'method'})"
      ],
      "execution_count": null,
      "outputs": []
    },
    {
      "cell_type": "code",
      "metadata": {
        "colab": {
          "base_uri": "https://localhost:8080/"
        },
        "id": "i74TT27VnuNC",
        "outputId": "6bc933ce-0251-4f4a-ccdb-15d6baf2cade"
      },
      "source": [
        "station.head()"
      ],
      "execution_count": null,
      "outputs": [
        {
          "output_type": "execute_result",
          "data": {
            "text/html": [
              "<div>\n",
              "<style scoped>\n",
              "    .dataframe tbody tr th:only-of-type {\n",
              "        vertical-align: middle;\n",
              "    }\n",
              "\n",
              "    .dataframe tbody tr th {\n",
              "        vertical-align: top;\n",
              "    }\n",
              "\n",
              "    .dataframe thead th {\n",
              "        text-align: right;\n",
              "    }\n",
              "</style>\n",
              "<table border=\"1\" class=\"dataframe\">\n",
              "  <thead>\n",
              "    <tr style=\"text-align: right;\">\n",
              "      <th></th>\n",
              "      <th>stno</th>\n",
              "      <th>stname</th>\n",
              "      <th>place</th>\n",
              "      <th>detailedplace</th>\n",
              "      <th>Lat</th>\n",
              "      <th>Long</th>\n",
              "      <th>Time</th>\n",
              "      <th>LCD</th>\n",
              "      <th>QR</th>\n",
              "      <th>method</th>\n",
              "    </tr>\n",
              "  </thead>\n",
              "  <tbody>\n",
              "    <tr>\n",
              "      <th>0</th>\n",
              "      <td>301.0</td>\n",
              "      <td>경복궁역 7번출구 앞</td>\n",
              "      <td>종로구</td>\n",
              "      <td>서울특별시 종로구 사직로 지하130</td>\n",
              "      <td>37.575794</td>\n",
              "      <td>126.971451</td>\n",
              "      <td>2015-10-07</td>\n",
              "      <td>16.0</td>\n",
              "      <td>NaN</td>\n",
              "      <td>LCD</td>\n",
              "    </tr>\n",
              "    <tr>\n",
              "      <th>1</th>\n",
              "      <td>302.0</td>\n",
              "      <td>경복궁역 4번출구 뒤</td>\n",
              "      <td>종로구</td>\n",
              "      <td>서울특별시 종로구 사직로 지하130</td>\n",
              "      <td>37.575947</td>\n",
              "      <td>126.974060</td>\n",
              "      <td>2015-10-07</td>\n",
              "      <td>12.0</td>\n",
              "      <td>NaN</td>\n",
              "      <td>LCD</td>\n",
              "    </tr>\n",
              "    <tr>\n",
              "      <th>2</th>\n",
              "      <td>303.0</td>\n",
              "      <td>광화문역 1번출구 앞</td>\n",
              "      <td>종로구</td>\n",
              "      <td>서울특별시 종로구 세종대로 지하189</td>\n",
              "      <td>37.571770</td>\n",
              "      <td>126.974663</td>\n",
              "      <td>2015-10-07</td>\n",
              "      <td>8.0</td>\n",
              "      <td>NaN</td>\n",
              "      <td>LCD</td>\n",
              "    </tr>\n",
              "    <tr>\n",
              "      <th>3</th>\n",
              "      <td>304.0</td>\n",
              "      <td>광화문역 2번출구 앞</td>\n",
              "      <td>종로구</td>\n",
              "      <td>서울특별시 종로구 세종대로 지하172</td>\n",
              "      <td>37.572113</td>\n",
              "      <td>126.977577</td>\n",
              "      <td>2021-01-26</td>\n",
              "      <td>NaN</td>\n",
              "      <td>7.0</td>\n",
              "      <td>QR</td>\n",
              "    </tr>\n",
              "    <tr>\n",
              "      <th>4</th>\n",
              "      <td>305.0</td>\n",
              "      <td>종로구청 옆</td>\n",
              "      <td>종로구</td>\n",
              "      <td>서울특별시 종로구 삼봉로 43</td>\n",
              "      <td>37.572582</td>\n",
              "      <td>126.978355</td>\n",
              "      <td>2015-10-07</td>\n",
              "      <td>16.0</td>\n",
              "      <td>NaN</td>\n",
              "      <td>LCD</td>\n",
              "    </tr>\n",
              "  </tbody>\n",
              "</table>\n",
              "</div>"
            ],
            "text/plain": [
              "    stno       stname place         detailedplace  ...        Time   LCD   QR  method\n",
              "0  301.0  경복궁역 7번출구 앞   종로구   서울특별시 종로구 사직로 지하130  ...  2015-10-07  16.0  NaN     LCD\n",
              "1  302.0  경복궁역 4번출구 뒤   종로구   서울특별시 종로구 사직로 지하130  ...  2015-10-07  12.0  NaN     LCD\n",
              "2  303.0  광화문역 1번출구 앞   종로구  서울특별시 종로구 세종대로 지하189  ...  2015-10-07   8.0  NaN     LCD\n",
              "3  304.0  광화문역 2번출구 앞   종로구  서울특별시 종로구 세종대로 지하172  ...  2021-01-26   NaN  7.0      QR\n",
              "4  305.0       종로구청 옆   종로구      서울특별시 종로구 삼봉로 43  ...  2015-10-07  16.0  NaN     LCD\n",
              "\n",
              "[5 rows x 10 columns]"
            ]
          },
          "metadata": {
            "tags": []
          },
          "execution_count": 3
        }
      ]
    },
    {
      "cell_type": "code",
      "metadata": {
        "colab": {
          "base_uri": "https://localhost:8080/"
        },
        "id": "ufg-d2xhn45t",
        "outputId": "658e9cf7-fe77-4f21-acb0-abfb602843ee"
      },
      "source": [
        "station.isna().sum()"
      ],
      "execution_count": null,
      "outputs": [
        {
          "output_type": "execute_result",
          "data": {
            "text/plain": [
              "stno                3\n",
              "stname              3\n",
              "place               3\n",
              "detailedplace       3\n",
              "Lat               115\n",
              "Long              115\n",
              "Time                5\n",
              "LCD               675\n",
              "QR               1486\n",
              "method              3\n",
              "dtype: int64"
            ]
          },
          "metadata": {
            "tags": []
          },
          "execution_count": 4
        }
      ]
    },
    {
      "cell_type": "code",
      "metadata": {
        "colab": {
          "base_uri": "https://localhost:8080/"
        },
        "id": "i34qZT4ooADn",
        "outputId": "5fa1c638-26c6-403d-d3e6-00d9f28028cd"
      },
      "source": [
        "plt.figure(figsize=(8,6))\n",
        "plt.scatter(station.Long, station.Lat, alpha=0.5, edgecolors='black')\n",
        "plt.title('Station Location')\n",
        "#비교적 밀집되어있는 구역과 한산한 구역을 시각적으로 확인 할 수 있다."
      ],
      "execution_count": null,
      "outputs": [
        {
          "output_type": "execute_result",
          "data": {
            "text/plain": [
              "Text(0.5, 1.0, 'Station Location')"
            ]
          },
          "metadata": {
            "tags": []
          },
          "execution_count": 5
        },
        {
          "output_type": "display_data",
          "data": {
            "image/png": "[encoded data removed]",
            "text/plain": [
              "<Figure size 576x432 with 1 Axes>"
            ]
          },
          "metadata": {
            "tags": [],
            "needs_background": "light"
          }
        }
      ]
    },
    {
      "cell_type": "code",
      "metadata": {
        "colab": {
          "base_uri": "https://localhost:8080/"
        },
        "id": "OnlnW-veoESB",
        "outputId": "bc797068-65a0-443d-c252-59bdcc24aafb"
      },
      "source": [
        "a=pd.DataFrame(station.place.value_counts())\n",
        "print('Top 3 :')\n",
        "print(a.head(3))\n",
        "print('-------------')\n",
        "print('Bottom 3 :')\n",
        "print(a.tail(3))\n",
        "\n",
        "#서초구는 대여소 수 top3안에 든다"
      ],
      "execution_count": null,
      "outputs": [
        {
          "output_type": "stream",
          "text": [
            "Top 3 :\n",
            "     place\n",
            "강서구    152\n",
            "송파구    133\n",
            "서초구    122\n",
            "-------------\n",
            "Bottom 3 :\n",
            "     place\n",
            "강북구     59\n",
            "도봉구     57\n",
            "금천구     55\n"
          ],
          "name": "stdout"
        }
      ]
    },
    {
      "cell_type": "code",
      "metadata": {
        "id": "ktLyvNKcoSWy"
      },
      "source": [
        "#서초구만 불러오기\n",
        "station= station[station.place=='서초구']"
      ],
      "execution_count": null,
      "outputs": []
    },
    {
      "cell_type": "code",
      "metadata": {
        "colab": {
          "base_uri": "https://localhost:8080/"
        },
        "id": "qXwzyrnaobDz",
        "outputId": "c8609c77-b358-4063-bd87-301118d14d87"
      },
      "source": [
        "station.stname.unique()"
      ],
      "execution_count": null,
      "outputs": [
        {
          "output_type": "execute_result",
          "data": {
            "text/plain": [
              "array(['본마을 정류소 앞', '청계산입구역 1번출구', '청계산입구역 2번출구', '내곡3단지 어린이공원 앞',\n",
              "       '언남초등학교 앞', '내곡파출소 뒤 정자', '반포1동 주민센터 앞', '서초구립반포도서관 앞',\n",
              "       '서초현대4차아파트 201동 맞은편', '고속터미널역 5번출구 앞', '신반포역 2번출구 앞', '반포종합운동장 입구',\n",
              "       '아크로리버뷰 부지 앞', '고속터미널역 8-1번, 8-2번 출구 사이', '반포본동 주민센터 앞',\n",
              "       '하나은행 방배동지점 앞', '사당역 12번출구 뒤', '방배래미안 정문 앞', '백석예술대학교 제3캠퍼스 앞',\n",
              "       '신동아럭스빌아파트 앞', '방배열린문화센터 앞', '뒷벌공원 옆', '로고스교회 맞은 편', '이수역 4번 출구',\n",
              "       '삼성타운(삼성생명) A동 맞은편', '서초신동아1차아파트 옆', 'KT 서초지사 앞', '서울남부터미널 대합실 입구',\n",
              "       '교대역 6번출구', '양재전화국 사거리', '양재역 11번 출구 앞', '서울가정법원', '교육개발원입구 교차로',\n",
              "       '양재초등학교 맞은편', '서울시 품질시험소 앞', '섬들근린공원', '서초리슈빌S 글로벌 앞',\n",
              "       '우솔초등학교 맞은편', '서초유치원 맞은편', '더케이호텔 입구(양재2)', '하이브랜드 앞',\n",
              "       '시민의숲역 1번출구 옆', '양재동 꽃시장 입구', '하나로클럽 양재점 맞은편', '구룡사 삼거리',\n",
              "       '잠원역 3번-4번 출구사이', '한신16차아파트 119동 앞', '바우뫼문화복지회관', '이수역 1번출구',\n",
              "       '이수고가차도 남단', '서초역 3번출구', '서초4동주민센터', '주홍교 하부', '서초포레스타 7단지',\n",
              "       '내방역 8번출구 앞', '교대입구 교차로', '일동제약 사거리', '양재시민의숲역 3번출구', '염곡치안센터 건너편',\n",
              "       '영동1교 (양재천근린공원)', '길마중4교 하부', '교대역 5번출구뒤', '서울서초고용센터앞',\n",
              "       '연세사랑병원신관앞', '방배래미안아트힐 101동앞', '그룹한빌딩옆', 'CJ오쇼핑앞',\n",
              "       'LH서초3단지 301동 맞은편', '탑성마을입구', '능안마을입구', '안골마을입구', '남태령역 2번출구',\n",
              "       '무지개아파트 앞', 'SPC 앞', '두상빌딩 앞', '남부터미널역 1번출구', '래미안서초스위트앞',\n",
              "       '한전아트센터 앞', '서초 포레스타5단지', '서초역1번출구 앞', '반포1동 서초빌딩 앞', '신사역 4번출구 뒤',\n",
              "       '우성아파트사거리 (기업은행앞)', 'LG유플러스 (방배사옥)', '양재이스타빌 앞', 'KT반포지사', 'JW타워',\n",
              "       '이수역 6번출구 앞', '사평역 2번출구', '서초초등학교 후문', '본마을 노인복지센터 앞',\n",
              "       '서초3교(효령로69길 방면)', '서초3교(효령로70길 방면)', '서초2교(사임당로 방면)',\n",
              "       '서초1교 (진흥아파트 방면)', '서초 크로바타워 앞', '뉴코아 킴스클럽 앞', '반포쇼핑타운 8동 앞',\n",
              "       '반포쇼핑타운 2동 앞', '반포경남쇼핑 앞', '반포중학교 앞(세화여고 맞은편)', '함지박 사거리',\n",
              "       '우리은행 방배동지점 앞', '삼호3차아파트 앞', '멤피스아파트 앞', '국립국악원 앞', '한가람미술관 앞',\n",
              "       '신흥교(애견훈련소)', '신반포역 3번출구 뒤', '서초종합체육관 입구', '양재역 8번출구 앞', '사평리 공원',\n",
              "       '대한무역투자진흥공사 KOTRA 앞', '반포천 앞', '옛골 입구', '신논현역2번출구(신논현타워 앞)',\n",
              "       '경문고교 사거리', '국립중앙도서관(국제회의장옆)', '포드서초서비스센터앞', '반포1동 자율방범초소 옆',\n",
              "       'LH 서초 4단지 403동', '양재동 꽃시장 건너편'], dtype=object)"
            ]
          },
          "metadata": {
            "tags": []
          },
          "execution_count": 8
        }
      ]
    },
    {
      "cell_type": "code",
      "metadata": {
        "id": "OdsDD83votzg"
      },
      "source": [
        "station['stno']= station.stno.astype(int)"
      ],
      "execution_count": null,
      "outputs": []
    },
    {
      "cell_type": "code",
      "metadata": {
        "id": "zt57hDEYo1pb"
      },
      "source": [
        "list_s= ['stno','stname','place']\n",
        "station= station[list_s]"
      ],
      "execution_count": null,
      "outputs": []
    },
    {
      "cell_type": "code",
      "metadata": {
        "colab": {
          "base_uri": "https://localhost:8080/"
        },
        "id": "hAHKXru-pEKn",
        "outputId": "1ec3393c-ae4c-4154-dcd3-8ea6b7e87817"
      },
      "source": [
        "#122개의 unique station\n",
        "len(station.stno.unique())"
      ],
      "execution_count": null,
      "outputs": [
        {
          "output_type": "execute_result",
          "data": {
            "text/plain": [
              "122"
            ]
          },
          "metadata": {
            "tags": []
          },
          "execution_count": 11
        }
      ]
    },
    {
      "cell_type": "code",
      "metadata": {
        "colab": {
          "base_uri": "https://localhost:8080/"
        },
        "id": "tAXqmBRopSng",
        "outputId": "75df27ef-5582-4cbd-dc2c-d2ed2230ed3c"
      },
      "source": [
        "station.isna().sum()"
      ],
      "execution_count": null,
      "outputs": [
        {
          "output_type": "execute_result",
          "data": {
            "text/plain": [
              "stno      0\n",
              "stname    0\n",
              "place     0\n",
              "dtype: int64"
            ]
          },
          "metadata": {
            "tags": []
          },
          "execution_count": 12
        }
      ]
    },
    {
      "cell_type": "code",
      "metadata": {
        "colab": {
          "base_uri": "https://localhost:8080/"
        },
        "id": "jrfbF4sFpZLy",
        "outputId": "a2e6d446-064c-43bf-cdb3-59368d8dca9b"
      },
      "source": [
        "station"
      ],
      "execution_count": null,
      "outputs": [
        {
          "output_type": "execute_result",
          "data": {
            "text/html": [
              "<div>\n",
              "<style scoped>\n",
              "    .dataframe tbody tr th:only-of-type {\n",
              "        vertical-align: middle;\n",
              "    }\n",
              "\n",
              "    .dataframe tbody tr th {\n",
              "        vertical-align: top;\n",
              "    }\n",
              "\n",
              "    .dataframe thead th {\n",
              "        text-align: right;\n",
              "    }\n",
              "</style>\n",
              "<table border=\"1\" class=\"dataframe\">\n",
              "  <thead>\n",
              "    <tr style=\"text-align: right;\">\n",
              "      <th></th>\n",
              "      <th>stno</th>\n",
              "      <th>stname</th>\n",
              "      <th>place</th>\n",
              "    </tr>\n",
              "  </thead>\n",
              "  <tbody>\n",
              "    <tr>\n",
              "      <th>1697</th>\n",
              "      <td>2201</td>\n",
              "      <td>본마을 정류소 앞</td>\n",
              "      <td>서초구</td>\n",
              "    </tr>\n",
              "    <tr>\n",
              "      <th>1698</th>\n",
              "      <td>2202</td>\n",
              "      <td>청계산입구역 1번출구</td>\n",
              "      <td>서초구</td>\n",
              "    </tr>\n",
              "    <tr>\n",
              "      <th>1699</th>\n",
              "      <td>2203</td>\n",
              "      <td>청계산입구역 2번출구</td>\n",
              "      <td>서초구</td>\n",
              "    </tr>\n",
              "    <tr>\n",
              "      <th>1700</th>\n",
              "      <td>2205</td>\n",
              "      <td>내곡3단지 어린이공원 앞</td>\n",
              "      <td>서초구</td>\n",
              "    </tr>\n",
              "    <tr>\n",
              "      <th>1701</th>\n",
              "      <td>2206</td>\n",
              "      <td>언남초등학교 앞</td>\n",
              "      <td>서초구</td>\n",
              "    </tr>\n",
              "    <tr>\n",
              "      <th>...</th>\n",
              "      <td>...</td>\n",
              "      <td>...</td>\n",
              "      <td>...</td>\n",
              "    </tr>\n",
              "    <tr>\n",
              "      <th>1814</th>\n",
              "      <td>2545</td>\n",
              "      <td>국립중앙도서관(국제회의장옆)</td>\n",
              "      <td>서초구</td>\n",
              "    </tr>\n",
              "    <tr>\n",
              "      <th>1815</th>\n",
              "      <td>2547</td>\n",
              "      <td>포드서초서비스센터앞</td>\n",
              "      <td>서초구</td>\n",
              "    </tr>\n",
              "    <tr>\n",
              "      <th>1816</th>\n",
              "      <td>2548</td>\n",
              "      <td>반포1동 자율방범초소 옆</td>\n",
              "      <td>서초구</td>\n",
              "    </tr>\n",
              "    <tr>\n",
              "      <th>1817</th>\n",
              "      <td>2549</td>\n",
              "      <td>LH 서초 4단지 403동</td>\n",
              "      <td>서초구</td>\n",
              "    </tr>\n",
              "    <tr>\n",
              "      <th>1818</th>\n",
              "      <td>2550</td>\n",
              "      <td>양재동 꽃시장 건너편</td>\n",
              "      <td>서초구</td>\n",
              "    </tr>\n",
              "  </tbody>\n",
              "</table>\n",
              "<p>122 rows × 3 columns</p>\n",
              "</div>"
            ],
            "text/plain": [
              "      stno           stname place\n",
              "1697  2201        본마을 정류소 앞   서초구\n",
              "1698  2202      청계산입구역 1번출구   서초구\n",
              "1699  2203      청계산입구역 2번출구   서초구\n",
              "1700  2205    내곡3단지 어린이공원 앞   서초구\n",
              "1701  2206         언남초등학교 앞   서초구\n",
              "...    ...              ...   ...\n",
              "1814  2545  국립중앙도서관(국제회의장옆)   서초구\n",
              "1815  2547       포드서초서비스센터앞   서초구\n",
              "1816  2548    반포1동 자율방범초소 옆   서초구\n",
              "1817  2549   LH 서초 4단지 403동   서초구\n",
              "1818  2550      양재동 꽃시장 건너편   서초구\n",
              "\n",
              "[122 rows x 3 columns]"
            ]
          },
          "metadata": {
            "tags": []
          },
          "execution_count": 13
        }
      ]
    },
    {
      "cell_type": "markdown",
      "metadata": {
        "id": "6JoPWIn7pvE-"
      },
      "source": [
        "## 따릉이 시간별 데이터"
      ]
    },
    {
      "cell_type": "code",
      "metadata": {
        "id": "eC5LfZfyp0ac"
      },
      "source": [
        "df1_5=pd.read_csv('/content/drive/MyDrive/따릉이 project/시간대별 데이터/공공자전거 이용정보(시간대별)_19.12_20.056.csv',encoding='cp949')\n",
        "df_6=pd.read_csv('/content/drive/MyDrive/따릉이 project/시간대별 데이터/공공자전거 이용정보(시간대별)_20.06.csv',encoding='cp949')\n",
        "df_7=pd.read_csv('/content/drive/MyDrive/따릉이 project/시간대별 데이터/공공자전거 이용정보(시간대별)_20.07.csv',encoding='cp949')\n",
        "df_8=pd.read_csv('/content/drive/MyDrive/따릉이 project/시간대별 데이터/공공자전거 이용정보(시간대별)_20.08.csv',encoding='cp949')\n",
        "df_9=pd.read_csv('/content/drive/MyDrive/따릉이 project/시간대별 데이터/공공자전거 이용정보(시간대별)_20.09.csv',encoding='cp949')\n",
        "df_10=pd.read_csv('/content/drive/MyDrive/따릉이 project/시간대별 데이터/공공자전거 이용정보(시간대별)_20.10.csv',encoding='cp949')\n",
        "df_11=pd.read_csv('/content/drive/MyDrive/따릉이 project/시간대별 데이터/공공자전거 이용정보(시간대별)_20.11.csv',encoding='cp949')\n",
        "df_12=pd.read_csv('/content/drive/MyDrive/따릉이 project/시간대별 데이터/공공자전거 이용정보(시간대별)_20.12.csv',encoding='cp949')"
      ],
      "execution_count": null,
      "outputs": []
    },
    {
      "cell_type": "code",
      "metadata": {
        "id": "DlRN8ROv01_k"
      },
      "source": [
        "#concat이 error나서 append로 데이터 병합시킴\n",
        "df=df1_5.append(df_6)\n",
        "df=df.append(df_7)\n",
        "df=df.append(df_8)\n",
        "df=df.append(df_9)\n",
        "df=df.append(df_10)\n",
        "df=df.append(df_11)\n",
        "df=df.append(df_12)"
      ],
      "execution_count": null,
      "outputs": []
    },
    {
      "cell_type": "code",
      "metadata": {
        "colab": {
          "base_uri": "https://localhost:8080/"
        },
        "id": "jbTHAzcu1CNv",
        "outputId": "dd0739f1-8ee4-4dbf-ad5c-2798e8450032"
      },
      "source": [
        "df.head()"
      ],
      "execution_count": null,
      "outputs": [
        {
          "output_type": "execute_result",
          "data": {
            "text/html": [
              "<div>\n",
              "<style scoped>\n",
              "    .dataframe tbody tr th:only-of-type {\n",
              "        vertical-align: middle;\n",
              "    }\n",
              "\n",
              "    .dataframe tbody tr th {\n",
              "        vertical-align: top;\n",
              "    }\n",
              "\n",
              "    .dataframe thead th {\n",
              "        text-align: right;\n",
              "    }\n",
              "</style>\n",
              "<table border=\"1\" class=\"dataframe\">\n",
              "  <thead>\n",
              "    <tr style=\"text-align: right;\">\n",
              "      <th></th>\n",
              "      <th>대여일자</th>\n",
              "      <th>대여시간</th>\n",
              "      <th>대여소번호</th>\n",
              "      <th>대여소명</th>\n",
              "      <th>대여구분코드</th>\n",
              "      <th>성별</th>\n",
              "      <th>연령대코드</th>\n",
              "      <th>이용건수</th>\n",
              "      <th>운동량</th>\n",
              "      <th>탄소량</th>\n",
              "      <th>이동거리</th>\n",
              "      <th>사용시간</th>\n",
              "    </tr>\n",
              "  </thead>\n",
              "  <tbody>\n",
              "    <tr>\n",
              "      <th>0</th>\n",
              "      <td>2019-12-01</td>\n",
              "      <td>0</td>\n",
              "      <td>504</td>\n",
              "      <td>504. 신자초교입구교차로</td>\n",
              "      <td>정기권</td>\n",
              "      <td>NaN</td>\n",
              "      <td>~10대</td>\n",
              "      <td>3</td>\n",
              "      <td>74.84</td>\n",
              "      <td>0.67</td>\n",
              "      <td>2880.0</td>\n",
              "      <td>17</td>\n",
              "    </tr>\n",
              "    <tr>\n",
              "      <th>1</th>\n",
              "      <td>2019-12-01</td>\n",
              "      <td>0</td>\n",
              "      <td>1029</td>\n",
              "      <td>1029. 롯데 시네마</td>\n",
              "      <td>정기권</td>\n",
              "      <td>NaN</td>\n",
              "      <td>~10대</td>\n",
              "      <td>1</td>\n",
              "      <td>246.71</td>\n",
              "      <td>2.06</td>\n",
              "      <td>8900.0</td>\n",
              "      <td>45</td>\n",
              "    </tr>\n",
              "    <tr>\n",
              "      <th>2</th>\n",
              "      <td>2019-12-01</td>\n",
              "      <td>0</td>\n",
              "      <td>1153</td>\n",
              "      <td>1153. 발산역 1번, 9번 인근 대여소</td>\n",
              "      <td>정기권</td>\n",
              "      <td>NaN</td>\n",
              "      <td>~10대</td>\n",
              "      <td>1</td>\n",
              "      <td>25.60</td>\n",
              "      <td>0.23</td>\n",
              "      <td>1010.0</td>\n",
              "      <td>12</td>\n",
              "    </tr>\n",
              "    <tr>\n",
              "      <th>3</th>\n",
              "      <td>2019-12-01</td>\n",
              "      <td>0</td>\n",
              "      <td>512</td>\n",
              "      <td>512. 뚝섬역 1번 출구 옆</td>\n",
              "      <td>정기권</td>\n",
              "      <td>NaN</td>\n",
              "      <td>~10대</td>\n",
              "      <td>1</td>\n",
              "      <td>78.59</td>\n",
              "      <td>0.73</td>\n",
              "      <td>3150.0</td>\n",
              "      <td>17</td>\n",
              "    </tr>\n",
              "    <tr>\n",
              "      <th>4</th>\n",
              "      <td>2019-12-01</td>\n",
              "      <td>0</td>\n",
              "      <td>1528</td>\n",
              "      <td>1528. 삼각산동 주민센터</td>\n",
              "      <td>정기권</td>\n",
              "      <td>NaN</td>\n",
              "      <td>~10대</td>\n",
              "      <td>1</td>\n",
              "      <td>26.15</td>\n",
              "      <td>0.22</td>\n",
              "      <td>930.0</td>\n",
              "      <td>5</td>\n",
              "    </tr>\n",
              "  </tbody>\n",
              "</table>\n",
              "</div>"
            ],
            "text/plain": [
              "         대여일자  대여시간  대여소번호                     대여소명  ...     운동량   탄소량    이동거리  사용시간\n",
              "0  2019-12-01     0    504           504. 신자초교입구교차로  ...   74.84  0.67  2880.0    17\n",
              "1  2019-12-01     0   1029             1029. 롯데 시네마  ...  246.71  2.06  8900.0    45\n",
              "2  2019-12-01     0   1153  1153. 발산역 1번, 9번 인근 대여소  ...   25.60  0.23  1010.0    12\n",
              "3  2019-12-01     0    512         512. 뚝섬역 1번 출구 옆  ...   78.59  0.73  3150.0    17\n",
              "4  2019-12-01     0   1528          1528. 삼각산동 주민센터  ...   26.15  0.22   930.0     5\n",
              "\n",
              "[5 rows x 12 columns]"
            ]
          },
          "metadata": {
            "tags": []
          },
          "execution_count": 16
        }
      ]
    },
    {
      "cell_type": "code",
      "metadata": {
        "id": "Pvg5gtvn1Upf"
      },
      "source": [
        "list_need= ['대여일자','대여시간','대여소번호','이용건수']\n",
        "df= df[list_need]"
      ],
      "execution_count": null,
      "outputs": []
    },
    {
      "cell_type": "code",
      "metadata": {
        "colab": {
          "base_uri": "https://localhost:8080/"
        },
        "id": "yO1I_86q1ltS",
        "outputId": "239503b6-7b92-4b51-e4f5-faf22f71d1a4"
      },
      "source": [
        "df.head()"
      ],
      "execution_count": null,
      "outputs": [
        {
          "output_type": "execute_result",
          "data": {
            "text/html": [
              "<div>\n",
              "<style scoped>\n",
              "    .dataframe tbody tr th:only-of-type {\n",
              "        vertical-align: middle;\n",
              "    }\n",
              "\n",
              "    .dataframe tbody tr th {\n",
              "        vertical-align: top;\n",
              "    }\n",
              "\n",
              "    .dataframe thead th {\n",
              "        text-align: right;\n",
              "    }\n",
              "</style>\n",
              "<table border=\"1\" class=\"dataframe\">\n",
              "  <thead>\n",
              "    <tr style=\"text-align: right;\">\n",
              "      <th></th>\n",
              "      <th>대여일자</th>\n",
              "      <th>대여시간</th>\n",
              "      <th>대여소번호</th>\n",
              "      <th>이용건수</th>\n",
              "    </tr>\n",
              "  </thead>\n",
              "  <tbody>\n",
              "    <tr>\n",
              "      <th>0</th>\n",
              "      <td>2019-12-01</td>\n",
              "      <td>0</td>\n",
              "      <td>504</td>\n",
              "      <td>3</td>\n",
              "    </tr>\n",
              "    <tr>\n",
              "      <th>1</th>\n",
              "      <td>2019-12-01</td>\n",
              "      <td>0</td>\n",
              "      <td>1029</td>\n",
              "      <td>1</td>\n",
              "    </tr>\n",
              "    <tr>\n",
              "      <th>2</th>\n",
              "      <td>2019-12-01</td>\n",
              "      <td>0</td>\n",
              "      <td>1153</td>\n",
              "      <td>1</td>\n",
              "    </tr>\n",
              "    <tr>\n",
              "      <th>3</th>\n",
              "      <td>2019-12-01</td>\n",
              "      <td>0</td>\n",
              "      <td>512</td>\n",
              "      <td>1</td>\n",
              "    </tr>\n",
              "    <tr>\n",
              "      <th>4</th>\n",
              "      <td>2019-12-01</td>\n",
              "      <td>0</td>\n",
              "      <td>1528</td>\n",
              "      <td>1</td>\n",
              "    </tr>\n",
              "  </tbody>\n",
              "</table>\n",
              "</div>"
            ],
            "text/plain": [
              "         대여일자  대여시간  대여소번호  이용건수\n",
              "0  2019-12-01     0    504     3\n",
              "1  2019-12-01     0   1029     1\n",
              "2  2019-12-01     0   1153     1\n",
              "3  2019-12-01     0    512     1\n",
              "4  2019-12-01     0   1528     1"
            ]
          },
          "metadata": {
            "tags": []
          },
          "execution_count": 18
        }
      ]
    },
    {
      "cell_type": "code",
      "metadata": {
        "colab": {
          "base_uri": "https://localhost:8080/"
        },
        "id": "geKBICE01nOs",
        "outputId": "b06f2e81-ff2a-409e-bee8-29e50db2a440"
      },
      "source": [
        "station.head()"
      ],
      "execution_count": null,
      "outputs": [
        {
          "output_type": "execute_result",
          "data": {
            "text/html": [
              "<div>\n",
              "<style scoped>\n",
              "    .dataframe tbody tr th:only-of-type {\n",
              "        vertical-align: middle;\n",
              "    }\n",
              "\n",
              "    .dataframe tbody tr th {\n",
              "        vertical-align: top;\n",
              "    }\n",
              "\n",
              "    .dataframe thead th {\n",
              "        text-align: right;\n",
              "    }\n",
              "</style>\n",
              "<table border=\"1\" class=\"dataframe\">\n",
              "  <thead>\n",
              "    <tr style=\"text-align: right;\">\n",
              "      <th></th>\n",
              "      <th>stno</th>\n",
              "      <th>stname</th>\n",
              "      <th>place</th>\n",
              "    </tr>\n",
              "  </thead>\n",
              "  <tbody>\n",
              "    <tr>\n",
              "      <th>1697</th>\n",
              "      <td>2201</td>\n",
              "      <td>본마을 정류소 앞</td>\n",
              "      <td>서초구</td>\n",
              "    </tr>\n",
              "    <tr>\n",
              "      <th>1698</th>\n",
              "      <td>2202</td>\n",
              "      <td>청계산입구역 1번출구</td>\n",
              "      <td>서초구</td>\n",
              "    </tr>\n",
              "    <tr>\n",
              "      <th>1699</th>\n",
              "      <td>2203</td>\n",
              "      <td>청계산입구역 2번출구</td>\n",
              "      <td>서초구</td>\n",
              "    </tr>\n",
              "    <tr>\n",
              "      <th>1700</th>\n",
              "      <td>2205</td>\n",
              "      <td>내곡3단지 어린이공원 앞</td>\n",
              "      <td>서초구</td>\n",
              "    </tr>\n",
              "    <tr>\n",
              "      <th>1701</th>\n",
              "      <td>2206</td>\n",
              "      <td>언남초등학교 앞</td>\n",
              "      <td>서초구</td>\n",
              "    </tr>\n",
              "  </tbody>\n",
              "</table>\n",
              "</div>"
            ],
            "text/plain": [
              "      stno         stname place\n",
              "1697  2201      본마을 정류소 앞   서초구\n",
              "1698  2202    청계산입구역 1번출구   서초구\n",
              "1699  2203    청계산입구역 2번출구   서초구\n",
              "1700  2205  내곡3단지 어린이공원 앞   서초구\n",
              "1701  2206       언남초등학교 앞   서초구"
            ]
          },
          "metadata": {
            "tags": []
          },
          "execution_count": 19
        }
      ]
    },
    {
      "cell_type": "markdown",
      "metadata": {
        "id": "BNlcE3EP1pKe"
      },
      "source": [
        "### station 데이터와 df 데이터의 merge"
      ]
    },
    {
      "cell_type": "code",
      "metadata": {
        "id": "CgMnLu451tX_"
      },
      "source": [
        "merge_inner= pd.merge(df, station, how='inner',left_on='대여소번호',right_on='stno')"
      ],
      "execution_count": null,
      "outputs": []
    },
    {
      "cell_type": "code",
      "metadata": {
        "id": "T3LuL6aJ1-od"
      },
      "source": [
        "data=merge_inner.copy()\n",
        "data= data.rename(columns={'대여일자':'date','대여시간':'time','이용건수':'num'})"
      ],
      "execution_count": null,
      "outputs": []
    },
    {
      "cell_type": "code",
      "metadata": {
        "id": "fMzNUlN82IOB"
      },
      "source": [
        "data.drop('대여소번호',axis=1, inplace=True)"
      ],
      "execution_count": null,
      "outputs": []
    },
    {
      "cell_type": "code",
      "metadata": {
        "colab": {
          "base_uri": "https://localhost:8080/"
        },
        "id": "HCokxDRo2RJ9",
        "outputId": "bf4a5dcd-f228-4952-c543-8c56ac883078"
      },
      "source": [
        "data"
      ],
      "execution_count": null,
      "outputs": [
        {
          "output_type": "execute_result",
          "data": {
            "text/html": [
              "<div>\n",
              "<style scoped>\n",
              "    .dataframe tbody tr th:only-of-type {\n",
              "        vertical-align: middle;\n",
              "    }\n",
              "\n",
              "    .dataframe tbody tr th {\n",
              "        vertical-align: top;\n",
              "    }\n",
              "\n",
              "    .dataframe thead th {\n",
              "        text-align: right;\n",
              "    }\n",
              "</style>\n",
              "<table border=\"1\" class=\"dataframe\">\n",
              "  <thead>\n",
              "    <tr style=\"text-align: right;\">\n",
              "      <th></th>\n",
              "      <th>date</th>\n",
              "      <th>time</th>\n",
              "      <th>num</th>\n",
              "      <th>stno</th>\n",
              "      <th>stname</th>\n",
              "      <th>place</th>\n",
              "    </tr>\n",
              "  </thead>\n",
              "  <tbody>\n",
              "    <tr>\n",
              "      <th>0</th>\n",
              "      <td>2019-12-01</td>\n",
              "      <td>0</td>\n",
              "      <td>1</td>\n",
              "      <td>2219</td>\n",
              "      <td>고속터미널역 8-1번, 8-2번 출구 사이</td>\n",
              "      <td>서초구</td>\n",
              "    </tr>\n",
              "    <tr>\n",
              "      <th>1</th>\n",
              "      <td>2019-12-01</td>\n",
              "      <td>0</td>\n",
              "      <td>1</td>\n",
              "      <td>2219</td>\n",
              "      <td>고속터미널역 8-1번, 8-2번 출구 사이</td>\n",
              "      <td>서초구</td>\n",
              "    </tr>\n",
              "    <tr>\n",
              "      <th>2</th>\n",
              "      <td>2019-12-01</td>\n",
              "      <td>0</td>\n",
              "      <td>1</td>\n",
              "      <td>2219</td>\n",
              "      <td>고속터미널역 8-1번, 8-2번 출구 사이</td>\n",
              "      <td>서초구</td>\n",
              "    </tr>\n",
              "    <tr>\n",
              "      <th>3</th>\n",
              "      <td>2019-12-01</td>\n",
              "      <td>1</td>\n",
              "      <td>1</td>\n",
              "      <td>2219</td>\n",
              "      <td>고속터미널역 8-1번, 8-2번 출구 사이</td>\n",
              "      <td>서초구</td>\n",
              "    </tr>\n",
              "    <tr>\n",
              "      <th>4</th>\n",
              "      <td>2019-12-01</td>\n",
              "      <td>1</td>\n",
              "      <td>3</td>\n",
              "      <td>2219</td>\n",
              "      <td>고속터미널역 8-1번, 8-2번 출구 사이</td>\n",
              "      <td>서초구</td>\n",
              "    </tr>\n",
              "    <tr>\n",
              "      <th>...</th>\n",
              "      <td>...</td>\n",
              "      <td>...</td>\n",
              "      <td>...</td>\n",
              "      <td>...</td>\n",
              "      <td>...</td>\n",
              "      <td>...</td>\n",
              "    </tr>\n",
              "    <tr>\n",
              "      <th>790895</th>\n",
              "      <td>2020-11-17</td>\n",
              "      <td>13</td>\n",
              "      <td>1</td>\n",
              "      <td>2543</td>\n",
              "      <td>경문고교 사거리</td>\n",
              "      <td>서초구</td>\n",
              "    </tr>\n",
              "    <tr>\n",
              "      <th>790896</th>\n",
              "      <td>2020-11-17</td>\n",
              "      <td>13</td>\n",
              "      <td>1</td>\n",
              "      <td>2543</td>\n",
              "      <td>경문고교 사거리</td>\n",
              "      <td>서초구</td>\n",
              "    </tr>\n",
              "    <tr>\n",
              "      <th>790897</th>\n",
              "      <td>2020-11-19</td>\n",
              "      <td>19</td>\n",
              "      <td>1</td>\n",
              "      <td>2543</td>\n",
              "      <td>경문고교 사거리</td>\n",
              "      <td>서초구</td>\n",
              "    </tr>\n",
              "    <tr>\n",
              "      <th>790898</th>\n",
              "      <td>2020-11-20</td>\n",
              "      <td>17</td>\n",
              "      <td>1</td>\n",
              "      <td>2543</td>\n",
              "      <td>경문고교 사거리</td>\n",
              "      <td>서초구</td>\n",
              "    </tr>\n",
              "    <tr>\n",
              "      <th>790899</th>\n",
              "      <td>2020-11-21</td>\n",
              "      <td>0</td>\n",
              "      <td>1</td>\n",
              "      <td>2543</td>\n",
              "      <td>경문고교 사거리</td>\n",
              "      <td>서초구</td>\n",
              "    </tr>\n",
              "  </tbody>\n",
              "</table>\n",
              "<p>790900 rows × 6 columns</p>\n",
              "</div>"
            ],
            "text/plain": [
              "              date  time  num  stno                   stname place\n",
              "0       2019-12-01     0    1  2219  고속터미널역 8-1번, 8-2번 출구 사이   서초구\n",
              "1       2019-12-01     0    1  2219  고속터미널역 8-1번, 8-2번 출구 사이   서초구\n",
              "2       2019-12-01     0    1  2219  고속터미널역 8-1번, 8-2번 출구 사이   서초구\n",
              "3       2019-12-01     1    1  2219  고속터미널역 8-1번, 8-2번 출구 사이   서초구\n",
              "4       2019-12-01     1    3  2219  고속터미널역 8-1번, 8-2번 출구 사이   서초구\n",
              "...            ...   ...  ...   ...                      ...   ...\n",
              "790895  2020-11-17    13    1  2543                 경문고교 사거리   서초구\n",
              "790896  2020-11-17    13    1  2543                 경문고교 사거리   서초구\n",
              "790897  2020-11-19    19    1  2543                 경문고교 사거리   서초구\n",
              "790898  2020-11-20    17    1  2543                 경문고교 사거리   서초구\n",
              "790899  2020-11-21     0    1  2543                 경문고교 사거리   서초구\n",
              "\n",
              "[790900 rows x 6 columns]"
            ]
          },
          "metadata": {
            "tags": []
          },
          "execution_count": 23
        }
      ]
    },
    {
      "cell_type": "markdown",
      "metadata": {
        "id": "90luwsZX2U4t"
      },
      "source": [
        "### 대여일자 feature engineering"
      ]
    },
    {
      "cell_type": "code",
      "metadata": {
        "colab": {
          "base_uri": "https://localhost:8080/"
        },
        "id": "eWy4qZnO2X0l",
        "outputId": "9bfdf460-70a7-42e2-e202-5dbf9e4be6dd"
      },
      "source": [
        "import datetime\n",
        "#year, month, day 변수\n",
        "data['date']= pd.to_datetime(data.date)\n",
        "data['year']= data['date'].dt.strftime('%Y')\n",
        "data['month']=data['date'].dt.strftime('%m')\n",
        "data['day']=data['date'].dt.strftime('%d')\n",
        "\n",
        "#to int type\n",
        "data['year']=data['year'].astype(int)\n",
        "data['month']=data['month'].astype(int)\n",
        "data['day']=data['day'].astype(int)\n",
        "\n",
        "#2020 data만 추출\n",
        "data=data[data['year']==2020]\n",
        "data.drop('date',axis=1, inplace=True)"
      ],
      "execution_count": null,
      "outputs": [
        {
          "output_type": "stream",
          "text": [
            "/usr/local/lib/python3.7/dist-packages/pandas/core/frame.py:4174: SettingWithCopyWarning: \n",
            "A value is trying to be set on a copy of a slice from a DataFrame\n",
            "\n",
            "See the caveats in the documentation: https://pandas.pydata.org/pandas-docs/stable/user_guide/indexing.html#returning-a-view-versus-a-copy\n",
            "  errors=errors,\n"
          ],
          "name": "stderr"
        }
      ]
    },
    {
      "cell_type": "code",
      "metadata": {
        "colab": {
          "base_uri": "https://localhost:8080/"
        },
        "id": "8Kq7-_GX4G2s",
        "outputId": "7b8f2153-18af-4169-c79c-0aaf280451c3"
      },
      "source": [
        "data"
      ],
      "execution_count": null,
      "outputs": [
        {
          "output_type": "execute_result",
          "data": {
            "text/html": [
              "<div>\n",
              "<style scoped>\n",
              "    .dataframe tbody tr th:only-of-type {\n",
              "        vertical-align: middle;\n",
              "    }\n",
              "\n",
              "    .dataframe tbody tr th {\n",
              "        vertical-align: top;\n",
              "    }\n",
              "\n",
              "    .dataframe thead th {\n",
              "        text-align: right;\n",
              "    }\n",
              "</style>\n",
              "<table border=\"1\" class=\"dataframe\">\n",
              "  <thead>\n",
              "    <tr style=\"text-align: right;\">\n",
              "      <th></th>\n",
              "      <th>time</th>\n",
              "      <th>num</th>\n",
              "      <th>stno</th>\n",
              "      <th>stname</th>\n",
              "      <th>place</th>\n",
              "      <th>year</th>\n",
              "      <th>month</th>\n",
              "      <th>day</th>\n",
              "    </tr>\n",
              "  </thead>\n",
              "  <tbody>\n",
              "    <tr>\n",
              "      <th>1362</th>\n",
              "      <td>1</td>\n",
              "      <td>1</td>\n",
              "      <td>2219</td>\n",
              "      <td>고속터미널역 8-1번, 8-2번 출구 사이</td>\n",
              "      <td>서초구</td>\n",
              "      <td>2020</td>\n",
              "      <td>1</td>\n",
              "      <td>1</td>\n",
              "    </tr>\n",
              "    <tr>\n",
              "      <th>1363</th>\n",
              "      <td>1</td>\n",
              "      <td>1</td>\n",
              "      <td>2219</td>\n",
              "      <td>고속터미널역 8-1번, 8-2번 출구 사이</td>\n",
              "      <td>서초구</td>\n",
              "      <td>2020</td>\n",
              "      <td>1</td>\n",
              "      <td>1</td>\n",
              "    </tr>\n",
              "    <tr>\n",
              "      <th>1364</th>\n",
              "      <td>2</td>\n",
              "      <td>1</td>\n",
              "      <td>2219</td>\n",
              "      <td>고속터미널역 8-1번, 8-2번 출구 사이</td>\n",
              "      <td>서초구</td>\n",
              "      <td>2020</td>\n",
              "      <td>1</td>\n",
              "      <td>1</td>\n",
              "    </tr>\n",
              "    <tr>\n",
              "      <th>1365</th>\n",
              "      <td>2</td>\n",
              "      <td>1</td>\n",
              "      <td>2219</td>\n",
              "      <td>고속터미널역 8-1번, 8-2번 출구 사이</td>\n",
              "      <td>서초구</td>\n",
              "      <td>2020</td>\n",
              "      <td>1</td>\n",
              "      <td>1</td>\n",
              "    </tr>\n",
              "    <tr>\n",
              "      <th>1366</th>\n",
              "      <td>2</td>\n",
              "      <td>1</td>\n",
              "      <td>2219</td>\n",
              "      <td>고속터미널역 8-1번, 8-2번 출구 사이</td>\n",
              "      <td>서초구</td>\n",
              "      <td>2020</td>\n",
              "      <td>1</td>\n",
              "      <td>1</td>\n",
              "    </tr>\n",
              "    <tr>\n",
              "      <th>...</th>\n",
              "      <td>...</td>\n",
              "      <td>...</td>\n",
              "      <td>...</td>\n",
              "      <td>...</td>\n",
              "      <td>...</td>\n",
              "      <td>...</td>\n",
              "      <td>...</td>\n",
              "      <td>...</td>\n",
              "    </tr>\n",
              "    <tr>\n",
              "      <th>790895</th>\n",
              "      <td>13</td>\n",
              "      <td>1</td>\n",
              "      <td>2543</td>\n",
              "      <td>경문고교 사거리</td>\n",
              "      <td>서초구</td>\n",
              "      <td>2020</td>\n",
              "      <td>11</td>\n",
              "      <td>17</td>\n",
              "    </tr>\n",
              "    <tr>\n",
              "      <th>790896</th>\n",
              "      <td>13</td>\n",
              "      <td>1</td>\n",
              "      <td>2543</td>\n",
              "      <td>경문고교 사거리</td>\n",
              "      <td>서초구</td>\n",
              "      <td>2020</td>\n",
              "      <td>11</td>\n",
              "      <td>17</td>\n",
              "    </tr>\n",
              "    <tr>\n",
              "      <th>790897</th>\n",
              "      <td>19</td>\n",
              "      <td>1</td>\n",
              "      <td>2543</td>\n",
              "      <td>경문고교 사거리</td>\n",
              "      <td>서초구</td>\n",
              "      <td>2020</td>\n",
              "      <td>11</td>\n",
              "      <td>19</td>\n",
              "    </tr>\n",
              "    <tr>\n",
              "      <th>790898</th>\n",
              "      <td>17</td>\n",
              "      <td>1</td>\n",
              "      <td>2543</td>\n",
              "      <td>경문고교 사거리</td>\n",
              "      <td>서초구</td>\n",
              "      <td>2020</td>\n",
              "      <td>11</td>\n",
              "      <td>20</td>\n",
              "    </tr>\n",
              "    <tr>\n",
              "      <th>790899</th>\n",
              "      <td>0</td>\n",
              "      <td>1</td>\n",
              "      <td>2543</td>\n",
              "      <td>경문고교 사거리</td>\n",
              "      <td>서초구</td>\n",
              "      <td>2020</td>\n",
              "      <td>11</td>\n",
              "      <td>21</td>\n",
              "    </tr>\n",
              "  </tbody>\n",
              "</table>\n",
              "<p>758714 rows × 8 columns</p>\n",
              "</div>"
            ],
            "text/plain": [
              "        time  num  stno                   stname place  year  month  day\n",
              "1362       1    1  2219  고속터미널역 8-1번, 8-2번 출구 사이   서초구  2020      1    1\n",
              "1363       1    1  2219  고속터미널역 8-1번, 8-2번 출구 사이   서초구  2020      1    1\n",
              "1364       2    1  2219  고속터미널역 8-1번, 8-2번 출구 사이   서초구  2020      1    1\n",
              "1365       2    1  2219  고속터미널역 8-1번, 8-2번 출구 사이   서초구  2020      1    1\n",
              "1366       2    1  2219  고속터미널역 8-1번, 8-2번 출구 사이   서초구  2020      1    1\n",
              "...      ...  ...   ...                      ...   ...   ...    ...  ...\n",
              "790895    13    1  2543                 경문고교 사거리   서초구  2020     11   17\n",
              "790896    13    1  2543                 경문고교 사거리   서초구  2020     11   17\n",
              "790897    19    1  2543                 경문고교 사거리   서초구  2020     11   19\n",
              "790898    17    1  2543                 경문고교 사거리   서초구  2020     11   20\n",
              "790899     0    1  2543                 경문고교 사거리   서초구  2020     11   21\n",
              "\n",
              "[758714 rows x 8 columns]"
            ]
          },
          "metadata": {
            "tags": []
          },
          "execution_count": 25
        }
      ]
    },
    {
      "cell_type": "code",
      "metadata": {
        "id": "RNXA6d5eoF98"
      },
      "source": [
        "#groupby => 빌린 갯수만 sum으로 넣음\n",
        "data=data.groupby(by=['year','month','day','time','stno','stname','place'], as_index=False).sum()"
      ],
      "execution_count": null,
      "outputs": []
    },
    {
      "cell_type": "code",
      "metadata": {
        "id": "zV7xv0gZpBxJ"
      },
      "source": [
        "list_ord=['year','month','day','time','place','stno','stname','num']\n",
        "data=data[list_ord]"
      ],
      "execution_count": null,
      "outputs": []
    },
    {
      "cell_type": "code",
      "metadata": {
        "colab": {
          "base_uri": "https://localhost:8080/"
        },
        "id": "Q8-XJB_FpQt1",
        "outputId": "abe34c53-ce55-4454-b541-ade248169436"
      },
      "source": [
        "data"
      ],
      "execution_count": null,
      "outputs": [
        {
          "output_type": "execute_result",
          "data": {
            "text/html": [
              "<div>\n",
              "<style scoped>\n",
              "    .dataframe tbody tr th:only-of-type {\n",
              "        vertical-align: middle;\n",
              "    }\n",
              "\n",
              "    .dataframe tbody tr th {\n",
              "        vertical-align: top;\n",
              "    }\n",
              "\n",
              "    .dataframe thead th {\n",
              "        text-align: right;\n",
              "    }\n",
              "</style>\n",
              "<table border=\"1\" class=\"dataframe\">\n",
              "  <thead>\n",
              "    <tr style=\"text-align: right;\">\n",
              "      <th></th>\n",
              "      <th>year</th>\n",
              "      <th>month</th>\n",
              "      <th>day</th>\n",
              "      <th>time</th>\n",
              "      <th>place</th>\n",
              "      <th>stno</th>\n",
              "      <th>stname</th>\n",
              "      <th>num</th>\n",
              "    </tr>\n",
              "  </thead>\n",
              "  <tbody>\n",
              "    <tr>\n",
              "      <th>0</th>\n",
              "      <td>2020</td>\n",
              "      <td>1</td>\n",
              "      <td>1</td>\n",
              "      <td>0</td>\n",
              "      <td>서초구</td>\n",
              "      <td>2213</td>\n",
              "      <td>고속터미널역 5번출구 앞</td>\n",
              "      <td>1</td>\n",
              "    </tr>\n",
              "    <tr>\n",
              "      <th>1</th>\n",
              "      <td>2020</td>\n",
              "      <td>1</td>\n",
              "      <td>1</td>\n",
              "      <td>0</td>\n",
              "      <td>서초구</td>\n",
              "      <td>2222</td>\n",
              "      <td>사당역 12번출구 뒤</td>\n",
              "      <td>1</td>\n",
              "    </tr>\n",
              "    <tr>\n",
              "      <th>2</th>\n",
              "      <td>2020</td>\n",
              "      <td>1</td>\n",
              "      <td>1</td>\n",
              "      <td>0</td>\n",
              "      <td>서초구</td>\n",
              "      <td>2251</td>\n",
              "      <td>더케이호텔 입구(양재2)</td>\n",
              "      <td>1</td>\n",
              "    </tr>\n",
              "    <tr>\n",
              "      <th>3</th>\n",
              "      <td>2020</td>\n",
              "      <td>1</td>\n",
              "      <td>1</td>\n",
              "      <td>0</td>\n",
              "      <td>서초구</td>\n",
              "      <td>2256</td>\n",
              "      <td>양재동 꽃시장 입구</td>\n",
              "      <td>1</td>\n",
              "    </tr>\n",
              "    <tr>\n",
              "      <th>4</th>\n",
              "      <td>2020</td>\n",
              "      <td>1</td>\n",
              "      <td>1</td>\n",
              "      <td>0</td>\n",
              "      <td>서초구</td>\n",
              "      <td>2268</td>\n",
              "      <td>서초4동주민센터</td>\n",
              "      <td>2</td>\n",
              "    </tr>\n",
              "    <tr>\n",
              "      <th>...</th>\n",
              "      <td>...</td>\n",
              "      <td>...</td>\n",
              "      <td>...</td>\n",
              "      <td>...</td>\n",
              "      <td>...</td>\n",
              "      <td>...</td>\n",
              "      <td>...</td>\n",
              "      <td>...</td>\n",
              "    </tr>\n",
              "    <tr>\n",
              "      <th>359515</th>\n",
              "      <td>2020</td>\n",
              "      <td>12</td>\n",
              "      <td>31</td>\n",
              "      <td>23</td>\n",
              "      <td>서초구</td>\n",
              "      <td>2294</td>\n",
              "      <td>두상빌딩 앞</td>\n",
              "      <td>1</td>\n",
              "    </tr>\n",
              "    <tr>\n",
              "      <th>359516</th>\n",
              "      <td>2020</td>\n",
              "      <td>12</td>\n",
              "      <td>31</td>\n",
              "      <td>23</td>\n",
              "      <td>서초구</td>\n",
              "      <td>2502</td>\n",
              "      <td>서초역1번출구 앞</td>\n",
              "      <td>1</td>\n",
              "    </tr>\n",
              "    <tr>\n",
              "      <th>359517</th>\n",
              "      <td>2020</td>\n",
              "      <td>12</td>\n",
              "      <td>31</td>\n",
              "      <td>23</td>\n",
              "      <td>서초구</td>\n",
              "      <td>2508</td>\n",
              "      <td>양재이스타빌 앞</td>\n",
              "      <td>1</td>\n",
              "    </tr>\n",
              "    <tr>\n",
              "      <th>359518</th>\n",
              "      <td>2020</td>\n",
              "      <td>12</td>\n",
              "      <td>31</td>\n",
              "      <td>23</td>\n",
              "      <td>서초구</td>\n",
              "      <td>2524</td>\n",
              "      <td>반포쇼핑타운 8동 앞</td>\n",
              "      <td>1</td>\n",
              "    </tr>\n",
              "    <tr>\n",
              "      <th>359519</th>\n",
              "      <td>2020</td>\n",
              "      <td>12</td>\n",
              "      <td>31</td>\n",
              "      <td>23</td>\n",
              "      <td>서초구</td>\n",
              "      <td>2529</td>\n",
              "      <td>우리은행 방배동지점 앞</td>\n",
              "      <td>1</td>\n",
              "    </tr>\n",
              "  </tbody>\n",
              "</table>\n",
              "<p>359520 rows × 8 columns</p>\n",
              "</div>"
            ],
            "text/plain": [
              "        year  month  day  time place  stno         stname  num\n",
              "0       2020      1    1     0   서초구  2213  고속터미널역 5번출구 앞    1\n",
              "1       2020      1    1     0   서초구  2222    사당역 12번출구 뒤    1\n",
              "2       2020      1    1     0   서초구  2251  더케이호텔 입구(양재2)    1\n",
              "3       2020      1    1     0   서초구  2256     양재동 꽃시장 입구    1\n",
              "4       2020      1    1     0   서초구  2268       서초4동주민센터    2\n",
              "...      ...    ...  ...   ...   ...   ...            ...  ...\n",
              "359515  2020     12   31    23   서초구  2294         두상빌딩 앞    1\n",
              "359516  2020     12   31    23   서초구  2502      서초역1번출구 앞    1\n",
              "359517  2020     12   31    23   서초구  2508       양재이스타빌 앞    1\n",
              "359518  2020     12   31    23   서초구  2524    반포쇼핑타운 8동 앞    1\n",
              "359519  2020     12   31    23   서초구  2529   우리은행 방배동지점 앞    1\n",
              "\n",
              "[359520 rows x 8 columns]"
            ]
          },
          "metadata": {
            "tags": []
          },
          "execution_count": 28
        }
      ]
    },
    {
      "cell_type": "code",
      "metadata": {
        "colab": {
          "base_uri": "https://localhost:8080/"
        },
        "id": "ZRz86phs4h4V",
        "outputId": "2d39f7f2-3a57-4939-9eed-6304ba6b2b20"
      },
      "source": [
        "data.stno.isna().sum()"
      ],
      "execution_count": null,
      "outputs": [
        {
          "output_type": "execute_result",
          "data": {
            "text/plain": [
              "0"
            ]
          },
          "metadata": {
            "tags": []
          },
          "execution_count": 29
        }
      ]
    },
    {
      "cell_type": "code",
      "metadata": {
        "colab": {
          "base_uri": "https://localhost:8080/"
        },
        "id": "EmjiCa-M48fK",
        "outputId": "3a5b4903-f92a-492b-861b-0c1c12a2025a"
      },
      "source": [
        "len(data.stno.unique())\n",
        "#서초구엔 약 122개의 대여소가 있다. "
      ],
      "execution_count": null,
      "outputs": [
        {
          "output_type": "execute_result",
          "data": {
            "text/plain": [
              "122"
            ]
          },
          "metadata": {
            "tags": []
          },
          "execution_count": 30
        }
      ]
    },
    {
      "cell_type": "markdown",
      "metadata": {
        "id": "JaD4nKfk5SD7"
      },
      "source": [
        "## 미세먼지 데이터"
      ]
    },
    {
      "cell_type": "markdown",
      "metadata": {
        "id": "uZt8W1Hu5h2a"
      },
      "source": [
        "### 데이터 불러오기"
      ]
    },
    {
      "cell_type": "code",
      "metadata": {
        "id": "zGc_I3_S5dyW"
      },
      "source": [
        "dust1=pd.read_csv('/content/drive/MyDrive/따릉이 project/미세먼지/AIR_HOUR_202001.csv',encoding='cp949')\n",
        "dust2=pd.read_csv('/content/drive/MyDrive/따릉이 project/미세먼지/AIR_HOUR_202002.csv',encoding='cp949')\n",
        "dust3=pd.read_csv('/content/drive/MyDrive/따릉이 project/미세먼지/AIR_HOUR_202003.csv',encoding='cp949')\n",
        "dust4=pd.read_csv('/content/drive/MyDrive/따릉이 project/미세먼지/AIR_HOUR_202004.csv',encoding='cp949')\n",
        "dust5=pd.read_csv('/content/drive/MyDrive/따릉이 project/미세먼지/AIR_HOUR_202005.csv',encoding='cp949')\n",
        "dust6=pd.read_csv('/content/drive/MyDrive/따릉이 project/미세먼지/AIR_HOUR_202006.csv',encoding='cp949')\n",
        "dust7=pd.read_csv('/content/drive/MyDrive/따릉이 project/미세먼지/AIR_HOUR_202007.csv',encoding='cp949')\n",
        "dust8=pd.read_csv('/content/drive/MyDrive/따릉이 project/미세먼지/AIR_HOUR_202008.csv',encoding='cp949')\n",
        "dust9=pd.read_csv('/content/drive/MyDrive/따릉이 project/미세먼지/AIR_HOUR_202009.csv',encoding='cp949')\n",
        "dust10=pd.read_csv('/content/drive/MyDrive/따릉이 project/미세먼지/AIR_HOUR_202010.csv',encoding='cp949')\n",
        "dust11=pd.read_csv('/content/drive/MyDrive/따릉이 project/미세먼지/AIR_HOUR_202011.csv',encoding='cp949')\n",
        "dust12=pd.read_csv('/content/drive/MyDrive/따릉이 project/미세먼지/AIR_HOUR_202012.csv',encoding='cp949')\n",
        "\n",
        "dust_info=pd.read_csv('/content/drive/MyDrive/따릉이 project/미세먼지/서울특별시 대기오염 측정소 정보.csv',encoding='cp949')"
      ],
      "execution_count": null,
      "outputs": []
    },
    {
      "cell_type": "code",
      "metadata": {
        "id": "mRGKBBW_5nT-"
      },
      "source": [
        "#측정항목코드= 8미세먼지, 9=초미세먼지\n",
        "list_1= ['측정일시','측정소 코드','측정항목 코드','평균값']\n",
        "\n",
        "dust1=dust1[list_1]\n",
        "dust1.head()\n",
        "dust2= dust2[list_1]\n",
        "dust3=dust3[list_1]\n",
        "dust4=dust4[list_1]\n",
        "dust4=dust4[list_1]\n",
        "dust5=dust5[list_1]\n",
        "dust6=dust6[list_1]\n",
        "dust7=dust7[list_1]\n",
        "dust8=dust8[list_1]\n",
        "dust9=dust9[list_1]\n",
        "dust10=dust10[list_1]\n",
        "dust11=dust11[list_1]\n",
        "dust12=dust12[list_1]"
      ],
      "execution_count": null,
      "outputs": []
    },
    {
      "cell_type": "code",
      "metadata": {
        "id": "sWesxsAG5xw8"
      },
      "source": [
        "dust_df= dust1.append(dust2)\n",
        "dust_df=dust_df.append(dust3)\n",
        "dust_df=dust_df.append(dust4)\n",
        "dust_df=dust_df.append(dust5)\n",
        "dust_df=dust_df.append(dust6)\n",
        "dust_df=dust_df.append(dust7)\n",
        "dust_df=dust_df.append(dust8)\n",
        "dust_df=dust_df.append(dust9)\n",
        "dust_df=dust_df.append(dust10)\n",
        "dust_df=dust_df.append(dust11)\n",
        "dust_df=dust_df.append(dust12)"
      ],
      "execution_count": null,
      "outputs": []
    },
    {
      "cell_type": "code",
      "metadata": {
        "colab": {
          "base_uri": "https://localhost:8080/"
        },
        "id": "mtB1VJNd5zPk",
        "outputId": "6d59483d-b42b-4447-e4cb-eb94a6487ec2"
      },
      "source": [
        "dust_df"
      ],
      "execution_count": null,
      "outputs": [
        {
          "output_type": "execute_result",
          "data": {
            "text/html": [
              "<div>\n",
              "<style scoped>\n",
              "    .dataframe tbody tr th:only-of-type {\n",
              "        vertical-align: middle;\n",
              "    }\n",
              "\n",
              "    .dataframe tbody tr th {\n",
              "        vertical-align: top;\n",
              "    }\n",
              "\n",
              "    .dataframe thead th {\n",
              "        text-align: right;\n",
              "    }\n",
              "</style>\n",
              "<table border=\"1\" class=\"dataframe\">\n",
              "  <thead>\n",
              "    <tr style=\"text-align: right;\">\n",
              "      <th></th>\n",
              "      <th>측정일시</th>\n",
              "      <th>측정소 코드</th>\n",
              "      <th>측정항목 코드</th>\n",
              "      <th>평균값</th>\n",
              "    </tr>\n",
              "  </thead>\n",
              "  <tbody>\n",
              "    <tr>\n",
              "      <th>0</th>\n",
              "      <td>20200131230000</td>\n",
              "      <td>117</td>\n",
              "      <td>1</td>\n",
              "      <td>0.005</td>\n",
              "    </tr>\n",
              "    <tr>\n",
              "      <th>1</th>\n",
              "      <td>20200131230000</td>\n",
              "      <td>104</td>\n",
              "      <td>9</td>\n",
              "      <td>35.000</td>\n",
              "    </tr>\n",
              "    <tr>\n",
              "      <th>2</th>\n",
              "      <td>20200131230000</td>\n",
              "      <td>104</td>\n",
              "      <td>8</td>\n",
              "      <td>47.000</td>\n",
              "    </tr>\n",
              "    <tr>\n",
              "      <th>3</th>\n",
              "      <td>20200131230000</td>\n",
              "      <td>101</td>\n",
              "      <td>3</td>\n",
              "      <td>0.048</td>\n",
              "    </tr>\n",
              "    <tr>\n",
              "      <th>4</th>\n",
              "      <td>20200131230000</td>\n",
              "      <td>101</td>\n",
              "      <td>1</td>\n",
              "      <td>0.003</td>\n",
              "    </tr>\n",
              "    <tr>\n",
              "      <th>...</th>\n",
              "      <td>...</td>\n",
              "      <td>...</td>\n",
              "      <td>...</td>\n",
              "      <td>...</td>\n",
              "    </tr>\n",
              "    <tr>\n",
              "      <th>111595</th>\n",
              "      <td>20201201000000</td>\n",
              "      <td>124</td>\n",
              "      <td>3</td>\n",
              "      <td>0.046</td>\n",
              "    </tr>\n",
              "    <tr>\n",
              "      <th>111596</th>\n",
              "      <td>20201201000000</td>\n",
              "      <td>105</td>\n",
              "      <td>9</td>\n",
              "      <td>15.000</td>\n",
              "    </tr>\n",
              "    <tr>\n",
              "      <th>111597</th>\n",
              "      <td>20201201000000</td>\n",
              "      <td>119</td>\n",
              "      <td>1</td>\n",
              "      <td>0.004</td>\n",
              "    </tr>\n",
              "    <tr>\n",
              "      <th>111598</th>\n",
              "      <td>20201201000000</td>\n",
              "      <td>107</td>\n",
              "      <td>9</td>\n",
              "      <td>22.000</td>\n",
              "    </tr>\n",
              "    <tr>\n",
              "      <th>111599</th>\n",
              "      <td>20201201000000</td>\n",
              "      <td>103</td>\n",
              "      <td>1</td>\n",
              "      <td>0.003</td>\n",
              "    </tr>\n",
              "  </tbody>\n",
              "</table>\n",
              "<p>1313688 rows × 4 columns</p>\n",
              "</div>"
            ],
            "text/plain": [
              "                  측정일시  측정소 코드  측정항목 코드     평균값\n",
              "0       20200131230000     117        1   0.005\n",
              "1       20200131230000     104        9  35.000\n",
              "2       20200131230000     104        8  47.000\n",
              "3       20200131230000     101        3   0.048\n",
              "4       20200131230000     101        1   0.003\n",
              "...                ...     ...      ...     ...\n",
              "111595  20201201000000     124        3   0.046\n",
              "111596  20201201000000     105        9  15.000\n",
              "111597  20201201000000     119        1   0.004\n",
              "111598  20201201000000     107        9  22.000\n",
              "111599  20201201000000     103        1   0.003\n",
              "\n",
              "[1313688 rows x 4 columns]"
            ]
          },
          "metadata": {
            "tags": []
          },
          "execution_count": 34
        }
      ]
    },
    {
      "cell_type": "code",
      "metadata": {
        "colab": {
          "base_uri": "https://localhost:8080/"
        },
        "id": "Ff236-dV5299",
        "outputId": "1eb3e5e8-4672-4e1d-abeb-e55dd13a8a4a"
      },
      "source": [
        "dust_info"
      ],
      "execution_count": null,
      "outputs": [
        {
          "output_type": "execute_result",
          "data": {
            "text/html": [
              "<div>\n",
              "<style scoped>\n",
              "    .dataframe tbody tr th:only-of-type {\n",
              "        vertical-align: middle;\n",
              "    }\n",
              "\n",
              "    .dataframe tbody tr th {\n",
              "        vertical-align: top;\n",
              "    }\n",
              "\n",
              "    .dataframe thead th {\n",
              "        text-align: right;\n",
              "    }\n",
              "</style>\n",
              "<table border=\"1\" class=\"dataframe\">\n",
              "  <thead>\n",
              "    <tr style=\"text-align: right;\">\n",
              "      <th></th>\n",
              "      <th>측정소 코드</th>\n",
              "      <th>측정소 이름</th>\n",
              "      <th>측정소 주소</th>\n",
              "      <th>표시 순서</th>\n",
              "      <th>공인코드</th>\n",
              "    </tr>\n",
              "  </thead>\n",
              "  <tbody>\n",
              "    <tr>\n",
              "      <th>0</th>\n",
              "      <td>101</td>\n",
              "      <td>종로구</td>\n",
              "      <td>서울 종로구 종로35가길 19 종로56가 동 주민센터</td>\n",
              "      <td>1</td>\n",
              "      <td>111123</td>\n",
              "    </tr>\n",
              "    <tr>\n",
              "      <th>1</th>\n",
              "      <td>102</td>\n",
              "      <td>중구</td>\n",
              "      <td>서울 중구 덕수궁길 15 시청서소문별관 3동</td>\n",
              "      <td>2</td>\n",
              "      <td>111121</td>\n",
              "    </tr>\n",
              "    <tr>\n",
              "      <th>2</th>\n",
              "      <td>103</td>\n",
              "      <td>용산구</td>\n",
              "      <td>서울 용산구 한남대로 136 서울특별시중부기술교육원</td>\n",
              "      <td>3</td>\n",
              "      <td>111131</td>\n",
              "    </tr>\n",
              "    <tr>\n",
              "      <th>3</th>\n",
              "      <td>104</td>\n",
              "      <td>은평구</td>\n",
              "      <td>서울 은평구 진흥로 215 (한국환경산업기술원 온실동2층 )</td>\n",
              "      <td>4</td>\n",
              "      <td>111181</td>\n",
              "    </tr>\n",
              "    <tr>\n",
              "      <th>4</th>\n",
              "      <td>105</td>\n",
              "      <td>서대문구</td>\n",
              "      <td>서울 서대문구 세검정로4길 32(홍제3동 주민센터)</td>\n",
              "      <td>5</td>\n",
              "      <td>111191</td>\n",
              "    </tr>\n",
              "    <tr>\n",
              "      <th>5</th>\n",
              "      <td>106</td>\n",
              "      <td>마포구</td>\n",
              "      <td>서울 마포구 포은로 6길 10 망원1동주민센터 옥상</td>\n",
              "      <td>6</td>\n",
              "      <td>111201</td>\n",
              "    </tr>\n",
              "    <tr>\n",
              "      <th>6</th>\n",
              "      <td>107</td>\n",
              "      <td>성동구</td>\n",
              "      <td>서울 성동구 뚝섬로3길 18 성수1가1동주민센터</td>\n",
              "      <td>7</td>\n",
              "      <td>111142</td>\n",
              "    </tr>\n",
              "    <tr>\n",
              "      <th>7</th>\n",
              "      <td>108</td>\n",
              "      <td>광진구</td>\n",
              "      <td>서울특별시 광진구 광나루로 571 구의 아리수정수센터</td>\n",
              "      <td>8</td>\n",
              "      <td>111141</td>\n",
              "    </tr>\n",
              "    <tr>\n",
              "      <th>8</th>\n",
              "      <td>109</td>\n",
              "      <td>동대문구</td>\n",
              "      <td>서울 동대문구 천호대로13길 43 용두초등학교</td>\n",
              "      <td>9</td>\n",
              "      <td>111152</td>\n",
              "    </tr>\n",
              "    <tr>\n",
              "      <th>9</th>\n",
              "      <td>110</td>\n",
              "      <td>중랑구</td>\n",
              "      <td>서울 중랑구 용마산로 369 건강가정지원센터</td>\n",
              "      <td>10</td>\n",
              "      <td>111151</td>\n",
              "    </tr>\n",
              "    <tr>\n",
              "      <th>10</th>\n",
              "      <td>111</td>\n",
              "      <td>성북구</td>\n",
              "      <td>서울 성북구 삼양로2길 70 길음2동 주민센터</td>\n",
              "      <td>11</td>\n",
              "      <td>111161</td>\n",
              "    </tr>\n",
              "    <tr>\n",
              "      <th>11</th>\n",
              "      <td>112</td>\n",
              "      <td>강북구</td>\n",
              "      <td>서울 강북구 삼양로 139길 49 우이동 주민센터</td>\n",
              "      <td>12</td>\n",
              "      <td>111291</td>\n",
              "    </tr>\n",
              "    <tr>\n",
              "      <th>12</th>\n",
              "      <td>113</td>\n",
              "      <td>도봉구</td>\n",
              "      <td>서울 도봉구 시루봉로2길 34 쌍문동청소년문화의집</td>\n",
              "      <td>13</td>\n",
              "      <td>111171</td>\n",
              "    </tr>\n",
              "    <tr>\n",
              "      <th>13</th>\n",
              "      <td>114</td>\n",
              "      <td>노원구</td>\n",
              "      <td>서울 노원구 상계로 118 상계2동 주민센터 (23길 17 노원구 원터행복발전소)</td>\n",
              "      <td>14</td>\n",
              "      <td>111311</td>\n",
              "    </tr>\n",
              "    <tr>\n",
              "      <th>14</th>\n",
              "      <td>115</td>\n",
              "      <td>양천구</td>\n",
              "      <td>서울 양천구 중앙로52길 56 신정4동 문화센터</td>\n",
              "      <td>15</td>\n",
              "      <td>111301</td>\n",
              "    </tr>\n",
              "    <tr>\n",
              "      <th>15</th>\n",
              "      <td>116</td>\n",
              "      <td>강서구</td>\n",
              "      <td>서울 강서구 강서로 45 다길 71 화곡3동 푸른들청소년도서관</td>\n",
              "      <td>16</td>\n",
              "      <td>111212</td>\n",
              "    </tr>\n",
              "    <tr>\n",
              "      <th>16</th>\n",
              "      <td>117</td>\n",
              "      <td>구로구</td>\n",
              "      <td>서울 구로구 가마산로 27길 45 구로고등학교</td>\n",
              "      <td>17</td>\n",
              "      <td>111221</td>\n",
              "    </tr>\n",
              "    <tr>\n",
              "      <th>17</th>\n",
              "      <td>118</td>\n",
              "      <td>금천구</td>\n",
              "      <td>서울 금천구 금하로21길 20 시흥5동 주민센터</td>\n",
              "      <td>18</td>\n",
              "      <td>111281</td>\n",
              "    </tr>\n",
              "    <tr>\n",
              "      <th>18</th>\n",
              "      <td>119</td>\n",
              "      <td>영등포구</td>\n",
              "      <td>서울특별시 영등포구 당산로 123 영등포구청 (당산동3가)</td>\n",
              "      <td>19</td>\n",
              "      <td>111231</td>\n",
              "    </tr>\n",
              "    <tr>\n",
              "      <th>19</th>\n",
              "      <td>120</td>\n",
              "      <td>동작구</td>\n",
              "      <td>서울 동작구 사당로16아길 6 사당4동 주민센터</td>\n",
              "      <td>20</td>\n",
              "      <td>111241</td>\n",
              "    </tr>\n",
              "    <tr>\n",
              "      <th>20</th>\n",
              "      <td>121</td>\n",
              "      <td>관악구</td>\n",
              "      <td>서울 관악구 신림동길 14 신림동 주민센터</td>\n",
              "      <td>21</td>\n",
              "      <td>111251</td>\n",
              "    </tr>\n",
              "    <tr>\n",
              "      <th>21</th>\n",
              "      <td>122</td>\n",
              "      <td>서초구</td>\n",
              "      <td>서울 서초구 신반포로15길 16 반포 2동 주민센터</td>\n",
              "      <td>22</td>\n",
              "      <td>111262</td>\n",
              "    </tr>\n",
              "    <tr>\n",
              "      <th>22</th>\n",
              "      <td>123</td>\n",
              "      <td>강남구</td>\n",
              "      <td>서울 강남구 학동로 426 강남구청 별관 1동</td>\n",
              "      <td>23</td>\n",
              "      <td>111261</td>\n",
              "    </tr>\n",
              "    <tr>\n",
              "      <th>23</th>\n",
              "      <td>124</td>\n",
              "      <td>송파구</td>\n",
              "      <td>서울 송파구 백제고분로 236 삼전동 주민센터 (삼전동)</td>\n",
              "      <td>24</td>\n",
              "      <td>111273</td>\n",
              "    </tr>\n",
              "    <tr>\n",
              "      <th>24</th>\n",
              "      <td>125</td>\n",
              "      <td>강동구</td>\n",
              "      <td>서울 강동구 구천면로 42길 59 천호1동 주민센터</td>\n",
              "      <td>25</td>\n",
              "      <td>111274</td>\n",
              "    </tr>\n",
              "  </tbody>\n",
              "</table>\n",
              "</div>"
            ],
            "text/plain": [
              "    측정소 코드 측정소 이름                                         측정소 주소  표시 순서    공인코드\n",
              "0      101    종로구                  서울 종로구 종로35가길 19 종로56가 동 주민센터      1  111123\n",
              "1      102     중구                       서울 중구 덕수궁길 15 시청서소문별관 3동      2  111121\n",
              "2      103    용산구                   서울 용산구 한남대로 136 서울특별시중부기술교육원      3  111131\n",
              "3      104    은평구              서울 은평구 진흥로 215 (한국환경산업기술원 온실동2층 )      4  111181\n",
              "4      105   서대문구                  서울 서대문구 세검정로4길 32(홍제3동 주민센터)       5  111191\n",
              "5      106    마포구                   서울 마포구 포은로 6길 10 망원1동주민센터 옥상      6  111201\n",
              "6      107    성동구                     서울 성동구 뚝섬로3길 18 성수1가1동주민센터      7  111142\n",
              "7      108    광진구                  서울특별시 광진구 광나루로 571 구의 아리수정수센터      8  111141\n",
              "8      109   동대문구                      서울 동대문구 천호대로13길 43 용두초등학교      9  111152\n",
              "9      110    중랑구                       서울 중랑구 용마산로 369 건강가정지원센터     10  111151\n",
              "10     111    성북구                      서울 성북구 삼양로2길 70 길음2동 주민센터     11  111161\n",
              "11     112    강북구                    서울 강북구 삼양로 139길 49 우이동 주민센터     12  111291\n",
              "12     113    도봉구                    서울 도봉구 시루봉로2길 34 쌍문동청소년문화의집     13  111171\n",
              "13     114    노원구  서울 노원구 상계로 118 상계2동 주민센터 (23길 17 노원구 원터행복발전소)     14  111311\n",
              "14     115    양천구                     서울 양천구 중앙로52길 56 신정4동 문화센터     15  111301\n",
              "15     116    강서구             서울 강서구 강서로 45 다길 71 화곡3동 푸른들청소년도서관     16  111212\n",
              "16     117    구로구                      서울 구로구 가마산로 27길 45 구로고등학교     17  111221\n",
              "17     118    금천구                     서울 금천구 금하로21길 20 시흥5동 주민센터     18  111281\n",
              "18     119   영등포구               서울특별시 영등포구 당산로 123 영등포구청 (당산동3가)     19  111231\n",
              "19     120    동작구                     서울 동작구 사당로16아길 6 사당4동 주민센터     20  111241\n",
              "20     121    관악구                        서울 관악구 신림동길 14 신림동 주민센터     21  111251\n",
              "21     122    서초구                   서울 서초구 신반포로15길 16 반포 2동 주민센터     22  111262\n",
              "22     123    강남구                      서울 강남구 학동로 426 강남구청 별관 1동     23  111261\n",
              "23     124    송파구                서울 송파구 백제고분로 236 삼전동 주민센터 (삼전동)     24  111273\n",
              "24     125    강동구                   서울 강동구 구천면로 42길 59 천호1동 주민센터     25  111274"
            ]
          },
          "metadata": {
            "tags": []
          },
          "execution_count": 35
        }
      ]
    },
    {
      "cell_type": "code",
      "metadata": {
        "id": "12SRXb-x51n8"
      },
      "source": [
        "dust_info['측정소 이름'].unique()\n",
        "dust_info=dust_info[dust_info['측정소 이름']=='서초구']"
      ],
      "execution_count": null,
      "outputs": []
    },
    {
      "cell_type": "code",
      "metadata": {
        "id": "XfCqv2sX6Afz"
      },
      "source": [
        "#필요한 column만 추출\n",
        "dust_info= dust_info[['측정소 코드','측정소 이름']]"
      ],
      "execution_count": null,
      "outputs": []
    },
    {
      "cell_type": "code",
      "metadata": {
        "colab": {
          "base_uri": "https://localhost:8080/"
        },
        "id": "Hx2ICPTW6MZ1",
        "outputId": "f578ad8d-680a-4060-f907-52180bf35cd2"
      },
      "source": [
        "dust_info"
      ],
      "execution_count": null,
      "outputs": [
        {
          "output_type": "execute_result",
          "data": {
            "text/html": [
              "<div>\n",
              "<style scoped>\n",
              "    .dataframe tbody tr th:only-of-type {\n",
              "        vertical-align: middle;\n",
              "    }\n",
              "\n",
              "    .dataframe tbody tr th {\n",
              "        vertical-align: top;\n",
              "    }\n",
              "\n",
              "    .dataframe thead th {\n",
              "        text-align: right;\n",
              "    }\n",
              "</style>\n",
              "<table border=\"1\" class=\"dataframe\">\n",
              "  <thead>\n",
              "    <tr style=\"text-align: right;\">\n",
              "      <th></th>\n",
              "      <th>측정소 코드</th>\n",
              "      <th>측정소 이름</th>\n",
              "    </tr>\n",
              "  </thead>\n",
              "  <tbody>\n",
              "    <tr>\n",
              "      <th>21</th>\n",
              "      <td>122</td>\n",
              "      <td>서초구</td>\n",
              "    </tr>\n",
              "  </tbody>\n",
              "</table>\n",
              "</div>"
            ],
            "text/plain": [
              "    측정소 코드 측정소 이름\n",
              "21     122    서초구"
            ]
          },
          "metadata": {
            "tags": []
          },
          "execution_count": 38
        }
      ]
    },
    {
      "cell_type": "markdown",
      "metadata": {
        "id": "Hvvowv0I6Oe_"
      },
      "source": [
        "###  dust_info 랑 dust_df 랑 merge"
      ]
    },
    {
      "cell_type": "code",
      "metadata": {
        "id": "oLS4-Kl96RBf"
      },
      "source": [
        "merge_dust= pd.merge(dust_info, dust_df, how='inner',left_on='측정소 코드',right_on='측정소 코드')"
      ],
      "execution_count": null,
      "outputs": []
    },
    {
      "cell_type": "code",
      "metadata": {
        "colab": {
          "base_uri": "https://localhost:8080/"
        },
        "id": "NTnTXF2J6aF8",
        "outputId": "a87115a1-6956-4cfe-f514-315d4b738ca6"
      },
      "source": [
        "merge_dust['측정소 이름'].unique() #서초구 데이터만 남은 것을 확인 할 수 있다\n",
        "merge_dust"
      ],
      "execution_count": null,
      "outputs": [
        {
          "output_type": "execute_result",
          "data": {
            "text/html": [
              "<div>\n",
              "<style scoped>\n",
              "    .dataframe tbody tr th:only-of-type {\n",
              "        vertical-align: middle;\n",
              "    }\n",
              "\n",
              "    .dataframe tbody tr th {\n",
              "        vertical-align: top;\n",
              "    }\n",
              "\n",
              "    .dataframe thead th {\n",
              "        text-align: right;\n",
              "    }\n",
              "</style>\n",
              "<table border=\"1\" class=\"dataframe\">\n",
              "  <thead>\n",
              "    <tr style=\"text-align: right;\">\n",
              "      <th></th>\n",
              "      <th>측정소 코드</th>\n",
              "      <th>측정소 이름</th>\n",
              "      <th>측정일시</th>\n",
              "      <th>측정항목 코드</th>\n",
              "      <th>평균값</th>\n",
              "    </tr>\n",
              "  </thead>\n",
              "  <tbody>\n",
              "    <tr>\n",
              "      <th>0</th>\n",
              "      <td>122</td>\n",
              "      <td>서초구</td>\n",
              "      <td>20200131230000</td>\n",
              "      <td>5</td>\n",
              "      <td>0.400</td>\n",
              "    </tr>\n",
              "    <tr>\n",
              "      <th>1</th>\n",
              "      <td>122</td>\n",
              "      <td>서초구</td>\n",
              "      <td>20200131230000</td>\n",
              "      <td>6</td>\n",
              "      <td>0.028</td>\n",
              "    </tr>\n",
              "    <tr>\n",
              "      <th>2</th>\n",
              "      <td>122</td>\n",
              "      <td>서초구</td>\n",
              "      <td>20200131230000</td>\n",
              "      <td>8</td>\n",
              "      <td>49.000</td>\n",
              "    </tr>\n",
              "    <tr>\n",
              "      <th>3</th>\n",
              "      <td>122</td>\n",
              "      <td>서초구</td>\n",
              "      <td>20200131230000</td>\n",
              "      <td>9</td>\n",
              "      <td>34.000</td>\n",
              "    </tr>\n",
              "    <tr>\n",
              "      <th>4</th>\n",
              "      <td>122</td>\n",
              "      <td>서초구</td>\n",
              "      <td>20200131230000</td>\n",
              "      <td>3</td>\n",
              "      <td>0.034</td>\n",
              "    </tr>\n",
              "    <tr>\n",
              "      <th>...</th>\n",
              "      <td>...</td>\n",
              "      <td>...</td>\n",
              "      <td>...</td>\n",
              "      <td>...</td>\n",
              "      <td>...</td>\n",
              "    </tr>\n",
              "    <tr>\n",
              "      <th>52543</th>\n",
              "      <td>122</td>\n",
              "      <td>서초구</td>\n",
              "      <td>20201201000000</td>\n",
              "      <td>8</td>\n",
              "      <td>36.000</td>\n",
              "    </tr>\n",
              "    <tr>\n",
              "      <th>52544</th>\n",
              "      <td>122</td>\n",
              "      <td>서초구</td>\n",
              "      <td>20201201000000</td>\n",
              "      <td>3</td>\n",
              "      <td>0.017</td>\n",
              "    </tr>\n",
              "    <tr>\n",
              "      <th>52545</th>\n",
              "      <td>122</td>\n",
              "      <td>서초구</td>\n",
              "      <td>20201201000000</td>\n",
              "      <td>9</td>\n",
              "      <td>25.000</td>\n",
              "    </tr>\n",
              "    <tr>\n",
              "      <th>52546</th>\n",
              "      <td>122</td>\n",
              "      <td>서초구</td>\n",
              "      <td>20201201000000</td>\n",
              "      <td>5</td>\n",
              "      <td>0.500</td>\n",
              "    </tr>\n",
              "    <tr>\n",
              "      <th>52547</th>\n",
              "      <td>122</td>\n",
              "      <td>서초구</td>\n",
              "      <td>20201201000000</td>\n",
              "      <td>1</td>\n",
              "      <td>0.004</td>\n",
              "    </tr>\n",
              "  </tbody>\n",
              "</table>\n",
              "<p>52548 rows × 5 columns</p>\n",
              "</div>"
            ],
            "text/plain": [
              "       측정소 코드 측정소 이름            측정일시  측정항목 코드     평균값\n",
              "0         122    서초구  20200131230000        5   0.400\n",
              "1         122    서초구  20200131230000        6   0.028\n",
              "2         122    서초구  20200131230000        8  49.000\n",
              "3         122    서초구  20200131230000        9  34.000\n",
              "4         122    서초구  20200131230000        3   0.034\n",
              "...       ...    ...             ...      ...     ...\n",
              "52543     122    서초구  20201201000000        8  36.000\n",
              "52544     122    서초구  20201201000000        3   0.017\n",
              "52545     122    서초구  20201201000000        9  25.000\n",
              "52546     122    서초구  20201201000000        5   0.500\n",
              "52547     122    서초구  20201201000000        1   0.004\n",
              "\n",
              "[52548 rows x 5 columns]"
            ]
          },
          "metadata": {
            "tags": []
          },
          "execution_count": 40
        }
      ]
    },
    {
      "cell_type": "code",
      "metadata": {
        "colab": {
          "base_uri": "https://localhost:8080/"
        },
        "id": "e_oEOkKA6XAi",
        "outputId": "0bf8bda0-b5d7-4795-f94b-8ab83283f516"
      },
      "source": [
        "merge_dust['측정항목 코드'].unique() "
      ],
      "execution_count": null,
      "outputs": [
        {
          "output_type": "execute_result",
          "data": {
            "text/plain": [
              "array([5, 6, 8, 9, 3, 1])"
            ]
          },
          "metadata": {
            "tags": []
          },
          "execution_count": 41
        }
      ]
    },
    {
      "cell_type": "markdown",
      "metadata": {
        "id": "8gZFhAHI6okR"
      },
      "source": [
        "### 미세먼지, 초미세먼지 행을 따로 column으로 빼서 merge \n",
        "\n",
        "측정항목 코드 8 = 미세먼지\n",
        "측정항목 코드 9 = 초미세먼지"
      ]
    },
    {
      "cell_type": "code",
      "metadata": {
        "id": "HRWhH9rt6z1l"
      },
      "source": [
        "merge_dust=merge_dust[(merge_dust['측정항목 코드']==8) | (merge_dust['측정항목 코드']==9)]"
      ],
      "execution_count": null,
      "outputs": []
    },
    {
      "cell_type": "code",
      "metadata": {
        "id": "Kp0ip2Qa7CNg"
      },
      "source": [
        "dust_place=merge_dust[['측정소 코드','측정소 이름','측정일시']]\n",
        "dust_dust8=merge_dust[merge_dust['측정항목 코드']==8]\n",
        "dust_dust9=merge_dust[merge_dust['측정항목 코드']==9]"
      ],
      "execution_count": null,
      "outputs": []
    },
    {
      "cell_type": "code",
      "metadata": {
        "colab": {
          "base_uri": "https://localhost:8080/"
        },
        "id": "Yee5izio7TZ2",
        "outputId": "7b5ef31e-ccf7-4976-842f-fcbcae06ba23"
      },
      "source": [
        "dust_dust8"
      ],
      "execution_count": null,
      "outputs": [
        {
          "output_type": "execute_result",
          "data": {
            "text/html": [
              "<div>\n",
              "<style scoped>\n",
              "    .dataframe tbody tr th:only-of-type {\n",
              "        vertical-align: middle;\n",
              "    }\n",
              "\n",
              "    .dataframe tbody tr th {\n",
              "        vertical-align: top;\n",
              "    }\n",
              "\n",
              "    .dataframe thead th {\n",
              "        text-align: right;\n",
              "    }\n",
              "</style>\n",
              "<table border=\"1\" class=\"dataframe\">\n",
              "  <thead>\n",
              "    <tr style=\"text-align: right;\">\n",
              "      <th></th>\n",
              "      <th>측정소 코드</th>\n",
              "      <th>측정소 이름</th>\n",
              "      <th>측정일시</th>\n",
              "      <th>측정항목 코드</th>\n",
              "      <th>평균값</th>\n",
              "    </tr>\n",
              "  </thead>\n",
              "  <tbody>\n",
              "    <tr>\n",
              "      <th>2</th>\n",
              "      <td>122</td>\n",
              "      <td>서초구</td>\n",
              "      <td>20200131230000</td>\n",
              "      <td>8</td>\n",
              "      <td>49.0</td>\n",
              "    </tr>\n",
              "    <tr>\n",
              "      <th>10</th>\n",
              "      <td>122</td>\n",
              "      <td>서초구</td>\n",
              "      <td>20200131220000</td>\n",
              "      <td>8</td>\n",
              "      <td>49.0</td>\n",
              "    </tr>\n",
              "    <tr>\n",
              "      <th>13</th>\n",
              "      <td>122</td>\n",
              "      <td>서초구</td>\n",
              "      <td>20200131210000</td>\n",
              "      <td>8</td>\n",
              "      <td>47.0</td>\n",
              "    </tr>\n",
              "    <tr>\n",
              "      <th>22</th>\n",
              "      <td>122</td>\n",
              "      <td>서초구</td>\n",
              "      <td>20200131200000</td>\n",
              "      <td>8</td>\n",
              "      <td>47.0</td>\n",
              "    </tr>\n",
              "    <tr>\n",
              "      <th>27</th>\n",
              "      <td>122</td>\n",
              "      <td>서초구</td>\n",
              "      <td>20200131190000</td>\n",
              "      <td>8</td>\n",
              "      <td>48.0</td>\n",
              "    </tr>\n",
              "    <tr>\n",
              "      <th>...</th>\n",
              "      <td>...</td>\n",
              "      <td>...</td>\n",
              "      <td>...</td>\n",
              "      <td>...</td>\n",
              "      <td>...</td>\n",
              "    </tr>\n",
              "    <tr>\n",
              "      <th>52522</th>\n",
              "      <td>122</td>\n",
              "      <td>서초구</td>\n",
              "      <td>20201201040000</td>\n",
              "      <td>8</td>\n",
              "      <td>26.0</td>\n",
              "    </tr>\n",
              "    <tr>\n",
              "      <th>52528</th>\n",
              "      <td>122</td>\n",
              "      <td>서초구</td>\n",
              "      <td>20201201030000</td>\n",
              "      <td>8</td>\n",
              "      <td>30.0</td>\n",
              "    </tr>\n",
              "    <tr>\n",
              "      <th>52530</th>\n",
              "      <td>122</td>\n",
              "      <td>서초구</td>\n",
              "      <td>20201201020000</td>\n",
              "      <td>8</td>\n",
              "      <td>27.0</td>\n",
              "    </tr>\n",
              "    <tr>\n",
              "      <th>52541</th>\n",
              "      <td>122</td>\n",
              "      <td>서초구</td>\n",
              "      <td>20201201010000</td>\n",
              "      <td>8</td>\n",
              "      <td>34.0</td>\n",
              "    </tr>\n",
              "    <tr>\n",
              "      <th>52543</th>\n",
              "      <td>122</td>\n",
              "      <td>서초구</td>\n",
              "      <td>20201201000000</td>\n",
              "      <td>8</td>\n",
              "      <td>36.0</td>\n",
              "    </tr>\n",
              "  </tbody>\n",
              "</table>\n",
              "<p>8758 rows × 5 columns</p>\n",
              "</div>"
            ],
            "text/plain": [
              "       측정소 코드 측정소 이름            측정일시  측정항목 코드   평균값\n",
              "2         122    서초구  20200131230000        8  49.0\n",
              "10        122    서초구  20200131220000        8  49.0\n",
              "13        122    서초구  20200131210000        8  47.0\n",
              "22        122    서초구  20200131200000        8  47.0\n",
              "27        122    서초구  20200131190000        8  48.0\n",
              "...       ...    ...             ...      ...   ...\n",
              "52522     122    서초구  20201201040000        8  26.0\n",
              "52528     122    서초구  20201201030000        8  30.0\n",
              "52530     122    서초구  20201201020000        8  27.0\n",
              "52541     122    서초구  20201201010000        8  34.0\n",
              "52543     122    서초구  20201201000000        8  36.0\n",
              "\n",
              "[8758 rows x 5 columns]"
            ]
          },
          "metadata": {
            "tags": []
          },
          "execution_count": 44
        }
      ]
    },
    {
      "cell_type": "code",
      "metadata": {
        "colab": {
          "base_uri": "https://localhost:8080/"
        },
        "id": "_9x7POrE7hmL",
        "outputId": "a55111f2-a5ae-46c9-da33-397554db6258"
      },
      "source": [
        "dust_place"
      ],
      "execution_count": null,
      "outputs": [
        {
          "output_type": "execute_result",
          "data": {
            "text/html": [
              "<div>\n",
              "<style scoped>\n",
              "    .dataframe tbody tr th:only-of-type {\n",
              "        vertical-align: middle;\n",
              "    }\n",
              "\n",
              "    .dataframe tbody tr th {\n",
              "        vertical-align: top;\n",
              "    }\n",
              "\n",
              "    .dataframe thead th {\n",
              "        text-align: right;\n",
              "    }\n",
              "</style>\n",
              "<table border=\"1\" class=\"dataframe\">\n",
              "  <thead>\n",
              "    <tr style=\"text-align: right;\">\n",
              "      <th></th>\n",
              "      <th>측정소 코드</th>\n",
              "      <th>측정소 이름</th>\n",
              "      <th>측정일시</th>\n",
              "    </tr>\n",
              "  </thead>\n",
              "  <tbody>\n",
              "    <tr>\n",
              "      <th>2</th>\n",
              "      <td>122</td>\n",
              "      <td>서초구</td>\n",
              "      <td>20200131230000</td>\n",
              "    </tr>\n",
              "    <tr>\n",
              "      <th>3</th>\n",
              "      <td>122</td>\n",
              "      <td>서초구</td>\n",
              "      <td>20200131230000</td>\n",
              "    </tr>\n",
              "    <tr>\n",
              "      <th>10</th>\n",
              "      <td>122</td>\n",
              "      <td>서초구</td>\n",
              "      <td>20200131220000</td>\n",
              "    </tr>\n",
              "    <tr>\n",
              "      <th>11</th>\n",
              "      <td>122</td>\n",
              "      <td>서초구</td>\n",
              "      <td>20200131220000</td>\n",
              "    </tr>\n",
              "    <tr>\n",
              "      <th>12</th>\n",
              "      <td>122</td>\n",
              "      <td>서초구</td>\n",
              "      <td>20200131210000</td>\n",
              "    </tr>\n",
              "    <tr>\n",
              "      <th>...</th>\n",
              "      <td>...</td>\n",
              "      <td>...</td>\n",
              "      <td>...</td>\n",
              "    </tr>\n",
              "    <tr>\n",
              "      <th>52531</th>\n",
              "      <td>122</td>\n",
              "      <td>서초구</td>\n",
              "      <td>20201201020000</td>\n",
              "    </tr>\n",
              "    <tr>\n",
              "      <th>52540</th>\n",
              "      <td>122</td>\n",
              "      <td>서초구</td>\n",
              "      <td>20201201010000</td>\n",
              "    </tr>\n",
              "    <tr>\n",
              "      <th>52541</th>\n",
              "      <td>122</td>\n",
              "      <td>서초구</td>\n",
              "      <td>20201201010000</td>\n",
              "    </tr>\n",
              "    <tr>\n",
              "      <th>52543</th>\n",
              "      <td>122</td>\n",
              "      <td>서초구</td>\n",
              "      <td>20201201000000</td>\n",
              "    </tr>\n",
              "    <tr>\n",
              "      <th>52545</th>\n",
              "      <td>122</td>\n",
              "      <td>서초구</td>\n",
              "      <td>20201201000000</td>\n",
              "    </tr>\n",
              "  </tbody>\n",
              "</table>\n",
              "<p>17516 rows × 3 columns</p>\n",
              "</div>"
            ],
            "text/plain": [
              "       측정소 코드 측정소 이름            측정일시\n",
              "2         122    서초구  20200131230000\n",
              "3         122    서초구  20200131230000\n",
              "10        122    서초구  20200131220000\n",
              "11        122    서초구  20200131220000\n",
              "12        122    서초구  20200131210000\n",
              "...       ...    ...             ...\n",
              "52531     122    서초구  20201201020000\n",
              "52540     122    서초구  20201201010000\n",
              "52541     122    서초구  20201201010000\n",
              "52543     122    서초구  20201201000000\n",
              "52545     122    서초구  20201201000000\n",
              "\n",
              "[17516 rows x 3 columns]"
            ]
          },
          "metadata": {
            "tags": []
          },
          "execution_count": 45
        }
      ]
    },
    {
      "cell_type": "code",
      "metadata": {
        "colab": {
          "base_uri": "https://localhost:8080/"
        },
        "id": "J3cogmAi7aXf",
        "outputId": "4f305dd1-be05-48ed-f1ba-6503c8effe6a"
      },
      "source": [
        "dust_dust8.drop('측정항목 코드', axis=1, inplace=True)\n",
        "dust_dust9.drop('측정항목 코드',axis=1,inplace=True)"
      ],
      "execution_count": null,
      "outputs": [
        {
          "output_type": "stream",
          "text": [
            "/usr/local/lib/python3.7/dist-packages/pandas/core/frame.py:4174: SettingWithCopyWarning: \n",
            "A value is trying to be set on a copy of a slice from a DataFrame\n",
            "\n",
            "See the caveats in the documentation: https://pandas.pydata.org/pandas-docs/stable/user_guide/indexing.html#returning-a-view-versus-a-copy\n",
            "  errors=errors,\n"
          ],
          "name": "stderr"
        }
      ]
    },
    {
      "cell_type": "code",
      "metadata": {
        "id": "psOtBY667bnT"
      },
      "source": [
        "#8,9를 제외한 중복값 다 제거\n",
        "dust_place=dust_place.drop_duplicates(keep='first')"
      ],
      "execution_count": null,
      "outputs": []
    },
    {
      "cell_type": "code",
      "metadata": {
        "id": "6mk-yOvo7k0G"
      },
      "source": [
        "dust_dust8=dust_dust8.rename(columns={'평균값':'미세먼지 평균'})\n",
        "dust_dust9=dust_dust9.rename(columns={'평균값':'초미세먼지 평균'})"
      ],
      "execution_count": null,
      "outputs": []
    },
    {
      "cell_type": "code",
      "metadata": {
        "id": "vyWkt3vU7oYK"
      },
      "source": [
        "#merge\n",
        "dust_final= pd.merge(left=dust_place, right=dust_dust8, how='inner',on=['측정소 코드','측정소 이름','측정일시'])\n",
        "dust_final= pd.merge(left=dust_final, right=dust_dust9, how='inner',on=['측정소 코드','측정소 이름','측정일시'])"
      ],
      "execution_count": null,
      "outputs": []
    },
    {
      "cell_type": "code",
      "metadata": {
        "colab": {
          "base_uri": "https://localhost:8080/"
        },
        "id": "JurQbBUX7rSb",
        "outputId": "c7097073-9440-4f32-f3f7-828d2ec4d68c"
      },
      "source": [
        "dust_final.head()"
      ],
      "execution_count": null,
      "outputs": [
        {
          "output_type": "execute_result",
          "data": {
            "text/html": [
              "<div>\n",
              "<style scoped>\n",
              "    .dataframe tbody tr th:only-of-type {\n",
              "        vertical-align: middle;\n",
              "    }\n",
              "\n",
              "    .dataframe tbody tr th {\n",
              "        vertical-align: top;\n",
              "    }\n",
              "\n",
              "    .dataframe thead th {\n",
              "        text-align: right;\n",
              "    }\n",
              "</style>\n",
              "<table border=\"1\" class=\"dataframe\">\n",
              "  <thead>\n",
              "    <tr style=\"text-align: right;\">\n",
              "      <th></th>\n",
              "      <th>측정소 코드</th>\n",
              "      <th>측정소 이름</th>\n",
              "      <th>측정일시</th>\n",
              "      <th>미세먼지 평균</th>\n",
              "      <th>초미세먼지 평균</th>\n",
              "    </tr>\n",
              "  </thead>\n",
              "  <tbody>\n",
              "    <tr>\n",
              "      <th>0</th>\n",
              "      <td>122</td>\n",
              "      <td>서초구</td>\n",
              "      <td>20200131230000</td>\n",
              "      <td>49.0</td>\n",
              "      <td>34.0</td>\n",
              "    </tr>\n",
              "    <tr>\n",
              "      <th>1</th>\n",
              "      <td>122</td>\n",
              "      <td>서초구</td>\n",
              "      <td>20200131220000</td>\n",
              "      <td>49.0</td>\n",
              "      <td>31.0</td>\n",
              "    </tr>\n",
              "    <tr>\n",
              "      <th>2</th>\n",
              "      <td>122</td>\n",
              "      <td>서초구</td>\n",
              "      <td>20200131210000</td>\n",
              "      <td>47.0</td>\n",
              "      <td>985.0</td>\n",
              "    </tr>\n",
              "    <tr>\n",
              "      <th>3</th>\n",
              "      <td>122</td>\n",
              "      <td>서초구</td>\n",
              "      <td>20200131200000</td>\n",
              "      <td>47.0</td>\n",
              "      <td>31.0</td>\n",
              "    </tr>\n",
              "    <tr>\n",
              "      <th>4</th>\n",
              "      <td>122</td>\n",
              "      <td>서초구</td>\n",
              "      <td>20200131190000</td>\n",
              "      <td>48.0</td>\n",
              "      <td>31.0</td>\n",
              "    </tr>\n",
              "  </tbody>\n",
              "</table>\n",
              "</div>"
            ],
            "text/plain": [
              "   측정소 코드 측정소 이름            측정일시  미세먼지 평균  초미세먼지 평균\n",
              "0     122    서초구  20200131230000     49.0      34.0\n",
              "1     122    서초구  20200131220000     49.0      31.0\n",
              "2     122    서초구  20200131210000     47.0     985.0\n",
              "3     122    서초구  20200131200000     47.0      31.0\n",
              "4     122    서초구  20200131190000     48.0      31.0"
            ]
          },
          "metadata": {
            "tags": []
          },
          "execution_count": 50
        }
      ]
    },
    {
      "cell_type": "markdown",
      "metadata": {
        "id": "AN2Nc6qB8iCZ"
      },
      "source": [
        "### 측정일시를 feature engineering\n",
        "year, month, day, hour 로 변형해서 위의 최종 데이터랑 병합 할 예정"
      ]
    },
    {
      "cell_type": "code",
      "metadata": {
        "id": "hku1z3_q7_s-"
      },
      "source": [
        "dust_final['측정일시']= dust_final['측정일시'].astype(str)"
      ],
      "execution_count": null,
      "outputs": []
    },
    {
      "cell_type": "code",
      "metadata": {
        "id": "4akj0mjo72OQ"
      },
      "source": [
        "dust_final['year']=dust_final['측정일시'].str.slice(start=0, stop=4)\n",
        "dust_final['month']=dust_final['측정일시'].str.slice(start=4, stop=6)\n",
        "dust_final['day']=dust_final['측정일시'].str.slice(start=6, stop=8)\n",
        "dust_final['hour']=dust_final['측정일시'].str.slice(start=8, stop=10)\n",
        "\n",
        "dust_final.drop('측정일시',axis=1,inplace=True)\n",
        "dust_final.drop('측정소 코드', axis=1, inplace=True)"
      ],
      "execution_count": null,
      "outputs": []
    },
    {
      "cell_type": "code",
      "metadata": {
        "id": "s19RI06D8HM8"
      },
      "source": [
        "dust_final['year']= dust_final['year'].astype(int)\n",
        "dust_final['month']= dust_final['month'].astype(int)\n",
        "dust_final['day']= dust_final['day'].astype(int)\n",
        "dust_final['hour']= dust_final['hour'].astype(int)"
      ],
      "execution_count": null,
      "outputs": []
    },
    {
      "cell_type": "code",
      "metadata": {
        "colab": {
          "base_uri": "https://localhost:8080/"
        },
        "id": "x8i7O1bu8rUb",
        "outputId": "0d571328-b925-4337-bd83-30d1c312b0a5"
      },
      "source": [
        "dust_final"
      ],
      "execution_count": null,
      "outputs": [
        {
          "output_type": "execute_result",
          "data": {
            "text/html": [
              "<div>\n",
              "<style scoped>\n",
              "    .dataframe tbody tr th:only-of-type {\n",
              "        vertical-align: middle;\n",
              "    }\n",
              "\n",
              "    .dataframe tbody tr th {\n",
              "        vertical-align: top;\n",
              "    }\n",
              "\n",
              "    .dataframe thead th {\n",
              "        text-align: right;\n",
              "    }\n",
              "</style>\n",
              "<table border=\"1\" class=\"dataframe\">\n",
              "  <thead>\n",
              "    <tr style=\"text-align: right;\">\n",
              "      <th></th>\n",
              "      <th>측정소 이름</th>\n",
              "      <th>미세먼지 평균</th>\n",
              "      <th>초미세먼지 평균</th>\n",
              "      <th>year</th>\n",
              "      <th>month</th>\n",
              "      <th>day</th>\n",
              "      <th>hour</th>\n",
              "    </tr>\n",
              "  </thead>\n",
              "  <tbody>\n",
              "    <tr>\n",
              "      <th>0</th>\n",
              "      <td>서초구</td>\n",
              "      <td>49.0</td>\n",
              "      <td>34.0</td>\n",
              "      <td>2020</td>\n",
              "      <td>1</td>\n",
              "      <td>31</td>\n",
              "      <td>23</td>\n",
              "    </tr>\n",
              "    <tr>\n",
              "      <th>1</th>\n",
              "      <td>서초구</td>\n",
              "      <td>49.0</td>\n",
              "      <td>31.0</td>\n",
              "      <td>2020</td>\n",
              "      <td>1</td>\n",
              "      <td>31</td>\n",
              "      <td>22</td>\n",
              "    </tr>\n",
              "    <tr>\n",
              "      <th>2</th>\n",
              "      <td>서초구</td>\n",
              "      <td>47.0</td>\n",
              "      <td>985.0</td>\n",
              "      <td>2020</td>\n",
              "      <td>1</td>\n",
              "      <td>31</td>\n",
              "      <td>21</td>\n",
              "    </tr>\n",
              "    <tr>\n",
              "      <th>3</th>\n",
              "      <td>서초구</td>\n",
              "      <td>47.0</td>\n",
              "      <td>31.0</td>\n",
              "      <td>2020</td>\n",
              "      <td>1</td>\n",
              "      <td>31</td>\n",
              "      <td>20</td>\n",
              "    </tr>\n",
              "    <tr>\n",
              "      <th>4</th>\n",
              "      <td>서초구</td>\n",
              "      <td>48.0</td>\n",
              "      <td>31.0</td>\n",
              "      <td>2020</td>\n",
              "      <td>1</td>\n",
              "      <td>31</td>\n",
              "      <td>19</td>\n",
              "    </tr>\n",
              "    <tr>\n",
              "      <th>...</th>\n",
              "      <td>...</td>\n",
              "      <td>...</td>\n",
              "      <td>...</td>\n",
              "      <td>...</td>\n",
              "      <td>...</td>\n",
              "      <td>...</td>\n",
              "      <td>...</td>\n",
              "    </tr>\n",
              "    <tr>\n",
              "      <th>8753</th>\n",
              "      <td>서초구</td>\n",
              "      <td>26.0</td>\n",
              "      <td>17.0</td>\n",
              "      <td>2020</td>\n",
              "      <td>12</td>\n",
              "      <td>1</td>\n",
              "      <td>4</td>\n",
              "    </tr>\n",
              "    <tr>\n",
              "      <th>8754</th>\n",
              "      <td>서초구</td>\n",
              "      <td>30.0</td>\n",
              "      <td>18.0</td>\n",
              "      <td>2020</td>\n",
              "      <td>12</td>\n",
              "      <td>1</td>\n",
              "      <td>3</td>\n",
              "    </tr>\n",
              "    <tr>\n",
              "      <th>8755</th>\n",
              "      <td>서초구</td>\n",
              "      <td>27.0</td>\n",
              "      <td>16.0</td>\n",
              "      <td>2020</td>\n",
              "      <td>12</td>\n",
              "      <td>1</td>\n",
              "      <td>2</td>\n",
              "    </tr>\n",
              "    <tr>\n",
              "      <th>8756</th>\n",
              "      <td>서초구</td>\n",
              "      <td>34.0</td>\n",
              "      <td>20.0</td>\n",
              "      <td>2020</td>\n",
              "      <td>12</td>\n",
              "      <td>1</td>\n",
              "      <td>1</td>\n",
              "    </tr>\n",
              "    <tr>\n",
              "      <th>8757</th>\n",
              "      <td>서초구</td>\n",
              "      <td>36.0</td>\n",
              "      <td>25.0</td>\n",
              "      <td>2020</td>\n",
              "      <td>12</td>\n",
              "      <td>1</td>\n",
              "      <td>0</td>\n",
              "    </tr>\n",
              "  </tbody>\n",
              "</table>\n",
              "<p>8758 rows × 7 columns</p>\n",
              "</div>"
            ],
            "text/plain": [
              "     측정소 이름  미세먼지 평균  초미세먼지 평균  year  month  day  hour\n",
              "0       서초구     49.0      34.0  2020      1   31    23\n",
              "1       서초구     49.0      31.0  2020      1   31    22\n",
              "2       서초구     47.0     985.0  2020      1   31    21\n",
              "3       서초구     47.0      31.0  2020      1   31    20\n",
              "4       서초구     48.0      31.0  2020      1   31    19\n",
              "...     ...      ...       ...   ...    ...  ...   ...\n",
              "8753    서초구     26.0      17.0  2020     12    1     4\n",
              "8754    서초구     30.0      18.0  2020     12    1     3\n",
              "8755    서초구     27.0      16.0  2020     12    1     2\n",
              "8756    서초구     34.0      20.0  2020     12    1     1\n",
              "8757    서초구     36.0      25.0  2020     12    1     0\n",
              "\n",
              "[8758 rows x 7 columns]"
            ]
          },
          "metadata": {
            "tags": []
          },
          "execution_count": 54
        }
      ]
    },
    {
      "cell_type": "markdown",
      "metadata": {
        "id": "kLB2IsEH9Jpn"
      },
      "source": [
        "## 서초구 날씨 데이터\n",
        "\n",
        "강수, 기온, 습도, 풍속 데이터를 불러옴"
      ]
    },
    {
      "cell_type": "code",
      "metadata": {
        "id": "grSS333oBMoa"
      },
      "source": [
        "df_rain= pd.read_csv('/content/drive/MyDrive/따릉이 project/기상청/서초4동_강수_202001_202012.csv',encoding='cp949')\n",
        "df_temp= pd.read_csv('/content/drive/MyDrive/따릉이 project/기상청/서초4동_기온_202001_202012.csv',encoding='cp949')\n",
        "df_hum= pd.read_csv('/content/drive/MyDrive/따릉이 project/기상청/서초4동_습도_202001_202012.csv',encoding='cp949')\n",
        "df_wind= pd.read_csv('/content/drive/MyDrive/따릉이 project/기상청/서초4동_풍속_202001_202012.csv',encoding='cp949')"
      ],
      "execution_count": null,
      "outputs": []
    },
    {
      "cell_type": "code",
      "metadata": {
        "colab": {
          "base_uri": "https://localhost:8080/"
        },
        "id": "rJSLviFEBm6U",
        "outputId": "41b235bb-6ccd-4fd6-8bdc-59a2d0523173"
      },
      "source": [
        "df_rain.columns"
      ],
      "execution_count": null,
      "outputs": [
        {
          "output_type": "execute_result",
          "data": {
            "text/plain": [
              "Index(['date', 'hour', 'value', 'month'], dtype='object')"
            ]
          },
          "metadata": {
            "tags": []
          },
          "execution_count": 56
        }
      ]
    },
    {
      "cell_type": "code",
      "metadata": {
        "id": "ENAghtmOBtVr"
      },
      "source": [
        "# df_rain[' format: day']\n",
        "# df_rain['value location:61_125 Start : 20200101 ']\n",
        "df_rain= df_rain.rename(columns= {' format: day': 'date','value location:61_125 Start : 20200101 ': 'val' })\n",
        "df_temp= df_temp.rename(columns= {' format: day': 'date','value location:61_125 Start : 20200101 ': 'val' })\n",
        "df_hum= df_hum.rename(columns= {' format: day': 'date','value location:61_125 Start : 20200101 ': 'val' })\n",
        "df_wind= df_wind.rename(columns= {' format: day': 'date','value location:61_125 Start : 20200101 ': 'val' })"
      ],
      "execution_count": null,
      "outputs": []
    },
    {
      "cell_type": "markdown",
      "metadata": {
        "id": "sD8PP0w7EDI5"
      },
      "source": [
        "![image.png](data:image/png;base64,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)\n",
        "\n",
        "na값이 있는 이유와 na값 처리"
      ]
    },
    {
      "cell_type": "code",
      "metadata": {
        "colab": {
          "base_uri": "https://localhost:8080/"
        },
        "id": "GnEvBgRqDIKr",
        "outputId": "89ff6b0e-f3e7-4c7a-9814-2ab0f7ab6028"
      },
      "source": [
        "df_rain.isna().sum()"
      ],
      "execution_count": null,
      "outputs": [
        {
          "output_type": "execute_result",
          "data": {
            "text/plain": [
              "date      0\n",
              "hour     11\n",
              "value    11\n",
              "month    11\n",
              "dtype: int64"
            ]
          },
          "metadata": {
            "tags": []
          },
          "execution_count": 58
        }
      ]
    },
    {
      "cell_type": "code",
      "metadata": {
        "colab": {
          "base_uri": "https://localhost:8080/"
        },
        "id": "2b8HrEmDDiDN",
        "outputId": "f0351503-6ba3-42af-e0f3-ec67f9d6aafe"
      },
      "source": [
        "df_rain[df_rain.hour.isna()]"
      ],
      "execution_count": null,
      "outputs": [
        {
          "output_type": "execute_result",
          "data": {
            "text/html": [
              "<div>\n",
              "<style scoped>\n",
              "    .dataframe tbody tr th:only-of-type {\n",
              "        vertical-align: middle;\n",
              "    }\n",
              "\n",
              "    .dataframe tbody tr th {\n",
              "        vertical-align: top;\n",
              "    }\n",
              "\n",
              "    .dataframe thead th {\n",
              "        text-align: right;\n",
              "    }\n",
              "</style>\n",
              "<table border=\"1\" class=\"dataframe\">\n",
              "  <thead>\n",
              "    <tr style=\"text-align: right;\">\n",
              "      <th></th>\n",
              "      <th>date</th>\n",
              "      <th>hour</th>\n",
              "      <th>value</th>\n",
              "      <th>month</th>\n",
              "    </tr>\n",
              "  </thead>\n",
              "  <tbody>\n",
              "    <tr>\n",
              "      <th>744</th>\n",
              "      <td>Start : 20200201</td>\n",
              "      <td>NaN</td>\n",
              "      <td>NaN</td>\n",
              "      <td>NaN</td>\n",
              "    </tr>\n",
              "    <tr>\n",
              "      <th>1441</th>\n",
              "      <td>Start : 20200301</td>\n",
              "      <td>NaN</td>\n",
              "      <td>NaN</td>\n",
              "      <td>NaN</td>\n",
              "    </tr>\n",
              "    <tr>\n",
              "      <th>2186</th>\n",
              "      <td>Start : 20200401</td>\n",
              "      <td>NaN</td>\n",
              "      <td>NaN</td>\n",
              "      <td>NaN</td>\n",
              "    </tr>\n",
              "    <tr>\n",
              "      <th>2907</th>\n",
              "      <td>Start : 20200501</td>\n",
              "      <td>NaN</td>\n",
              "      <td>NaN</td>\n",
              "      <td>NaN</td>\n",
              "    </tr>\n",
              "    <tr>\n",
              "      <th>3652</th>\n",
              "      <td>Start : 20200601</td>\n",
              "      <td>NaN</td>\n",
              "      <td>NaN</td>\n",
              "      <td>NaN</td>\n",
              "    </tr>\n",
              "    <tr>\n",
              "      <th>4373</th>\n",
              "      <td>Start : 20200701</td>\n",
              "      <td>NaN</td>\n",
              "      <td>NaN</td>\n",
              "      <td>NaN</td>\n",
              "    </tr>\n",
              "    <tr>\n",
              "      <th>5118</th>\n",
              "      <td>Start : 20200801</td>\n",
              "      <td>NaN</td>\n",
              "      <td>NaN</td>\n",
              "      <td>NaN</td>\n",
              "    </tr>\n",
              "    <tr>\n",
              "      <th>5863</th>\n",
              "      <td>Start : 20200901</td>\n",
              "      <td>NaN</td>\n",
              "      <td>NaN</td>\n",
              "      <td>NaN</td>\n",
              "    </tr>\n",
              "    <tr>\n",
              "      <th>6584</th>\n",
              "      <td>Start : 20201001</td>\n",
              "      <td>NaN</td>\n",
              "      <td>NaN</td>\n",
              "      <td>NaN</td>\n",
              "    </tr>\n",
              "    <tr>\n",
              "      <th>7329</th>\n",
              "      <td>Start : 20201101</td>\n",
              "      <td>NaN</td>\n",
              "      <td>NaN</td>\n",
              "      <td>NaN</td>\n",
              "    </tr>\n",
              "    <tr>\n",
              "      <th>8050</th>\n",
              "      <td>Start : 20201201</td>\n",
              "      <td>NaN</td>\n",
              "      <td>NaN</td>\n",
              "      <td>NaN</td>\n",
              "    </tr>\n",
              "  </tbody>\n",
              "</table>\n",
              "</div>"
            ],
            "text/plain": [
              "                    date  hour  value  month\n",
              "744    Start : 20200201    NaN    NaN    NaN\n",
              "1441   Start : 20200301    NaN    NaN    NaN\n",
              "2186   Start : 20200401    NaN    NaN    NaN\n",
              "2907   Start : 20200501    NaN    NaN    NaN\n",
              "3652   Start : 20200601    NaN    NaN    NaN\n",
              "4373   Start : 20200701    NaN    NaN    NaN\n",
              "5118   Start : 20200801    NaN    NaN    NaN\n",
              "5863   Start : 20200901    NaN    NaN    NaN\n",
              "6584   Start : 20201001    NaN    NaN    NaN\n",
              "7329   Start : 20201101    NaN    NaN    NaN\n",
              "8050   Start : 20201201    NaN    NaN    NaN"
            ]
          },
          "metadata": {
            "tags": []
          },
          "execution_count": 59
        }
      ]
    },
    {
      "cell_type": "code",
      "metadata": {
        "id": "0lcLtfW0ETK1"
      },
      "source": [
        "#dropping the na val\n",
        "df_rain.dropna(inplace=True)\n",
        "df_temp.dropna(inplace=True)\n",
        "df_hum.dropna(inplace=True)\n",
        "df_wind.dropna(inplace=True)"
      ],
      "execution_count": null,
      "outputs": []
    },
    {
      "cell_type": "code",
      "metadata": {
        "id": "PjGMJzhAJdt5"
      },
      "source": [
        "def to_int(df, col):\n",
        "  df[col]= df[col].astype(int)\n",
        "#hour\n",
        "to_int(df_rain,'hour')\n",
        "to_int(df_rain,'month')\n",
        "#temp\n",
        "to_int(df_temp,'hour')\n",
        "to_int(df_temp,'month')\n",
        "#hum\n",
        "to_int(df_hum,'hour')\n",
        "to_int(df_hum,'month')\n",
        "#wind\n",
        "to_int(df_wind,'hour')\n",
        "to_int(df_wind,'month')"
      ],
      "execution_count": null,
      "outputs": []
    },
    {
      "cell_type": "code",
      "metadata": {
        "colab": {
          "base_uri": "https://localhost:8080/"
        },
        "id": "-M9PPnYWMckE",
        "outputId": "17ed397c-94a5-48c0-bc22-2ce7c1b37842"
      },
      "source": [
        "df_rain"
      ],
      "execution_count": null,
      "outputs": [
        {
          "output_type": "execute_result",
          "data": {
            "text/html": [
              "<div>\n",
              "<style scoped>\n",
              "    .dataframe tbody tr th:only-of-type {\n",
              "        vertical-align: middle;\n",
              "    }\n",
              "\n",
              "    .dataframe tbody tr th {\n",
              "        vertical-align: top;\n",
              "    }\n",
              "\n",
              "    .dataframe thead th {\n",
              "        text-align: right;\n",
              "    }\n",
              "</style>\n",
              "<table border=\"1\" class=\"dataframe\">\n",
              "  <thead>\n",
              "    <tr style=\"text-align: right;\">\n",
              "      <th></th>\n",
              "      <th>date</th>\n",
              "      <th>hour</th>\n",
              "      <th>value</th>\n",
              "      <th>month</th>\n",
              "    </tr>\n",
              "  </thead>\n",
              "  <tbody>\n",
              "    <tr>\n",
              "      <th>0</th>\n",
              "      <td>1</td>\n",
              "      <td>0</td>\n",
              "      <td>0.0</td>\n",
              "      <td>1</td>\n",
              "    </tr>\n",
              "    <tr>\n",
              "      <th>1</th>\n",
              "      <td>1</td>\n",
              "      <td>100</td>\n",
              "      <td>0.0</td>\n",
              "      <td>1</td>\n",
              "    </tr>\n",
              "    <tr>\n",
              "      <th>2</th>\n",
              "      <td>1</td>\n",
              "      <td>200</td>\n",
              "      <td>0.0</td>\n",
              "      <td>1</td>\n",
              "    </tr>\n",
              "    <tr>\n",
              "      <th>3</th>\n",
              "      <td>1</td>\n",
              "      <td>300</td>\n",
              "      <td>0.0</td>\n",
              "      <td>1</td>\n",
              "    </tr>\n",
              "    <tr>\n",
              "      <th>4</th>\n",
              "      <td>1</td>\n",
              "      <td>400</td>\n",
              "      <td>0.0</td>\n",
              "      <td>1</td>\n",
              "    </tr>\n",
              "    <tr>\n",
              "      <th>...</th>\n",
              "      <td>...</td>\n",
              "      <td>...</td>\n",
              "      <td>...</td>\n",
              "      <td>...</td>\n",
              "    </tr>\n",
              "    <tr>\n",
              "      <th>8790</th>\n",
              "      <td>31</td>\n",
              "      <td>1900</td>\n",
              "      <td>0.0</td>\n",
              "      <td>12</td>\n",
              "    </tr>\n",
              "    <tr>\n",
              "      <th>8791</th>\n",
              "      <td>31</td>\n",
              "      <td>2000</td>\n",
              "      <td>0.0</td>\n",
              "      <td>12</td>\n",
              "    </tr>\n",
              "    <tr>\n",
              "      <th>8792</th>\n",
              "      <td>31</td>\n",
              "      <td>2100</td>\n",
              "      <td>0.0</td>\n",
              "      <td>12</td>\n",
              "    </tr>\n",
              "    <tr>\n",
              "      <th>8793</th>\n",
              "      <td>31</td>\n",
              "      <td>2200</td>\n",
              "      <td>0.0</td>\n",
              "      <td>12</td>\n",
              "    </tr>\n",
              "    <tr>\n",
              "      <th>8794</th>\n",
              "      <td>31</td>\n",
              "      <td>2300</td>\n",
              "      <td>0.0</td>\n",
              "      <td>12</td>\n",
              "    </tr>\n",
              "  </tbody>\n",
              "</table>\n",
              "<p>8784 rows × 4 columns</p>\n",
              "</div>"
            ],
            "text/plain": [
              "     date  hour  value  month\n",
              "0       1     0    0.0      1\n",
              "1       1   100    0.0      1\n",
              "2       1   200    0.0      1\n",
              "3       1   300    0.0      1\n",
              "4       1   400    0.0      1\n",
              "...   ...   ...    ...    ...\n",
              "8790   31  1900    0.0     12\n",
              "8791   31  2000    0.0     12\n",
              "8792   31  2100    0.0     12\n",
              "8793   31  2200    0.0     12\n",
              "8794   31  2300    0.0     12\n",
              "\n",
              "[8784 rows x 4 columns]"
            ]
          },
          "metadata": {
            "tags": []
          },
          "execution_count": 62
        }
      ]
    },
    {
      "cell_type": "code",
      "metadata": {
        "id": "1nmKfHjnL7cd"
      },
      "source": [
        "def replaced(df):\n",
        "  df['hour'].replace({0:0,100:1,200:2,300:3,400:4,500:5,600:6,700:7,800:8,900:9,1000:10,1100:11,1200:12,\n",
        "                      1300:13,1400:14,1500:15,1600:16,1700:17,1800:18,1900:19,2000:20,2100:21,2200:22,2300:23},inplace=True)\n",
        "\n",
        "replaced(df_rain)\n",
        "replaced(df_temp)\n",
        "replaced(df_hum)\n",
        "replaced(df_wind)"
      ],
      "execution_count": null,
      "outputs": []
    },
    {
      "cell_type": "code",
      "metadata": {
        "colab": {
          "base_uri": "https://localhost:8080/"
        },
        "id": "UypfmeASM-H4",
        "outputId": "f0c605e3-c217-4afd-9ef7-c49f87b792cd"
      },
      "source": [
        "df_wind.hour.unique()"
      ],
      "execution_count": null,
      "outputs": [
        {
          "output_type": "execute_result",
          "data": {
            "text/plain": [
              "array([ 0,  1,  2,  3,  4,  5,  6,  7,  8,  9, 10, 11, 12, 13, 14, 15, 16,\n",
              "       17, 18, 19, 20, 21, 22, 23])"
            ]
          },
          "metadata": {
            "tags": []
          },
          "execution_count": 64
        }
      ]
    },
    {
      "cell_type": "markdown",
      "metadata": {
        "id": "psXRmpG_Or_1"
      },
      "source": [
        "### Rename columns then Merge all of them into weather data"
      ]
    },
    {
      "cell_type": "code",
      "metadata": {
        "id": "6pwCMdfjNSW3"
      },
      "source": [
        "df_rain= df_rain.rename(columns= {'value': 'rainval'})\n",
        "df_temp= df_temp.rename(columns= {'value': 'tempval'})\n",
        "df_hum= df_hum.rename(columns= {'value': 'humval' })\n",
        "df_wind= df_wind.rename(columns= {'value': 'windval' })"
      ],
      "execution_count": null,
      "outputs": []
    },
    {
      "cell_type": "code",
      "metadata": {
        "colab": {
          "base_uri": "https://localhost:8080/"
        },
        "id": "21O_pwYLN3uw",
        "outputId": "f4aa1db5-c82d-44a8-8ad9-2c109c620327"
      },
      "source": [
        "df_wind"
      ],
      "execution_count": null,
      "outputs": [
        {
          "output_type": "execute_result",
          "data": {
            "text/html": [
              "<div>\n",
              "<style scoped>\n",
              "    .dataframe tbody tr th:only-of-type {\n",
              "        vertical-align: middle;\n",
              "    }\n",
              "\n",
              "    .dataframe tbody tr th {\n",
              "        vertical-align: top;\n",
              "    }\n",
              "\n",
              "    .dataframe thead th {\n",
              "        text-align: right;\n",
              "    }\n",
              "</style>\n",
              "<table border=\"1\" class=\"dataframe\">\n",
              "  <thead>\n",
              "    <tr style=\"text-align: right;\">\n",
              "      <th></th>\n",
              "      <th>date</th>\n",
              "      <th>hour</th>\n",
              "      <th>windval</th>\n",
              "      <th>month</th>\n",
              "    </tr>\n",
              "  </thead>\n",
              "  <tbody>\n",
              "    <tr>\n",
              "      <th>0</th>\n",
              "      <td>1</td>\n",
              "      <td>0</td>\n",
              "      <td>1.4</td>\n",
              "      <td>1</td>\n",
              "    </tr>\n",
              "    <tr>\n",
              "      <th>1</th>\n",
              "      <td>1</td>\n",
              "      <td>1</td>\n",
              "      <td>1.1</td>\n",
              "      <td>1</td>\n",
              "    </tr>\n",
              "    <tr>\n",
              "      <th>2</th>\n",
              "      <td>1</td>\n",
              "      <td>2</td>\n",
              "      <td>1.4</td>\n",
              "      <td>1</td>\n",
              "    </tr>\n",
              "    <tr>\n",
              "      <th>3</th>\n",
              "      <td>1</td>\n",
              "      <td>3</td>\n",
              "      <td>0.9</td>\n",
              "      <td>1</td>\n",
              "    </tr>\n",
              "    <tr>\n",
              "      <th>4</th>\n",
              "      <td>1</td>\n",
              "      <td>4</td>\n",
              "      <td>0.9</td>\n",
              "      <td>1</td>\n",
              "    </tr>\n",
              "    <tr>\n",
              "      <th>...</th>\n",
              "      <td>...</td>\n",
              "      <td>...</td>\n",
              "      <td>...</td>\n",
              "      <td>...</td>\n",
              "    </tr>\n",
              "    <tr>\n",
              "      <th>8790</th>\n",
              "      <td>31</td>\n",
              "      <td>19</td>\n",
              "      <td>0.8</td>\n",
              "      <td>12</td>\n",
              "    </tr>\n",
              "    <tr>\n",
              "      <th>8791</th>\n",
              "      <td>31</td>\n",
              "      <td>20</td>\n",
              "      <td>0.9</td>\n",
              "      <td>12</td>\n",
              "    </tr>\n",
              "    <tr>\n",
              "      <th>8792</th>\n",
              "      <td>31</td>\n",
              "      <td>21</td>\n",
              "      <td>0.6</td>\n",
              "      <td>12</td>\n",
              "    </tr>\n",
              "    <tr>\n",
              "      <th>8793</th>\n",
              "      <td>31</td>\n",
              "      <td>22</td>\n",
              "      <td>0.7</td>\n",
              "      <td>12</td>\n",
              "    </tr>\n",
              "    <tr>\n",
              "      <th>8794</th>\n",
              "      <td>31</td>\n",
              "      <td>23</td>\n",
              "      <td>0.8</td>\n",
              "      <td>12</td>\n",
              "    </tr>\n",
              "  </tbody>\n",
              "</table>\n",
              "<p>8784 rows × 4 columns</p>\n",
              "</div>"
            ],
            "text/plain": [
              "     date  hour  windval  month\n",
              "0       1     0      1.4      1\n",
              "1       1     1      1.1      1\n",
              "2       1     2      1.4      1\n",
              "3       1     3      0.9      1\n",
              "4       1     4      0.9      1\n",
              "...   ...   ...      ...    ...\n",
              "8790   31    19      0.8     12\n",
              "8791   31    20      0.9     12\n",
              "8792   31    21      0.6     12\n",
              "8793   31    22      0.7     12\n",
              "8794   31    23      0.8     12\n",
              "\n",
              "[8784 rows x 4 columns]"
            ]
          },
          "metadata": {
            "tags": []
          },
          "execution_count": 66
        }
      ]
    },
    {
      "cell_type": "code",
      "metadata": {
        "id": "2zMxwn2ON-Vq"
      },
      "source": [
        "merge_weather1= pd.merge(df_rain, df_temp, how='inner',on=['month','date','hour'])\n",
        "merge_weather2= pd.merge(df_hum, df_wind, how='inner',on=['month','date','hour'])"
      ],
      "execution_count": null,
      "outputs": []
    },
    {
      "cell_type": "code",
      "metadata": {
        "id": "u_msVYB4Oc8Z"
      },
      "source": [
        "weather= pd.merge(merge_weather1, merge_weather2, how='inner',on=['month','date','hour'])"
      ],
      "execution_count": null,
      "outputs": []
    },
    {
      "cell_type": "code",
      "metadata": {
        "id": "C5EP9hLeWUWp"
      },
      "source": [
        "weather['year']=2020"
      ],
      "execution_count": null,
      "outputs": []
    },
    {
      "cell_type": "code",
      "metadata": {
        "colab": {
          "base_uri": "https://localhost:8080/"
        },
        "id": "MpMQ6L5wOpS-",
        "outputId": "4a4188da-7bcc-4ecb-fa07-d63bcf071a0b"
      },
      "source": [
        "order=['year','month','date','hour','rainval','tempval','humval','windval']\n",
        "weather=weather[order]\n",
        "weather"
      ],
      "execution_count": null,
      "outputs": [
        {
          "output_type": "execute_result",
          "data": {
            "text/html": [
              "<div>\n",
              "<style scoped>\n",
              "    .dataframe tbody tr th:only-of-type {\n",
              "        vertical-align: middle;\n",
              "    }\n",
              "\n",
              "    .dataframe tbody tr th {\n",
              "        vertical-align: top;\n",
              "    }\n",
              "\n",
              "    .dataframe thead th {\n",
              "        text-align: right;\n",
              "    }\n",
              "</style>\n",
              "<table border=\"1\" class=\"dataframe\">\n",
              "  <thead>\n",
              "    <tr style=\"text-align: right;\">\n",
              "      <th></th>\n",
              "      <th>year</th>\n",
              "      <th>month</th>\n",
              "      <th>date</th>\n",
              "      <th>hour</th>\n",
              "      <th>rainval</th>\n",
              "      <th>tempval</th>\n",
              "      <th>humval</th>\n",
              "      <th>windval</th>\n",
              "    </tr>\n",
              "  </thead>\n",
              "  <tbody>\n",
              "    <tr>\n",
              "      <th>0</th>\n",
              "      <td>2020</td>\n",
              "      <td>1</td>\n",
              "      <td>1</td>\n",
              "      <td>0</td>\n",
              "      <td>0.0</td>\n",
              "      <td>-3.7</td>\n",
              "      <td>78.0</td>\n",
              "      <td>1.4</td>\n",
              "    </tr>\n",
              "    <tr>\n",
              "      <th>1</th>\n",
              "      <td>2020</td>\n",
              "      <td>1</td>\n",
              "      <td>1</td>\n",
              "      <td>1</td>\n",
              "      <td>0.0</td>\n",
              "      <td>-3.2</td>\n",
              "      <td>84.0</td>\n",
              "      <td>1.1</td>\n",
              "    </tr>\n",
              "    <tr>\n",
              "      <th>2</th>\n",
              "      <td>2020</td>\n",
              "      <td>1</td>\n",
              "      <td>1</td>\n",
              "      <td>2</td>\n",
              "      <td>0.0</td>\n",
              "      <td>-2.1</td>\n",
              "      <td>77.0</td>\n",
              "      <td>1.4</td>\n",
              "    </tr>\n",
              "    <tr>\n",
              "      <th>3</th>\n",
              "      <td>2020</td>\n",
              "      <td>1</td>\n",
              "      <td>1</td>\n",
              "      <td>3</td>\n",
              "      <td>0.0</td>\n",
              "      <td>-0.9</td>\n",
              "      <td>74.0</td>\n",
              "      <td>0.9</td>\n",
              "    </tr>\n",
              "    <tr>\n",
              "      <th>4</th>\n",
              "      <td>2020</td>\n",
              "      <td>1</td>\n",
              "      <td>1</td>\n",
              "      <td>4</td>\n",
              "      <td>0.0</td>\n",
              "      <td>0.0</td>\n",
              "      <td>69.0</td>\n",
              "      <td>0.9</td>\n",
              "    </tr>\n",
              "    <tr>\n",
              "      <th>...</th>\n",
              "      <td>...</td>\n",
              "      <td>...</td>\n",
              "      <td>...</td>\n",
              "      <td>...</td>\n",
              "      <td>...</td>\n",
              "      <td>...</td>\n",
              "      <td>...</td>\n",
              "      <td>...</td>\n",
              "    </tr>\n",
              "    <tr>\n",
              "      <th>8779</th>\n",
              "      <td>2020</td>\n",
              "      <td>12</td>\n",
              "      <td>31</td>\n",
              "      <td>19</td>\n",
              "      <td>0.0</td>\n",
              "      <td>-9.8</td>\n",
              "      <td>68.0</td>\n",
              "      <td>0.8</td>\n",
              "    </tr>\n",
              "    <tr>\n",
              "      <th>8780</th>\n",
              "      <td>2020</td>\n",
              "      <td>12</td>\n",
              "      <td>31</td>\n",
              "      <td>20</td>\n",
              "      <td>0.0</td>\n",
              "      <td>-9.4</td>\n",
              "      <td>72.0</td>\n",
              "      <td>0.9</td>\n",
              "    </tr>\n",
              "    <tr>\n",
              "      <th>8781</th>\n",
              "      <td>2020</td>\n",
              "      <td>12</td>\n",
              "      <td>31</td>\n",
              "      <td>21</td>\n",
              "      <td>0.0</td>\n",
              "      <td>-8.4</td>\n",
              "      <td>67.0</td>\n",
              "      <td>0.6</td>\n",
              "    </tr>\n",
              "    <tr>\n",
              "      <th>8782</th>\n",
              "      <td>2020</td>\n",
              "      <td>12</td>\n",
              "      <td>31</td>\n",
              "      <td>22</td>\n",
              "      <td>0.0</td>\n",
              "      <td>-8.6</td>\n",
              "      <td>72.0</td>\n",
              "      <td>0.7</td>\n",
              "    </tr>\n",
              "    <tr>\n",
              "      <th>8783</th>\n",
              "      <td>2020</td>\n",
              "      <td>12</td>\n",
              "      <td>31</td>\n",
              "      <td>23</td>\n",
              "      <td>0.0</td>\n",
              "      <td>-6.6</td>\n",
              "      <td>63.0</td>\n",
              "      <td>0.8</td>\n",
              "    </tr>\n",
              "  </tbody>\n",
              "</table>\n",
              "<p>8784 rows × 8 columns</p>\n",
              "</div>"
            ],
            "text/plain": [
              "      year  month date  hour  rainval  tempval  humval  windval\n",
              "0     2020      1    1     0      0.0     -3.7    78.0      1.4\n",
              "1     2020      1    1     1      0.0     -3.2    84.0      1.1\n",
              "2     2020      1    1     2      0.0     -2.1    77.0      1.4\n",
              "3     2020      1    1     3      0.0     -0.9    74.0      0.9\n",
              "4     2020      1    1     4      0.0      0.0    69.0      0.9\n",
              "...    ...    ...  ...   ...      ...      ...     ...      ...\n",
              "8779  2020     12   31    19      0.0     -9.8    68.0      0.8\n",
              "8780  2020     12   31    20      0.0     -9.4    72.0      0.9\n",
              "8781  2020     12   31    21      0.0     -8.4    67.0      0.6\n",
              "8782  2020     12   31    22      0.0     -8.6    72.0      0.7\n",
              "8783  2020     12   31    23      0.0     -6.6    63.0      0.8\n",
              "\n",
              "[8784 rows x 8 columns]"
            ]
          },
          "metadata": {
            "tags": []
          },
          "execution_count": 70
        }
      ]
    },
    {
      "cell_type": "markdown",
      "metadata": {
        "id": "zCaykTXuWqcf"
      },
      "source": [
        "# 최종 데이터 셋: data, dust_final,weather"
      ]
    },
    {
      "cell_type": "markdown",
      "metadata": {
        "id": "1_i1KtuOoEhF"
      },
      "source": [
        "## 데이터 합치기"
      ]
    },
    {
      "cell_type": "markdown",
      "metadata": {
        "id": "KHpMZ-QOudZK"
      },
      "source": [
        "그냥 내일 날씨 + 미세먼지 데이터 합해서 \n",
        "na값 처리 해주고\n",
        "\n",
        "나머지 따릉이 데이터랑 합쳐야겟다."
      ]
    },
    {
      "cell_type": "code",
      "metadata": {
        "id": "m5fnzfj-WuMd"
      },
      "source": [
        "data= data.rename(columns={'time':'hour'})\n",
        "weather=weather.rename(columns={'date':'day'})"
      ],
      "execution_count": null,
      "outputs": []
    },
    {
      "cell_type": "code",
      "metadata": {
        "colab": {
          "base_uri": "https://localhost:8080/"
        },
        "id": "Qe2GoVqTX2iJ",
        "outputId": "d3a0e891-42d4-411e-f5a5-d88cfc1230b5"
      },
      "source": [
        "data.head()"
      ],
      "execution_count": null,
      "outputs": [
        {
          "output_type": "execute_result",
          "data": {
            "text/html": [
              "<div>\n",
              "<style scoped>\n",
              "    .dataframe tbody tr th:only-of-type {\n",
              "        vertical-align: middle;\n",
              "    }\n",
              "\n",
              "    .dataframe tbody tr th {\n",
              "        vertical-align: top;\n",
              "    }\n",
              "\n",
              "    .dataframe thead th {\n",
              "        text-align: right;\n",
              "    }\n",
              "</style>\n",
              "<table border=\"1\" class=\"dataframe\">\n",
              "  <thead>\n",
              "    <tr style=\"text-align: right;\">\n",
              "      <th></th>\n",
              "      <th>year</th>\n",
              "      <th>month</th>\n",
              "      <th>day</th>\n",
              "      <th>hour</th>\n",
              "      <th>place</th>\n",
              "      <th>stno</th>\n",
              "      <th>stname</th>\n",
              "      <th>num</th>\n",
              "    </tr>\n",
              "  </thead>\n",
              "  <tbody>\n",
              "    <tr>\n",
              "      <th>0</th>\n",
              "      <td>2020</td>\n",
              "      <td>1</td>\n",
              "      <td>1</td>\n",
              "      <td>0</td>\n",
              "      <td>서초구</td>\n",
              "      <td>2213</td>\n",
              "      <td>고속터미널역 5번출구 앞</td>\n",
              "      <td>1</td>\n",
              "    </tr>\n",
              "    <tr>\n",
              "      <th>1</th>\n",
              "      <td>2020</td>\n",
              "      <td>1</td>\n",
              "      <td>1</td>\n",
              "      <td>0</td>\n",
              "      <td>서초구</td>\n",
              "      <td>2222</td>\n",
              "      <td>사당역 12번출구 뒤</td>\n",
              "      <td>1</td>\n",
              "    </tr>\n",
              "    <tr>\n",
              "      <th>2</th>\n",
              "      <td>2020</td>\n",
              "      <td>1</td>\n",
              "      <td>1</td>\n",
              "      <td>0</td>\n",
              "      <td>서초구</td>\n",
              "      <td>2251</td>\n",
              "      <td>더케이호텔 입구(양재2)</td>\n",
              "      <td>1</td>\n",
              "    </tr>\n",
              "    <tr>\n",
              "      <th>3</th>\n",
              "      <td>2020</td>\n",
              "      <td>1</td>\n",
              "      <td>1</td>\n",
              "      <td>0</td>\n",
              "      <td>서초구</td>\n",
              "      <td>2256</td>\n",
              "      <td>양재동 꽃시장 입구</td>\n",
              "      <td>1</td>\n",
              "    </tr>\n",
              "    <tr>\n",
              "      <th>4</th>\n",
              "      <td>2020</td>\n",
              "      <td>1</td>\n",
              "      <td>1</td>\n",
              "      <td>0</td>\n",
              "      <td>서초구</td>\n",
              "      <td>2268</td>\n",
              "      <td>서초4동주민센터</td>\n",
              "      <td>2</td>\n",
              "    </tr>\n",
              "  </tbody>\n",
              "</table>\n",
              "</div>"
            ],
            "text/plain": [
              "   year  month  day  hour place  stno         stname  num\n",
              "0  2020      1    1     0   서초구  2213  고속터미널역 5번출구 앞    1\n",
              "1  2020      1    1     0   서초구  2222    사당역 12번출구 뒤    1\n",
              "2  2020      1    1     0   서초구  2251  더케이호텔 입구(양재2)    1\n",
              "3  2020      1    1     0   서초구  2256     양재동 꽃시장 입구    1\n",
              "4  2020      1    1     0   서초구  2268       서초4동주민센터    2"
            ]
          },
          "metadata": {
            "tags": []
          },
          "execution_count": 72
        }
      ]
    },
    {
      "cell_type": "code",
      "metadata": {
        "colab": {
          "base_uri": "https://localhost:8080/"
        },
        "id": "a9G-CrnNX4Oq",
        "outputId": "8e4e2e14-07f7-4835-d9f6-cb0f0ebf3ccf"
      },
      "source": [
        "dust_final.head()"
      ],
      "execution_count": null,
      "outputs": [
        {
          "output_type": "execute_result",
          "data": {
            "text/html": [
              "<div>\n",
              "<style scoped>\n",
              "    .dataframe tbody tr th:only-of-type {\n",
              "        vertical-align: middle;\n",
              "    }\n",
              "\n",
              "    .dataframe tbody tr th {\n",
              "        vertical-align: top;\n",
              "    }\n",
              "\n",
              "    .dataframe thead th {\n",
              "        text-align: right;\n",
              "    }\n",
              "</style>\n",
              "<table border=\"1\" class=\"dataframe\">\n",
              "  <thead>\n",
              "    <tr style=\"text-align: right;\">\n",
              "      <th></th>\n",
              "      <th>측정소 이름</th>\n",
              "      <th>미세먼지 평균</th>\n",
              "      <th>초미세먼지 평균</th>\n",
              "      <th>year</th>\n",
              "      <th>month</th>\n",
              "      <th>day</th>\n",
              "      <th>hour</th>\n",
              "    </tr>\n",
              "  </thead>\n",
              "  <tbody>\n",
              "    <tr>\n",
              "      <th>0</th>\n",
              "      <td>서초구</td>\n",
              "      <td>49.0</td>\n",
              "      <td>34.0</td>\n",
              "      <td>2020</td>\n",
              "      <td>1</td>\n",
              "      <td>31</td>\n",
              "      <td>23</td>\n",
              "    </tr>\n",
              "    <tr>\n",
              "      <th>1</th>\n",
              "      <td>서초구</td>\n",
              "      <td>49.0</td>\n",
              "      <td>31.0</td>\n",
              "      <td>2020</td>\n",
              "      <td>1</td>\n",
              "      <td>31</td>\n",
              "      <td>22</td>\n",
              "    </tr>\n",
              "    <tr>\n",
              "      <th>2</th>\n",
              "      <td>서초구</td>\n",
              "      <td>47.0</td>\n",
              "      <td>985.0</td>\n",
              "      <td>2020</td>\n",
              "      <td>1</td>\n",
              "      <td>31</td>\n",
              "      <td>21</td>\n",
              "    </tr>\n",
              "    <tr>\n",
              "      <th>3</th>\n",
              "      <td>서초구</td>\n",
              "      <td>47.0</td>\n",
              "      <td>31.0</td>\n",
              "      <td>2020</td>\n",
              "      <td>1</td>\n",
              "      <td>31</td>\n",
              "      <td>20</td>\n",
              "    </tr>\n",
              "    <tr>\n",
              "      <th>4</th>\n",
              "      <td>서초구</td>\n",
              "      <td>48.0</td>\n",
              "      <td>31.0</td>\n",
              "      <td>2020</td>\n",
              "      <td>1</td>\n",
              "      <td>31</td>\n",
              "      <td>19</td>\n",
              "    </tr>\n",
              "  </tbody>\n",
              "</table>\n",
              "</div>"
            ],
            "text/plain": [
              "  측정소 이름  미세먼지 평균  초미세먼지 평균  year  month  day  hour\n",
              "0    서초구     49.0      34.0  2020      1   31    23\n",
              "1    서초구     49.0      31.0  2020      1   31    22\n",
              "2    서초구     47.0     985.0  2020      1   31    21\n",
              "3    서초구     47.0      31.0  2020      1   31    20\n",
              "4    서초구     48.0      31.0  2020      1   31    19"
            ]
          },
          "metadata": {
            "tags": []
          },
          "execution_count": 73
        }
      ]
    },
    {
      "cell_type": "code",
      "metadata": {
        "colab": {
          "base_uri": "https://localhost:8080/"
        },
        "id": "TtlqQJQZX65c",
        "outputId": "015dbddd-76dd-4b0d-8219-be44462ecdc4"
      },
      "source": [
        "weather.head()"
      ],
      "execution_count": null,
      "outputs": [
        {
          "output_type": "execute_result",
          "data": {
            "text/html": [
              "<div>\n",
              "<style scoped>\n",
              "    .dataframe tbody tr th:only-of-type {\n",
              "        vertical-align: middle;\n",
              "    }\n",
              "\n",
              "    .dataframe tbody tr th {\n",
              "        vertical-align: top;\n",
              "    }\n",
              "\n",
              "    .dataframe thead th {\n",
              "        text-align: right;\n",
              "    }\n",
              "</style>\n",
              "<table border=\"1\" class=\"dataframe\">\n",
              "  <thead>\n",
              "    <tr style=\"text-align: right;\">\n",
              "      <th></th>\n",
              "      <th>year</th>\n",
              "      <th>month</th>\n",
              "      <th>day</th>\n",
              "      <th>hour</th>\n",
              "      <th>rainval</th>\n",
              "      <th>tempval</th>\n",
              "      <th>humval</th>\n",
              "      <th>windval</th>\n",
              "    </tr>\n",
              "  </thead>\n",
              "  <tbody>\n",
              "    <tr>\n",
              "      <th>0</th>\n",
              "      <td>2020</td>\n",
              "      <td>1</td>\n",
              "      <td>1</td>\n",
              "      <td>0</td>\n",
              "      <td>0.0</td>\n",
              "      <td>-3.7</td>\n",
              "      <td>78.0</td>\n",
              "      <td>1.4</td>\n",
              "    </tr>\n",
              "    <tr>\n",
              "      <th>1</th>\n",
              "      <td>2020</td>\n",
              "      <td>1</td>\n",
              "      <td>1</td>\n",
              "      <td>1</td>\n",
              "      <td>0.0</td>\n",
              "      <td>-3.2</td>\n",
              "      <td>84.0</td>\n",
              "      <td>1.1</td>\n",
              "    </tr>\n",
              "    <tr>\n",
              "      <th>2</th>\n",
              "      <td>2020</td>\n",
              "      <td>1</td>\n",
              "      <td>1</td>\n",
              "      <td>2</td>\n",
              "      <td>0.0</td>\n",
              "      <td>-2.1</td>\n",
              "      <td>77.0</td>\n",
              "      <td>1.4</td>\n",
              "    </tr>\n",
              "    <tr>\n",
              "      <th>3</th>\n",
              "      <td>2020</td>\n",
              "      <td>1</td>\n",
              "      <td>1</td>\n",
              "      <td>3</td>\n",
              "      <td>0.0</td>\n",
              "      <td>-0.9</td>\n",
              "      <td>74.0</td>\n",
              "      <td>0.9</td>\n",
              "    </tr>\n",
              "    <tr>\n",
              "      <th>4</th>\n",
              "      <td>2020</td>\n",
              "      <td>1</td>\n",
              "      <td>1</td>\n",
              "      <td>4</td>\n",
              "      <td>0.0</td>\n",
              "      <td>0.0</td>\n",
              "      <td>69.0</td>\n",
              "      <td>0.9</td>\n",
              "    </tr>\n",
              "  </tbody>\n",
              "</table>\n",
              "</div>"
            ],
            "text/plain": [
              "   year  month day  hour  rainval  tempval  humval  windval\n",
              "0  2020      1   1     0      0.0     -3.7    78.0      1.4\n",
              "1  2020      1   1     1      0.0     -3.2    84.0      1.1\n",
              "2  2020      1   1     2      0.0     -2.1    77.0      1.4\n",
              "3  2020      1   1     3      0.0     -0.9    74.0      0.9\n",
              "4  2020      1   1     4      0.0      0.0    69.0      0.9"
            ]
          },
          "metadata": {
            "tags": []
          },
          "execution_count": 74
        }
      ]
    },
    {
      "cell_type": "code",
      "metadata": {
        "id": "kkHy41o8YJx2"
      },
      "source": [
        "weather['day']=weather.day.astype(int)"
      ],
      "execution_count": null,
      "outputs": []
    },
    {
      "cell_type": "code",
      "metadata": {
        "id": "WlRNeY0RXS3t"
      },
      "source": [
        "all_df= pd.merge(data, dust_final,how='outer',on=['year','month','day','hour'] )\n",
        "all_df=pd.merge(all_df, weather, how='outer',on=['year','month','day','hour'])\n",
        "\n",
        "all_df.drop('측정소 이름',axis=1, inplace=True)"
      ],
      "execution_count": null,
      "outputs": []
    },
    {
      "cell_type": "markdown",
      "metadata": {
        "id": "MLcWLbUBv2at"
      },
      "source": [
        "세 데이터셋을 all_df로 merge(outer)로 하니까 \n",
        "결측치가 보인다. 따라서 날씨 + 미세먼지를 해서 미세먼지의 결측치를 채워주고,\n",
        "merge된 데이터셋에 따릉이 데이터셋을 merge 할 에정이다. "
      ]
    },
    {
      "cell_type": "markdown",
      "metadata": {
        "id": "I-ho9WXEd5jo"
      },
      "source": [
        "## 미세먼지 데이터와 날씨 데이터 merge\n",
        "\n",
        "위에서 확인 했듯이, 미세먼지 데이터가 \n",
        "- 2월 21,22\n",
        "- 7월 3,4 \n",
        "\n",
        "일 데이터가 missing\n",
        "\n",
        "=> 날씨 데이터와 merge 해서 결측치 대체"
      ]
    },
    {
      "cell_type": "code",
      "metadata": {
        "colab": {
          "base_uri": "https://localhost:8080/",
          "height": 200
        },
        "id": "ezMPiJ8BeSI9",
        "outputId": "cfcf55c2-39eb-488f-d37a-9dc1e8fa5f83"
      },
      "source": [
        "dust_final.head()"
      ],
      "execution_count": null,
      "outputs": [
        {
          "output_type": "execute_result",
          "data": {
            "text/html": [
              "<div>\n",
              "<style scoped>\n",
              "    .dataframe tbody tr th:only-of-type {\n",
              "        vertical-align: middle;\n",
              "    }\n",
              "\n",
              "    .dataframe tbody tr th {\n",
              "        vertical-align: top;\n",
              "    }\n",
              "\n",
              "    .dataframe thead th {\n",
              "        text-align: right;\n",
              "    }\n",
              "</style>\n",
              "<table border=\"1\" class=\"dataframe\">\n",
              "  <thead>\n",
              "    <tr style=\"text-align: right;\">\n",
              "      <th></th>\n",
              "      <th>측정소 이름</th>\n",
              "      <th>미세먼지 평균</th>\n",
              "      <th>초미세먼지 평균</th>\n",
              "      <th>year</th>\n",
              "      <th>month</th>\n",
              "      <th>day</th>\n",
              "      <th>hour</th>\n",
              "    </tr>\n",
              "  </thead>\n",
              "  <tbody>\n",
              "    <tr>\n",
              "      <th>0</th>\n",
              "      <td>서초구</td>\n",
              "      <td>49.0</td>\n",
              "      <td>34.0</td>\n",
              "      <td>2020</td>\n",
              "      <td>1</td>\n",
              "      <td>31</td>\n",
              "      <td>23</td>\n",
              "    </tr>\n",
              "    <tr>\n",
              "      <th>1</th>\n",
              "      <td>서초구</td>\n",
              "      <td>49.0</td>\n",
              "      <td>31.0</td>\n",
              "      <td>2020</td>\n",
              "      <td>1</td>\n",
              "      <td>31</td>\n",
              "      <td>22</td>\n",
              "    </tr>\n",
              "    <tr>\n",
              "      <th>2</th>\n",
              "      <td>서초구</td>\n",
              "      <td>47.0</td>\n",
              "      <td>985.0</td>\n",
              "      <td>2020</td>\n",
              "      <td>1</td>\n",
              "      <td>31</td>\n",
              "      <td>21</td>\n",
              "    </tr>\n",
              "    <tr>\n",
              "      <th>3</th>\n",
              "      <td>서초구</td>\n",
              "      <td>47.0</td>\n",
              "      <td>31.0</td>\n",
              "      <td>2020</td>\n",
              "      <td>1</td>\n",
              "      <td>31</td>\n",
              "      <td>20</td>\n",
              "    </tr>\n",
              "    <tr>\n",
              "      <th>4</th>\n",
              "      <td>서초구</td>\n",
              "      <td>48.0</td>\n",
              "      <td>31.0</td>\n",
              "      <td>2020</td>\n",
              "      <td>1</td>\n",
              "      <td>31</td>\n",
              "      <td>19</td>\n",
              "    </tr>\n",
              "  </tbody>\n",
              "</table>\n",
              "</div>"
            ],
            "text/plain": [
              "  측정소 이름  미세먼지 평균  초미세먼지 평균  year  month  day  hour\n",
              "0    서초구     49.0      34.0  2020      1   31    23\n",
              "1    서초구     49.0      31.0  2020      1   31    22\n",
              "2    서초구     47.0     985.0  2020      1   31    21\n",
              "3    서초구     47.0      31.0  2020      1   31    20\n",
              "4    서초구     48.0      31.0  2020      1   31    19"
            ]
          },
          "metadata": {
            "tags": []
          },
          "execution_count": 77
        }
      ]
    },
    {
      "cell_type": "code",
      "metadata": {
        "colab": {
          "base_uri": "https://localhost:8080/",
          "height": 200
        },
        "id": "n3568bKneVwN",
        "outputId": "9b921f58-3f20-482d-e9b4-faaf157b8277"
      },
      "source": [
        "weather.head()"
      ],
      "execution_count": null,
      "outputs": [
        {
          "output_type": "execute_result",
          "data": {
            "text/html": [
              "<div>\n",
              "<style scoped>\n",
              "    .dataframe tbody tr th:only-of-type {\n",
              "        vertical-align: middle;\n",
              "    }\n",
              "\n",
              "    .dataframe tbody tr th {\n",
              "        vertical-align: top;\n",
              "    }\n",
              "\n",
              "    .dataframe thead th {\n",
              "        text-align: right;\n",
              "    }\n",
              "</style>\n",
              "<table border=\"1\" class=\"dataframe\">\n",
              "  <thead>\n",
              "    <tr style=\"text-align: right;\">\n",
              "      <th></th>\n",
              "      <th>year</th>\n",
              "      <th>month</th>\n",
              "      <th>day</th>\n",
              "      <th>hour</th>\n",
              "      <th>rainval</th>\n",
              "      <th>tempval</th>\n",
              "      <th>humval</th>\n",
              "      <th>windval</th>\n",
              "    </tr>\n",
              "  </thead>\n",
              "  <tbody>\n",
              "    <tr>\n",
              "      <th>0</th>\n",
              "      <td>2020</td>\n",
              "      <td>1</td>\n",
              "      <td>1</td>\n",
              "      <td>0</td>\n",
              "      <td>0.0</td>\n",
              "      <td>-3.7</td>\n",
              "      <td>78.0</td>\n",
              "      <td>1.4</td>\n",
              "    </tr>\n",
              "    <tr>\n",
              "      <th>1</th>\n",
              "      <td>2020</td>\n",
              "      <td>1</td>\n",
              "      <td>1</td>\n",
              "      <td>1</td>\n",
              "      <td>0.0</td>\n",
              "      <td>-3.2</td>\n",
              "      <td>84.0</td>\n",
              "      <td>1.1</td>\n",
              "    </tr>\n",
              "    <tr>\n",
              "      <th>2</th>\n",
              "      <td>2020</td>\n",
              "      <td>1</td>\n",
              "      <td>1</td>\n",
              "      <td>2</td>\n",
              "      <td>0.0</td>\n",
              "      <td>-2.1</td>\n",
              "      <td>77.0</td>\n",
              "      <td>1.4</td>\n",
              "    </tr>\n",
              "    <tr>\n",
              "      <th>3</th>\n",
              "      <td>2020</td>\n",
              "      <td>1</td>\n",
              "      <td>1</td>\n",
              "      <td>3</td>\n",
              "      <td>0.0</td>\n",
              "      <td>-0.9</td>\n",
              "      <td>74.0</td>\n",
              "      <td>0.9</td>\n",
              "    </tr>\n",
              "    <tr>\n",
              "      <th>4</th>\n",
              "      <td>2020</td>\n",
              "      <td>1</td>\n",
              "      <td>1</td>\n",
              "      <td>4</td>\n",
              "      <td>0.0</td>\n",
              "      <td>0.0</td>\n",
              "      <td>69.0</td>\n",
              "      <td>0.9</td>\n",
              "    </tr>\n",
              "  </tbody>\n",
              "</table>\n",
              "</div>"
            ],
            "text/plain": [
              "   year  month  day  hour  rainval  tempval  humval  windval\n",
              "0  2020      1    1     0      0.0     -3.7    78.0      1.4\n",
              "1  2020      1    1     1      0.0     -3.2    84.0      1.1\n",
              "2  2020      1    1     2      0.0     -2.1    77.0      1.4\n",
              "3  2020      1    1     3      0.0     -0.9    74.0      0.9\n",
              "4  2020      1    1     4      0.0      0.0    69.0      0.9"
            ]
          },
          "metadata": {
            "tags": []
          },
          "execution_count": 78
        }
      ]
    },
    {
      "cell_type": "code",
      "metadata": {
        "id": "5vIufkXDeYhw"
      },
      "source": [
        "dust_weather= pd.merge(dust_final, weather, how='outer', on=['year','month','day','hour'])"
      ],
      "execution_count": null,
      "outputs": []
    },
    {
      "cell_type": "code",
      "metadata": {
        "colab": {
          "base_uri": "https://localhost:8080/"
        },
        "id": "iyry9WhejMxn",
        "outputId": "a832f558-6c6b-4259-f2d4-feba25b3242a"
      },
      "source": [
        "dust_weather.shape"
      ],
      "execution_count": null,
      "outputs": [
        {
          "output_type": "execute_result",
          "data": {
            "text/plain": [
              "(8784, 11)"
            ]
          },
          "metadata": {
            "tags": []
          },
          "execution_count": 80
        }
      ]
    },
    {
      "cell_type": "code",
      "metadata": {
        "colab": {
          "base_uri": "https://localhost:8080/",
          "height": 200
        },
        "id": "WAPvGYKHhe9L",
        "outputId": "a89df45a-7981-43de-f2a1-0397eccabd1e"
      },
      "source": [
        "dust_weather.head()"
      ],
      "execution_count": null,
      "outputs": [
        {
          "output_type": "execute_result",
          "data": {
            "text/html": [
              "<div>\n",
              "<style scoped>\n",
              "    .dataframe tbody tr th:only-of-type {\n",
              "        vertical-align: middle;\n",
              "    }\n",
              "\n",
              "    .dataframe tbody tr th {\n",
              "        vertical-align: top;\n",
              "    }\n",
              "\n",
              "    .dataframe thead th {\n",
              "        text-align: right;\n",
              "    }\n",
              "</style>\n",
              "<table border=\"1\" class=\"dataframe\">\n",
              "  <thead>\n",
              "    <tr style=\"text-align: right;\">\n",
              "      <th></th>\n",
              "      <th>측정소 이름</th>\n",
              "      <th>미세먼지 평균</th>\n",
              "      <th>초미세먼지 평균</th>\n",
              "      <th>year</th>\n",
              "      <th>month</th>\n",
              "      <th>day</th>\n",
              "      <th>hour</th>\n",
              "      <th>rainval</th>\n",
              "      <th>tempval</th>\n",
              "      <th>humval</th>\n",
              "      <th>windval</th>\n",
              "    </tr>\n",
              "  </thead>\n",
              "  <tbody>\n",
              "    <tr>\n",
              "      <th>0</th>\n",
              "      <td>서초구</td>\n",
              "      <td>49.0</td>\n",
              "      <td>34.0</td>\n",
              "      <td>2020</td>\n",
              "      <td>1</td>\n",
              "      <td>31</td>\n",
              "      <td>23</td>\n",
              "      <td>0.0</td>\n",
              "      <td>1.0</td>\n",
              "      <td>79.0</td>\n",
              "      <td>0.9</td>\n",
              "    </tr>\n",
              "    <tr>\n",
              "      <th>1</th>\n",
              "      <td>서초구</td>\n",
              "      <td>49.0</td>\n",
              "      <td>31.0</td>\n",
              "      <td>2020</td>\n",
              "      <td>1</td>\n",
              "      <td>31</td>\n",
              "      <td>22</td>\n",
              "      <td>0.0</td>\n",
              "      <td>-0.3</td>\n",
              "      <td>86.0</td>\n",
              "      <td>0.9</td>\n",
              "    </tr>\n",
              "    <tr>\n",
              "      <th>2</th>\n",
              "      <td>서초구</td>\n",
              "      <td>47.0</td>\n",
              "      <td>985.0</td>\n",
              "      <td>2020</td>\n",
              "      <td>1</td>\n",
              "      <td>31</td>\n",
              "      <td>21</td>\n",
              "      <td>0.0</td>\n",
              "      <td>-1.1</td>\n",
              "      <td>95.0</td>\n",
              "      <td>0.9</td>\n",
              "    </tr>\n",
              "    <tr>\n",
              "      <th>3</th>\n",
              "      <td>서초구</td>\n",
              "      <td>47.0</td>\n",
              "      <td>31.0</td>\n",
              "      <td>2020</td>\n",
              "      <td>1</td>\n",
              "      <td>31</td>\n",
              "      <td>20</td>\n",
              "      <td>0.0</td>\n",
              "      <td>-0.6</td>\n",
              "      <td>92.0</td>\n",
              "      <td>0.9</td>\n",
              "    </tr>\n",
              "    <tr>\n",
              "      <th>4</th>\n",
              "      <td>서초구</td>\n",
              "      <td>48.0</td>\n",
              "      <td>31.0</td>\n",
              "      <td>2020</td>\n",
              "      <td>1</td>\n",
              "      <td>31</td>\n",
              "      <td>19</td>\n",
              "      <td>0.0</td>\n",
              "      <td>-0.8</td>\n",
              "      <td>96.0</td>\n",
              "      <td>0.8</td>\n",
              "    </tr>\n",
              "  </tbody>\n",
              "</table>\n",
              "</div>"
            ],
            "text/plain": [
              "  측정소 이름  미세먼지 평균  초미세먼지 평균  year  ...  rainval  tempval  humval  windval\n",
              "0    서초구     49.0      34.0  2020  ...      0.0      1.0    79.0      0.9\n",
              "1    서초구     49.0      31.0  2020  ...      0.0     -0.3    86.0      0.9\n",
              "2    서초구     47.0     985.0  2020  ...      0.0     -1.1    95.0      0.9\n",
              "3    서초구     47.0      31.0  2020  ...      0.0     -0.6    92.0      0.9\n",
              "4    서초구     48.0      31.0  2020  ...      0.0     -0.8    96.0      0.8\n",
              "\n",
              "[5 rows x 11 columns]"
            ]
          },
          "metadata": {
            "tags": []
          },
          "execution_count": 81
        }
      ]
    },
    {
      "cell_type": "code",
      "metadata": {
        "colab": {
          "base_uri": "https://localhost:8080/"
        },
        "id": "hLeqM7Iaelgf",
        "outputId": "24bbb683-bb2d-4019-9bff-6d49338809fc"
      },
      "source": [
        "dust_weather.isna().sum()\n",
        "#날씨 데이터는 missing값이 없지만 미세먼지 데이터는 missing이 있기 때문에 이 값 처리 우선 해 줄 것."
      ],
      "execution_count": null,
      "outputs": [
        {
          "output_type": "execute_result",
          "data": {
            "text/plain": [
              "측정소 이름      26\n",
              "미세먼지 평균     26\n",
              "초미세먼지 평균    26\n",
              "year         0\n",
              "month        0\n",
              "day          0\n",
              "hour         0\n",
              "rainval      0\n",
              "tempval      0\n",
              "humval       0\n",
              "windval      0\n",
              "dtype: int64"
            ]
          },
          "metadata": {
            "tags": []
          },
          "execution_count": 82
        }
      ]
    },
    {
      "cell_type": "code",
      "metadata": {
        "colab": {
          "base_uri": "https://localhost:8080/"
        },
        "id": "DJZmj0lCeuyn",
        "outputId": "4070b2c2-d1d8-43c0-8ea3-8eee2f6eb8ce"
      },
      "source": [
        "print(dust_weather[dust_weather['미세먼지 평균'].isna()].shape)\n",
        "print(dust_weather[dust_weather['초미세먼지 평균'].isna()].shape)\n",
        "#26 rows of missing val"
      ],
      "execution_count": null,
      "outputs": [
        {
          "output_type": "stream",
          "text": [
            "(26, 11)\n",
            "(26, 11)\n"
          ],
          "name": "stdout"
        }
      ]
    },
    {
      "cell_type": "code",
      "metadata": {
        "colab": {
          "base_uri": "https://localhost:8080/",
          "height": 835
        },
        "id": "NUeSyavnftL2",
        "outputId": "d39c4291-52ea-4a5c-e29c-ce447e903325"
      },
      "source": [
        "dust_weather[dust_weather['미세먼지 평균'].isna()]"
      ],
      "execution_count": null,
      "outputs": [
        {
          "output_type": "execute_result",
          "data": {
            "text/html": [
              "<div>\n",
              "<style scoped>\n",
              "    .dataframe tbody tr th:only-of-type {\n",
              "        vertical-align: middle;\n",
              "    }\n",
              "\n",
              "    .dataframe tbody tr th {\n",
              "        vertical-align: top;\n",
              "    }\n",
              "\n",
              "    .dataframe thead th {\n",
              "        text-align: right;\n",
              "    }\n",
              "</style>\n",
              "<table border=\"1\" class=\"dataframe\">\n",
              "  <thead>\n",
              "    <tr style=\"text-align: right;\">\n",
              "      <th></th>\n",
              "      <th>측정소 이름</th>\n",
              "      <th>미세먼지 평균</th>\n",
              "      <th>초미세먼지 평균</th>\n",
              "      <th>year</th>\n",
              "      <th>month</th>\n",
              "      <th>day</th>\n",
              "      <th>hour</th>\n",
              "      <th>rainval</th>\n",
              "      <th>tempval</th>\n",
              "      <th>humval</th>\n",
              "      <th>windval</th>\n",
              "    </tr>\n",
              "  </thead>\n",
              "  <tbody>\n",
              "    <tr>\n",
              "      <th>8758</th>\n",
              "      <td>NaN</td>\n",
              "      <td>NaN</td>\n",
              "      <td>NaN</td>\n",
              "      <td>2020</td>\n",
              "      <td>2</td>\n",
              "      <td>21</td>\n",
              "      <td>18</td>\n",
              "      <td>0.0</td>\n",
              "      <td>5.100000</td>\n",
              "      <td>86.0</td>\n",
              "      <td>1.8</td>\n",
              "    </tr>\n",
              "    <tr>\n",
              "      <th>8759</th>\n",
              "      <td>NaN</td>\n",
              "      <td>NaN</td>\n",
              "      <td>NaN</td>\n",
              "      <td>2020</td>\n",
              "      <td>2</td>\n",
              "      <td>21</td>\n",
              "      <td>19</td>\n",
              "      <td>0.0</td>\n",
              "      <td>4.700000</td>\n",
              "      <td>84.0</td>\n",
              "      <td>1.3</td>\n",
              "    </tr>\n",
              "    <tr>\n",
              "      <th>8760</th>\n",
              "      <td>NaN</td>\n",
              "      <td>NaN</td>\n",
              "      <td>NaN</td>\n",
              "      <td>2020</td>\n",
              "      <td>2</td>\n",
              "      <td>21</td>\n",
              "      <td>20</td>\n",
              "      <td>0.0</td>\n",
              "      <td>4.700000</td>\n",
              "      <td>78.0</td>\n",
              "      <td>1.3</td>\n",
              "    </tr>\n",
              "    <tr>\n",
              "      <th>8761</th>\n",
              "      <td>NaN</td>\n",
              "      <td>NaN</td>\n",
              "      <td>NaN</td>\n",
              "      <td>2020</td>\n",
              "      <td>2</td>\n",
              "      <td>21</td>\n",
              "      <td>21</td>\n",
              "      <td>0.0</td>\n",
              "      <td>4.400000</td>\n",
              "      <td>77.0</td>\n",
              "      <td>1.3</td>\n",
              "    </tr>\n",
              "    <tr>\n",
              "      <th>8762</th>\n",
              "      <td>NaN</td>\n",
              "      <td>NaN</td>\n",
              "      <td>NaN</td>\n",
              "      <td>2020</td>\n",
              "      <td>2</td>\n",
              "      <td>21</td>\n",
              "      <td>22</td>\n",
              "      <td>0.0</td>\n",
              "      <td>4.700000</td>\n",
              "      <td>75.0</td>\n",
              "      <td>1.5</td>\n",
              "    </tr>\n",
              "    <tr>\n",
              "      <th>8763</th>\n",
              "      <td>NaN</td>\n",
              "      <td>NaN</td>\n",
              "      <td>NaN</td>\n",
              "      <td>2020</td>\n",
              "      <td>2</td>\n",
              "      <td>21</td>\n",
              "      <td>23</td>\n",
              "      <td>0.0</td>\n",
              "      <td>5.300000</td>\n",
              "      <td>77.0</td>\n",
              "      <td>1.4</td>\n",
              "    </tr>\n",
              "    <tr>\n",
              "      <th>8764</th>\n",
              "      <td>NaN</td>\n",
              "      <td>NaN</td>\n",
              "      <td>NaN</td>\n",
              "      <td>2020</td>\n",
              "      <td>2</td>\n",
              "      <td>22</td>\n",
              "      <td>0</td>\n",
              "      <td>0.0</td>\n",
              "      <td>6.200000</td>\n",
              "      <td>68.0</td>\n",
              "      <td>2.2</td>\n",
              "    </tr>\n",
              "    <tr>\n",
              "      <th>8765</th>\n",
              "      <td>NaN</td>\n",
              "      <td>NaN</td>\n",
              "      <td>NaN</td>\n",
              "      <td>2020</td>\n",
              "      <td>2</td>\n",
              "      <td>22</td>\n",
              "      <td>1</td>\n",
              "      <td>0.0</td>\n",
              "      <td>6.900000</td>\n",
              "      <td>55.0</td>\n",
              "      <td>2.5</td>\n",
              "    </tr>\n",
              "    <tr>\n",
              "      <th>8766</th>\n",
              "      <td>NaN</td>\n",
              "      <td>NaN</td>\n",
              "      <td>NaN</td>\n",
              "      <td>2020</td>\n",
              "      <td>2</td>\n",
              "      <td>22</td>\n",
              "      <td>2</td>\n",
              "      <td>0.0</td>\n",
              "      <td>7.800000</td>\n",
              "      <td>47.0</td>\n",
              "      <td>2.9</td>\n",
              "    </tr>\n",
              "    <tr>\n",
              "      <th>8767</th>\n",
              "      <td>NaN</td>\n",
              "      <td>NaN</td>\n",
              "      <td>NaN</td>\n",
              "      <td>2020</td>\n",
              "      <td>2</td>\n",
              "      <td>22</td>\n",
              "      <td>3</td>\n",
              "      <td>0.0</td>\n",
              "      <td>8.300000</td>\n",
              "      <td>34.0</td>\n",
              "      <td>3.1</td>\n",
              "    </tr>\n",
              "    <tr>\n",
              "      <th>8768</th>\n",
              "      <td>NaN</td>\n",
              "      <td>NaN</td>\n",
              "      <td>NaN</td>\n",
              "      <td>2020</td>\n",
              "      <td>2</td>\n",
              "      <td>22</td>\n",
              "      <td>4</td>\n",
              "      <td>0.0</td>\n",
              "      <td>8.000000</td>\n",
              "      <td>34.0</td>\n",
              "      <td>2.5</td>\n",
              "    </tr>\n",
              "    <tr>\n",
              "      <th>8769</th>\n",
              "      <td>NaN</td>\n",
              "      <td>NaN</td>\n",
              "      <td>NaN</td>\n",
              "      <td>2020</td>\n",
              "      <td>2</td>\n",
              "      <td>22</td>\n",
              "      <td>5</td>\n",
              "      <td>0.0</td>\n",
              "      <td>6.400000</td>\n",
              "      <td>38.0</td>\n",
              "      <td>4.2</td>\n",
              "    </tr>\n",
              "    <tr>\n",
              "      <th>8770</th>\n",
              "      <td>NaN</td>\n",
              "      <td>NaN</td>\n",
              "      <td>NaN</td>\n",
              "      <td>2020</td>\n",
              "      <td>2</td>\n",
              "      <td>22</td>\n",
              "      <td>6</td>\n",
              "      <td>0.0</td>\n",
              "      <td>6.300000</td>\n",
              "      <td>45.0</td>\n",
              "      <td>2.8</td>\n",
              "    </tr>\n",
              "    <tr>\n",
              "      <th>8771</th>\n",
              "      <td>NaN</td>\n",
              "      <td>NaN</td>\n",
              "      <td>NaN</td>\n",
              "      <td>2020</td>\n",
              "      <td>2</td>\n",
              "      <td>22</td>\n",
              "      <td>7</td>\n",
              "      <td>0.0</td>\n",
              "      <td>5.400000</td>\n",
              "      <td>49.0</td>\n",
              "      <td>2.3</td>\n",
              "    </tr>\n",
              "    <tr>\n",
              "      <th>8772</th>\n",
              "      <td>NaN</td>\n",
              "      <td>NaN</td>\n",
              "      <td>NaN</td>\n",
              "      <td>2020</td>\n",
              "      <td>2</td>\n",
              "      <td>22</td>\n",
              "      <td>8</td>\n",
              "      <td>-1.0</td>\n",
              "      <td>-50.000000</td>\n",
              "      <td>-1.0</td>\n",
              "      <td>-1.0</td>\n",
              "    </tr>\n",
              "    <tr>\n",
              "      <th>8773</th>\n",
              "      <td>NaN</td>\n",
              "      <td>NaN</td>\n",
              "      <td>NaN</td>\n",
              "      <td>2020</td>\n",
              "      <td>7</td>\n",
              "      <td>3</td>\n",
              "      <td>18</td>\n",
              "      <td>0.0</td>\n",
              "      <td>19.600000</td>\n",
              "      <td>100.0</td>\n",
              "      <td>0.7</td>\n",
              "    </tr>\n",
              "    <tr>\n",
              "      <th>8774</th>\n",
              "      <td>NaN</td>\n",
              "      <td>NaN</td>\n",
              "      <td>NaN</td>\n",
              "      <td>2020</td>\n",
              "      <td>7</td>\n",
              "      <td>3</td>\n",
              "      <td>19</td>\n",
              "      <td>0.0</td>\n",
              "      <td>20.000000</td>\n",
              "      <td>100.0</td>\n",
              "      <td>0.7</td>\n",
              "    </tr>\n",
              "    <tr>\n",
              "      <th>8775</th>\n",
              "      <td>NaN</td>\n",
              "      <td>NaN</td>\n",
              "      <td>NaN</td>\n",
              "      <td>2020</td>\n",
              "      <td>7</td>\n",
              "      <td>3</td>\n",
              "      <td>20</td>\n",
              "      <td>0.0</td>\n",
              "      <td>20.200001</td>\n",
              "      <td>100.0</td>\n",
              "      <td>0.9</td>\n",
              "    </tr>\n",
              "    <tr>\n",
              "      <th>8776</th>\n",
              "      <td>NaN</td>\n",
              "      <td>NaN</td>\n",
              "      <td>NaN</td>\n",
              "      <td>2020</td>\n",
              "      <td>7</td>\n",
              "      <td>3</td>\n",
              "      <td>21</td>\n",
              "      <td>0.0</td>\n",
              "      <td>21.100000</td>\n",
              "      <td>90.0</td>\n",
              "      <td>1.5</td>\n",
              "    </tr>\n",
              "    <tr>\n",
              "      <th>8777</th>\n",
              "      <td>NaN</td>\n",
              "      <td>NaN</td>\n",
              "      <td>NaN</td>\n",
              "      <td>2020</td>\n",
              "      <td>7</td>\n",
              "      <td>3</td>\n",
              "      <td>22</td>\n",
              "      <td>0.0</td>\n",
              "      <td>21.799999</td>\n",
              "      <td>82.0</td>\n",
              "      <td>1.2</td>\n",
              "    </tr>\n",
              "    <tr>\n",
              "      <th>8778</th>\n",
              "      <td>NaN</td>\n",
              "      <td>NaN</td>\n",
              "      <td>NaN</td>\n",
              "      <td>2020</td>\n",
              "      <td>7</td>\n",
              "      <td>3</td>\n",
              "      <td>23</td>\n",
              "      <td>0.0</td>\n",
              "      <td>24.200001</td>\n",
              "      <td>52.0</td>\n",
              "      <td>1.4</td>\n",
              "    </tr>\n",
              "    <tr>\n",
              "      <th>8779</th>\n",
              "      <td>NaN</td>\n",
              "      <td>NaN</td>\n",
              "      <td>NaN</td>\n",
              "      <td>2020</td>\n",
              "      <td>7</td>\n",
              "      <td>4</td>\n",
              "      <td>0</td>\n",
              "      <td>0.0</td>\n",
              "      <td>25.400000</td>\n",
              "      <td>47.0</td>\n",
              "      <td>1.4</td>\n",
              "    </tr>\n",
              "    <tr>\n",
              "      <th>8780</th>\n",
              "      <td>NaN</td>\n",
              "      <td>NaN</td>\n",
              "      <td>NaN</td>\n",
              "      <td>2020</td>\n",
              "      <td>7</td>\n",
              "      <td>4</td>\n",
              "      <td>1</td>\n",
              "      <td>0.0</td>\n",
              "      <td>27.100000</td>\n",
              "      <td>45.0</td>\n",
              "      <td>1.3</td>\n",
              "    </tr>\n",
              "    <tr>\n",
              "      <th>8781</th>\n",
              "      <td>NaN</td>\n",
              "      <td>NaN</td>\n",
              "      <td>NaN</td>\n",
              "      <td>2020</td>\n",
              "      <td>7</td>\n",
              "      <td>4</td>\n",
              "      <td>2</td>\n",
              "      <td>0.0</td>\n",
              "      <td>26.799999</td>\n",
              "      <td>46.0</td>\n",
              "      <td>2.2</td>\n",
              "    </tr>\n",
              "    <tr>\n",
              "      <th>8782</th>\n",
              "      <td>NaN</td>\n",
              "      <td>NaN</td>\n",
              "      <td>NaN</td>\n",
              "      <td>2020</td>\n",
              "      <td>7</td>\n",
              "      <td>4</td>\n",
              "      <td>3</td>\n",
              "      <td>0.0</td>\n",
              "      <td>27.700001</td>\n",
              "      <td>41.0</td>\n",
              "      <td>1.6</td>\n",
              "    </tr>\n",
              "    <tr>\n",
              "      <th>8783</th>\n",
              "      <td>NaN</td>\n",
              "      <td>NaN</td>\n",
              "      <td>NaN</td>\n",
              "      <td>2020</td>\n",
              "      <td>7</td>\n",
              "      <td>4</td>\n",
              "      <td>4</td>\n",
              "      <td>0.0</td>\n",
              "      <td>28.799999</td>\n",
              "      <td>40.0</td>\n",
              "      <td>1.7</td>\n",
              "    </tr>\n",
              "  </tbody>\n",
              "</table>\n",
              "</div>"
            ],
            "text/plain": [
              "     측정소 이름  미세먼지 평균  초미세먼지 평균  year  ...  rainval    tempval  humval  windval\n",
              "8758    NaN      NaN       NaN  2020  ...      0.0   5.100000    86.0      1.8\n",
              "8759    NaN      NaN       NaN  2020  ...      0.0   4.700000    84.0      1.3\n",
              "8760    NaN      NaN       NaN  2020  ...      0.0   4.700000    78.0      1.3\n",
              "8761    NaN      NaN       NaN  2020  ...      0.0   4.400000    77.0      1.3\n",
              "8762    NaN      NaN       NaN  2020  ...      0.0   4.700000    75.0      1.5\n",
              "8763    NaN      NaN       NaN  2020  ...      0.0   5.300000    77.0      1.4\n",
              "8764    NaN      NaN       NaN  2020  ...      0.0   6.200000    68.0      2.2\n",
              "8765    NaN      NaN       NaN  2020  ...      0.0   6.900000    55.0      2.5\n",
              "8766    NaN      NaN       NaN  2020  ...      0.0   7.800000    47.0      2.9\n",
              "8767    NaN      NaN       NaN  2020  ...      0.0   8.300000    34.0      3.1\n",
              "8768    NaN      NaN       NaN  2020  ...      0.0   8.000000    34.0      2.5\n",
              "8769    NaN      NaN       NaN  2020  ...      0.0   6.400000    38.0      4.2\n",
              "8770    NaN      NaN       NaN  2020  ...      0.0   6.300000    45.0      2.8\n",
              "8771    NaN      NaN       NaN  2020  ...      0.0   5.400000    49.0      2.3\n",
              "8772    NaN      NaN       NaN  2020  ...     -1.0 -50.000000    -1.0     -1.0\n",
              "8773    NaN      NaN       NaN  2020  ...      0.0  19.600000   100.0      0.7\n",
              "8774    NaN      NaN       NaN  2020  ...      0.0  20.000000   100.0      0.7\n",
              "8775    NaN      NaN       NaN  2020  ...      0.0  20.200001   100.0      0.9\n",
              "8776    NaN      NaN       NaN  2020  ...      0.0  21.100000    90.0      1.5\n",
              "8777    NaN      NaN       NaN  2020  ...      0.0  21.799999    82.0      1.2\n",
              "8778    NaN      NaN       NaN  2020  ...      0.0  24.200001    52.0      1.4\n",
              "8779    NaN      NaN       NaN  2020  ...      0.0  25.400000    47.0      1.4\n",
              "8780    NaN      NaN       NaN  2020  ...      0.0  27.100000    45.0      1.3\n",
              "8781    NaN      NaN       NaN  2020  ...      0.0  26.799999    46.0      2.2\n",
              "8782    NaN      NaN       NaN  2020  ...      0.0  27.700001    41.0      1.6\n",
              "8783    NaN      NaN       NaN  2020  ...      0.0  28.799999    40.0      1.7\n",
              "\n",
              "[26 rows x 11 columns]"
            ]
          },
          "metadata": {
            "tags": []
          },
          "execution_count": 84
        }
      ]
    },
    {
      "cell_type": "markdown",
      "metadata": {
        "id": "Xhy6_khKfdxz"
      },
      "source": [
        "### dust_weather DF의 결측치 처리\n",
        "\n",
        "26개의 결측치가 보인다. 각 날의 값이 있는 시간대의 평균을 내서 \n",
        "결측치를 채울것이다. "
      ]
    },
    {
      "cell_type": "code",
      "metadata": {
        "id": "Q4QIVvu8guqh"
      },
      "source": [
        "#우선 서초구는 동일하니까\n",
        "dust_weather['측정소 이름'].fillna('서초구',inplace=True)"
      ],
      "execution_count": null,
      "outputs": []
    },
    {
      "cell_type": "code",
      "metadata": {
        "colab": {
          "base_uri": "https://localhost:8080/"
        },
        "id": "kzx3B82SfpmD",
        "outputId": "c1467e9a-83fe-45d9-f72d-d48741a45290"
      },
      "source": [
        "#2월 21데이터의 na값이 아닌 것들의 미세먼지/ 초미세먼지 평균을 볼 것\n",
        "print(round(dust_weather[(dust_weather.month==2)&(dust_weather.day==21)&(dust_weather['미세먼지 평균'].notna())]['미세먼지 평균'].mean()))\n",
        "print(round(dust_weather[(dust_weather.month==2)&(dust_weather.day==21)&(dust_weather['미세먼지 평균'].notna())]['초미세먼지 평균'].mean()))"
      ],
      "execution_count": null,
      "outputs": [
        {
          "output_type": "stream",
          "text": [
            "81\n",
            "55\n"
          ],
          "name": "stdout"
        }
      ]
    },
    {
      "cell_type": "code",
      "metadata": {
        "id": "x6fK6IhBijFb"
      },
      "source": [
        "#month, day로 그룹 한 것의 mean값으로 대체 해 주기로 함.\n",
        "dust_weather['미세먼지 평균']= dust_weather['미세먼지 평균'].fillna(dust_weather.groupby(['month','day'])['미세먼지 평균'].transform('mean'))\n",
        "dust_weather['초미세먼지 평균']= dust_weather['초미세먼지 평균'].fillna(dust_weather.groupby(['month','day'])['초미세먼지 평균'].transform('mean'))"
      ],
      "execution_count": null,
      "outputs": []
    },
    {
      "cell_type": "code",
      "metadata": {
        "colab": {
          "base_uri": "https://localhost:8080/"
        },
        "id": "vbR1PpjyjLoO",
        "outputId": "edddeecb-a5b5-41c2-cb1f-1738d404766d"
      },
      "source": [
        "dust_weather.isna().sum()"
      ],
      "execution_count": null,
      "outputs": [
        {
          "output_type": "execute_result",
          "data": {
            "text/plain": [
              "측정소 이름      0\n",
              "미세먼지 평균     0\n",
              "초미세먼지 평균    0\n",
              "year        0\n",
              "month       0\n",
              "day         0\n",
              "hour        0\n",
              "rainval     0\n",
              "tempval     0\n",
              "humval      0\n",
              "windval     0\n",
              "dtype: int64"
            ]
          },
          "metadata": {
            "tags": []
          },
          "execution_count": 88
        }
      ]
    },
    {
      "cell_type": "markdown",
      "metadata": {
        "id": "SGZkk6nxf9lR"
      },
      "source": [
        "### dust 이상치 처리\n",
        "\n",
        "0보다 작은 값을 가질 순 없음 => air korea\n",
        "\n",
        "![image.png](data:image/png;base64,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)\n",
        "\n",
        "-9999.0 이 될 수 없기 때문에 사전 처리를 해준다."
      ]
    },
    {
      "cell_type": "code",
      "metadata": {
        "colab": {
          "base_uri": "https://localhost:8080/"
        },
        "id": "5mZ3qf9-lIZe",
        "outputId": "79868021-1145-41a6-9218-6f189e329aed"
      },
      "source": [
        "dust_weather[dust_weather['미세먼지 평균']<0]['미세먼지 평균'].value_counts()"
      ],
      "execution_count": null,
      "outputs": [
        {
          "output_type": "execute_result",
          "data": {
            "text/plain": [
              "-9999.0    8\n",
              "-6.0       7\n",
              "-4.0       4\n",
              "-5.0       3\n",
              "-3.0       2\n",
              "-1.0       1\n",
              "-2.0       1\n",
              "Name: 미세먼지 평균, dtype: int64"
            ]
          },
          "metadata": {
            "tags": []
          },
          "execution_count": 89
        }
      ]
    },
    {
      "cell_type": "code",
      "metadata": {
        "id": "zmWa72t1llNp"
      },
      "source": [
        "#0보다 작은 미세먼지 평균을 nan값으로 바꿈\n",
        "dust_weather['미세먼지 평균']= dust_weather['미세먼지 평균'].replace(-9999.0,np.nan)\n",
        "dust_weather['미세먼지 평균']= dust_weather['미세먼지 평균'].replace([-1.0,-2.0,-3.0,-4.0,-5.0,-6.0],np.nan)"
      ],
      "execution_count": null,
      "outputs": []
    },
    {
      "cell_type": "code",
      "metadata": {
        "colab": {
          "base_uri": "https://localhost:8080/"
        },
        "id": "ZGWpGbBYl2HM",
        "outputId": "212897f4-1797-4c57-b8e1-f59ccd6ef239"
      },
      "source": [
        "dust_weather[dust_weather['초미세먼지 평균']<0]['초미세먼지 평균'].value_counts()"
      ],
      "execution_count": null,
      "outputs": [
        {
          "output_type": "execute_result",
          "data": {
            "text/plain": [
              "-9999.0    8\n",
              "-2.0       1\n",
              "-15.0      1\n",
              "Name: 초미세먼지 평균, dtype: int64"
            ]
          },
          "metadata": {
            "tags": []
          },
          "execution_count": 91
        }
      ]
    },
    {
      "cell_type": "code",
      "metadata": {
        "id": "oYv9mrPdmWQI"
      },
      "source": [
        "#초미세먼지 평균도 바꿈\n",
        "dust_weather['초미세먼지 평균']= dust_weather['초미세먼지 평균'].replace([-9999.0,-2.0,-15.0],np.nan)"
      ],
      "execution_count": null,
      "outputs": []
    },
    {
      "cell_type": "code",
      "metadata": {
        "id": "9SvbwtTvmneE"
      },
      "source": [
        "#month, day로 그룹 한 것의 mean값으로 대체 해 주기로 함.\n",
        "dust_weather['미세먼지 평균']= dust_weather['미세먼지 평균'].fillna(dust_weather.groupby(['month','day'])['미세먼지 평균'].transform('mean'))\n",
        "dust_weather['초미세먼지 평균']= dust_weather['초미세먼지 평균'].fillna(dust_weather.groupby(['month','day'])['초미세먼지 평균'].transform('mean'))"
      ],
      "execution_count": null,
      "outputs": []
    },
    {
      "cell_type": "code",
      "metadata": {
        "colab": {
          "base_uri": "https://localhost:8080/"
        },
        "id": "p46638Vwmttc",
        "outputId": "0a79bb70-6732-442c-843a-9cb3753d355a"
      },
      "source": [
        "dust_weather.isna().sum()"
      ],
      "execution_count": null,
      "outputs": [
        {
          "output_type": "execute_result",
          "data": {
            "text/plain": [
              "측정소 이름      0\n",
              "미세먼지 평균     0\n",
              "초미세먼지 평균    0\n",
              "year        0\n",
              "month       0\n",
              "day         0\n",
              "hour        0\n",
              "rainval     0\n",
              "tempval     0\n",
              "humval      0\n",
              "windval     0\n",
              "dtype: int64"
            ]
          },
          "metadata": {
            "tags": []
          },
          "execution_count": 94
        }
      ]
    },
    {
      "cell_type": "code",
      "metadata": {
        "colab": {
          "base_uri": "https://localhost:8080/",
          "height": 48
        },
        "id": "v32G1dtymw8x",
        "outputId": "22023b2a-7983-489b-a272-dd1c230442c7"
      },
      "source": [
        "dust_weather[(dust_weather['미세먼지 평균']<0)|(dust_weather['초미세먼지 평균']<0)]\n",
        "#미세먼지 이상치 까지 제거 완료@_@"
      ],
      "execution_count": null,
      "outputs": [
        {
          "output_type": "execute_result",
          "data": {
            "text/html": [
              "<div>\n",
              "<style scoped>\n",
              "    .dataframe tbody tr th:only-of-type {\n",
              "        vertical-align: middle;\n",
              "    }\n",
              "\n",
              "    .dataframe tbody tr th {\n",
              "        vertical-align: top;\n",
              "    }\n",
              "\n",
              "    .dataframe thead th {\n",
              "        text-align: right;\n",
              "    }\n",
              "</style>\n",
              "<table border=\"1\" class=\"dataframe\">\n",
              "  <thead>\n",
              "    <tr style=\"text-align: right;\">\n",
              "      <th></th>\n",
              "      <th>측정소 이름</th>\n",
              "      <th>미세먼지 평균</th>\n",
              "      <th>초미세먼지 평균</th>\n",
              "      <th>year</th>\n",
              "      <th>month</th>\n",
              "      <th>day</th>\n",
              "      <th>hour</th>\n",
              "      <th>rainval</th>\n",
              "      <th>tempval</th>\n",
              "      <th>humval</th>\n",
              "      <th>windval</th>\n",
              "    </tr>\n",
              "  </thead>\n",
              "  <tbody>\n",
              "  </tbody>\n",
              "</table>\n",
              "</div>"
            ],
            "text/plain": [
              "Empty DataFrame\n",
              "Columns: [측정소 이름, 미세먼지 평균, 초미세먼지 평균, year, month, day, hour, rainval, tempval, humval, windval]\n",
              "Index: []"
            ]
          },
          "metadata": {
            "tags": []
          },
          "execution_count": 95
        }
      ]
    },
    {
      "cell_type": "markdown",
      "metadata": {
        "id": "APSYWWT_jmW8"
      },
      "source": [
        "### data(따릉이 정보)와 merge"
      ]
    },
    {
      "cell_type": "code",
      "metadata": {
        "colab": {
          "base_uri": "https://localhost:8080/",
          "height": 408
        },
        "id": "tCvsTB4kjpjV",
        "outputId": "8a77dcbe-d475-4277-b25a-9079f53d3dff"
      },
      "source": [
        "data"
      ],
      "execution_count": null,
      "outputs": [
        {
          "output_type": "execute_result",
          "data": {
            "text/html": [
              "<div>\n",
              "<style scoped>\n",
              "    .dataframe tbody tr th:only-of-type {\n",
              "        vertical-align: middle;\n",
              "    }\n",
              "\n",
              "    .dataframe tbody tr th {\n",
              "        vertical-align: top;\n",
              "    }\n",
              "\n",
              "    .dataframe thead th {\n",
              "        text-align: right;\n",
              "    }\n",
              "</style>\n",
              "<table border=\"1\" class=\"dataframe\">\n",
              "  <thead>\n",
              "    <tr style=\"text-align: right;\">\n",
              "      <th></th>\n",
              "      <th>year</th>\n",
              "      <th>month</th>\n",
              "      <th>day</th>\n",
              "      <th>hour</th>\n",
              "      <th>place</th>\n",
              "      <th>stno</th>\n",
              "      <th>stname</th>\n",
              "      <th>num</th>\n",
              "    </tr>\n",
              "  </thead>\n",
              "  <tbody>\n",
              "    <tr>\n",
              "      <th>0</th>\n",
              "      <td>2020</td>\n",
              "      <td>1</td>\n",
              "      <td>1</td>\n",
              "      <td>0</td>\n",
              "      <td>서초구</td>\n",
              "      <td>2213</td>\n",
              "      <td>고속터미널역 5번출구 앞</td>\n",
              "      <td>1</td>\n",
              "    </tr>\n",
              "    <tr>\n",
              "      <th>1</th>\n",
              "      <td>2020</td>\n",
              "      <td>1</td>\n",
              "      <td>1</td>\n",
              "      <td>0</td>\n",
              "      <td>서초구</td>\n",
              "      <td>2222</td>\n",
              "      <td>사당역 12번출구 뒤</td>\n",
              "      <td>1</td>\n",
              "    </tr>\n",
              "    <tr>\n",
              "      <th>2</th>\n",
              "      <td>2020</td>\n",
              "      <td>1</td>\n",
              "      <td>1</td>\n",
              "      <td>0</td>\n",
              "      <td>서초구</td>\n",
              "      <td>2251</td>\n",
              "      <td>더케이호텔 입구(양재2)</td>\n",
              "      <td>1</td>\n",
              "    </tr>\n",
              "    <tr>\n",
              "      <th>3</th>\n",
              "      <td>2020</td>\n",
              "      <td>1</td>\n",
              "      <td>1</td>\n",
              "      <td>0</td>\n",
              "      <td>서초구</td>\n",
              "      <td>2256</td>\n",
              "      <td>양재동 꽃시장 입구</td>\n",
              "      <td>1</td>\n",
              "    </tr>\n",
              "    <tr>\n",
              "      <th>4</th>\n",
              "      <td>2020</td>\n",
              "      <td>1</td>\n",
              "      <td>1</td>\n",
              "      <td>0</td>\n",
              "      <td>서초구</td>\n",
              "      <td>2268</td>\n",
              "      <td>서초4동주민센터</td>\n",
              "      <td>2</td>\n",
              "    </tr>\n",
              "    <tr>\n",
              "      <th>...</th>\n",
              "      <td>...</td>\n",
              "      <td>...</td>\n",
              "      <td>...</td>\n",
              "      <td>...</td>\n",
              "      <td>...</td>\n",
              "      <td>...</td>\n",
              "      <td>...</td>\n",
              "      <td>...</td>\n",
              "    </tr>\n",
              "    <tr>\n",
              "      <th>359515</th>\n",
              "      <td>2020</td>\n",
              "      <td>12</td>\n",
              "      <td>31</td>\n",
              "      <td>23</td>\n",
              "      <td>서초구</td>\n",
              "      <td>2294</td>\n",
              "      <td>두상빌딩 앞</td>\n",
              "      <td>1</td>\n",
              "    </tr>\n",
              "    <tr>\n",
              "      <th>359516</th>\n",
              "      <td>2020</td>\n",
              "      <td>12</td>\n",
              "      <td>31</td>\n",
              "      <td>23</td>\n",
              "      <td>서초구</td>\n",
              "      <td>2502</td>\n",
              "      <td>서초역1번출구 앞</td>\n",
              "      <td>1</td>\n",
              "    </tr>\n",
              "    <tr>\n",
              "      <th>359517</th>\n",
              "      <td>2020</td>\n",
              "      <td>12</td>\n",
              "      <td>31</td>\n",
              "      <td>23</td>\n",
              "      <td>서초구</td>\n",
              "      <td>2508</td>\n",
              "      <td>양재이스타빌 앞</td>\n",
              "      <td>1</td>\n",
              "    </tr>\n",
              "    <tr>\n",
              "      <th>359518</th>\n",
              "      <td>2020</td>\n",
              "      <td>12</td>\n",
              "      <td>31</td>\n",
              "      <td>23</td>\n",
              "      <td>서초구</td>\n",
              "      <td>2524</td>\n",
              "      <td>반포쇼핑타운 8동 앞</td>\n",
              "      <td>1</td>\n",
              "    </tr>\n",
              "    <tr>\n",
              "      <th>359519</th>\n",
              "      <td>2020</td>\n",
              "      <td>12</td>\n",
              "      <td>31</td>\n",
              "      <td>23</td>\n",
              "      <td>서초구</td>\n",
              "      <td>2529</td>\n",
              "      <td>우리은행 방배동지점 앞</td>\n",
              "      <td>1</td>\n",
              "    </tr>\n",
              "  </tbody>\n",
              "</table>\n",
              "<p>359520 rows × 8 columns</p>\n",
              "</div>"
            ],
            "text/plain": [
              "        year  month  day  hour place  stno         stname  num\n",
              "0       2020      1    1     0   서초구  2213  고속터미널역 5번출구 앞    1\n",
              "1       2020      1    1     0   서초구  2222    사당역 12번출구 뒤    1\n",
              "2       2020      1    1     0   서초구  2251  더케이호텔 입구(양재2)    1\n",
              "3       2020      1    1     0   서초구  2256     양재동 꽃시장 입구    1\n",
              "4       2020      1    1     0   서초구  2268       서초4동주민센터    2\n",
              "...      ...    ...  ...   ...   ...   ...            ...  ...\n",
              "359515  2020     12   31    23   서초구  2294         두상빌딩 앞    1\n",
              "359516  2020     12   31    23   서초구  2502      서초역1번출구 앞    1\n",
              "359517  2020     12   31    23   서초구  2508       양재이스타빌 앞    1\n",
              "359518  2020     12   31    23   서초구  2524    반포쇼핑타운 8동 앞    1\n",
              "359519  2020     12   31    23   서초구  2529   우리은행 방배동지점 앞    1\n",
              "\n",
              "[359520 rows x 8 columns]"
            ]
          },
          "metadata": {
            "tags": []
          },
          "execution_count": 96
        }
      ]
    },
    {
      "cell_type": "code",
      "metadata": {
        "colab": {
          "base_uri": "https://localhost:8080/",
          "height": 408
        },
        "id": "J3n0P3wMjqlM",
        "outputId": "d4f7d42e-4e53-4709-f977-9f28808132ad"
      },
      "source": [
        "dust_weather"
      ],
      "execution_count": null,
      "outputs": [
        {
          "output_type": "execute_result",
          "data": {
            "text/html": [
              "<div>\n",
              "<style scoped>\n",
              "    .dataframe tbody tr th:only-of-type {\n",
              "        vertical-align: middle;\n",
              "    }\n",
              "\n",
              "    .dataframe tbody tr th {\n",
              "        vertical-align: top;\n",
              "    }\n",
              "\n",
              "    .dataframe thead th {\n",
              "        text-align: right;\n",
              "    }\n",
              "</style>\n",
              "<table border=\"1\" class=\"dataframe\">\n",
              "  <thead>\n",
              "    <tr style=\"text-align: right;\">\n",
              "      <th></th>\n",
              "      <th>측정소 이름</th>\n",
              "      <th>미세먼지 평균</th>\n",
              "      <th>초미세먼지 평균</th>\n",
              "      <th>year</th>\n",
              "      <th>month</th>\n",
              "      <th>day</th>\n",
              "      <th>hour</th>\n",
              "      <th>rainval</th>\n",
              "      <th>tempval</th>\n",
              "      <th>humval</th>\n",
              "      <th>windval</th>\n",
              "    </tr>\n",
              "  </thead>\n",
              "  <tbody>\n",
              "    <tr>\n",
              "      <th>0</th>\n",
              "      <td>서초구</td>\n",
              "      <td>49.000000</td>\n",
              "      <td>34.000000</td>\n",
              "      <td>2020</td>\n",
              "      <td>1</td>\n",
              "      <td>31</td>\n",
              "      <td>23</td>\n",
              "      <td>0.0</td>\n",
              "      <td>1.000000</td>\n",
              "      <td>79.0</td>\n",
              "      <td>0.9</td>\n",
              "    </tr>\n",
              "    <tr>\n",
              "      <th>1</th>\n",
              "      <td>서초구</td>\n",
              "      <td>49.000000</td>\n",
              "      <td>31.000000</td>\n",
              "      <td>2020</td>\n",
              "      <td>1</td>\n",
              "      <td>31</td>\n",
              "      <td>22</td>\n",
              "      <td>0.0</td>\n",
              "      <td>-0.300000</td>\n",
              "      <td>86.0</td>\n",
              "      <td>0.9</td>\n",
              "    </tr>\n",
              "    <tr>\n",
              "      <th>2</th>\n",
              "      <td>서초구</td>\n",
              "      <td>47.000000</td>\n",
              "      <td>985.000000</td>\n",
              "      <td>2020</td>\n",
              "      <td>1</td>\n",
              "      <td>31</td>\n",
              "      <td>21</td>\n",
              "      <td>0.0</td>\n",
              "      <td>-1.100000</td>\n",
              "      <td>95.0</td>\n",
              "      <td>0.9</td>\n",
              "    </tr>\n",
              "    <tr>\n",
              "      <th>3</th>\n",
              "      <td>서초구</td>\n",
              "      <td>47.000000</td>\n",
              "      <td>31.000000</td>\n",
              "      <td>2020</td>\n",
              "      <td>1</td>\n",
              "      <td>31</td>\n",
              "      <td>20</td>\n",
              "      <td>0.0</td>\n",
              "      <td>-0.600000</td>\n",
              "      <td>92.0</td>\n",
              "      <td>0.9</td>\n",
              "    </tr>\n",
              "    <tr>\n",
              "      <th>4</th>\n",
              "      <td>서초구</td>\n",
              "      <td>48.000000</td>\n",
              "      <td>31.000000</td>\n",
              "      <td>2020</td>\n",
              "      <td>1</td>\n",
              "      <td>31</td>\n",
              "      <td>19</td>\n",
              "      <td>0.0</td>\n",
              "      <td>-0.800000</td>\n",
              "      <td>96.0</td>\n",
              "      <td>0.8</td>\n",
              "    </tr>\n",
              "    <tr>\n",
              "      <th>...</th>\n",
              "      <td>...</td>\n",
              "      <td>...</td>\n",
              "      <td>...</td>\n",
              "      <td>...</td>\n",
              "      <td>...</td>\n",
              "      <td>...</td>\n",
              "      <td>...</td>\n",
              "      <td>...</td>\n",
              "      <td>...</td>\n",
              "      <td>...</td>\n",
              "      <td>...</td>\n",
              "    </tr>\n",
              "    <tr>\n",
              "      <th>8779</th>\n",
              "      <td>서초구</td>\n",
              "      <td>25.263158</td>\n",
              "      <td>12.421053</td>\n",
              "      <td>2020</td>\n",
              "      <td>7</td>\n",
              "      <td>4</td>\n",
              "      <td>0</td>\n",
              "      <td>0.0</td>\n",
              "      <td>25.400000</td>\n",
              "      <td>47.0</td>\n",
              "      <td>1.4</td>\n",
              "    </tr>\n",
              "    <tr>\n",
              "      <th>8780</th>\n",
              "      <td>서초구</td>\n",
              "      <td>25.263158</td>\n",
              "      <td>12.421053</td>\n",
              "      <td>2020</td>\n",
              "      <td>7</td>\n",
              "      <td>4</td>\n",
              "      <td>1</td>\n",
              "      <td>0.0</td>\n",
              "      <td>27.100000</td>\n",
              "      <td>45.0</td>\n",
              "      <td>1.3</td>\n",
              "    </tr>\n",
              "    <tr>\n",
              "      <th>8781</th>\n",
              "      <td>서초구</td>\n",
              "      <td>25.263158</td>\n",
              "      <td>12.421053</td>\n",
              "      <td>2020</td>\n",
              "      <td>7</td>\n",
              "      <td>4</td>\n",
              "      <td>2</td>\n",
              "      <td>0.0</td>\n",
              "      <td>26.799999</td>\n",
              "      <td>46.0</td>\n",
              "      <td>2.2</td>\n",
              "    </tr>\n",
              "    <tr>\n",
              "      <th>8782</th>\n",
              "      <td>서초구</td>\n",
              "      <td>25.263158</td>\n",
              "      <td>12.421053</td>\n",
              "      <td>2020</td>\n",
              "      <td>7</td>\n",
              "      <td>4</td>\n",
              "      <td>3</td>\n",
              "      <td>0.0</td>\n",
              "      <td>27.700001</td>\n",
              "      <td>41.0</td>\n",
              "      <td>1.6</td>\n",
              "    </tr>\n",
              "    <tr>\n",
              "      <th>8783</th>\n",
              "      <td>서초구</td>\n",
              "      <td>25.263158</td>\n",
              "      <td>12.421053</td>\n",
              "      <td>2020</td>\n",
              "      <td>7</td>\n",
              "      <td>4</td>\n",
              "      <td>4</td>\n",
              "      <td>0.0</td>\n",
              "      <td>28.799999</td>\n",
              "      <td>40.0</td>\n",
              "      <td>1.7</td>\n",
              "    </tr>\n",
              "  </tbody>\n",
              "</table>\n",
              "<p>8784 rows × 11 columns</p>\n",
              "</div>"
            ],
            "text/plain": [
              "     측정소 이름    미세먼지 평균    초미세먼지 평균  year  ...  rainval    tempval  humval  windval\n",
              "0       서초구  49.000000   34.000000  2020  ...      0.0   1.000000    79.0      0.9\n",
              "1       서초구  49.000000   31.000000  2020  ...      0.0  -0.300000    86.0      0.9\n",
              "2       서초구  47.000000  985.000000  2020  ...      0.0  -1.100000    95.0      0.9\n",
              "3       서초구  47.000000   31.000000  2020  ...      0.0  -0.600000    92.0      0.9\n",
              "4       서초구  48.000000   31.000000  2020  ...      0.0  -0.800000    96.0      0.8\n",
              "...     ...        ...         ...   ...  ...      ...        ...     ...      ...\n",
              "8779    서초구  25.263158   12.421053  2020  ...      0.0  25.400000    47.0      1.4\n",
              "8780    서초구  25.263158   12.421053  2020  ...      0.0  27.100000    45.0      1.3\n",
              "8781    서초구  25.263158   12.421053  2020  ...      0.0  26.799999    46.0      2.2\n",
              "8782    서초구  25.263158   12.421053  2020  ...      0.0  27.700001    41.0      1.6\n",
              "8783    서초구  25.263158   12.421053  2020  ...      0.0  28.799999    40.0      1.7\n",
              "\n",
              "[8784 rows x 11 columns]"
            ]
          },
          "metadata": {
            "tags": []
          },
          "execution_count": 97
        }
      ]
    },
    {
      "cell_type": "code",
      "metadata": {
        "id": "OI44H4_0j7ll"
      },
      "source": [
        "final_data= pd.merge(data, dust_weather, on=['year','month','day','hour'])"
      ],
      "execution_count": null,
      "outputs": []
    },
    {
      "cell_type": "code",
      "metadata": {
        "id": "e-DPp6hSkFG1"
      },
      "source": [
        "#모든 데이터가 서초구이기 때문에 서초구 column은 필요 없음\n",
        "final_data.drop('측정소 이름', axis=1, inplace=True)\n",
        "final_data.drop('place',inplace=True, axis=1)"
      ],
      "execution_count": null,
      "outputs": []
    },
    {
      "cell_type": "code",
      "metadata": {
        "colab": {
          "base_uri": "https://localhost:8080/",
          "height": 200
        },
        "id": "uBfmR6tUkJm7",
        "outputId": "300e325d-b402-46f8-ad3c-376640ddf80f"
      },
      "source": [
        "final_data.head()"
      ],
      "execution_count": null,
      "outputs": [
        {
          "output_type": "execute_result",
          "data": {
            "text/html": [
              "<div>\n",
              "<style scoped>\n",
              "    .dataframe tbody tr th:only-of-type {\n",
              "        vertical-align: middle;\n",
              "    }\n",
              "\n",
              "    .dataframe tbody tr th {\n",
              "        vertical-align: top;\n",
              "    }\n",
              "\n",
              "    .dataframe thead th {\n",
              "        text-align: right;\n",
              "    }\n",
              "</style>\n",
              "<table border=\"1\" class=\"dataframe\">\n",
              "  <thead>\n",
              "    <tr style=\"text-align: right;\">\n",
              "      <th></th>\n",
              "      <th>year</th>\n",
              "      <th>month</th>\n",
              "      <th>day</th>\n",
              "      <th>hour</th>\n",
              "      <th>stno</th>\n",
              "      <th>stname</th>\n",
              "      <th>num</th>\n",
              "      <th>미세먼지 평균</th>\n",
              "      <th>초미세먼지 평균</th>\n",
              "      <th>rainval</th>\n",
              "      <th>tempval</th>\n",
              "      <th>humval</th>\n",
              "      <th>windval</th>\n",
              "    </tr>\n",
              "  </thead>\n",
              "  <tbody>\n",
              "    <tr>\n",
              "      <th>0</th>\n",
              "      <td>2020</td>\n",
              "      <td>1</td>\n",
              "      <td>1</td>\n",
              "      <td>0</td>\n",
              "      <td>2213</td>\n",
              "      <td>고속터미널역 5번출구 앞</td>\n",
              "      <td>1</td>\n",
              "      <td>28.0</td>\n",
              "      <td>17.0</td>\n",
              "      <td>0.0</td>\n",
              "      <td>-3.7</td>\n",
              "      <td>78.0</td>\n",
              "      <td>1.4</td>\n",
              "    </tr>\n",
              "    <tr>\n",
              "      <th>1</th>\n",
              "      <td>2020</td>\n",
              "      <td>1</td>\n",
              "      <td>1</td>\n",
              "      <td>0</td>\n",
              "      <td>2222</td>\n",
              "      <td>사당역 12번출구 뒤</td>\n",
              "      <td>1</td>\n",
              "      <td>28.0</td>\n",
              "      <td>17.0</td>\n",
              "      <td>0.0</td>\n",
              "      <td>-3.7</td>\n",
              "      <td>78.0</td>\n",
              "      <td>1.4</td>\n",
              "    </tr>\n",
              "    <tr>\n",
              "      <th>2</th>\n",
              "      <td>2020</td>\n",
              "      <td>1</td>\n",
              "      <td>1</td>\n",
              "      <td>0</td>\n",
              "      <td>2251</td>\n",
              "      <td>더케이호텔 입구(양재2)</td>\n",
              "      <td>1</td>\n",
              "      <td>28.0</td>\n",
              "      <td>17.0</td>\n",
              "      <td>0.0</td>\n",
              "      <td>-3.7</td>\n",
              "      <td>78.0</td>\n",
              "      <td>1.4</td>\n",
              "    </tr>\n",
              "    <tr>\n",
              "      <th>3</th>\n",
              "      <td>2020</td>\n",
              "      <td>1</td>\n",
              "      <td>1</td>\n",
              "      <td>0</td>\n",
              "      <td>2256</td>\n",
              "      <td>양재동 꽃시장 입구</td>\n",
              "      <td>1</td>\n",
              "      <td>28.0</td>\n",
              "      <td>17.0</td>\n",
              "      <td>0.0</td>\n",
              "      <td>-3.7</td>\n",
              "      <td>78.0</td>\n",
              "      <td>1.4</td>\n",
              "    </tr>\n",
              "    <tr>\n",
              "      <th>4</th>\n",
              "      <td>2020</td>\n",
              "      <td>1</td>\n",
              "      <td>1</td>\n",
              "      <td>0</td>\n",
              "      <td>2268</td>\n",
              "      <td>서초4동주민센터</td>\n",
              "      <td>2</td>\n",
              "      <td>28.0</td>\n",
              "      <td>17.0</td>\n",
              "      <td>0.0</td>\n",
              "      <td>-3.7</td>\n",
              "      <td>78.0</td>\n",
              "      <td>1.4</td>\n",
              "    </tr>\n",
              "  </tbody>\n",
              "</table>\n",
              "</div>"
            ],
            "text/plain": [
              "   year  month  day  hour  stno  ... 초미세먼지 평균  rainval  tempval  humval  windval\n",
              "0  2020      1    1     0  2213  ...     17.0      0.0     -3.7    78.0      1.4\n",
              "1  2020      1    1     0  2222  ...     17.0      0.0     -3.7    78.0      1.4\n",
              "2  2020      1    1     0  2251  ...     17.0      0.0     -3.7    78.0      1.4\n",
              "3  2020      1    1     0  2256  ...     17.0      0.0     -3.7    78.0      1.4\n",
              "4  2020      1    1     0  2268  ...     17.0      0.0     -3.7    78.0      1.4\n",
              "\n",
              "[5 rows x 13 columns]"
            ]
          },
          "metadata": {
            "tags": []
          },
          "execution_count": 100
        }
      ]
    },
    {
      "cell_type": "code",
      "metadata": {
        "colab": {
          "base_uri": "https://localhost:8080/"
        },
        "id": "HASjhSmhkjhr",
        "outputId": "abb5cfc4-faed-4e51-c229-db73d0e2422c"
      },
      "source": [
        "final_data.isna().sum()"
      ],
      "execution_count": null,
      "outputs": [
        {
          "output_type": "execute_result",
          "data": {
            "text/plain": [
              "year        0\n",
              "month       0\n",
              "day         0\n",
              "hour        0\n",
              "stno        0\n",
              "stname      0\n",
              "num         0\n",
              "미세먼지 평균     0\n",
              "초미세먼지 평균    0\n",
              "rainval     0\n",
              "tempval     0\n",
              "humval      0\n",
              "windval     0\n",
              "dtype: int64"
            ]
          },
          "metadata": {
            "tags": []
          },
          "execution_count": 101
        }
      ]
    },
    {
      "cell_type": "markdown",
      "metadata": {
        "id": "NOpzhFKNkpSs"
      },
      "source": [
        "# 최종 데이터셋인 final_data 완료."
      ]
    },
    {
      "cell_type": "code",
      "metadata": {
        "id": "8d5BS7wvkxiE"
      },
      "source": [
        "from pandas import DataFrame\n",
        "final_data.to_csv('final_data_2.csv', encoding='UTF-8')"
      ],
      "execution_count": null,
      "outputs": []
    },
    {
      "cell_type": "code",
      "metadata": {
        "id": "vmCCZZOOnoC3"
      },
      "source": [
        "#또 날짜 데이터만 따로 뽑아올 것임\n",
        "dates=weather[['year','month','day','hour']]\n",
        "dates.to_csv('dates.csv',encoding='UTF-8')"
      ],
      "execution_count": null,
      "outputs": []
    },
    {
      "cell_type": "code",
      "metadata": {
        "id": "Rimpqo78tbYf"
      },
      "source": [
        "lolo= pd.read_csv('/content/final_data_2.csv',encoding='UTF-8')"
      ],
      "execution_count": null,
      "outputs": []
    }
  ]
}