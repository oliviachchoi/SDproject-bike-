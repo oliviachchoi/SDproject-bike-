{
  "nbformat": 4,
  "nbformat_minor": 0,
  "metadata": {
    "colab": {
      "name": "서초구 따릉이 위치 시각화.ipynb",
      "provenance": [],
      "mount_file_id": "1dQ-WiXbf-ZtlnOz0D8TxE7ZtjYrVCwfG",
      "authorship_tag": "ABX9TyOe+2c9Indjh0Y3CezGEJP4",
      "include_colab_link": true
    },
    "kernelspec": {
      "name": "python3",
      "display_name": "Python 3"
    },
    "language_info": {
      "name": "python"
    }
  },
  "cells": [
    {
      "cell_type": "markdown",
      "metadata": {
        "id": "view-in-github",
        "colab_type": "text"
      },
      "source": [
        "<a href=\"https://colab.research.google.com/github/oliviachchoi/SDproject-bike-/blob/main/%EC%84%9C%EC%B4%88%EA%B5%AC_%EB%94%B0%EB%A6%89%EC%9D%B4_%EC%9C%84%EC%B9%98_%EC%8B%9C%EA%B0%81%ED%99%94.ipynb\" target=\"_parent\"><img src=\"https://colab.research.google.com/assets/colab-badge.svg\" alt=\"Open In Colab\"/></a>"
      ]
    },
    {
      "cell_type": "markdown",
      "metadata": {
        "id": "vLErmDmFAh1j"
      },
      "source": [
        "참고: https://thlee33.medium.com/geopandas-%EA%B8%B0%EC%B4%88-fe1feecd2ab4"
      ]
    },
    {
      "cell_type": "code",
      "metadata": {
        "id": "THWdOGVYAQvr"
      },
      "source": [
        "import warnings\n",
        "warnings.filterwarnings(action='ignore')\n",
        "from IPython.display import display #print가 아닌 display()로 연속 출력\n",
        "from IPython.display import HTML #출력 결과를 HTML로 생성"
      ],
      "execution_count": 7,
      "outputs": []
    },
    {
      "cell_type": "code",
      "metadata": {
        "colab": {
          "base_uri": "https://localhost:8080/"
        },
        "id": "cuy7G_1JBQan",
        "outputId": "bb1c3407-d15d-48fe-ca2e-4aa84081503d"
      },
      "source": [
        "!pip install geopandas"
      ],
      "execution_count": 17,
      "outputs": [
        {
          "output_type": "stream",
          "text": [
            "Collecting geopandas\n",
            "  Downloading geopandas-0.9.0-py2.py3-none-any.whl (994 kB)\n",
            "\u001b[K     |████████████████████████████████| 994 kB 4.4 MB/s \n",
            "\u001b[?25hRequirement already satisfied: pandas>=0.24.0 in /usr/local/lib/python3.7/dist-packages (from geopandas) (1.1.5)\n",
            "Collecting fiona>=1.8\n",
            "  Downloading Fiona-1.8.20-cp37-cp37m-manylinux1_x86_64.whl (15.4 MB)\n",
            "\u001b[K     |████████████████████████████████| 15.4 MB 64 kB/s \n",
            "\u001b[?25hCollecting pyproj>=2.2.0\n",
            "  Downloading pyproj-3.1.0-cp37-cp37m-manylinux2010_x86_64.whl (6.6 MB)\n",
            "\u001b[K     |████████████████████████████████| 6.6 MB 54.9 MB/s \n",
            "\u001b[?25hRequirement already satisfied: shapely>=1.6 in /usr/local/lib/python3.7/dist-packages (from geopandas) (1.7.1)\n",
            "Requirement already satisfied: six>=1.7 in /usr/local/lib/python3.7/dist-packages (from fiona>=1.8->geopandas) (1.15.0)\n",
            "Requirement already satisfied: setuptools in /usr/local/lib/python3.7/dist-packages (from fiona>=1.8->geopandas) (57.2.0)\n",
            "Collecting munch\n",
            "  Downloading munch-2.5.0-py2.py3-none-any.whl (10 kB)\n",
            "Collecting click-plugins>=1.0\n",
            "  Downloading click_plugins-1.1.1-py2.py3-none-any.whl (7.5 kB)\n",
            "Collecting cligj>=0.5\n",
            "  Downloading cligj-0.7.2-py3-none-any.whl (7.1 kB)\n",
            "Requirement already satisfied: click>=4.0 in /usr/local/lib/python3.7/dist-packages (from fiona>=1.8->geopandas) (7.1.2)\n",
            "Requirement already satisfied: attrs>=17 in /usr/local/lib/python3.7/dist-packages (from fiona>=1.8->geopandas) (21.2.0)\n",
            "Requirement already satisfied: certifi in /usr/local/lib/python3.7/dist-packages (from fiona>=1.8->geopandas) (2021.5.30)\n",
            "Requirement already satisfied: python-dateutil>=2.7.3 in /usr/local/lib/python3.7/dist-packages (from pandas>=0.24.0->geopandas) (2.8.1)\n",
            "Requirement already satisfied: pytz>=2017.2 in /usr/local/lib/python3.7/dist-packages (from pandas>=0.24.0->geopandas) (2018.9)\n",
            "Requirement already satisfied: numpy>=1.15.4 in /usr/local/lib/python3.7/dist-packages (from pandas>=0.24.0->geopandas) (1.19.5)\n",
            "Installing collected packages: munch, cligj, click-plugins, pyproj, fiona, geopandas\n",
            "Successfully installed click-plugins-1.1.1 cligj-0.7.2 fiona-1.8.20 geopandas-0.9.0 munch-2.5.0 pyproj-3.1.0\n"
          ],
          "name": "stdout"
        }
      ]
    },
    {
      "cell_type": "code",
      "metadata": {
        "id": "3AbAtASfAcjm"
      },
      "source": [
        "import geopandas as gpd \n",
        "import fiona #공간데이터를 딕셔너리 형태 등으로 접근 할 수 있는 라이브러리"
      ],
      "execution_count": 18,
      "outputs": []
    },
    {
      "cell_type": "code",
      "metadata": {
        "id": "Xwn4ebfI_oyx"
      },
      "source": [
        "import pandas as pd\n",
        "import numpy as np\n",
        "import matplotlib.pyplot as plt\n",
        "import seaborn as sns\n",
        "\n",
        "#따릉이 대여소 정보\n",
        "station=pd.read_csv('/content/drive/MyDrive/따릉이 project/공공자전거 대여소 정보(21.01.31 기준).csv',encoding='cp949',skiprows=5,header=None)"
      ],
      "execution_count": 1,
      "outputs": []
    },
    {
      "cell_type": "code",
      "metadata": {
        "id": "GM5BQ2-x__4O"
      },
      "source": [
        "#station columns rename\n",
        "station= station.rename(columns= {0: 'stno', 1: 'stname',2: 'place',3:'detailedplace',4:'Lat',5:'Long',6:'Time',7:'LCD',8:'QR',9:'method'})"
      ],
      "execution_count": 2,
      "outputs": []
    },
    {
      "cell_type": "code",
      "metadata": {
        "id": "0rACa8ExAC0s"
      },
      "source": [
        "#서초구 데이터 뽑아오기\n",
        "seocho= station[station.place=='서초구'][['place','detailedplace','Lat','Long']].dropna()"
      ],
      "execution_count": 21,
      "outputs": []
    },
    {
      "cell_type": "code",
      "metadata": {
        "colab": {
          "base_uri": "https://localhost:8080/",
          "height": 408
        },
        "id": "0pVuIPJ1A5Rs",
        "outputId": "103e4376-4ddd-4739-c924-0b904ad10a8a"
      },
      "source": [
        "seocho"
      ],
      "execution_count": 23,
      "outputs": [
        {
          "output_type": "execute_result",
          "data": {
            "text/html": [
              "<div>\n",
              "<style scoped>\n",
              "    .dataframe tbody tr th:only-of-type {\n",
              "        vertical-align: middle;\n",
              "    }\n",
              "\n",
              "    .dataframe tbody tr th {\n",
              "        vertical-align: top;\n",
              "    }\n",
              "\n",
              "    .dataframe thead th {\n",
              "        text-align: right;\n",
              "    }\n",
              "</style>\n",
              "<table border=\"1\" class=\"dataframe\">\n",
              "  <thead>\n",
              "    <tr style=\"text-align: right;\">\n",
              "      <th></th>\n",
              "      <th>place</th>\n",
              "      <th>detailedplace</th>\n",
              "      <th>Lat</th>\n",
              "      <th>Long</th>\n",
              "    </tr>\n",
              "  </thead>\n",
              "  <tbody>\n",
              "    <tr>\n",
              "      <th>1697</th>\n",
              "      <td>서초구</td>\n",
              "      <td>서울특별시 서초구 본마을2길 2</td>\n",
              "      <td>37.453281</td>\n",
              "      <td>127.051483</td>\n",
              "    </tr>\n",
              "    <tr>\n",
              "      <th>1698</th>\n",
              "      <td>서초구</td>\n",
              "      <td>서울특별시 서초구 청계산로 지하 179</td>\n",
              "      <td>37.448936</td>\n",
              "      <td>127.054375</td>\n",
              "    </tr>\n",
              "    <tr>\n",
              "      <th>1699</th>\n",
              "      <td>서초구</td>\n",
              "      <td>서울특별시 서초구 청계산로 지하 179</td>\n",
              "      <td>37.447659</td>\n",
              "      <td>127.055016</td>\n",
              "    </tr>\n",
              "    <tr>\n",
              "      <th>1700</th>\n",
              "      <td>서초구</td>\n",
              "      <td>서울특별시 서초구 청계산로9길 76</td>\n",
              "      <td>37.453751</td>\n",
              "      <td>127.059380</td>\n",
              "    </tr>\n",
              "    <tr>\n",
              "      <th>1701</th>\n",
              "      <td>서초구</td>\n",
              "      <td>서울특별시 서초구 헌릉로8길 42</td>\n",
              "      <td>37.454357</td>\n",
              "      <td>127.062103</td>\n",
              "    </tr>\n",
              "    <tr>\n",
              "      <th>...</th>\n",
              "      <td>...</td>\n",
              "      <td>...</td>\n",
              "      <td>...</td>\n",
              "      <td>...</td>\n",
              "    </tr>\n",
              "    <tr>\n",
              "      <th>1810</th>\n",
              "      <td>서초구</td>\n",
              "      <td>서초구 사평대로 108</td>\n",
              "      <td>37.498455</td>\n",
              "      <td>126.996643</td>\n",
              "    </tr>\n",
              "    <tr>\n",
              "      <th>1811</th>\n",
              "      <td>서초구</td>\n",
              "      <td>청계산로 434</td>\n",
              "      <td>37.430977</td>\n",
              "      <td>127.070335</td>\n",
              "    </tr>\n",
              "    <tr>\n",
              "      <th>1812</th>\n",
              "      <td>서초구</td>\n",
              "      <td>서초구 강남대로 479</td>\n",
              "      <td>37.505089</td>\n",
              "      <td>127.023911</td>\n",
              "    </tr>\n",
              "    <tr>\n",
              "      <th>1813</th>\n",
              "      <td>서초구</td>\n",
              "      <td>서초구 동작대로 164</td>\n",
              "      <td>37.491264</td>\n",
              "      <td>126.982956</td>\n",
              "    </tr>\n",
              "    <tr>\n",
              "      <th>1814</th>\n",
              "      <td>서초구</td>\n",
              "      <td>반포동 산60-1</td>\n",
              "      <td>37.497688</td>\n",
              "      <td>127.002388</td>\n",
              "    </tr>\n",
              "  </tbody>\n",
              "</table>\n",
              "<p>118 rows × 4 columns</p>\n",
              "</div>"
            ],
            "text/plain": [
              "     place          detailedplace        Lat        Long\n",
              "1697   서초구      서울특별시 서초구 본마을2길 2  37.453281  127.051483\n",
              "1698   서초구  서울특별시 서초구 청계산로 지하 179  37.448936  127.054375\n",
              "1699   서초구  서울특별시 서초구 청계산로 지하 179  37.447659  127.055016\n",
              "1700   서초구    서울특별시 서초구 청계산로9길 76  37.453751  127.059380\n",
              "1701   서초구     서울특별시 서초구 헌릉로8길 42  37.454357  127.062103\n",
              "...    ...                    ...        ...         ...\n",
              "1810   서초구          서초구 사평대로 108   37.498455  126.996643\n",
              "1811   서초구               청계산로 434  37.430977  127.070335\n",
              "1812   서초구           서초구 강남대로 479  37.505089  127.023911\n",
              "1813   서초구           서초구 동작대로 164  37.491264  126.982956\n",
              "1814   서초구              반포동 산60-1  37.497688  127.002388\n",
              "\n",
              "[118 rows x 4 columns]"
            ]
          },
          "metadata": {
            "tags": []
          },
          "execution_count": 23
        }
      ]
    },
    {
      "cell_type": "code",
      "metadata": {
        "id": "FhxxlYtPBAuL"
      },
      "source": [
        "#가공된 데이터 좌표를 이용해서 공간데이터 프레임으로 변환\n",
        "geom_seocho= gpd.points_from_xy(seocho.Long, seocho.Lat)"
      ],
      "execution_count": 24,
      "outputs": []
    },
    {
      "cell_type": "code",
      "metadata": {
        "colab": {
          "base_uri": "https://localhost:8080/",
          "height": 200
        },
        "id": "FuG6NEVUBfa2",
        "outputId": "86532218-a6f1-4736-f7c3-129c654274e6"
      },
      "source": [
        "#좌표계 정의\n",
        "import pyproj\n",
        "from fiona.crs import from_epsg\n",
        "\n",
        "columns=['place','detailedplace']\n",
        "gdf_seocho=gpd.GeoDataFrame(seocho[columns],\n",
        "                            geometry= geom_seocho,\n",
        "                            crs= from_epsg(4326))\n",
        "gdf_seocho.head()"
      ],
      "execution_count": 25,
      "outputs": [
        {
          "output_type": "execute_result",
          "data": {
            "text/html": [
              "<div>\n",
              "<style scoped>\n",
              "    .dataframe tbody tr th:only-of-type {\n",
              "        vertical-align: middle;\n",
              "    }\n",
              "\n",
              "    .dataframe tbody tr th {\n",
              "        vertical-align: top;\n",
              "    }\n",
              "\n",
              "    .dataframe thead th {\n",
              "        text-align: right;\n",
              "    }\n",
              "</style>\n",
              "<table border=\"1\" class=\"dataframe\">\n",
              "  <thead>\n",
              "    <tr style=\"text-align: right;\">\n",
              "      <th></th>\n",
              "      <th>place</th>\n",
              "      <th>detailedplace</th>\n",
              "      <th>geometry</th>\n",
              "    </tr>\n",
              "  </thead>\n",
              "  <tbody>\n",
              "    <tr>\n",
              "      <th>1697</th>\n",
              "      <td>서초구</td>\n",
              "      <td>서울특별시 서초구 본마을2길 2</td>\n",
              "      <td>POINT (127.05148 37.45328)</td>\n",
              "    </tr>\n",
              "    <tr>\n",
              "      <th>1698</th>\n",
              "      <td>서초구</td>\n",
              "      <td>서울특별시 서초구 청계산로 지하 179</td>\n",
              "      <td>POINT (127.05437 37.44894)</td>\n",
              "    </tr>\n",
              "    <tr>\n",
              "      <th>1699</th>\n",
              "      <td>서초구</td>\n",
              "      <td>서울특별시 서초구 청계산로 지하 179</td>\n",
              "      <td>POINT (127.05502 37.44766)</td>\n",
              "    </tr>\n",
              "    <tr>\n",
              "      <th>1700</th>\n",
              "      <td>서초구</td>\n",
              "      <td>서울특별시 서초구 청계산로9길 76</td>\n",
              "      <td>POINT (127.05938 37.45375)</td>\n",
              "    </tr>\n",
              "    <tr>\n",
              "      <th>1701</th>\n",
              "      <td>서초구</td>\n",
              "      <td>서울특별시 서초구 헌릉로8길 42</td>\n",
              "      <td>POINT (127.06210 37.45436)</td>\n",
              "    </tr>\n",
              "  </tbody>\n",
              "</table>\n",
              "</div>"
            ],
            "text/plain": [
              "     place          detailedplace                    geometry\n",
              "1697   서초구      서울특별시 서초구 본마을2길 2  POINT (127.05148 37.45328)\n",
              "1698   서초구  서울특별시 서초구 청계산로 지하 179  POINT (127.05437 37.44894)\n",
              "1699   서초구  서울특별시 서초구 청계산로 지하 179  POINT (127.05502 37.44766)\n",
              "1700   서초구    서울특별시 서초구 청계산로9길 76  POINT (127.05938 37.45375)\n",
              "1701   서초구     서울특별시 서초구 헌릉로8길 42  POINT (127.06210 37.45436)"
            ]
          },
          "metadata": {
            "tags": []
          },
          "execution_count": 25
        }
      ]
    },
    {
      "cell_type": "code",
      "metadata": {
        "colab": {
          "base_uri": "https://localhost:8080/",
          "height": 306
        },
        "id": "tnmpnyjjCai5",
        "outputId": "e3b49e92-a291-40eb-f139-d2d430f1c3ee"
      },
      "source": [
        "#to_crs 이용해서 epsg:3857로 변환\n",
        "gdf_seocho2= gdf_seocho.to_crs(epsg=3857)\n",
        "gdf_seocho2.plot(color='red')"
      ],
      "execution_count": 28,
      "outputs": [
        {
          "output_type": "execute_result",
          "data": {
            "text/plain": [
              "<matplotlib.axes._subplots.AxesSubplot at 0x7f42921d0f50>"
            ]
          },
          "metadata": {
            "tags": []
          },
          "execution_count": 28
        },
        {
          "output_type": "display_data",
          "data": {
            "image/png": "[encoded data removed]",
            "text/plain": [
              "<Figure size 432x288 with 1 Axes>"
            ]
          },
          "metadata": {
            "tags": [],
            "needs_background": "light"
          }
        }
      ]
    },
    {
      "cell_type": "code",
      "metadata": {
        "id": "qKkI7BXRCwb1"
      },
      "source": [
        "#가공된 공간데이터를 geojson으로 저장\n",
        "gdf_seocho2.to_file('seocho.geojson',driver='GeoJSON')"
      ],
      "execution_count": 30,
      "outputs": []
    },
    {
      "cell_type": "code",
      "metadata": {
        "colab": {
          "base_uri": "https://localhost:8080/"
        },
        "id": "UYHErze6EeH2",
        "outputId": "db5f4089-6a4b-430a-ee65-df55b92f794c"
      },
      "source": [
        "gdf_admin_gu_pg = gpd.read_file('/content/drive/MyDrive/따릉이 project/follium/TL_SCCO_SIG.shp', encoding='euc-kr')\n",
        "gdf_admin_gu_pg.crs"
      ],
      "execution_count": 32,
      "outputs": [
        {
          "output_type": "execute_result",
          "data": {
            "text/plain": [
              "<Projected CRS: PROJCS[\"PCS_ITRF2000_TM\",GEOGCS[\"ITRF2000\",DATUM[\" ...>\n",
              "Name: PCS_ITRF2000_TM\n",
              "Axis Info [cartesian]:\n",
              "- [east]: Easting (metre)\n",
              "- [north]: Northing (metre)\n",
              "Area of Use:\n",
              "- undefined\n",
              "Coordinate Operation:\n",
              "- name: unnamed\n",
              "- method: Transverse Mercator\n",
              "Datum: International Terrestrial Reference Frame 2000\n",
              "- Ellipsoid: GRS 1980\n",
              "- Prime Meridian: Greenwich"
            ]
          },
          "metadata": {
            "tags": []
          },
          "execution_count": 32
        }
      ]
    },
    {
      "cell_type": "code",
      "metadata": {
        "colab": {
          "base_uri": "https://localhost:8080/"
        },
        "id": "lT_mvBoUFWJR",
        "outputId": "d9934a33-d50b-4586-ec4c-0e8ae3d3352b"
      },
      "source": [
        "gdf_admin_gu_pg.crs = \"epsg:5179\"\n",
        "gdf_admin_gu_pg.crs"
      ],
      "execution_count": 33,
      "outputs": [
        {
          "output_type": "execute_result",
          "data": {
            "text/plain": [
              "<Projected CRS: EPSG:5179>\n",
              "Name: Korea 2000 / Unified CS\n",
              "Axis Info [cartesian]:\n",
              "- X[north]: Northing (metre)\n",
              "- Y[east]: Easting (metre)\n",
              "Area of Use:\n",
              "- name: Republic of Korea (South Korea) - onshore and offshore.\n",
              "- bounds: (122.71, 28.6, 134.28, 40.27)\n",
              "Coordinate Operation:\n",
              "- name: Korea Unified Belt\n",
              "- method: Transverse Mercator\n",
              "Datum: Geocentric datum of Korea\n",
              "- Ellipsoid: GRS 1980\n",
              "- Prime Meridian: Greenwich"
            ]
          },
          "metadata": {
            "tags": []
          },
          "execution_count": 33
        }
      ]
    },
    {
      "cell_type": "code",
      "metadata": {
        "id": "dWk5QnNuFYoc"
      },
      "source": [
        "gdf_admin_gu_pg2 = gdf_admin_gu_pg.to_crs(epsg=3857)  #좌표계를 3857로 변환"
      ],
      "execution_count": 34,
      "outputs": []
    },
    {
      "cell_type": "code",
      "metadata": {
        "id": "Eea39tsbFaUi"
      },
      "source": [
        "gdf_admin_gu_pg2['SIG_CD'] = gdf_admin_gu_pg2['SIG_CD'].astype(str)"
      ],
      "execution_count": 35,
      "outputs": []
    },
    {
      "cell_type": "code",
      "metadata": {
        "colab": {
          "base_uri": "https://localhost:8080/",
          "height": 306
        },
        "id": "xDZOL2pyFcS2",
        "outputId": "807a3697-5c10-4210-bf7c-a99c08acd625"
      },
      "source": [
        "gdf_admin_gu_pg2.plot(color='grey')"
      ],
      "execution_count": 36,
      "outputs": [
        {
          "output_type": "execute_result",
          "data": {
            "text/plain": [
              "<matplotlib.axes._subplots.AxesSubplot at 0x7f4292278990>"
            ]
          },
          "metadata": {
            "tags": []
          },
          "execution_count": 36
        },
        {
          "output_type": "display_data",
          "data": {
            "image/png": "[encoded data removed]",
            "text/plain": [
              "<Figure size 432x288 with 1 Axes>"
            ]
          },
          "metadata": {
            "tags": [],
            "needs_background": "light"
          }
        }
      ]
    },
    {
      "cell_type": "code",
      "metadata": {
        "colab": {
          "base_uri": "https://localhost:8080/",
          "height": 410
        },
        "id": "HAASCZFhFgVG",
        "outputId": "ea90a782-5e3e-4276-b73d-46cf6ed080f3"
      },
      "source": [
        "gdf_admin_gu_pg2['DO'] = gdf_admin_gu_pg2['SIG_CD'].str.slice(start=0, stop=2) \n",
        "gdf_admin_gu_pg3 = gdf_admin_gu_pg2[gdf_admin_gu_pg2['DO'].str.contains('11')==True]  \n",
        "gdf_admin_gu_pg3.info()\n",
        "gdf_admin_gu_pg3.head()"
      ],
      "execution_count": 37,
      "outputs": [
        {
          "output_type": "stream",
          "text": [
            "<class 'geopandas.geodataframe.GeoDataFrame'>\n",
            "Int64Index: 25 entries, 140 to 164\n",
            "Data columns (total 5 columns):\n",
            " #   Column      Non-Null Count  Dtype   \n",
            "---  ------      --------------  -----   \n",
            " 0   SIG_CD      25 non-null     object  \n",
            " 1   SIG_ENG_NM  25 non-null     object  \n",
            " 2   SIG_KOR_NM  25 non-null     object  \n",
            " 3   geometry    25 non-null     geometry\n",
            " 4   DO          25 non-null     object  \n",
            "dtypes: geometry(1), object(4)\n",
            "memory usage: 1.2+ KB\n"
          ],
          "name": "stdout"
        },
        {
          "output_type": "execute_result",
          "data": {
            "text/html": [
              "<div>\n",
              "<style scoped>\n",
              "    .dataframe tbody tr th:only-of-type {\n",
              "        vertical-align: middle;\n",
              "    }\n",
              "\n",
              "    .dataframe tbody tr th {\n",
              "        vertical-align: top;\n",
              "    }\n",
              "\n",
              "    .dataframe thead th {\n",
              "        text-align: right;\n",
              "    }\n",
              "</style>\n",
              "<table border=\"1\" class=\"dataframe\">\n",
              "  <thead>\n",
              "    <tr style=\"text-align: right;\">\n",
              "      <th></th>\n",
              "      <th>SIG_CD</th>\n",
              "      <th>SIG_ENG_NM</th>\n",
              "      <th>SIG_KOR_NM</th>\n",
              "      <th>geometry</th>\n",
              "      <th>DO</th>\n",
              "    </tr>\n",
              "  </thead>\n",
              "  <tbody>\n",
              "    <tr>\n",
              "      <th>140</th>\n",
              "      <td>11110</td>\n",
              "      <td>Jongno-gu</td>\n",
              "      <td>종로구</td>\n",
              "      <td>POLYGON ((14138537.494 4520328.400, 14138545.2...</td>\n",
              "      <td>11</td>\n",
              "    </tr>\n",
              "    <tr>\n",
              "      <th>141</th>\n",
              "      <td>11140</td>\n",
              "      <td>Jung-gu</td>\n",
              "      <td>중구</td>\n",
              "      <td>POLYGON ((14140150.910 4519133.456, 14140175.5...</td>\n",
              "      <td>11</td>\n",
              "    </tr>\n",
              "    <tr>\n",
              "      <th>142</th>\n",
              "      <td>11170</td>\n",
              "      <td>Yongsan-gu</td>\n",
              "      <td>용산구</td>\n",
              "      <td>POLYGON ((14134144.847 4516844.609, 14134143.5...</td>\n",
              "      <td>11</td>\n",
              "    </tr>\n",
              "    <tr>\n",
              "      <th>143</th>\n",
              "      <td>11200</td>\n",
              "      <td>Seongdong-gu</td>\n",
              "      <td>성동구</td>\n",
              "      <td>POLYGON ((14142408.062 4519186.313, 14142611.9...</td>\n",
              "      <td>11</td>\n",
              "    </tr>\n",
              "    <tr>\n",
              "      <th>144</th>\n",
              "      <td>11215</td>\n",
              "      <td>Gwangjin-gu</td>\n",
              "      <td>광진구</td>\n",
              "      <td>POLYGON ((14148892.587 4519195.233, 14148956.4...</td>\n",
              "      <td>11</td>\n",
              "    </tr>\n",
              "  </tbody>\n",
              "</table>\n",
              "</div>"
            ],
            "text/plain": [
              "    SIG_CD    SIG_ENG_NM  ...                                           geometry  DO\n",
              "140  11110     Jongno-gu  ...  POLYGON ((14138537.494 4520328.400, 14138545.2...  11\n",
              "141  11140       Jung-gu  ...  POLYGON ((14140150.910 4519133.456, 14140175.5...  11\n",
              "142  11170    Yongsan-gu  ...  POLYGON ((14134144.847 4516844.609, 14134143.5...  11\n",
              "143  11200  Seongdong-gu  ...  POLYGON ((14142408.062 4519186.313, 14142611.9...  11\n",
              "144  11215   Gwangjin-gu  ...  POLYGON ((14148892.587 4519195.233, 14148956.4...  11\n",
              "\n",
              "[5 rows x 5 columns]"
            ]
          },
          "metadata": {
            "tags": []
          },
          "execution_count": 37
        }
      ]
    },
    {
      "cell_type": "code",
      "metadata": {
        "colab": {
          "base_uri": "https://localhost:8080/",
          "height": 306
        },
        "id": "sxwOgQ8wFiMj",
        "outputId": "91d5d19b-c938-4bbf-e7d5-cf15a18e10a0"
      },
      "source": [
        "gdf_admin_gu_pg3.plot(color='grey')"
      ],
      "execution_count": 38,
      "outputs": [
        {
          "output_type": "execute_result",
          "data": {
            "text/plain": [
              "<matplotlib.axes._subplots.AxesSubplot at 0x7f4291967b10>"
            ]
          },
          "metadata": {
            "tags": []
          },
          "execution_count": 38
        },
        {
          "output_type": "display_data",
          "data": {
            "image/png": "[encoded data removed]",
            "text/plain": [
              "<Figure size 432x288 with 1 Axes>"
            ]
          },
          "metadata": {
            "tags": [],
            "needs_background": "light"
          }
        }
      ]
    },
    {
      "cell_type": "code",
      "metadata": {
        "colab": {
          "base_uri": "https://localhost:8080/",
          "height": 306
        },
        "id": "-BZGoCx9F5CD",
        "outputId": "6986ce9e-ec16-4117-878c-b80c3b300b0a"
      },
      "source": [
        "gdf_admin_gu_pg3['dummy'] = 'dummy'  #서울시 구별 폴리곤에 더미 컬럼 추가\n",
        "geom = gdf_admin_gu_pg3.dissolve(by='dummy').geometry[0]  # '더미'값으로 디졸브한 서울시 영역\n",
        "gdf_seocho3 = gdf_seocho2[gdf_seocho2.within(geom)]\n",
        "gdf_seocho3.plot(color='red')"
      ],
      "execution_count": 41,
      "outputs": [
        {
          "output_type": "execute_result",
          "data": {
            "text/plain": [
              "<matplotlib.axes._subplots.AxesSubplot at 0x7f4291810cd0>"
            ]
          },
          "metadata": {
            "tags": []
          },
          "execution_count": 41
        },
        {
          "output_type": "display_data",
          "data": {
            "image/png": "[encoded data removed]",
            "text/plain": [
              "<Figure size 432x288 with 1 Axes>"
            ]
          },
          "metadata": {
            "tags": [],
            "needs_background": "light"
          }
        }
      ]
    },
    {
      "cell_type": "markdown",
      "metadata": {
        "id": "mTJ_W5z_IfxW"
      },
      "source": [
        ""
      ]
    },
    {
      "cell_type": "markdown",
      "metadata": {
        "id": "leyGY1HOIf37"
      },
      "source": [
        ""
      ]
    }
  ]
}