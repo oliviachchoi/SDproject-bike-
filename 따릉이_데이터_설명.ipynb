{
  "nbformat": 4,
  "nbformat_minor": 0,
  "metadata": {
    "colab": {
      "name": "따릉이 데이터 설명.ipynb",
      "provenance": [],
      "collapsed_sections": [],
      "mount_file_id": "14SrZIrCh7mesJfOFAVvg9Z-DG50sp29B",
      "authorship_tag": "ABX9TyPFeBlPid1U4ZFyMkBRTFgY",
      "include_colab_link": true
    },
    "kernelspec": {
      "name": "python3",
      "display_name": "Python 3"
    },
    "language_info": {
      "name": "python"
    }
  },
  "cells": [
    {
      "cell_type": "markdown",
      "metadata": {
        "id": "view-in-github",
        "colab_type": "text"
      },
      "source": [
        "<a href=\"https://colab.research.google.com/github/oliviachchoi/SDproject-bike-/blob/main/%EB%94%B0%EB%A6%89%EC%9D%B4_%EB%8D%B0%EC%9D%B4%ED%84%B0_%EC%84%A4%EB%AA%85.ipynb\" target=\"_parent\"><img src=\"https://colab.research.google.com/assets/colab-badge.svg\" alt=\"Open In Colab\"/></a>"
      ]
    },
    {
      "cell_type": "markdown",
      "metadata": {
        "id": "bH3qlKNAzno-"
      },
      "source": [
        "#주제선정\n",
        "\n",
        "\n",
        "시간대별 따릉이 대여 수 예측\n",
        "\n",
        "시간이 난다면 각 구, 또는 특정 구(ex.서초구)의 각 거치대의 따릉이 대여 건수를 예측 하고자 한다.\n",
        "\n"
      ]
    },
    {
      "cell_type": "markdown",
      "metadata": {
        "id": "xRBqVwAkzx4B"
      },
      "source": [
        "#Used Dataset"
      ]
    },
    {
      "cell_type": "markdown",
      "metadata": {
        "id": "2-3DC1Q5asME"
      },
      "source": [
        "#1. 따릉이 이용정보 = 시간대별\n",
        "\n",
        "http://data.seoul.go.kr/dataList/OA-15245/F/1/datasetView.do# \n",
        "\n",
        " 서울시 공공자전거 이용 정보( 시간대별)\n",
        "\n",
        "2020.01 부터 2020.12월 까지의 데이터를 활용하였고,\n",
        "\n",
        "이 데이터를 활용해서 시간별 대여 건수를 확인 하고자 한다.\n",
        "\n"
      ]
    },
    {
      "cell_type": "code",
      "metadata": {
        "id": "bhJ6dOoPZclp"
      },
      "source": [
        "import pandas as pd\n",
        "import numpy as np\n",
        "import matplotlib.pyplot as plt\n",
        "import seaborn as sns\n",
        "\n",
        "%matplotlib inline"
      ],
      "execution_count": null,
      "outputs": []
    },
    {
      "cell_type": "code",
      "metadata": {
        "id": "lzvf7379Zhxu"
      },
      "source": [
        "df1_5=pd.read_csv('/content/drive/MyDrive/따릉이 project/시간대별 데이터/공공자전거 이용정보(시간대별)_19.12_20.056.csv',encoding='cp949')\n",
        "df_6=pd.read_csv('/content/drive/MyDrive/따릉이 project/시간대별 데이터/공공자전거 이용정보(시간대별)_20.06.csv',encoding='cp949')\n",
        "df_7=pd.read_csv('/content/drive/MyDrive/따릉이 project/시간대별 데이터/공공자전거 이용정보(시간대별)_20.07.csv',encoding='cp949')\n",
        "df_8=pd.read_csv('/content/drive/MyDrive/따릉이 project/시간대별 데이터/공공자전거 이용정보(시간대별)_20.08.csv',encoding='cp949')\n",
        "df_9=pd.read_csv('/content/drive/MyDrive/따릉이 project/시간대별 데이터/공공자전거 이용정보(시간대별)_20.09.csv',encoding='cp949')\n",
        "df_10=pd.read_csv('/content/drive/MyDrive/따릉이 project/시간대별 데이터/공공자전거 이용정보(시간대별)_20.10.csv',encoding='cp949')\n",
        "df_11=pd.read_csv('/content/drive/MyDrive/따릉이 project/시간대별 데이터/공공자전거 이용정보(시간대별)_20.11.csv',encoding='cp949')\n",
        "df_12=pd.read_csv('/content/drive/MyDrive/따릉이 project/시간대별 데이터/공공자전거 이용정보(시간대별)_20.12.csv',encoding='cp949')"
      ],
      "execution_count": null,
      "outputs": []
    },
    {
      "cell_type": "code",
      "metadata": {
        "id": "VuWQSX-qZiKn"
      },
      "source": [
        "#concat이 error나서 append로 데이터 병합시킴\n",
        "df=df1_5.append(df_6)\n",
        "df=df.append(df_7)\n",
        "df=df.append(df_8)\n",
        "df=df.append(df_9)\n",
        "df=df.append(df_10)\n",
        "df=df.append(df_11)\n",
        "df=df.append(df_12)"
      ],
      "execution_count": null,
      "outputs": []
    },
    {
      "cell_type": "code",
      "metadata": {
        "colab": {
          "base_uri": "https://localhost:8080/"
        },
        "id": "MuLOxhA5Zj8J",
        "outputId": "b0657735-912f-46af-f169-4f8185475721"
      },
      "source": [
        "df1_5.shape[0]+df_6.shape[0]+df_7.shape[0]+df_8.shape[0]+df_9.shape[0]+df_10.shape[0]+df_11.shape[0]+df_12.shape[0]"
      ],
      "execution_count": null,
      "outputs": [
        {
          "output_type": "execute_result",
          "data": {
            "text/plain": [
              "19802991"
            ]
          },
          "metadata": {
            "tags": []
          },
          "execution_count": 6
        }
      ]
    },
    {
      "cell_type": "code",
      "metadata": {
        "colab": {
          "base_uri": "https://localhost:8080/"
        },
        "id": "Ene16by7aX7F",
        "outputId": "fb0292ed-1d0a-4975-87f5-7bd0a2ea46d7"
      },
      "source": [
        "df.shape\n",
        "#shape이 맞는 걸 보니 잘 병합 되어 보인다."
      ],
      "execution_count": null,
      "outputs": [
        {
          "output_type": "execute_result",
          "data": {
            "text/plain": [
              "(19802991, 12)"
            ]
          },
          "metadata": {
            "tags": []
          },
          "execution_count": 7
        }
      ]
    },
    {
      "cell_type": "code",
      "metadata": {
        "id": "f0nFvma6aYo9"
      },
      "source": [
        "#대여일자 to_datetime으로 바꿔서 넣어주기 strftime\n",
        "from datetime import datetime\n",
        "\n",
        "df['대여일자']=pd.to_datetime(df['대여일자'])"
      ],
      "execution_count": null,
      "outputs": []
    },
    {
      "cell_type": "code",
      "metadata": {
        "id": "pI-6zdo0acQ_"
      },
      "source": [
        "df['year']=df['대여일자'].dt.year\n",
        "df['month']=df['대여일자'].dt.month\n",
        "df['day']=df['대여일자'].dt.day"
      ],
      "execution_count": null,
      "outputs": []
    },
    {
      "cell_type": "code",
      "metadata": {
        "id": "_1o2KXH5aePj"
      },
      "source": [
        "#2019년 데이터 지우기\n",
        "df=df[df.year!=2019]"
      ],
      "execution_count": null,
      "outputs": []
    },
    {
      "cell_type": "code",
      "metadata": {
        "id": "6lhBwkFoaf7R"
      },
      "source": [
        "#rename columns\n",
        "df= df.rename(columns={'대여일자':'date','대여시간':'time','대여소번호':'stno','대여소명':'stname','대여구분코드':'code','성별':'sex','연령대코드':'age','이용건수':'borrowednum',\n",
        "                       '운동량':'exercise','탄소량':'co','이동거리':'dist','사용시간':'usedtime'})"
      ],
      "execution_count": null,
      "outputs": []
    },
    {
      "cell_type": "code",
      "metadata": {
        "id": "BWD_WMNQaho5"
      },
      "source": [
        "df.drop('date',axis=1, inplace=True)"
      ],
      "execution_count": null,
      "outputs": []
    },
    {
      "cell_type": "code",
      "metadata": {
        "colab": {
          "base_uri": "https://localhost:8080/",
          "height": 408
        },
        "id": "E60dCSe6ai8k",
        "outputId": "8a6c02f9-3192-45fa-922a-055c16098e45"
      },
      "source": [
        "df"
      ],
      "execution_count": null,
      "outputs": [
        {
          "output_type": "execute_result",
          "data": {
            "text/html": [
              "<div>\n",
              "<style scoped>\n",
              "    .dataframe tbody tr th:only-of-type {\n",
              "        vertical-align: middle;\n",
              "    }\n",
              "\n",
              "    .dataframe tbody tr th {\n",
              "        vertical-align: top;\n",
              "    }\n",
              "\n",
              "    .dataframe thead th {\n",
              "        text-align: right;\n",
              "    }\n",
              "</style>\n",
              "<table border=\"1\" class=\"dataframe\">\n",
              "  <thead>\n",
              "    <tr style=\"text-align: right;\">\n",
              "      <th></th>\n",
              "      <th>time</th>\n",
              "      <th>stno</th>\n",
              "      <th>stname</th>\n",
              "      <th>code</th>\n",
              "      <th>sex</th>\n",
              "      <th>age</th>\n",
              "      <th>borrowednum</th>\n",
              "      <th>exercise</th>\n",
              "      <th>co</th>\n",
              "      <th>dist</th>\n",
              "      <th>usedtime</th>\n",
              "      <th>year</th>\n",
              "      <th>month</th>\n",
              "      <th>day</th>\n",
              "    </tr>\n",
              "  </thead>\n",
              "  <tbody>\n",
              "    <tr>\n",
              "      <th>776956</th>\n",
              "      <td>0</td>\n",
              "      <td>1044</td>\n",
              "      <td>1044. 굽은다리역</td>\n",
              "      <td>정기권</td>\n",
              "      <td>NaN</td>\n",
              "      <td>~10대</td>\n",
              "      <td>1</td>\n",
              "      <td>33.96</td>\n",
              "      <td>0.30</td>\n",
              "      <td>1280.00</td>\n",
              "      <td>6</td>\n",
              "      <td>2020</td>\n",
              "      <td>1</td>\n",
              "      <td>1</td>\n",
              "    </tr>\n",
              "    <tr>\n",
              "      <th>776957</th>\n",
              "      <td>0</td>\n",
              "      <td>1656</td>\n",
              "      <td>1656. 중앙하이츠 아파트 입구</td>\n",
              "      <td>정기권</td>\n",
              "      <td>NaN</td>\n",
              "      <td>~10대</td>\n",
              "      <td>1</td>\n",
              "      <td>40.15</td>\n",
              "      <td>0.39</td>\n",
              "      <td>1690.00</td>\n",
              "      <td>6</td>\n",
              "      <td>2020</td>\n",
              "      <td>1</td>\n",
              "      <td>1</td>\n",
              "    </tr>\n",
              "    <tr>\n",
              "      <th>776958</th>\n",
              "      <td>0</td>\n",
              "      <td>1337</td>\n",
              "      <td>1337. 돈암성당 옆</td>\n",
              "      <td>정기권</td>\n",
              "      <td>NaN</td>\n",
              "      <td>~10대</td>\n",
              "      <td>1</td>\n",
              "      <td>80.88</td>\n",
              "      <td>0.50</td>\n",
              "      <td>2150.00</td>\n",
              "      <td>12</td>\n",
              "      <td>2020</td>\n",
              "      <td>1</td>\n",
              "      <td>1</td>\n",
              "    </tr>\n",
              "    <tr>\n",
              "      <th>776959</th>\n",
              "      <td>0</td>\n",
              "      <td>1984</td>\n",
              "      <td>1984. 구로구청</td>\n",
              "      <td>정기권</td>\n",
              "      <td>NaN</td>\n",
              "      <td>~10대</td>\n",
              "      <td>1</td>\n",
              "      <td>47.36</td>\n",
              "      <td>0.43</td>\n",
              "      <td>1840.00</td>\n",
              "      <td>25</td>\n",
              "      <td>2020</td>\n",
              "      <td>1</td>\n",
              "      <td>1</td>\n",
              "    </tr>\n",
              "    <tr>\n",
              "      <th>776960</th>\n",
              "      <td>0</td>\n",
              "      <td>2601</td>\n",
              "      <td>2601. 석촌호수 서호사거리</td>\n",
              "      <td>정기권</td>\n",
              "      <td>NaN</td>\n",
              "      <td>~10대</td>\n",
              "      <td>1</td>\n",
              "      <td>29.34</td>\n",
              "      <td>0.26</td>\n",
              "      <td>1140.00</td>\n",
              "      <td>5</td>\n",
              "      <td>2020</td>\n",
              "      <td>1</td>\n",
              "      <td>1</td>\n",
              "    </tr>\n",
              "    <tr>\n",
              "      <th>...</th>\n",
              "      <td>...</td>\n",
              "      <td>...</td>\n",
              "      <td>...</td>\n",
              "      <td>...</td>\n",
              "      <td>...</td>\n",
              "      <td>...</td>\n",
              "      <td>...</td>\n",
              "      <td>...</td>\n",
              "      <td>...</td>\n",
              "      <td>...</td>\n",
              "      <td>...</td>\n",
              "      <td>...</td>\n",
              "      <td>...</td>\n",
              "      <td>...</td>\n",
              "    </tr>\n",
              "    <tr>\n",
              "      <th>1066896</th>\n",
              "      <td>23</td>\n",
              "      <td>3121</td>\n",
              "      <td>3121.가좌삼거리</td>\n",
              "      <td>일일권</td>\n",
              "      <td>M</td>\n",
              "      <td>30대</td>\n",
              "      <td>1</td>\n",
              "      <td>0.00</td>\n",
              "      <td>0.00</td>\n",
              "      <td>0.00</td>\n",
              "      <td>13</td>\n",
              "      <td>2020</td>\n",
              "      <td>12</td>\n",
              "      <td>31</td>\n",
              "    </tr>\n",
              "    <tr>\n",
              "      <th>1066897</th>\n",
              "      <td>23</td>\n",
              "      <td>560</td>\n",
              "      <td>560. 비전교회 앞</td>\n",
              "      <td>일일권</td>\n",
              "      <td>M</td>\n",
              "      <td>30대</td>\n",
              "      <td>1</td>\n",
              "      <td>0.00</td>\n",
              "      <td>0.00</td>\n",
              "      <td>0.00</td>\n",
              "      <td>52</td>\n",
              "      <td>2020</td>\n",
              "      <td>12</td>\n",
              "      <td>31</td>\n",
              "    </tr>\n",
              "    <tr>\n",
              "      <th>1066898</th>\n",
              "      <td>23</td>\n",
              "      <td>1416</td>\n",
              "      <td>1416. 상봉역 3번출구</td>\n",
              "      <td>일일권</td>\n",
              "      <td>M</td>\n",
              "      <td>30대</td>\n",
              "      <td>1</td>\n",
              "      <td>18.33</td>\n",
              "      <td>0.17</td>\n",
              "      <td>711.99</td>\n",
              "      <td>4</td>\n",
              "      <td>2020</td>\n",
              "      <td>12</td>\n",
              "      <td>31</td>\n",
              "    </tr>\n",
              "    <tr>\n",
              "      <th>1066899</th>\n",
              "      <td>23</td>\n",
              "      <td>1625</td>\n",
              "      <td>1625. 상계역(4번출구)</td>\n",
              "      <td>일일권</td>\n",
              "      <td>M</td>\n",
              "      <td>50대</td>\n",
              "      <td>1</td>\n",
              "      <td>20.52</td>\n",
              "      <td>0.15</td>\n",
              "      <td>647.86</td>\n",
              "      <td>7</td>\n",
              "      <td>2020</td>\n",
              "      <td>12</td>\n",
              "      <td>31</td>\n",
              "    </tr>\n",
              "    <tr>\n",
              "      <th>1066900</th>\n",
              "      <td>23</td>\n",
              "      <td>419</td>\n",
              "      <td>419. 홈플러스 앞</td>\n",
              "      <td>단체권</td>\n",
              "      <td>NaN</td>\n",
              "      <td>20대</td>\n",
              "      <td>4</td>\n",
              "      <td>18.19</td>\n",
              "      <td>2.13</td>\n",
              "      <td>9187.95</td>\n",
              "      <td>128</td>\n",
              "      <td>2020</td>\n",
              "      <td>12</td>\n",
              "      <td>31</td>\n",
              "    </tr>\n",
              "  </tbody>\n",
              "</table>\n",
              "<p>19026035 rows × 14 columns</p>\n",
              "</div>"
            ],
            "text/plain": [
              "         time  stno              stname code  ... usedtime  year  month day\n",
              "776956      0  1044         1044. 굽은다리역  정기권  ...        6  2020      1   1\n",
              "776957      0  1656  1656. 중앙하이츠 아파트 입구  정기권  ...        6  2020      1   1\n",
              "776958      0  1337        1337. 돈암성당 옆  정기권  ...       12  2020      1   1\n",
              "776959      0  1984          1984. 구로구청  정기권  ...       25  2020      1   1\n",
              "776960      0  2601    2601. 석촌호수 서호사거리  정기권  ...        5  2020      1   1\n",
              "...       ...   ...                 ...  ...  ...      ...   ...    ...  ..\n",
              "1066896    23  3121          3121.가좌삼거리  일일권  ...       13  2020     12  31\n",
              "1066897    23   560         560. 비전교회 앞  일일권  ...       52  2020     12  31\n",
              "1066898    23  1416      1416. 상봉역 3번출구  일일권  ...        4  2020     12  31\n",
              "1066899    23  1625     1625. 상계역(4번출구)  일일권  ...        7  2020     12  31\n",
              "1066900    23   419         419. 홈플러스 앞  단체권  ...      128  2020     12  31\n",
              "\n",
              "[19026035 rows x 14 columns]"
            ]
          },
          "metadata": {
            "tags": []
          },
          "execution_count": 13
        }
      ]
    },
    {
      "cell_type": "markdown",
      "metadata": {
        "id": "Ms7DMJ0Ra1Km"
      },
      "source": [
        "#2. 미세먼지 데이터\n",
        "http://data.seoul.go.kr/dataList/OA-15526/S/1/datasetView.do \n",
        "\n",
        ".http://data.seoul.go.kr/dataList/OA-15516/S/1/datasetView.do \n",
        "\n",
        "2020년 데이터 활용\n",
        "\n",
        "각 구마다 시간대별로 미세먼지와 초미세먼지의 농도를 추출해서 사용 할 예정이다\n",
        "\n",
        "미세먼지와 초미세먼지가 자전거의 대여량에 영향을 미치는지 알아보기 위해서 이 데이터도 추가로 불러왔다.\n",
        "\n"
      ]
    },
    {
      "cell_type": "code",
      "metadata": {
        "id": "OpwsKvRWa3Qh"
      },
      "source": [
        "dust1=pd.read_csv('/content/drive/MyDrive/따릉이 project/미세먼지/AIR_HOUR_202001.csv',encoding='cp949')\n",
        "dust2=pd.read_csv('/content/drive/MyDrive/따릉이 project/미세먼지/AIR_HOUR_202002.csv',encoding='cp949')\n",
        "dust3=pd.read_csv('/content/drive/MyDrive/따릉이 project/미세먼지/AIR_HOUR_202003.csv',encoding='cp949')\n",
        "dust4=pd.read_csv('/content/drive/MyDrive/따릉이 project/미세먼지/AIR_HOUR_202004.csv',encoding='cp949')\n",
        "dust5=pd.read_csv('/content/drive/MyDrive/따릉이 project/미세먼지/AIR_HOUR_202005.csv',encoding='cp949')\n",
        "dust6=pd.read_csv('/content/drive/MyDrive/따릉이 project/미세먼지/AIR_HOUR_202006.csv',encoding='cp949')\n",
        "dust7=pd.read_csv('/content/drive/MyDrive/따릉이 project/미세먼지/AIR_HOUR_202007.csv',encoding='cp949')\n",
        "dust8=pd.read_csv('/content/drive/MyDrive/따릉이 project/미세먼지/AIR_HOUR_202008.csv',encoding='cp949')\n",
        "dust9=pd.read_csv('/content/drive/MyDrive/따릉이 project/미세먼지/AIR_HOUR_202009.csv',encoding='cp949')\n",
        "dust10=pd.read_csv('/content/drive/MyDrive/따릉이 project/미세먼지/AIR_HOUR_202010.csv',encoding='cp949')\n",
        "dust11=pd.read_csv('/content/drive/MyDrive/따릉이 project/미세먼지/AIR_HOUR_202011.csv',encoding='cp949')\n",
        "dust12=pd.read_csv('/content/drive/MyDrive/따릉이 project/미세먼지/AIR_HOUR_202012.csv',encoding='cp949')\n",
        "\n",
        "dust_info=pd.read_csv('/content/drive/MyDrive/따릉이 project/미세먼지/서울특별시 대기오염 측정소 정보.csv',encoding='cp949')"
      ],
      "execution_count": null,
      "outputs": []
    },
    {
      "cell_type": "code",
      "metadata": {
        "colab": {
          "base_uri": "https://localhost:8080/",
          "height": 200
        },
        "id": "yHw1yNldbC06",
        "outputId": "3f9ca887-8ee0-402d-f05d-3dca487fe323"
      },
      "source": [
        "dust1.head()\n",
        "#pm10(미세먼지): 측정항목코드:8, 측정단위 ㎍/㎥\n",
        "#pm2.5(초미세먼지): 측정항목코드:9, 측정단위 "
      ],
      "execution_count": null,
      "outputs": [
        {
          "output_type": "execute_result",
          "data": {
            "text/html": [
              "<div>\n",
              "<style scoped>\n",
              "    .dataframe tbody tr th:only-of-type {\n",
              "        vertical-align: middle;\n",
              "    }\n",
              "\n",
              "    .dataframe tbody tr th {\n",
              "        vertical-align: top;\n",
              "    }\n",
              "\n",
              "    .dataframe thead th {\n",
              "        text-align: right;\n",
              "    }\n",
              "</style>\n",
              "<table border=\"1\" class=\"dataframe\">\n",
              "  <thead>\n",
              "    <tr style=\"text-align: right;\">\n",
              "      <th></th>\n",
              "      <th>측정일시</th>\n",
              "      <th>측정소 코드</th>\n",
              "      <th>측정항목 코드</th>\n",
              "      <th>평균값</th>\n",
              "      <th>측정기 상태</th>\n",
              "      <th>국가 기준초과 구분</th>\n",
              "      <th>지자체 기준초과 구분</th>\n",
              "      <th>저장일시</th>\n",
              "    </tr>\n",
              "  </thead>\n",
              "  <tbody>\n",
              "    <tr>\n",
              "      <th>0</th>\n",
              "      <td>20200131230000</td>\n",
              "      <td>117</td>\n",
              "      <td>1</td>\n",
              "      <td>0.005</td>\n",
              "      <td>0</td>\n",
              "      <td>0</td>\n",
              "      <td>0</td>\n",
              "      <td>20200131235849</td>\n",
              "    </tr>\n",
              "    <tr>\n",
              "      <th>1</th>\n",
              "      <td>20200131230000</td>\n",
              "      <td>104</td>\n",
              "      <td>9</td>\n",
              "      <td>35.000</td>\n",
              "      <td>0</td>\n",
              "      <td>0</td>\n",
              "      <td>0</td>\n",
              "      <td>20200201000015</td>\n",
              "    </tr>\n",
              "    <tr>\n",
              "      <th>2</th>\n",
              "      <td>20200131230000</td>\n",
              "      <td>104</td>\n",
              "      <td>8</td>\n",
              "      <td>47.000</td>\n",
              "      <td>0</td>\n",
              "      <td>0</td>\n",
              "      <td>0</td>\n",
              "      <td>20200201000015</td>\n",
              "    </tr>\n",
              "    <tr>\n",
              "      <th>3</th>\n",
              "      <td>20200131230000</td>\n",
              "      <td>101</td>\n",
              "      <td>3</td>\n",
              "      <td>0.048</td>\n",
              "      <td>0</td>\n",
              "      <td>0</td>\n",
              "      <td>0</td>\n",
              "      <td>20200201000015</td>\n",
              "    </tr>\n",
              "    <tr>\n",
              "      <th>4</th>\n",
              "      <td>20200131230000</td>\n",
              "      <td>101</td>\n",
              "      <td>1</td>\n",
              "      <td>0.003</td>\n",
              "      <td>0</td>\n",
              "      <td>0</td>\n",
              "      <td>0</td>\n",
              "      <td>20200201000015</td>\n",
              "    </tr>\n",
              "  </tbody>\n",
              "</table>\n",
              "</div>"
            ],
            "text/plain": [
              "             측정일시  측정소 코드  측정항목 코드  ...  국가 기준초과 구분  지자체 기준초과 구분            저장일시\n",
              "0  20200131230000     117        1  ...           0            0  20200131235849\n",
              "1  20200131230000     104        9  ...           0            0  20200201000015\n",
              "2  20200131230000     104        8  ...           0            0  20200201000015\n",
              "3  20200131230000     101        3  ...           0            0  20200201000015\n",
              "4  20200131230000     101        1  ...           0            0  20200201000015\n",
              "\n",
              "[5 rows x 8 columns]"
            ]
          },
          "metadata": {
            "tags": []
          },
          "execution_count": 20
        }
      ]
    },
    {
      "cell_type": "code",
      "metadata": {
        "colab": {
          "base_uri": "https://localhost:8080/",
          "height": 200
        },
        "id": "3KvDyGq-n-X2",
        "outputId": "cd601642-514a-4c2d-ba13-84564992bb74"
      },
      "source": [
        "#데이터 병합 후 \n",
        "#미세먼지, 초미세먼지만 추출\n",
        "#측정소 코드에 대한 설명이 있는 file과 merge 시켜서 구별 데이터 얻을 수 있게끔 함\n",
        "dust_info.head()"
      ],
      "execution_count": null,
      "outputs": [
        {
          "output_type": "execute_result",
          "data": {
            "text/html": [
              "<div>\n",
              "<style scoped>\n",
              "    .dataframe tbody tr th:only-of-type {\n",
              "        vertical-align: middle;\n",
              "    }\n",
              "\n",
              "    .dataframe tbody tr th {\n",
              "        vertical-align: top;\n",
              "    }\n",
              "\n",
              "    .dataframe thead th {\n",
              "        text-align: right;\n",
              "    }\n",
              "</style>\n",
              "<table border=\"1\" class=\"dataframe\">\n",
              "  <thead>\n",
              "    <tr style=\"text-align: right;\">\n",
              "      <th></th>\n",
              "      <th>측정소 코드</th>\n",
              "      <th>측정소 이름</th>\n",
              "      <th>측정소 주소</th>\n",
              "      <th>표시 순서</th>\n",
              "      <th>공인코드</th>\n",
              "    </tr>\n",
              "  </thead>\n",
              "  <tbody>\n",
              "    <tr>\n",
              "      <th>0</th>\n",
              "      <td>101</td>\n",
              "      <td>종로구</td>\n",
              "      <td>서울 종로구 종로35가길 19 종로56가 동 주민센터</td>\n",
              "      <td>1</td>\n",
              "      <td>111123</td>\n",
              "    </tr>\n",
              "    <tr>\n",
              "      <th>1</th>\n",
              "      <td>102</td>\n",
              "      <td>중구</td>\n",
              "      <td>서울 중구 덕수궁길 15 시청서소문별관 3동</td>\n",
              "      <td>2</td>\n",
              "      <td>111121</td>\n",
              "    </tr>\n",
              "    <tr>\n",
              "      <th>2</th>\n",
              "      <td>103</td>\n",
              "      <td>용산구</td>\n",
              "      <td>서울 용산구 한남대로 136 서울특별시중부기술교육원</td>\n",
              "      <td>3</td>\n",
              "      <td>111131</td>\n",
              "    </tr>\n",
              "    <tr>\n",
              "      <th>3</th>\n",
              "      <td>104</td>\n",
              "      <td>은평구</td>\n",
              "      <td>서울 은평구 진흥로 215 (한국환경산업기술원 온실동2층 )</td>\n",
              "      <td>4</td>\n",
              "      <td>111181</td>\n",
              "    </tr>\n",
              "    <tr>\n",
              "      <th>4</th>\n",
              "      <td>105</td>\n",
              "      <td>서대문구</td>\n",
              "      <td>서울 서대문구 세검정로4길 32(홍제3동 주민센터)</td>\n",
              "      <td>5</td>\n",
              "      <td>111191</td>\n",
              "    </tr>\n",
              "  </tbody>\n",
              "</table>\n",
              "</div>"
            ],
            "text/plain": [
              "   측정소 코드 측정소 이름                             측정소 주소  표시 순서    공인코드\n",
              "0     101    종로구      서울 종로구 종로35가길 19 종로56가 동 주민센터      1  111123\n",
              "1     102     중구           서울 중구 덕수궁길 15 시청서소문별관 3동      2  111121\n",
              "2     103    용산구       서울 용산구 한남대로 136 서울특별시중부기술교육원      3  111131\n",
              "3     104    은평구  서울 은평구 진흥로 215 (한국환경산업기술원 온실동2층 )      4  111181\n",
              "4     105   서대문구      서울 서대문구 세검정로4길 32(홍제3동 주민센터)       5  111191"
            ]
          },
          "metadata": {
            "tags": []
          },
          "execution_count": 23
        }
      ]
    },
    {
      "cell_type": "markdown",
      "metadata": {
        "id": "BNXM3GR2pA7S"
      },
      "source": [
        "#3. 따릉이 대여소 정보\n",
        "\n",
        "http://data.seoul.go.kr/dataList/OA-13252/F/1/datasetView.do\n",
        "\n",
        "따릉이의 지도상 위치(latitude, longitude), 대여소명, 대여소 번호등의 변수가 있고,\n",
        "\n",
        "대여소 번호를 활용해서 위의 1번 자료와 merge 해서 사용 할 예정이다.\n"
      ]
    },
    {
      "cell_type": "code",
      "metadata": {
        "id": "XYJ-ywV1pDal"
      },
      "source": [
        "bike_station = pd.read_csv('/content/drive/MyDrive/따릉이 project/공공자전거 대여소 정보(21.01.31 기준).csv',encoding='cp949',skiprows=5,header=None)"
      ],
      "execution_count": null,
      "outputs": []
    },
    {
      "cell_type": "code",
      "metadata": {
        "colab": {
          "base_uri": "https://localhost:8080/",
          "height": 200
        },
        "id": "tfnJxp16pabj",
        "outputId": "898a772b-3b87-4401-f640-7c9473522ca6"
      },
      "source": [
        "bike_station.head()"
      ],
      "execution_count": null,
      "outputs": [
        {
          "output_type": "execute_result",
          "data": {
            "text/html": [
              "<div>\n",
              "<style scoped>\n",
              "    .dataframe tbody tr th:only-of-type {\n",
              "        vertical-align: middle;\n",
              "    }\n",
              "\n",
              "    .dataframe tbody tr th {\n",
              "        vertical-align: top;\n",
              "    }\n",
              "\n",
              "    .dataframe thead th {\n",
              "        text-align: right;\n",
              "    }\n",
              "</style>\n",
              "<table border=\"1\" class=\"dataframe\">\n",
              "  <thead>\n",
              "    <tr style=\"text-align: right;\">\n",
              "      <th></th>\n",
              "      <th>0</th>\n",
              "      <th>1</th>\n",
              "      <th>2</th>\n",
              "      <th>3</th>\n",
              "      <th>4</th>\n",
              "      <th>5</th>\n",
              "      <th>6</th>\n",
              "      <th>7</th>\n",
              "      <th>8</th>\n",
              "      <th>9</th>\n",
              "    </tr>\n",
              "  </thead>\n",
              "  <tbody>\n",
              "    <tr>\n",
              "      <th>0</th>\n",
              "      <td>301.0</td>\n",
              "      <td>경복궁역 7번출구 앞</td>\n",
              "      <td>종로구</td>\n",
              "      <td>서울특별시 종로구 사직로 지하130</td>\n",
              "      <td>37.575794</td>\n",
              "      <td>126.971451</td>\n",
              "      <td>2015-10-07</td>\n",
              "      <td>16.0</td>\n",
              "      <td>NaN</td>\n",
              "      <td>LCD</td>\n",
              "    </tr>\n",
              "    <tr>\n",
              "      <th>1</th>\n",
              "      <td>302.0</td>\n",
              "      <td>경복궁역 4번출구 뒤</td>\n",
              "      <td>종로구</td>\n",
              "      <td>서울특별시 종로구 사직로 지하130</td>\n",
              "      <td>37.575947</td>\n",
              "      <td>126.974060</td>\n",
              "      <td>2015-10-07</td>\n",
              "      <td>12.0</td>\n",
              "      <td>NaN</td>\n",
              "      <td>LCD</td>\n",
              "    </tr>\n",
              "    <tr>\n",
              "      <th>2</th>\n",
              "      <td>303.0</td>\n",
              "      <td>광화문역 1번출구 앞</td>\n",
              "      <td>종로구</td>\n",
              "      <td>서울특별시 종로구 세종대로 지하189</td>\n",
              "      <td>37.571770</td>\n",
              "      <td>126.974663</td>\n",
              "      <td>2015-10-07</td>\n",
              "      <td>8.0</td>\n",
              "      <td>NaN</td>\n",
              "      <td>LCD</td>\n",
              "    </tr>\n",
              "    <tr>\n",
              "      <th>3</th>\n",
              "      <td>304.0</td>\n",
              "      <td>광화문역 2번출구 앞</td>\n",
              "      <td>종로구</td>\n",
              "      <td>서울특별시 종로구 세종대로 지하172</td>\n",
              "      <td>37.572113</td>\n",
              "      <td>126.977577</td>\n",
              "      <td>2021-01-26</td>\n",
              "      <td>NaN</td>\n",
              "      <td>7.0</td>\n",
              "      <td>QR</td>\n",
              "    </tr>\n",
              "    <tr>\n",
              "      <th>4</th>\n",
              "      <td>305.0</td>\n",
              "      <td>종로구청 옆</td>\n",
              "      <td>종로구</td>\n",
              "      <td>서울특별시 종로구 삼봉로 43</td>\n",
              "      <td>37.572582</td>\n",
              "      <td>126.978355</td>\n",
              "      <td>2015-10-07</td>\n",
              "      <td>16.0</td>\n",
              "      <td>NaN</td>\n",
              "      <td>LCD</td>\n",
              "    </tr>\n",
              "  </tbody>\n",
              "</table>\n",
              "</div>"
            ],
            "text/plain": [
              "       0            1    2                     3  ...           6     7    8    9\n",
              "0  301.0  경복궁역 7번출구 앞  종로구   서울특별시 종로구 사직로 지하130  ...  2015-10-07  16.0  NaN  LCD\n",
              "1  302.0  경복궁역 4번출구 뒤  종로구   서울특별시 종로구 사직로 지하130  ...  2015-10-07  12.0  NaN  LCD\n",
              "2  303.0  광화문역 1번출구 앞  종로구  서울특별시 종로구 세종대로 지하189  ...  2015-10-07   8.0  NaN  LCD\n",
              "3  304.0  광화문역 2번출구 앞  종로구  서울특별시 종로구 세종대로 지하172  ...  2021-01-26   NaN  7.0   QR\n",
              "4  305.0       종로구청 옆  종로구      서울특별시 종로구 삼봉로 43  ...  2015-10-07  16.0  NaN  LCD\n",
              "\n",
              "[5 rows x 10 columns]"
            ]
          },
          "metadata": {
            "tags": []
          },
          "execution_count": 27
        }
      ]
    },
    {
      "cell_type": "code",
      "metadata": {
        "id": "42HaSx5CpgKP"
      },
      "source": [
        "#컬럼 명 지정해주기\n",
        "bike_station= bike_station.rename(columns= {0: 'stno', 1: 'stname',2: 'place',3:'detailedplace',4:'Lat',5:'Long',6:'Time',7:'LCD',8:'QR',9:'method'})"
      ],
      "execution_count": null,
      "outputs": []
    },
    {
      "cell_type": "code",
      "metadata": {
        "colab": {
          "base_uri": "https://localhost:8080/",
          "height": 200
        },
        "id": "3pVPniYfpix6",
        "outputId": "7bc25e1b-5c40-40fe-f21a-6b8e51bf8fe8"
      },
      "source": [
        "bike_station.head()"
      ],
      "execution_count": null,
      "outputs": [
        {
          "output_type": "execute_result",
          "data": {
            "text/html": [
              "<div>\n",
              "<style scoped>\n",
              "    .dataframe tbody tr th:only-of-type {\n",
              "        vertical-align: middle;\n",
              "    }\n",
              "\n",
              "    .dataframe tbody tr th {\n",
              "        vertical-align: top;\n",
              "    }\n",
              "\n",
              "    .dataframe thead th {\n",
              "        text-align: right;\n",
              "    }\n",
              "</style>\n",
              "<table border=\"1\" class=\"dataframe\">\n",
              "  <thead>\n",
              "    <tr style=\"text-align: right;\">\n",
              "      <th></th>\n",
              "      <th>stno</th>\n",
              "      <th>stname</th>\n",
              "      <th>place</th>\n",
              "      <th>detailedplace</th>\n",
              "      <th>Lat</th>\n",
              "      <th>Long</th>\n",
              "      <th>Time</th>\n",
              "      <th>LCD</th>\n",
              "      <th>QR</th>\n",
              "      <th>method</th>\n",
              "    </tr>\n",
              "  </thead>\n",
              "  <tbody>\n",
              "    <tr>\n",
              "      <th>0</th>\n",
              "      <td>301.0</td>\n",
              "      <td>경복궁역 7번출구 앞</td>\n",
              "      <td>종로구</td>\n",
              "      <td>서울특별시 종로구 사직로 지하130</td>\n",
              "      <td>37.575794</td>\n",
              "      <td>126.971451</td>\n",
              "      <td>2015-10-07</td>\n",
              "      <td>16.0</td>\n",
              "      <td>NaN</td>\n",
              "      <td>LCD</td>\n",
              "    </tr>\n",
              "    <tr>\n",
              "      <th>1</th>\n",
              "      <td>302.0</td>\n",
              "      <td>경복궁역 4번출구 뒤</td>\n",
              "      <td>종로구</td>\n",
              "      <td>서울특별시 종로구 사직로 지하130</td>\n",
              "      <td>37.575947</td>\n",
              "      <td>126.974060</td>\n",
              "      <td>2015-10-07</td>\n",
              "      <td>12.0</td>\n",
              "      <td>NaN</td>\n",
              "      <td>LCD</td>\n",
              "    </tr>\n",
              "    <tr>\n",
              "      <th>2</th>\n",
              "      <td>303.0</td>\n",
              "      <td>광화문역 1번출구 앞</td>\n",
              "      <td>종로구</td>\n",
              "      <td>서울특별시 종로구 세종대로 지하189</td>\n",
              "      <td>37.571770</td>\n",
              "      <td>126.974663</td>\n",
              "      <td>2015-10-07</td>\n",
              "      <td>8.0</td>\n",
              "      <td>NaN</td>\n",
              "      <td>LCD</td>\n",
              "    </tr>\n",
              "    <tr>\n",
              "      <th>3</th>\n",
              "      <td>304.0</td>\n",
              "      <td>광화문역 2번출구 앞</td>\n",
              "      <td>종로구</td>\n",
              "      <td>서울특별시 종로구 세종대로 지하172</td>\n",
              "      <td>37.572113</td>\n",
              "      <td>126.977577</td>\n",
              "      <td>2021-01-26</td>\n",
              "      <td>NaN</td>\n",
              "      <td>7.0</td>\n",
              "      <td>QR</td>\n",
              "    </tr>\n",
              "    <tr>\n",
              "      <th>4</th>\n",
              "      <td>305.0</td>\n",
              "      <td>종로구청 옆</td>\n",
              "      <td>종로구</td>\n",
              "      <td>서울특별시 종로구 삼봉로 43</td>\n",
              "      <td>37.572582</td>\n",
              "      <td>126.978355</td>\n",
              "      <td>2015-10-07</td>\n",
              "      <td>16.0</td>\n",
              "      <td>NaN</td>\n",
              "      <td>LCD</td>\n",
              "    </tr>\n",
              "  </tbody>\n",
              "</table>\n",
              "</div>"
            ],
            "text/plain": [
              "    stno       stname place         detailedplace  ...        Time   LCD   QR  method\n",
              "0  301.0  경복궁역 7번출구 앞   종로구   서울특별시 종로구 사직로 지하130  ...  2015-10-07  16.0  NaN     LCD\n",
              "1  302.0  경복궁역 4번출구 뒤   종로구   서울특별시 종로구 사직로 지하130  ...  2015-10-07  12.0  NaN     LCD\n",
              "2  303.0  광화문역 1번출구 앞   종로구  서울특별시 종로구 세종대로 지하189  ...  2015-10-07   8.0  NaN     LCD\n",
              "3  304.0  광화문역 2번출구 앞   종로구  서울특별시 종로구 세종대로 지하172  ...  2021-01-26   NaN  7.0      QR\n",
              "4  305.0       종로구청 옆   종로구      서울특별시 종로구 삼봉로 43  ...  2015-10-07  16.0  NaN     LCD\n",
              "\n",
              "[5 rows x 10 columns]"
            ]
          },
          "metadata": {
            "tags": []
          },
          "execution_count": 31
        }
      ]
    },
    {
      "cell_type": "code",
      "metadata": {
        "colab": {
          "base_uri": "https://localhost:8080/",
          "height": 392
        },
        "id": "KwsNJKF_zc_c",
        "outputId": "ae52eb1a-4a19-4450-a8f6-e31140171b04"
      },
      "source": [
        "plt.figure(figsize=(8,6))\n",
        "plt.scatter(bike_station.Long, bike_station.Lat)"
      ],
      "execution_count": null,
      "outputs": [
        {
          "output_type": "execute_result",
          "data": {
            "text/plain": [
              "<matplotlib.collections.PathCollection at 0x7f8f4569e510>"
            ]
          },
          "metadata": {
            "tags": []
          },
          "execution_count": 33
        },
        {
          "output_type": "display_data",
          "data": {
            "image/png": "[encoded data removed]",
            "text/plain": [
              "<Figure size 576x432 with 1 Axes>"
            ]
          },
          "metadata": {
            "tags": [],
            "needs_background": "light"
          }
        }
      ]
    },
    {
      "cell_type": "markdown",
      "metadata": {
        "id": "LQqK7EYNps_x"
      },
      "source": [
        "#4. 서초구 날씨 데이터\n",
        "http://data.seoul.go.kr/dataList/OA-13252/F/1/datasetView.do\n",
        "\n",
        "2020년 데이터를 활용하였고,\n",
        "\n",
        "각 구마다 시간대별로 [습도, 강수, 기온, 풍속]을 알 수 있다.\n",
        "\n",
        "\n",
        "﻿\n",
        "만약 각 구, 또는 각 구의 거치대의 대여 건수를 활용 한다면 구별 데이터를 사용 할 것이고\n",
        "\n",
        "그냥 시간대별 예측을 한다면 서울시 시간당 평균 [습도, 강수, 기온, 풍속]의 데이터를 적용 할 예정이다.\n",
        "\n",
        "﻿"
      ]
    },
    {
      "cell_type": "markdown",
      "metadata": {
        "id": "y-KXGg7K0HrT"
      },
      "source": [
        "﻿\n",
        "다음주 까지\n",
        "\n",
        "하나의 데이터 셋으로 병합하여서 분석 할 수 있게 가공을 할 것이며,\n",
        "\n",
        "데이터를 뜯어서 EDA를 할 예정이다.\n",
        "\n",
        "﻿"
      ]
    }
  ]
}