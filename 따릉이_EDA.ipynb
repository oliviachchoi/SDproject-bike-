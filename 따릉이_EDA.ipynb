{
  "nbformat": 4,
  "nbformat_minor": 0,
  "metadata": {
    "colab": {
      "name": "따릉이 EDA.ipynb",
      "provenance": [],
      "collapsed_sections": [],
      "mount_file_id": "1npu2emaanVaaRhwI8mhhKYtvoqcMOzdR",
      "authorship_tag": "ABX9TyNAEvLdr1ovzdPMUrOZ8/Gx",
      "include_colab_link": true
    },
    "kernelspec": {
      "name": "python3",
      "display_name": "Python 3"
    },
    "language_info": {
      "name": "python"
    },
    "accelerator": "GPU"
  },
  "cells": [
    {
      "cell_type": "markdown",
      "metadata": {
        "id": "view-in-github",
        "colab_type": "text"
      },
      "source": [
        "<a href=\"https://colab.research.google.com/github/oliviachchoi/SDproject-bike-/blob/main/%EB%94%B0%EB%A6%89%EC%9D%B4_EDA.ipynb\" target=\"_parent\"><img src=\"https://colab.research.google.com/assets/colab-badge.svg\" alt=\"Open In Colab\"/></a>"
      ]
    },
    {
      "cell_type": "markdown",
      "metadata": {
        "id": "ZA8eWVjEDthM"
      },
      "source": [
        "#1. 데이터를 사용에 알맞게 가공하기"
      ]
    },
    {
      "cell_type": "code",
      "metadata": {
        "id": "-zhkbod4DpRB"
      },
      "source": [
        "import pandas as pd\n",
        "import numpy as np\n",
        "import matplotlib.pyplot as plt\n",
        "import seaborn as sns"
      ],
      "execution_count": 1,
      "outputs": []
    },
    {
      "cell_type": "code",
      "metadata": {
        "id": "03YvLuxDD_qt"
      },
      "source": [
        "df1_5=pd.read_csv('/content/drive/MyDrive/따릉이 project/시간대별 데이터/공공자전거 이용정보(시간대별)_19.12_20.056.csv',encoding='cp949')\n",
        "df_6=pd.read_csv('/content/drive/MyDrive/따릉이 project/시간대별 데이터/공공자전거 이용정보(시간대별)_20.06.csv',encoding='cp949')\n",
        "df_7=pd.read_csv('/content/drive/MyDrive/따릉이 project/시간대별 데이터/공공자전거 이용정보(시간대별)_20.07.csv',encoding='cp949')\n",
        "df_8=pd.read_csv('/content/drive/MyDrive/따릉이 project/시간대별 데이터/공공자전거 이용정보(시간대별)_20.08.csv',encoding='cp949')\n",
        "df_9=pd.read_csv('/content/drive/MyDrive/따릉이 project/시간대별 데이터/공공자전거 이용정보(시간대별)_20.09.csv',encoding='cp949')\n",
        "df_10=pd.read_csv('/content/drive/MyDrive/따릉이 project/시간대별 데이터/공공자전거 이용정보(시간대별)_20.10.csv',encoding='cp949')\n",
        "df_11=pd.read_csv('/content/drive/MyDrive/따릉이 project/시간대별 데이터/공공자전거 이용정보(시간대별)_20.11.csv',encoding='cp949')\n",
        "df_12=pd.read_csv('/content/drive/MyDrive/따릉이 project/시간대별 데이터/공공자전거 이용정보(시간대별)_20.12.csv',encoding='cp949')"
      ],
      "execution_count": 2,
      "outputs": []
    },
    {
      "cell_type": "code",
      "metadata": {
        "id": "RN2KT9kdGCvv"
      },
      "source": [
        "#concat이 error나서 append로 데이터 병합시킴\n",
        "df=df1_5.append(df_6)\n",
        "df=df.append(df_7)\n",
        "df=df.append(df_8)\n",
        "df=df.append(df_9)\n",
        "df=df.append(df_10)\n",
        "df=df.append(df_11)\n",
        "df=df.append(df_12)"
      ],
      "execution_count": 3,
      "outputs": []
    },
    {
      "cell_type": "code",
      "metadata": {
        "colab": {
          "base_uri": "https://localhost:8080/"
        },
        "id": "T-CU3W_vJwFJ",
        "outputId": "2a78cf8f-c973-44cb-cb19-436f8d9a9cd6"
      },
      "source": [
        "df1_5.shape[0]+df_6.shape[0]+df_7.shape[0]+df_8.shape[0]+df_9.shape[0]+df_10.shape[0]+df_11.shape[0]+df_12.shape[0]"
      ],
      "execution_count": 4,
      "outputs": [
        {
          "output_type": "execute_result",
          "data": {
            "text/plain": [
              "19802991"
            ]
          },
          "metadata": {
            "tags": []
          },
          "execution_count": 4
        }
      ]
    },
    {
      "cell_type": "code",
      "metadata": {
        "colab": {
          "base_uri": "https://localhost:8080/"
        },
        "id": "WJk33VpMKrol",
        "outputId": "5abdfeeb-6e69-4d06-8b70-efa471d36bf2"
      },
      "source": [
        "df.shape\n",
        "#shape이 맞는 걸 보니 잘 병합 되어 보인다."
      ],
      "execution_count": 5,
      "outputs": [
        {
          "output_type": "execute_result",
          "data": {
            "text/plain": [
              "(19802991, 12)"
            ]
          },
          "metadata": {
            "tags": []
          },
          "execution_count": 5
        }
      ]
    },
    {
      "cell_type": "code",
      "metadata": {
        "colab": {
          "base_uri": "https://localhost:8080/",
          "height": 330
        },
        "id": "VuYS7BLoK15i",
        "outputId": "fe93af15-5d97-439d-eb5c-61a28f16fcdd"
      },
      "source": [
        "df.head()"
      ],
      "execution_count": 6,
      "outputs": [
        {
          "output_type": "execute_result",
          "data": {
            "text/html": [
              "<div>\n",
              "<style scoped>\n",
              "    .dataframe tbody tr th:only-of-type {\n",
              "        vertical-align: middle;\n",
              "    }\n",
              "\n",
              "    .dataframe tbody tr th {\n",
              "        vertical-align: top;\n",
              "    }\n",
              "\n",
              "    .dataframe thead th {\n",
              "        text-align: right;\n",
              "    }\n",
              "</style>\n",
              "<table border=\"1\" class=\"dataframe\">\n",
              "  <thead>\n",
              "    <tr style=\"text-align: right;\">\n",
              "      <th></th>\n",
              "      <th>대여일자</th>\n",
              "      <th>대여시간</th>\n",
              "      <th>대여소번호</th>\n",
              "      <th>대여소명</th>\n",
              "      <th>대여구분코드</th>\n",
              "      <th>성별</th>\n",
              "      <th>연령대코드</th>\n",
              "      <th>이용건수</th>\n",
              "      <th>운동량</th>\n",
              "      <th>탄소량</th>\n",
              "      <th>이동거리</th>\n",
              "      <th>사용시간</th>\n",
              "    </tr>\n",
              "  </thead>\n",
              "  <tbody>\n",
              "    <tr>\n",
              "      <th>0</th>\n",
              "      <td>2019-12-01</td>\n",
              "      <td>0</td>\n",
              "      <td>504</td>\n",
              "      <td>504. 신자초교입구교차로</td>\n",
              "      <td>정기권</td>\n",
              "      <td>NaN</td>\n",
              "      <td>~10대</td>\n",
              "      <td>3</td>\n",
              "      <td>74.84</td>\n",
              "      <td>0.67</td>\n",
              "      <td>2880.0</td>\n",
              "      <td>17</td>\n",
              "    </tr>\n",
              "    <tr>\n",
              "      <th>1</th>\n",
              "      <td>2019-12-01</td>\n",
              "      <td>0</td>\n",
              "      <td>1029</td>\n",
              "      <td>1029. 롯데 시네마</td>\n",
              "      <td>정기권</td>\n",
              "      <td>NaN</td>\n",
              "      <td>~10대</td>\n",
              "      <td>1</td>\n",
              "      <td>246.71</td>\n",
              "      <td>2.06</td>\n",
              "      <td>8900.0</td>\n",
              "      <td>45</td>\n",
              "    </tr>\n",
              "    <tr>\n",
              "      <th>2</th>\n",
              "      <td>2019-12-01</td>\n",
              "      <td>0</td>\n",
              "      <td>1153</td>\n",
              "      <td>1153. 발산역 1번, 9번 인근 대여소</td>\n",
              "      <td>정기권</td>\n",
              "      <td>NaN</td>\n",
              "      <td>~10대</td>\n",
              "      <td>1</td>\n",
              "      <td>25.60</td>\n",
              "      <td>0.23</td>\n",
              "      <td>1010.0</td>\n",
              "      <td>12</td>\n",
              "    </tr>\n",
              "    <tr>\n",
              "      <th>3</th>\n",
              "      <td>2019-12-01</td>\n",
              "      <td>0</td>\n",
              "      <td>512</td>\n",
              "      <td>512. 뚝섬역 1번 출구 옆</td>\n",
              "      <td>정기권</td>\n",
              "      <td>NaN</td>\n",
              "      <td>~10대</td>\n",
              "      <td>1</td>\n",
              "      <td>78.59</td>\n",
              "      <td>0.73</td>\n",
              "      <td>3150.0</td>\n",
              "      <td>17</td>\n",
              "    </tr>\n",
              "    <tr>\n",
              "      <th>4</th>\n",
              "      <td>2019-12-01</td>\n",
              "      <td>0</td>\n",
              "      <td>1528</td>\n",
              "      <td>1528. 삼각산동 주민센터</td>\n",
              "      <td>정기권</td>\n",
              "      <td>NaN</td>\n",
              "      <td>~10대</td>\n",
              "      <td>1</td>\n",
              "      <td>26.15</td>\n",
              "      <td>0.22</td>\n",
              "      <td>930.0</td>\n",
              "      <td>5</td>\n",
              "    </tr>\n",
              "  </tbody>\n",
              "</table>\n",
              "</div>"
            ],
            "text/plain": [
              "         대여일자  대여시간  대여소번호                     대여소명  ...     운동량   탄소량    이동거리  사용시간\n",
              "0  2019-12-01     0    504           504. 신자초교입구교차로  ...   74.84  0.67  2880.0    17\n",
              "1  2019-12-01     0   1029             1029. 롯데 시네마  ...  246.71  2.06  8900.0    45\n",
              "2  2019-12-01     0   1153  1153. 발산역 1번, 9번 인근 대여소  ...   25.60  0.23  1010.0    12\n",
              "3  2019-12-01     0    512         512. 뚝섬역 1번 출구 옆  ...   78.59  0.73  3150.0    17\n",
              "4  2019-12-01     0   1528          1528. 삼각산동 주민센터  ...   26.15  0.22   930.0     5\n",
              "\n",
              "[5 rows x 12 columns]"
            ]
          },
          "metadata": {
            "tags": []
          },
          "execution_count": 6
        }
      ]
    },
    {
      "cell_type": "code",
      "metadata": {
        "id": "TqP3FPgFLbRR"
      },
      "source": [
        "#대여일자 to_datetime으로 바꿔서 넣어주기 strftime\n",
        "from datetime import datetime\n",
        "\n",
        "df['대여일자']=pd.to_datetime(df['대여일자'])"
      ],
      "execution_count": 7,
      "outputs": []
    },
    {
      "cell_type": "code",
      "metadata": {
        "id": "yATUAOkAfzuF"
      },
      "source": [
        "df['year']=df['대여일자'].dt.year\n",
        "df['month']=df['대여일자'].dt.month\n",
        "df['day']=df['대여일자'].dt.day"
      ],
      "execution_count": 8,
      "outputs": []
    },
    {
      "cell_type": "code",
      "metadata": {
        "colab": {
          "base_uri": "https://localhost:8080/",
          "height": 1000
        },
        "id": "vdcAySAigcDl",
        "outputId": "0a432501-2912-4ae4-fcf1-43dcb4b6a1e4"
      },
      "source": [
        "df"
      ],
      "execution_count": 9,
      "outputs": [
        {
          "output_type": "execute_result",
          "data": {
            "text/html": [
              "<div>\n",
              "<style scoped>\n",
              "    .dataframe tbody tr th:only-of-type {\n",
              "        vertical-align: middle;\n",
              "    }\n",
              "\n",
              "    .dataframe tbody tr th {\n",
              "        vertical-align: top;\n",
              "    }\n",
              "\n",
              "    .dataframe thead th {\n",
              "        text-align: right;\n",
              "    }\n",
              "</style>\n",
              "<table border=\"1\" class=\"dataframe\">\n",
              "  <thead>\n",
              "    <tr style=\"text-align: right;\">\n",
              "      <th></th>\n",
              "      <th>대여일자</th>\n",
              "      <th>대여시간</th>\n",
              "      <th>대여소번호</th>\n",
              "      <th>대여소명</th>\n",
              "      <th>대여구분코드</th>\n",
              "      <th>성별</th>\n",
              "      <th>연령대코드</th>\n",
              "      <th>이용건수</th>\n",
              "      <th>운동량</th>\n",
              "      <th>탄소량</th>\n",
              "      <th>이동거리</th>\n",
              "      <th>사용시간</th>\n",
              "      <th>year</th>\n",
              "      <th>month</th>\n",
              "      <th>day</th>\n",
              "    </tr>\n",
              "  </thead>\n",
              "  <tbody>\n",
              "    <tr>\n",
              "      <th>0</th>\n",
              "      <td>2019-12-01</td>\n",
              "      <td>0</td>\n",
              "      <td>504</td>\n",
              "      <td>504. 신자초교입구교차로</td>\n",
              "      <td>정기권</td>\n",
              "      <td>NaN</td>\n",
              "      <td>~10대</td>\n",
              "      <td>3</td>\n",
              "      <td>74.84</td>\n",
              "      <td>0.67</td>\n",
              "      <td>2880.00</td>\n",
              "      <td>17</td>\n",
              "      <td>2019</td>\n",
              "      <td>12</td>\n",
              "      <td>1</td>\n",
              "    </tr>\n",
              "    <tr>\n",
              "      <th>1</th>\n",
              "      <td>2019-12-01</td>\n",
              "      <td>0</td>\n",
              "      <td>1029</td>\n",
              "      <td>1029. 롯데 시네마</td>\n",
              "      <td>정기권</td>\n",
              "      <td>NaN</td>\n",
              "      <td>~10대</td>\n",
              "      <td>1</td>\n",
              "      <td>246.71</td>\n",
              "      <td>2.06</td>\n",
              "      <td>8900.00</td>\n",
              "      <td>45</td>\n",
              "      <td>2019</td>\n",
              "      <td>12</td>\n",
              "      <td>1</td>\n",
              "    </tr>\n",
              "    <tr>\n",
              "      <th>2</th>\n",
              "      <td>2019-12-01</td>\n",
              "      <td>0</td>\n",
              "      <td>1153</td>\n",
              "      <td>1153. 발산역 1번, 9번 인근 대여소</td>\n",
              "      <td>정기권</td>\n",
              "      <td>NaN</td>\n",
              "      <td>~10대</td>\n",
              "      <td>1</td>\n",
              "      <td>25.60</td>\n",
              "      <td>0.23</td>\n",
              "      <td>1010.00</td>\n",
              "      <td>12</td>\n",
              "      <td>2019</td>\n",
              "      <td>12</td>\n",
              "      <td>1</td>\n",
              "    </tr>\n",
              "    <tr>\n",
              "      <th>3</th>\n",
              "      <td>2019-12-01</td>\n",
              "      <td>0</td>\n",
              "      <td>512</td>\n",
              "      <td>512. 뚝섬역 1번 출구 옆</td>\n",
              "      <td>정기권</td>\n",
              "      <td>NaN</td>\n",
              "      <td>~10대</td>\n",
              "      <td>1</td>\n",
              "      <td>78.59</td>\n",
              "      <td>0.73</td>\n",
              "      <td>3150.00</td>\n",
              "      <td>17</td>\n",
              "      <td>2019</td>\n",
              "      <td>12</td>\n",
              "      <td>1</td>\n",
              "    </tr>\n",
              "    <tr>\n",
              "      <th>4</th>\n",
              "      <td>2019-12-01</td>\n",
              "      <td>0</td>\n",
              "      <td>1528</td>\n",
              "      <td>1528. 삼각산동 주민센터</td>\n",
              "      <td>정기권</td>\n",
              "      <td>NaN</td>\n",
              "      <td>~10대</td>\n",
              "      <td>1</td>\n",
              "      <td>26.15</td>\n",
              "      <td>0.22</td>\n",
              "      <td>930.00</td>\n",
              "      <td>5</td>\n",
              "      <td>2019</td>\n",
              "      <td>12</td>\n",
              "      <td>1</td>\n",
              "    </tr>\n",
              "    <tr>\n",
              "      <th>...</th>\n",
              "      <td>...</td>\n",
              "      <td>...</td>\n",
              "      <td>...</td>\n",
              "      <td>...</td>\n",
              "      <td>...</td>\n",
              "      <td>...</td>\n",
              "      <td>...</td>\n",
              "      <td>...</td>\n",
              "      <td>...</td>\n",
              "      <td>...</td>\n",
              "      <td>...</td>\n",
              "      <td>...</td>\n",
              "      <td>...</td>\n",
              "      <td>...</td>\n",
              "      <td>...</td>\n",
              "    </tr>\n",
              "    <tr>\n",
              "      <th>1066896</th>\n",
              "      <td>2020-12-31</td>\n",
              "      <td>23</td>\n",
              "      <td>3121</td>\n",
              "      <td>3121.가좌삼거리</td>\n",
              "      <td>일일권</td>\n",
              "      <td>M</td>\n",
              "      <td>30대</td>\n",
              "      <td>1</td>\n",
              "      <td>0.00</td>\n",
              "      <td>0.00</td>\n",
              "      <td>0.00</td>\n",
              "      <td>13</td>\n",
              "      <td>2020</td>\n",
              "      <td>12</td>\n",
              "      <td>31</td>\n",
              "    </tr>\n",
              "    <tr>\n",
              "      <th>1066897</th>\n",
              "      <td>2020-12-31</td>\n",
              "      <td>23</td>\n",
              "      <td>560</td>\n",
              "      <td>560. 비전교회 앞</td>\n",
              "      <td>일일권</td>\n",
              "      <td>M</td>\n",
              "      <td>30대</td>\n",
              "      <td>1</td>\n",
              "      <td>0.00</td>\n",
              "      <td>0.00</td>\n",
              "      <td>0.00</td>\n",
              "      <td>52</td>\n",
              "      <td>2020</td>\n",
              "      <td>12</td>\n",
              "      <td>31</td>\n",
              "    </tr>\n",
              "    <tr>\n",
              "      <th>1066898</th>\n",
              "      <td>2020-12-31</td>\n",
              "      <td>23</td>\n",
              "      <td>1416</td>\n",
              "      <td>1416. 상봉역 3번출구</td>\n",
              "      <td>일일권</td>\n",
              "      <td>M</td>\n",
              "      <td>30대</td>\n",
              "      <td>1</td>\n",
              "      <td>18.33</td>\n",
              "      <td>0.17</td>\n",
              "      <td>711.99</td>\n",
              "      <td>4</td>\n",
              "      <td>2020</td>\n",
              "      <td>12</td>\n",
              "      <td>31</td>\n",
              "    </tr>\n",
              "    <tr>\n",
              "      <th>1066899</th>\n",
              "      <td>2020-12-31</td>\n",
              "      <td>23</td>\n",
              "      <td>1625</td>\n",
              "      <td>1625. 상계역(4번출구)</td>\n",
              "      <td>일일권</td>\n",
              "      <td>M</td>\n",
              "      <td>50대</td>\n",
              "      <td>1</td>\n",
              "      <td>20.52</td>\n",
              "      <td>0.15</td>\n",
              "      <td>647.86</td>\n",
              "      <td>7</td>\n",
              "      <td>2020</td>\n",
              "      <td>12</td>\n",
              "      <td>31</td>\n",
              "    </tr>\n",
              "    <tr>\n",
              "      <th>1066900</th>\n",
              "      <td>2020-12-31</td>\n",
              "      <td>23</td>\n",
              "      <td>419</td>\n",
              "      <td>419. 홈플러스 앞</td>\n",
              "      <td>단체권</td>\n",
              "      <td>NaN</td>\n",
              "      <td>20대</td>\n",
              "      <td>4</td>\n",
              "      <td>18.19</td>\n",
              "      <td>2.13</td>\n",
              "      <td>9187.95</td>\n",
              "      <td>128</td>\n",
              "      <td>2020</td>\n",
              "      <td>12</td>\n",
              "      <td>31</td>\n",
              "    </tr>\n",
              "  </tbody>\n",
              "</table>\n",
              "<p>19802991 rows × 15 columns</p>\n",
              "</div>"
            ],
            "text/plain": [
              "              대여일자  대여시간  대여소번호  ...  year month day\n",
              "0       2019-12-01     0    504  ...  2019    12   1\n",
              "1       2019-12-01     0   1029  ...  2019    12   1\n",
              "2       2019-12-01     0   1153  ...  2019    12   1\n",
              "3       2019-12-01     0    512  ...  2019    12   1\n",
              "4       2019-12-01     0   1528  ...  2019    12   1\n",
              "...            ...   ...    ...  ...   ...   ...  ..\n",
              "1066896 2020-12-31    23   3121  ...  2020    12  31\n",
              "1066897 2020-12-31    23    560  ...  2020    12  31\n",
              "1066898 2020-12-31    23   1416  ...  2020    12  31\n",
              "1066899 2020-12-31    23   1625  ...  2020    12  31\n",
              "1066900 2020-12-31    23    419  ...  2020    12  31\n",
              "\n",
              "[19802991 rows x 15 columns]"
            ]
          },
          "metadata": {
            "tags": []
          },
          "execution_count": 9
        }
      ]
    },
    {
      "cell_type": "code",
      "metadata": {
        "id": "UEt7DKcpggTI"
      },
      "source": [
        "#2019년 데이터 지우기\n",
        "df=df[df.year!=2019]"
      ],
      "execution_count": 10,
      "outputs": []
    },
    {
      "cell_type": "code",
      "metadata": {
        "id": "fkxISB0wgrpE"
      },
      "source": [
        "#rename columns\n",
        "df= df.rename(columns={'대여일자':'date','대여시간':'time','대여소번호':'stno','대여소명':'stname','대여구분코드':'code','성별':'sex','연령대코드':'age','이용건수':'borrowednum',\n",
        "                       '운동량':'exercise','탄소량':'co','이동거리':'dist','사용시간':'usedtime'})"
      ],
      "execution_count": 11,
      "outputs": []
    },
    {
      "cell_type": "code",
      "metadata": {
        "id": "_GbkjaAFnB-O"
      },
      "source": [
        "df.drop('date',axis=1, inplace=True)"
      ],
      "execution_count": 14,
      "outputs": []
    },
    {
      "cell_type": "code",
      "metadata": {
        "colab": {
          "base_uri": "https://localhost:8080/"
        },
        "id": "i-kwZrqYm5hL",
        "outputId": "4f15582c-08a4-4e66-bda9-947e2e1b616a"
      },
      "source": [
        "df.isna().sum()\n",
        "#sex는 이따 drop 시킬 것"
      ],
      "execution_count": 13,
      "outputs": [
        {
          "output_type": "execute_result",
          "data": {
            "text/plain": [
              "date                 0\n",
              "time                 0\n",
              "stno                 0\n",
              "stname               0\n",
              "code                 0\n",
              "sex            9495988\n",
              "age                  0\n",
              "borrowednum          0\n",
              "exercise             0\n",
              "co                   0\n",
              "dist                 0\n",
              "usedtime             0\n",
              "year                 0\n",
              "month                0\n",
              "day                  0\n",
              "dtype: int64"
            ]
          },
          "metadata": {
            "tags": []
          },
          "execution_count": 13
        }
      ]
    },
    {
      "cell_type": "code",
      "metadata": {
        "colab": {
          "base_uri": "https://localhost:8080/",
          "height": 818
        },
        "id": "c4TD8HnbnZVY",
        "outputId": "0884663f-5487-498b-da64-3cec27a3ed90"
      },
      "source": [
        "df"
      ],
      "execution_count": 15,
      "outputs": [
        {
          "output_type": "execute_result",
          "data": {
            "text/html": [
              "<div>\n",
              "<style scoped>\n",
              "    .dataframe tbody tr th:only-of-type {\n",
              "        vertical-align: middle;\n",
              "    }\n",
              "\n",
              "    .dataframe tbody tr th {\n",
              "        vertical-align: top;\n",
              "    }\n",
              "\n",
              "    .dataframe thead th {\n",
              "        text-align: right;\n",
              "    }\n",
              "</style>\n",
              "<table border=\"1\" class=\"dataframe\">\n",
              "  <thead>\n",
              "    <tr style=\"text-align: right;\">\n",
              "      <th></th>\n",
              "      <th>time</th>\n",
              "      <th>stno</th>\n",
              "      <th>stname</th>\n",
              "      <th>code</th>\n",
              "      <th>sex</th>\n",
              "      <th>age</th>\n",
              "      <th>borrowednum</th>\n",
              "      <th>exercise</th>\n",
              "      <th>co</th>\n",
              "      <th>dist</th>\n",
              "      <th>usedtime</th>\n",
              "      <th>year</th>\n",
              "      <th>month</th>\n",
              "      <th>day</th>\n",
              "    </tr>\n",
              "  </thead>\n",
              "  <tbody>\n",
              "    <tr>\n",
              "      <th>776956</th>\n",
              "      <td>0</td>\n",
              "      <td>1044</td>\n",
              "      <td>1044. 굽은다리역</td>\n",
              "      <td>정기권</td>\n",
              "      <td>NaN</td>\n",
              "      <td>~10대</td>\n",
              "      <td>1</td>\n",
              "      <td>33.96</td>\n",
              "      <td>0.30</td>\n",
              "      <td>1280.00</td>\n",
              "      <td>6</td>\n",
              "      <td>2020</td>\n",
              "      <td>1</td>\n",
              "      <td>1</td>\n",
              "    </tr>\n",
              "    <tr>\n",
              "      <th>776957</th>\n",
              "      <td>0</td>\n",
              "      <td>1656</td>\n",
              "      <td>1656. 중앙하이츠 아파트 입구</td>\n",
              "      <td>정기권</td>\n",
              "      <td>NaN</td>\n",
              "      <td>~10대</td>\n",
              "      <td>1</td>\n",
              "      <td>40.15</td>\n",
              "      <td>0.39</td>\n",
              "      <td>1690.00</td>\n",
              "      <td>6</td>\n",
              "      <td>2020</td>\n",
              "      <td>1</td>\n",
              "      <td>1</td>\n",
              "    </tr>\n",
              "    <tr>\n",
              "      <th>776958</th>\n",
              "      <td>0</td>\n",
              "      <td>1337</td>\n",
              "      <td>1337. 돈암성당 옆</td>\n",
              "      <td>정기권</td>\n",
              "      <td>NaN</td>\n",
              "      <td>~10대</td>\n",
              "      <td>1</td>\n",
              "      <td>80.88</td>\n",
              "      <td>0.50</td>\n",
              "      <td>2150.00</td>\n",
              "      <td>12</td>\n",
              "      <td>2020</td>\n",
              "      <td>1</td>\n",
              "      <td>1</td>\n",
              "    </tr>\n",
              "    <tr>\n",
              "      <th>776959</th>\n",
              "      <td>0</td>\n",
              "      <td>1984</td>\n",
              "      <td>1984. 구로구청</td>\n",
              "      <td>정기권</td>\n",
              "      <td>NaN</td>\n",
              "      <td>~10대</td>\n",
              "      <td>1</td>\n",
              "      <td>47.36</td>\n",
              "      <td>0.43</td>\n",
              "      <td>1840.00</td>\n",
              "      <td>25</td>\n",
              "      <td>2020</td>\n",
              "      <td>1</td>\n",
              "      <td>1</td>\n",
              "    </tr>\n",
              "    <tr>\n",
              "      <th>776960</th>\n",
              "      <td>0</td>\n",
              "      <td>2601</td>\n",
              "      <td>2601. 석촌호수 서호사거리</td>\n",
              "      <td>정기권</td>\n",
              "      <td>NaN</td>\n",
              "      <td>~10대</td>\n",
              "      <td>1</td>\n",
              "      <td>29.34</td>\n",
              "      <td>0.26</td>\n",
              "      <td>1140.00</td>\n",
              "      <td>5</td>\n",
              "      <td>2020</td>\n",
              "      <td>1</td>\n",
              "      <td>1</td>\n",
              "    </tr>\n",
              "    <tr>\n",
              "      <th>...</th>\n",
              "      <td>...</td>\n",
              "      <td>...</td>\n",
              "      <td>...</td>\n",
              "      <td>...</td>\n",
              "      <td>...</td>\n",
              "      <td>...</td>\n",
              "      <td>...</td>\n",
              "      <td>...</td>\n",
              "      <td>...</td>\n",
              "      <td>...</td>\n",
              "      <td>...</td>\n",
              "      <td>...</td>\n",
              "      <td>...</td>\n",
              "      <td>...</td>\n",
              "    </tr>\n",
              "    <tr>\n",
              "      <th>1066896</th>\n",
              "      <td>23</td>\n",
              "      <td>3121</td>\n",
              "      <td>3121.가좌삼거리</td>\n",
              "      <td>일일권</td>\n",
              "      <td>M</td>\n",
              "      <td>30대</td>\n",
              "      <td>1</td>\n",
              "      <td>0.00</td>\n",
              "      <td>0.00</td>\n",
              "      <td>0.00</td>\n",
              "      <td>13</td>\n",
              "      <td>2020</td>\n",
              "      <td>12</td>\n",
              "      <td>31</td>\n",
              "    </tr>\n",
              "    <tr>\n",
              "      <th>1066897</th>\n",
              "      <td>23</td>\n",
              "      <td>560</td>\n",
              "      <td>560. 비전교회 앞</td>\n",
              "      <td>일일권</td>\n",
              "      <td>M</td>\n",
              "      <td>30대</td>\n",
              "      <td>1</td>\n",
              "      <td>0.00</td>\n",
              "      <td>0.00</td>\n",
              "      <td>0.00</td>\n",
              "      <td>52</td>\n",
              "      <td>2020</td>\n",
              "      <td>12</td>\n",
              "      <td>31</td>\n",
              "    </tr>\n",
              "    <tr>\n",
              "      <th>1066898</th>\n",
              "      <td>23</td>\n",
              "      <td>1416</td>\n",
              "      <td>1416. 상봉역 3번출구</td>\n",
              "      <td>일일권</td>\n",
              "      <td>M</td>\n",
              "      <td>30대</td>\n",
              "      <td>1</td>\n",
              "      <td>18.33</td>\n",
              "      <td>0.17</td>\n",
              "      <td>711.99</td>\n",
              "      <td>4</td>\n",
              "      <td>2020</td>\n",
              "      <td>12</td>\n",
              "      <td>31</td>\n",
              "    </tr>\n",
              "    <tr>\n",
              "      <th>1066899</th>\n",
              "      <td>23</td>\n",
              "      <td>1625</td>\n",
              "      <td>1625. 상계역(4번출구)</td>\n",
              "      <td>일일권</td>\n",
              "      <td>M</td>\n",
              "      <td>50대</td>\n",
              "      <td>1</td>\n",
              "      <td>20.52</td>\n",
              "      <td>0.15</td>\n",
              "      <td>647.86</td>\n",
              "      <td>7</td>\n",
              "      <td>2020</td>\n",
              "      <td>12</td>\n",
              "      <td>31</td>\n",
              "    </tr>\n",
              "    <tr>\n",
              "      <th>1066900</th>\n",
              "      <td>23</td>\n",
              "      <td>419</td>\n",
              "      <td>419. 홈플러스 앞</td>\n",
              "      <td>단체권</td>\n",
              "      <td>NaN</td>\n",
              "      <td>20대</td>\n",
              "      <td>4</td>\n",
              "      <td>18.19</td>\n",
              "      <td>2.13</td>\n",
              "      <td>9187.95</td>\n",
              "      <td>128</td>\n",
              "      <td>2020</td>\n",
              "      <td>12</td>\n",
              "      <td>31</td>\n",
              "    </tr>\n",
              "  </tbody>\n",
              "</table>\n",
              "<p>19026035 rows × 14 columns</p>\n",
              "</div>"
            ],
            "text/plain": [
              "         time  stno              stname code  ... usedtime  year  month day\n",
              "776956      0  1044         1044. 굽은다리역  정기권  ...        6  2020      1   1\n",
              "776957      0  1656  1656. 중앙하이츠 아파트 입구  정기권  ...        6  2020      1   1\n",
              "776958      0  1337        1337. 돈암성당 옆  정기권  ...       12  2020      1   1\n",
              "776959      0  1984          1984. 구로구청  정기권  ...       25  2020      1   1\n",
              "776960      0  2601    2601. 석촌호수 서호사거리  정기권  ...        5  2020      1   1\n",
              "...       ...   ...                 ...  ...  ...      ...   ...    ...  ..\n",
              "1066896    23  3121          3121.가좌삼거리  일일권  ...       13  2020     12  31\n",
              "1066897    23   560         560. 비전교회 앞  일일권  ...       52  2020     12  31\n",
              "1066898    23  1416      1416. 상봉역 3번출구  일일권  ...        4  2020     12  31\n",
              "1066899    23  1625     1625. 상계역(4번출구)  일일권  ...        7  2020     12  31\n",
              "1066900    23   419         419. 홈플러스 앞  단체권  ...      128  2020     12  31\n",
              "\n",
              "[19026035 rows x 14 columns]"
            ]
          },
          "metadata": {
            "tags": []
          },
          "execution_count": 15
        }
      ]
    },
    {
      "cell_type": "markdown",
      "metadata": {
        "id": "rCAkah3UnAob"
      },
      "source": [
        "#기본적인 EDA "
      ]
    },
    {
      "cell_type": "markdown",
      "metadata": {
        "id": "2MPpODMjnPJr"
      },
      "source": [
        "1. 대여시간 별 이용건수 확인"
      ]
    },
    {
      "cell_type": "code",
      "metadata": {
        "id": "3NHlrw__nVjI"
      },
      "source": [
        "grouped_time= df['borrowednum'].groupby(df['time'])"
      ],
      "execution_count": 35,
      "outputs": []
    },
    {
      "cell_type": "code",
      "metadata": {
        "id": "DdaZx8jjnx1F"
      },
      "source": [
        "grouped_time=pd.DataFrame(grouped_time.sum())"
      ],
      "execution_count": 38,
      "outputs": []
    },
    {
      "cell_type": "code",
      "metadata": {
        "colab": {
          "base_uri": "https://localhost:8080/",
          "height": 803
        },
        "id": "-2TufvOiqMrN",
        "outputId": "8792ed28-e3ae-471a-8c83-b60ae8b7a2e0"
      },
      "source": [
        "grouped_time"
      ],
      "execution_count": 41,
      "outputs": [
        {
          "output_type": "execute_result",
          "data": {
            "text/html": [
              "<div>\n",
              "<style scoped>\n",
              "    .dataframe tbody tr th:only-of-type {\n",
              "        vertical-align: middle;\n",
              "    }\n",
              "\n",
              "    .dataframe tbody tr th {\n",
              "        vertical-align: top;\n",
              "    }\n",
              "\n",
              "    .dataframe thead th {\n",
              "        text-align: right;\n",
              "    }\n",
              "</style>\n",
              "<table border=\"1\" class=\"dataframe\">\n",
              "  <thead>\n",
              "    <tr style=\"text-align: right;\">\n",
              "      <th></th>\n",
              "      <th>borrowednum</th>\n",
              "    </tr>\n",
              "    <tr>\n",
              "      <th>time</th>\n",
              "      <th></th>\n",
              "    </tr>\n",
              "  </thead>\n",
              "  <tbody>\n",
              "    <tr>\n",
              "      <th>0</th>\n",
              "      <td>650154</td>\n",
              "    </tr>\n",
              "    <tr>\n",
              "      <th>1</th>\n",
              "      <td>496729</td>\n",
              "    </tr>\n",
              "    <tr>\n",
              "      <th>2</th>\n",
              "      <td>340484</td>\n",
              "    </tr>\n",
              "    <tr>\n",
              "      <th>3</th>\n",
              "      <td>232836</td>\n",
              "    </tr>\n",
              "    <tr>\n",
              "      <th>4</th>\n",
              "      <td>158305</td>\n",
              "    </tr>\n",
              "    <tr>\n",
              "      <th>5</th>\n",
              "      <td>165324</td>\n",
              "    </tr>\n",
              "    <tr>\n",
              "      <th>6</th>\n",
              "      <td>319027</td>\n",
              "    </tr>\n",
              "    <tr>\n",
              "      <th>7</th>\n",
              "      <td>761183</td>\n",
              "    </tr>\n",
              "    <tr>\n",
              "      <th>8</th>\n",
              "      <td>1244230</td>\n",
              "    </tr>\n",
              "    <tr>\n",
              "      <th>9</th>\n",
              "      <td>788508</td>\n",
              "    </tr>\n",
              "    <tr>\n",
              "      <th>10</th>\n",
              "      <td>685981</td>\n",
              "    </tr>\n",
              "    <tr>\n",
              "      <th>11</th>\n",
              "      <td>829812</td>\n",
              "    </tr>\n",
              "    <tr>\n",
              "      <th>12</th>\n",
              "      <td>977079</td>\n",
              "    </tr>\n",
              "    <tr>\n",
              "      <th>13</th>\n",
              "      <td>1065641</td>\n",
              "    </tr>\n",
              "    <tr>\n",
              "      <th>14</th>\n",
              "      <td>1173626</td>\n",
              "    </tr>\n",
              "    <tr>\n",
              "      <th>15</th>\n",
              "      <td>1305455</td>\n",
              "    </tr>\n",
              "    <tr>\n",
              "      <th>16</th>\n",
              "      <td>1489441</td>\n",
              "    </tr>\n",
              "    <tr>\n",
              "      <th>17</th>\n",
              "      <td>1907089</td>\n",
              "    </tr>\n",
              "    <tr>\n",
              "      <th>18</th>\n",
              "      <td>2223821</td>\n",
              "    </tr>\n",
              "    <tr>\n",
              "      <th>19</th>\n",
              "      <td>1671193</td>\n",
              "    </tr>\n",
              "    <tr>\n",
              "      <th>20</th>\n",
              "      <td>1479813</td>\n",
              "    </tr>\n",
              "    <tr>\n",
              "      <th>21</th>\n",
              "      <td>1367683</td>\n",
              "    </tr>\n",
              "    <tr>\n",
              "      <th>22</th>\n",
              "      <td>1135410</td>\n",
              "    </tr>\n",
              "    <tr>\n",
              "      <th>23</th>\n",
              "      <td>802923</td>\n",
              "    </tr>\n",
              "  </tbody>\n",
              "</table>\n",
              "</div>"
            ],
            "text/plain": [
              "      borrowednum\n",
              "time             \n",
              "0          650154\n",
              "1          496729\n",
              "2          340484\n",
              "3          232836\n",
              "4          158305\n",
              "5          165324\n",
              "6          319027\n",
              "7          761183\n",
              "8         1244230\n",
              "9          788508\n",
              "10         685981\n",
              "11         829812\n",
              "12         977079\n",
              "13        1065641\n",
              "14        1173626\n",
              "15        1305455\n",
              "16        1489441\n",
              "17        1907089\n",
              "18        2223821\n",
              "19        1671193\n",
              "20        1479813\n",
              "21        1367683\n",
              "22        1135410\n",
              "23         802923"
            ]
          },
          "metadata": {
            "tags": []
          },
          "execution_count": 41
        }
      ]
    },
    {
      "cell_type": "code",
      "metadata": {
        "id": "xojt15mDrxty"
      },
      "source": [
        "grouped_time.sort_values(by=['borrowednum'])\n",
        "min5=grouped_time.sort_values(by=['borrowednum']).iloc[0:5]\n",
        "max5=grouped_time.sort_values(by=['borrowednum']).iloc[-5:]"
      ],
      "execution_count": 65,
      "outputs": []
    },
    {
      "cell_type": "code",
      "metadata": {
        "colab": {
          "base_uri": "https://localhost:8080/"
        },
        "id": "IlU8oIr7tVoP",
        "outputId": "c584ead7-5107-420b-826a-f9d2a64c9544"
      },
      "source": [
        "print(min5)\n",
        "print('-------------')\n",
        "print(max5)"
      ],
      "execution_count": 69,
      "outputs": [
        {
          "output_type": "stream",
          "text": [
            "      borrowednum\n",
            "time             \n",
            "4          158305\n",
            "5          165324\n",
            "3          232836\n",
            "6          319027\n",
            "2          340484\n",
            "-------------\n",
            "      borrowednum\n",
            "time             \n",
            "20        1479813\n",
            "16        1489441\n",
            "19        1671193\n",
            "17        1907089\n",
            "18        2223821\n"
          ],
          "name": "stdout"
        }
      ]
    },
    {
      "cell_type": "code",
      "metadata": {
        "colab": {
          "base_uri": "https://localhost:8080/",
          "height": 421
        },
        "id": "WaNvcAWhpKZu",
        "outputId": "6347a6ce-fad6-4662-afe2-41c28a98680d"
      },
      "source": [
        "plt.figure(figsize=(10,6))\n",
        "plt.bar(grouped_time.index, grouped_time.borrowednum,color='green',edgecolor='gray')\n",
        "plt.title('Bike borrowed by Time')\n",
        "plt.xlabel('Time')\n",
        "plt.ylabel('borrowed number')\n",
        "#제일 이용건수가 적은 시간대는 새벽2시~새벽6시\n",
        "#제일 이용 건수가 많은 시간대는 오후4시~ 오후 8시\n",
        "#8시 또한 출근 시간대라 그런지 주변 시간대에 비해서 이용률이 높다."
      ],
      "execution_count": 50,
      "outputs": [
        {
          "output_type": "execute_result",
          "data": {
            "text/plain": [
              "Text(0, 0.5, 'borrowed number')"
            ]
          },
          "metadata": {
            "tags": []
          },
          "execution_count": 50
        },
        {
          "output_type": "display_data",
          "data": {
            "image/png": "[encoded data removed]",
            "text/plain": [
              "<Figure size 720x432 with 1 Axes>"
            ]
          },
          "metadata": {
            "tags": [],
            "needs_background": "light"
          }
        }
      ]
    },
    {
      "cell_type": "markdown",
      "metadata": {
        "id": "z-e1mpTOvfwF"
      },
      "source": [
        "2. 나이대 분석\n",
        "age 별로 이용건수를 확인해보려고 한다."
      ]
    },
    {
      "cell_type": "code",
      "metadata": {
        "id": "Pqvw_0MDvn8d"
      },
      "source": [
        "#age별 이용건수 group\n",
        "grouped_age= df['borrowednum'].groupby(df['age'])\n",
        "grouped_age=pd.DataFrame(grouped_age.sum())"
      ],
      "execution_count": 74,
      "outputs": []
    },
    {
      "cell_type": "code",
      "metadata": {
        "colab": {
          "base_uri": "https://localhost:8080/",
          "height": 290
        },
        "id": "F7OFWrGnBuv3",
        "outputId": "b0ce7301-0e1e-4a74-f72e-4877bfbfddef"
      },
      "source": [
        "grouped_age"
      ],
      "execution_count": 86,
      "outputs": [
        {
          "output_type": "execute_result",
          "data": {
            "text/html": [
              "<div>\n",
              "<style scoped>\n",
              "    .dataframe tbody tr th:only-of-type {\n",
              "        vertical-align: middle;\n",
              "    }\n",
              "\n",
              "    .dataframe tbody tr th {\n",
              "        vertical-align: top;\n",
              "    }\n",
              "\n",
              "    .dataframe thead th {\n",
              "        text-align: right;\n",
              "    }\n",
              "</style>\n",
              "<table border=\"1\" class=\"dataframe\">\n",
              "  <thead>\n",
              "    <tr style=\"text-align: right;\">\n",
              "      <th></th>\n",
              "      <th>borrowednum</th>\n",
              "    </tr>\n",
              "    <tr>\n",
              "      <th>age</th>\n",
              "      <th></th>\n",
              "    </tr>\n",
              "  </thead>\n",
              "  <tbody>\n",
              "    <tr>\n",
              "      <th>20대</th>\n",
              "      <td>10684995</td>\n",
              "    </tr>\n",
              "    <tr>\n",
              "      <th>30대</th>\n",
              "      <td>5335555</td>\n",
              "    </tr>\n",
              "    <tr>\n",
              "      <th>40대</th>\n",
              "      <td>3372008</td>\n",
              "    </tr>\n",
              "    <tr>\n",
              "      <th>50대</th>\n",
              "      <td>1928582</td>\n",
              "    </tr>\n",
              "    <tr>\n",
              "      <th>60대</th>\n",
              "      <td>491492</td>\n",
              "    </tr>\n",
              "    <tr>\n",
              "      <th>70대~</th>\n",
              "      <td>87287</td>\n",
              "    </tr>\n",
              "    <tr>\n",
              "      <th>~10대</th>\n",
              "      <td>1371828</td>\n",
              "    </tr>\n",
              "  </tbody>\n",
              "</table>\n",
              "</div>"
            ],
            "text/plain": [
              "      borrowednum\n",
              "age              \n",
              "20대      10684995\n",
              "30대       5335555\n",
              "40대       3372008\n",
              "50대       1928582\n",
              "60대        491492\n",
              "70대~        87287\n",
              "~10대      1371828"
            ]
          },
          "metadata": {
            "tags": []
          },
          "execution_count": 86
        }
      ]
    },
    {
      "cell_type": "code",
      "metadata": {
        "colab": {
          "base_uri": "https://localhost:8080/",
          "height": 572
        },
        "id": "OLRp-L2IAkQo",
        "outputId": "0b678b0b-4962-4fa0-f3ce-2dcc3e7d4698"
      },
      "source": [
        "plt.figure(figsize=(8,8))\n",
        "grouped_age\n",
        "explode = [0.05, 0.05, 0.05, 0.05,0.05,0.05,0.05]\n",
        "colors=['aquamarine','lightcyan','aqua','cyan','darkturquoise','powderblue','lightskyblue']\n",
        "plt.pie(grouped_age.borrowednum,labels=grouped_age.index,explode=explode, autopct='%1.1f%%',colors=colors)\n",
        "plt.title('borrowed by age')\n",
        "#20대가 가장 많이 이용 하는 것으로 보임"
      ],
      "execution_count": 91,
      "outputs": [
        {
          "output_type": "execute_result",
          "data": {
            "text/plain": [
              "Text(0.5, 1.0, 'borrowed by age')"
            ]
          },
          "metadata": {
            "tags": []
          },
          "execution_count": 91
        },
        {
          "output_type": "stream",
          "text": [
            "/usr/local/lib/python3.7/dist-packages/matplotlib/backends/backend_agg.py:214: RuntimeWarning: Glyph 45824 missing from current font.\n",
            "  font.set_text(s, 0.0, flags=flags)\n",
            "/usr/local/lib/python3.7/dist-packages/matplotlib/backends/backend_agg.py:183: RuntimeWarning: Glyph 45824 missing from current font.\n",
            "  font.set_text(s, 0, flags=flags)\n"
          ],
          "name": "stderr"
        },
        {
          "output_type": "display_data",
          "data": {
            "image/png": "[encoded data removed]",
            "text/plain": [
              "<Figure size 576x576 with 1 Axes>"
            ]
          },
          "metadata": {
            "tags": []
          }
        }
      ]
    },
    {
      "cell_type": "markdown",
      "metadata": {
        "id": "oHJQv1zDl7LM"
      },
      "source": [
        "#따릉이 대여소 정보 \n",
        "데이터와 merge 시켜서 어느 구에서 가장 많이 빌려가는지 궁금"
      ]
    },
    {
      "cell_type": "code",
      "metadata": {
        "id": "Ni_YOaeHDRke"
      },
      "source": [
        "station= pd.read_csv('/content/drive/MyDrive/따릉이 project/공공자전거 대여소 정보(21.01.31 기준).csv',encoding='cp949',skiprows=5, header=None)"
      ],
      "execution_count": 95,
      "outputs": []
    },
    {
      "cell_type": "code",
      "metadata": {
        "id": "JEsSqJtRDzip"
      },
      "source": [
        "#컬럼 명 지정해주기\n",
        "station= station.rename(columns= {0: 'stno', 1: 'stname',2: 'place',3:'detailedplace',4:'Lat',5:'Long',6:'Time',7:'LCD',8:'QR',9:'method'})"
      ],
      "execution_count": 97,
      "outputs": []
    },
    {
      "cell_type": "code",
      "metadata": {
        "colab": {
          "base_uri": "https://localhost:8080/",
          "height": 366
        },
        "id": "Vi5_2pkJD24M",
        "outputId": "5ee5601b-ba1e-4549-ec86-19a8c6e8a0c4"
      },
      "source": [
        "station.head()"
      ],
      "execution_count": 99,
      "outputs": [
        {
          "output_type": "execute_result",
          "data": {
            "text/html": [
              "<div>\n",
              "<style scoped>\n",
              "    .dataframe tbody tr th:only-of-type {\n",
              "        vertical-align: middle;\n",
              "    }\n",
              "\n",
              "    .dataframe tbody tr th {\n",
              "        vertical-align: top;\n",
              "    }\n",
              "\n",
              "    .dataframe thead th {\n",
              "        text-align: right;\n",
              "    }\n",
              "</style>\n",
              "<table border=\"1\" class=\"dataframe\">\n",
              "  <thead>\n",
              "    <tr style=\"text-align: right;\">\n",
              "      <th></th>\n",
              "      <th>stno</th>\n",
              "      <th>stname</th>\n",
              "      <th>place</th>\n",
              "      <th>detailedplace</th>\n",
              "      <th>Lat</th>\n",
              "      <th>Long</th>\n",
              "      <th>Time</th>\n",
              "      <th>LCD</th>\n",
              "      <th>QR</th>\n",
              "      <th>method</th>\n",
              "    </tr>\n",
              "  </thead>\n",
              "  <tbody>\n",
              "    <tr>\n",
              "      <th>0</th>\n",
              "      <td>301.0</td>\n",
              "      <td>경복궁역 7번출구 앞</td>\n",
              "      <td>종로구</td>\n",
              "      <td>서울특별시 종로구 사직로 지하130</td>\n",
              "      <td>37.575794</td>\n",
              "      <td>126.971451</td>\n",
              "      <td>2015-10-07</td>\n",
              "      <td>16.0</td>\n",
              "      <td>NaN</td>\n",
              "      <td>LCD</td>\n",
              "    </tr>\n",
              "    <tr>\n",
              "      <th>1</th>\n",
              "      <td>302.0</td>\n",
              "      <td>경복궁역 4번출구 뒤</td>\n",
              "      <td>종로구</td>\n",
              "      <td>서울특별시 종로구 사직로 지하130</td>\n",
              "      <td>37.575947</td>\n",
              "      <td>126.974060</td>\n",
              "      <td>2015-10-07</td>\n",
              "      <td>12.0</td>\n",
              "      <td>NaN</td>\n",
              "      <td>LCD</td>\n",
              "    </tr>\n",
              "    <tr>\n",
              "      <th>2</th>\n",
              "      <td>303.0</td>\n",
              "      <td>광화문역 1번출구 앞</td>\n",
              "      <td>종로구</td>\n",
              "      <td>서울특별시 종로구 세종대로 지하189</td>\n",
              "      <td>37.571770</td>\n",
              "      <td>126.974663</td>\n",
              "      <td>2015-10-07</td>\n",
              "      <td>8.0</td>\n",
              "      <td>NaN</td>\n",
              "      <td>LCD</td>\n",
              "    </tr>\n",
              "    <tr>\n",
              "      <th>3</th>\n",
              "      <td>304.0</td>\n",
              "      <td>광화문역 2번출구 앞</td>\n",
              "      <td>종로구</td>\n",
              "      <td>서울특별시 종로구 세종대로 지하172</td>\n",
              "      <td>37.572113</td>\n",
              "      <td>126.977577</td>\n",
              "      <td>2021-01-26</td>\n",
              "      <td>NaN</td>\n",
              "      <td>7.0</td>\n",
              "      <td>QR</td>\n",
              "    </tr>\n",
              "    <tr>\n",
              "      <th>4</th>\n",
              "      <td>305.0</td>\n",
              "      <td>종로구청 옆</td>\n",
              "      <td>종로구</td>\n",
              "      <td>서울특별시 종로구 삼봉로 43</td>\n",
              "      <td>37.572582</td>\n",
              "      <td>126.978355</td>\n",
              "      <td>2015-10-07</td>\n",
              "      <td>16.0</td>\n",
              "      <td>NaN</td>\n",
              "      <td>LCD</td>\n",
              "    </tr>\n",
              "  </tbody>\n",
              "</table>\n",
              "</div>"
            ],
            "text/plain": [
              "    stno       stname place         detailedplace  ...        Time   LCD   QR  method\n",
              "0  301.0  경복궁역 7번출구 앞   종로구   서울특별시 종로구 사직로 지하130  ...  2015-10-07  16.0  NaN     LCD\n",
              "1  302.0  경복궁역 4번출구 뒤   종로구   서울특별시 종로구 사직로 지하130  ...  2015-10-07  12.0  NaN     LCD\n",
              "2  303.0  광화문역 1번출구 앞   종로구  서울특별시 종로구 세종대로 지하189  ...  2015-10-07   8.0  NaN     LCD\n",
              "3  304.0  광화문역 2번출구 앞   종로구  서울특별시 종로구 세종대로 지하172  ...  2021-01-26   NaN  7.0      QR\n",
              "4  305.0       종로구청 옆   종로구      서울특별시 종로구 삼봉로 43  ...  2015-10-07  16.0  NaN     LCD\n",
              "\n",
              "[5 rows x 10 columns]"
            ]
          },
          "metadata": {
            "tags": []
          },
          "execution_count": 99
        }
      ]
    },
    {
      "cell_type": "code",
      "metadata": {
        "id": "FBe46wpvEAPN"
      },
      "source": [
        "#data merge 하고 folium으로 어느 구에 따릉이 거치소 가장 많이 있는지\n",
        "#어느 구에서 사용량이 가장 높은지\n",
        "#거치소 대비 사용량을 알아보고자 한다."
      ],
      "execution_count": null,
      "outputs": []
    }
  ]
}